{
 "cells": [
  {
   "cell_type": "markdown",
   "id": "7484e43e-8d89-4613-acd8-23c52a47f032",
   "metadata": {},
   "source": [
    "Source material: #1: Python basics: https://github.com/pycam/python-basic/\n",
    "#2:Python for data science: https://github.com/pycam/python-data-science"
   ]
  },
  {
   "cell_type": "code",
   "execution_count": null,
   "id": "9198d6da-23ed-4425-9c68-e46a1f988099",
   "metadata": {},
   "outputs": [],
   "source": []
  },
  {
   "cell_type": "markdown",
   "id": "2b25fece-3328-4b95-b66e-ec0d3b5860d2",
   "metadata": {},
   "source": [
    "### String formatting\n",
    "{} curly braces, use .format() function. \n",
    "d: decimal point\n",
    "f: float\n",
    "s: string\n",
    "\n",
    "Therefore, .2f becomes display upto two decimal places, +.2f use 2 decimal plus associated sign"
   ]
  },
  {
   "cell_type": "code",
   "execution_count": 2,
   "id": "acafef3b-3e65-479a-87c0-8de7ab3048b9",
   "metadata": {},
   "outputs": [
    {
     "name": "stdout",
     "output_type": "stream",
     "text": [
      "0.46\n"
     ]
    }
   ],
   "source": [
    "print('{:.2f}'.format(0.4567) )"
   ]
  },
  {
   "cell_type": "code",
   "execution_count": 3,
   "id": "bff1e756-5227-44ed-a5dd-41b2886221b8",
   "metadata": {},
   "outputs": [],
   "source": [
    "#sample dictionary \n",
    "geneExpression = {\n",
    "    'Beta-Catenin':2.5, # key is Beta-Catenin, value is 2.5\n",
    "    'Beta-Actin':1.7,\n",
    "    'Pax6':0,\n",
    "    'HoxA2': -3.2\n",
    "}"
   ]
  },
  {
   "cell_type": "code",
   "execution_count": 4,
   "id": "2da0d2ca-bc6b-43cd-97d3-ded07fc92660",
   "metadata": {},
   "outputs": [
    {
     "name": "stdout",
     "output_type": "stream",
     "text": [
      "Beta-Catenin\t+2.50\n",
      "Beta-Actin\t+1.70\n",
      "Pax6\t+0.00\n",
      "HoxA2\t-3.20\n"
     ]
    }
   ],
   "source": [
    "for gene in geneExpression:\n",
    "    print('{:s}\\t{:+.2f}'.format(gene,geneExpression[gene]))"
   ]
  },
  {
   "cell_type": "code",
   "execution_count": 5,
   "id": "49e3b075-172c-4066-a3c7-21c2e93cf94c",
   "metadata": {},
   "outputs": [
    {
     "name": "stdout",
     "output_type": "stream",
     "text": [
      "Beta-Catenin\t+2.50\n",
      "Beta-Actin\t+1.70\n",
      "Pax6\t+0.00\n",
      "HoxA2\t-3.20\n"
     ]
    }
   ],
   "source": [
    "#can also use variable names\n",
    "for gene in geneExpression:\n",
    "    print('{gene:s}\\t{exp:+.2f}'.format(gene=gene,exp = geneExpression[gene]) )"
   ]
  },
  {
   "cell_type": "markdown",
   "id": "c26e9ff0-ec90-4b40-8da5-58c752d9633f",
   "metadata": {},
   "source": [
    "### File handling"
   ]
  },
  {
   "cell_type": "markdown",
   "id": "9ef335ec-1dbf-4719-a25b-41e97f727f16",
   "metadata": {},
   "source": [
    "#### opening and closing \n",
    "path =\"\"\n",
    "fileObject = open(path)\n",
    "   #open options( path, 'r', read or 'W', write or 'a' appending\n",
    "closing\n",
    "fileObject.close()"
   ]
  },
  {
   "cell_type": "code",
   "execution_count": null,
   "id": "34d1c206-54ee-4066-bc7a-6924df47f877",
   "metadata": {},
   "outputs": [],
   "source": [
    "#reading\n",
    "fileObject.read() ##reads entire file into memory\n",
    "fileObject.readline() #reads file line by line, a line break \"\\n\" present after each line\n",
    "                       #can remove this by calling rstrip()\n",
    "#\n",
    "for line in fileObj:\n",
    "    line.rstrip()"
   ]
  },
  {
   "cell_type": "code",
   "execution_count": null,
   "id": "6e577364-8828-45d8-b894-061948d4a2f7",
   "metadata": {},
   "outputs": [],
   "source": []
  }
 ],
 "metadata": {
  "kernelspec": {
   "display_name": "Python 3 (ipykernel)",
   "language": "python",
   "name": "python3"
  },
  "language_info": {
   "codemirror_mode": {
    "name": "ipython",
    "version": 3
   },
   "file_extension": ".py",
   "mimetype": "text/x-python",
   "name": "python",
   "nbconvert_exporter": "python",
   "pygments_lexer": "ipython3",
   "version": "3.10.8"
  }
 },
 "nbformat": 4,
 "nbformat_minor": 5
}

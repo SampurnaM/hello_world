{
 "cells": [
  {
   "cell_type": "code",
   "execution_count": 1,
   "id": "240ee320-4cd9-4c9c-83c1-850634efdc82",
   "metadata": {},
   "outputs": [],
   "source": [
    "##source material: data carpentry workshop ecology"
   ]
  },
  {
   "cell_type": "code",
   "execution_count": null,
   "id": "3bade453-1bbc-47c0-b993-c6e1b07e6228",
   "metadata": {},
   "outputs": [],
   "source": []
  }
 ],
 "metadata": {
  "kernelspec": {
   "display_name": "Python 3 (ipykernel)",
   "language": "python",
   "name": "python3"
  },
  "language_info": {
   "codemirror_mode": {
    "name": "ipython",
    "version": 3
   },
   "file_extension": ".py",
   "mimetype": "text/x-python",
   "name": "python",
   "nbconvert_exporter": "python",
   "pygments_lexer": "ipython3",
   "version": "3.10.8"
  }
 },
 "nbformat": 4,
 "nbformat_minor": 5
}

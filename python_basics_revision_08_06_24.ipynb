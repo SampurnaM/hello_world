{
 "cells": [
  {
   "cell_type": "code",
   "execution_count": 1,
   "id": "46c3f2f1-9771-4edd-9c1c-3c4c4bba11da",
   "metadata": {},
   "outputs": [],
   "source": [
    "#SampurnaM, 19.52 pm, 08-06-24\n",
    "# Revising Python basics and Python for Data Science from Cambs source\n",
    "#source material:\n",
    "#1: Python basics: https://github.com/pycam/python-basic/\n",
    "#2:Python for data science: https://github.com/pycam/python-data-science"
   ]
  },
  {
   "cell_type": "markdown",
   "id": "4ddd97a6-e28a-4453-abcc-fb9f70b5baee",
   "metadata": {},
   "source": [
    "## Revising Python basics"
   ]
  },
  {
   "cell_type": "markdown",
   "id": "4a64328f-f833-4048-acaf-b0e77bdff831",
   "metadata": {},
   "source": [
    "#### Tuples (like vectors in R, except you can combine data types)"
   ]
  },
  {
   "cell_type": "code",
   "execution_count": 2,
   "id": "6d6af049-58d1-4482-b83e-6b6780161549",
   "metadata": {},
   "outputs": [],
   "source": [
    "a = (123,54,92)\n",
    "b =()\n",
    "c =(\"Ala\",)\n",
    "d = (2,3,False,\"Arg\",None) #mixing data types\n",
    "\n"
   ]
  },
  {
   "cell_type": "code",
   "execution_count": 4,
   "id": "eccc779c-b5c4-4b9e-b0df-e553f264c637",
   "metadata": {},
   "outputs": [
    {
     "name": "stdout",
     "output_type": "stream",
     "text": [
      "(123, 54, 92) () ('Ala',) (2, 3, False, 'Arg', None)\n"
     ]
    }
   ],
   "source": [
    "print( a ,b, c, d)"
   ]
  },
  {
   "cell_type": "markdown",
   "id": "31c16e53-c25c-422b-a497-3ffa738a4d25",
   "metadata": {},
   "source": [
    "#### combining variables into tuples "
   ]
  },
  {
   "cell_type": "code",
   "execution_count": 5,
   "id": "b4669ac8-5a59-44fd-8958-e231e9e16b29",
   "metadata": {},
   "outputs": [],
   "source": [
    "x = 1\n",
    "y = 2.5\n",
    "z = 3.5\n",
    "t = (x,y,z)"
   ]
  },
  {
   "cell_type": "code",
   "execution_count": 6,
   "id": "f25d1c4c-fe84-44fd-bbab-d00c09830808",
   "metadata": {},
   "outputs": [
    {
     "data": {
      "text/plain": [
       "(1, 2.5, 3.5)"
      ]
     },
     "execution_count": 6,
     "metadata": {},
     "output_type": "execute_result"
    }
   ],
   "source": [
    "t"
   ]
  },
  {
   "cell_type": "code",
   "execution_count": 7,
   "id": "bd9e265b-f2a1-4eda-a528-9b46bc48320b",
   "metadata": {},
   "outputs": [
    {
     "name": "stdout",
     "output_type": "stream",
     "text": [
      "t is (2, 3, 4)\n"
     ]
    }
   ],
   "source": [
    "t =2,3,4\n",
    "print (\"t is\", t)\n"
   ]
  },
  {
   "cell_type": "markdown",
   "id": "bf9630e2-c28f-4092-8cf8-8d2275e87f2f",
   "metadata": {},
   "source": [
    "Similarly, tuple can be unpacked into variables"
   ]
  },
  {
   "cell_type": "code",
   "execution_count": 9,
   "id": "e430b488-55fb-4c44-8086-62035c577cdb",
   "metadata": {},
   "outputs": [],
   "source": [
    "x, y, z = t"
   ]
  },
  {
   "cell_type": "code",
   "execution_count": 10,
   "id": "07dba07c-bb06-42ae-bc9c-2bb1bd311603",
   "metadata": {},
   "outputs": [
    {
     "data": {
      "text/plain": [
       "2"
      ]
     },
     "execution_count": 10,
     "metadata": {},
     "output_type": "execute_result"
    }
   ],
   "source": [
    "x"
   ]
  },
  {
   "cell_type": "code",
   "execution_count": 11,
   "id": "4a743cf0-f14c-42c6-a7c5-2df8df622d00",
   "metadata": {},
   "outputs": [
    {
     "data": {
      "text/plain": [
       "3"
      ]
     },
     "execution_count": 11,
     "metadata": {},
     "output_type": "execute_result"
    }
   ],
   "source": [
    "y"
   ]
  },
  {
   "cell_type": "code",
   "execution_count": 13,
   "id": "2821c37d-1e53-46e1-8515-70fae8e2a800",
   "metadata": {},
   "outputs": [
    {
     "data": {
      "text/plain": [
       "4"
      ]
     },
     "execution_count": 13,
     "metadata": {},
     "output_type": "execute_result"
    }
   ],
   "source": [
    "z"
   ]
  },
  {
   "cell_type": "markdown",
   "id": "13f78805-8a3e-4be9-879a-a0d537d65969",
   "metadata": {},
   "source": [
    "#### Lists ( are mutatble, can be updated after creation unlike tuples, rest same, except initiated by [] instead of ())"
   ]
  },
  {
   "cell_type": "code",
   "execution_count": 14,
   "id": "4a6205d5-9e77-4303-ad6c-1a81197a06a9",
   "metadata": {},
   "outputs": [],
   "source": [
    "a = [1,2,3]"
   ]
  },
  {
   "cell_type": "code",
   "execution_count": 15,
   "id": "84b08e01-2acb-42f7-a8ce-ed1a6ca53156",
   "metadata": {},
   "outputs": [
    {
     "data": {
      "text/plain": [
       "[1, 2, 3]"
      ]
     },
     "execution_count": 15,
     "metadata": {},
     "output_type": "execute_result"
    }
   ],
   "source": [
    "a"
   ]
  },
  {
   "cell_type": "code",
   "execution_count": 18,
   "id": "5dd2d766-b6f9-40fb-91a2-86e66886bef6",
   "metadata": {},
   "outputs": [],
   "source": [
    "## There can be list of lists and tuple of tuples, i.e. lists where list elements are lists too\n",
    "# tuple and lists can be interconverted by calling list(tuple_name) or tuple(list_name)"
   ]
  },
  {
   "cell_type": "code",
   "execution_count": 19,
   "id": "637bcb99-dcef-433a-9a59-a852d2f61560",
   "metadata": {},
   "outputs": [
    {
     "data": {
      "text/plain": [
       "[[1, 0], [0, 2]]"
      ]
     },
     "execution_count": 19,
     "metadata": {},
     "output_type": "execute_result"
    }
   ],
   "source": [
    "matrix = [[1,0],[0,2]]\n",
    "matrix"
   ]
  },
  {
   "cell_type": "markdown",
   "id": "b707d2fc-636b-4c73-8175-fbafdf168e73",
   "metadata": {},
   "source": [
    "## Exercises:\n",
    "### Exercises 1.2.2\n",
    "- \n",
    "\r\n",
    "Look up the genetic code. Create four string variables that store possible DNA encodings of serine (S), leucine (L), tyrosine (Y) and cysteine (C). Where multiple codings are available, just pick one for no- w.\r\n",
    "Create a variable containing a possible DNA sequence for the protein sequence SYLYC. (Note that the addition operator + allows you to concatenate strings together.) Print the DNA sequee.1.3.1\n"
   ]
  },
  {
   "cell_type": "code",
   "execution_count": 21,
   "id": "774e9823-0f3f-4b2a-91ce-507a532a2a0d",
   "metadata": {},
   "outputs": [],
   "source": [
    "serine_codon = \"AGY\"\n",
    "leucine_codon = \"UUG\"\n",
    "tyrosine_codon = \"UAU\"\n",
    "cysteine_codon = \"UGC\""
   ]
  },
  {
   "cell_type": "code",
   "execution_count": 22,
   "id": "79823b5d-64c4-4e7f-b4b5-9994e2b6b1d3",
   "metadata": {},
   "outputs": [],
   "source": [
    "dna_seq_sylyc = serine_codon+tyrosine_codon+leucine_codon+tyrosine_codon+cysteine_codon"
   ]
  },
  {
   "cell_type": "code",
   "execution_count": 24,
   "id": "9fbac344-ff26-49f2-a379-3a7b61bce7c6",
   "metadata": {},
   "outputs": [
    {
     "data": {
      "text/plain": [
       "'AGYUAUUUGUAUUGC'"
      ]
     },
     "execution_count": 24,
     "metadata": {},
     "output_type": "execute_result"
    }
   ],
   "source": [
    "dna_seq_sylyc"
   ]
  },
  {
   "cell_type": "markdown",
   "id": "407e64f3-6306-4a4f-b940-11af9d4f0324",
   "metadata": {},
   "source": [
    "\n",
    "### Exercise 1.3.1: Create a list of DNA codons for the protein sequence CLYSY based on the codon variables you defined previously.\n",
    "Print the DNA sequence of the protein to the screen.\n",
    "Print the DNA codon of the last amino acid in the protein sequence.\n",
    "Create two more variables containing the DNA sequence of a stop codon and a start codon, and replace the first element of the DNA sequence with the start codon and append the stop codon to the end of the DNA sequence. Print out the resulting DNA sequence."
   ]
  },
  {
   "cell_type": "code",
   "execution_count": 26,
   "id": "f76f545d-f784-43bc-9734-933fa561cdf2",
   "metadata": {},
   "outputs": [],
   "source": [
    "clysy_codons = [cysteine_codon,leucine_codon,tyrosine_codon,serine_codon,tyrosine_codon]"
   ]
  },
  {
   "cell_type": "code",
   "execution_count": 29,
   "id": "4092b82e-67d4-4ede-98d3-cd2215da83af",
   "metadata": {},
   "outputs": [],
   "source": [
    "dna_seq_clysy = \"\".join(clysy_codons) #https://stackoverflow.com/questions/12453580/how-to-concatenate-join-items-in-a-list-to-a-single-string"
   ]
  },
  {
   "cell_type": "code",
   "execution_count": 28,
   "id": "76cb12dd-11f2-4531-b34b-2d16cd3400e3",
   "metadata": {},
   "outputs": [
    {
     "data": {
      "text/plain": [
       "'UGCUUGUAUAGYUAU'"
      ]
     },
     "execution_count": 28,
     "metadata": {},
     "output_type": "execute_result"
    }
   ],
   "source": [
    "dna_seq_clysy"
   ]
  },
  {
   "cell_type": "code",
   "execution_count": 30,
   "id": "bbcd546b-6659-4ad3-abcb-dfa13f5e5876",
   "metadata": {},
   "outputs": [],
   "source": [
    "start_codon = \"AUG\"\n",
    "stop_codon = \"UAG\""
   ]
  },
  {
   "cell_type": "code",
   "execution_count": 33,
   "id": "f453256d-63bd-43cc-89b6-9656c7ae773b",
   "metadata": {},
   "outputs": [
    {
     "data": {
      "text/plain": [
       "5"
      ]
     },
     "execution_count": 33,
     "metadata": {},
     "output_type": "execute_result"
    }
   ],
   "source": [
    "len(clysy_codons)"
   ]
  },
  {
   "cell_type": "code",
   "execution_count": 34,
   "id": "0c206803-cd33-4c54-9ec1-ee5356ba2d9a",
   "metadata": {},
   "outputs": [],
   "source": [
    "clysy_codons[0] = start_codon\n",
    "clysy_codons[4] = stop_codon             # 0 -based indexing"
   ]
  },
  {
   "cell_type": "code",
   "execution_count": 35,
   "id": "2f8a6d58-cda2-4b03-ae88-e0358d57af9b",
   "metadata": {},
   "outputs": [],
   "source": [
    "dna_seq_clysy = \"\".join(clysy_codons)"
   ]
  },
  {
   "cell_type": "code",
   "execution_count": 36,
   "id": "d6a2fa90-0bd3-48b8-9872-58e22fbcde11",
   "metadata": {},
   "outputs": [
    {
     "data": {
      "text/plain": [
       "'AUGUUGUAUAGYUAG'"
      ]
     },
     "execution_count": 36,
     "metadata": {},
     "output_type": "execute_result"
    }
   ],
   "source": [
    "dna_seq_clysy"
   ]
  },
  {
   "cell_type": "markdown",
   "id": "16e36ef1-bc9c-4695-a06a-e9ed7f1dd0f2",
   "metadata": {},
   "source": [
    "### Strings"
   ]
  },
  {
   "cell_type": "code",
   "execution_count": 39,
   "id": "8e900296-138f-482f-b34a-e83bec5c7e73",
   "metadata": {},
   "outputs": [],
   "source": [
    "## finding substrings"
   ]
  },
  {
   "cell_type": "code",
   "execution_count": 38,
   "id": "4b3f1ee2-4601-4b1c-8b32-4ad66ff3459b",
   "metadata": {},
   "outputs": [
    {
     "name": "stdout",
     "output_type": "stream",
     "text": [
      "TCA is at position: 3\n",
      "The last Cytosine is at position: 7\n",
      "Position of a stop codon: -1\n"
     ]
    }
   ],
   "source": [
    "dna = \"ATGTCACCGTTT\"\n",
    "index = dna.find(\"TCA\")\n",
    "print(\"TCA is at position:\", index)\n",
    "index = dna.rfind('C')\n",
    "print(\"The last Cytosine is at position:\", index)\n",
    "print(\"Position of a stop codon:\", dna.find(\"TGA\")) # Thus, -1 means string not found"
   ]
  },
  {
   "cell_type": "code",
   "execution_count": 40,
   "id": "e6ded107-74e8-4ec9-8538-3afe879cbc20",
   "metadata": {},
   "outputs": [],
   "source": [
    "## dealing with whitespaces"
   ]
  },
  {
   "cell_type": "code",
   "execution_count": 42,
   "id": "6cc40d71-eb79-4782-871b-8db2523b4d7e",
   "metadata": {},
   "outputs": [
    {
     "name": "stdout",
     "output_type": "stream",
     "text": [
      "45     Chromosome Start End                     \n",
      "41 Chromosome Start End                     \n",
      "20 Chromosome Start End\n",
      "20 Chromosome Start End\n"
     ]
    }
   ],
   "source": [
    "s = \"    Chromosome Start End                     \"\n",
    "print(len(s), s)\n",
    "s = s.lstrip()\n",
    "print(len(s), s)  ##leading white spaces deleted\n",
    "s = s.rstrip()   #trailing whtie spaces deleted\n",
    "print(len(s), s)\n",
    "s = \"    Chromosome Start End                     \"\n",
    "s = s.strip() #whitespaces deleted from both ends deleted\n",
    "print(len(s), s)"
   ]
  },
  {
   "cell_type": "code",
   "execution_count": 45,
   "id": "1fa81d29-b3c0-4c77-9a79-878ca5e61d6d",
   "metadata": {},
   "outputs": [
    {
     "name": "stdout",
     "output_type": "stream",
     "text": [
      "split ['ATG', 'TCA', 'CCG', 'GGC']\n",
      "ATG|TCA|CCG|GGC\n"
     ]
    }
   ],
   "source": [
    "##splitting and joining\n",
    "seq = \"ATG TCA CCG GGC\"\n",
    "codons = seq.split(\" \")\n",
    "print(\"split\",codons)\n",
    "print(\"|\".join(codons))\n",
    "#print(\"joined\",codons)"
   ]
  },
  {
   "cell_type": "markdown",
   "id": "0304fc24-a6bc-4e74-8720-04b8c5b9ed74",
   "metadata": {},
   "source": [
    "## Exercise 1.3.2\n",
    "Create a string variable with your full name in it, with your first and last name (and any middle names) seperated by a space. Split the string into a list, and print out your surname.\n",
    "Check if your surname contains the letter \"E\", and print out the position of this letter in the string. Try a few other letters."
   ]
  },
  {
   "cell_type": "code",
   "execution_count": 53,
   "id": "7c439e1f-6b3e-4bd7-98f5-48e171634044",
   "metadata": {},
   "outputs": [
    {
     "name": "stdout",
     "output_type": "stream",
     "text": [
      "4\n",
      "8\n"
     ]
    }
   ],
   "source": [
    "name = \"Sampurna Mukherjee\"\n",
    "name_split = name.split(\" \")\n",
    "surname = name_split[1] ##surname\n",
    "surname\n",
    "print(surname.find(\"e\")) #first instance\n",
    "print(surname.rfind(\"e\")) # last instance "
   ]
  },
  {
   "cell_type": "markdown",
   "id": "17729f1a-a95b-41b0-9936-1f41ae1e95bb",
   "metadata": {},
   "source": [
    "## Sets and dictionaries"
   ]
  },
  {
   "cell_type": "markdown",
   "id": "324706c8-2766-40a6-9a63-b00c74f36050",
   "metadata": {},
   "source": [
    "### sets"
   ]
  },
  {
   "cell_type": "markdown",
   "id": "e1096e63-e3cc-4cab-9856-2bb2fc456f66",
   "metadata": {},
   "source": [
    "### Exercise 1.4.1\n",
    "Given the protein sequence \"MPISEPTFFEIF\", split the sequence into its component amino acid codes and use a set to establish the unique amino acids in the protein and print out the result."
   ]
  },
  {
   "cell_type": "code",
   "execution_count": 65,
   "id": "d9a12a38-02c5-4ed4-b988-685688c4383d",
   "metadata": {},
   "outputs": [
    {
     "data": {
      "text/plain": [
       "{'E', 'F', 'I', 'M', 'P', 'S', 'T'}"
      ]
     },
     "execution_count": 65,
     "metadata": {},
     "output_type": "execute_result"
    }
   ],
   "source": [
    "prot_seq = \"MPISEPTFFEIF\"\n",
    "prot_seq_split = []\n",
    "prot_seq_split.extend(prot_seq) #https://www.geeksforgeeks.org/python-split-string-into-list-of-characters/\n",
    "prot_seq_split\n",
    "unique_aa_prot_seq = set(prot_seq_split)\n",
    "unique_aa_prot_seq"
   ]
  },
  {
   "cell_type": "code",
   "execution_count": 64,
   "id": "c425195e-0db3-4343-b8ee-02810b9dddf4",
   "metadata": {},
   "outputs": [],
   "source": [
    "#help(str.split)"
   ]
  },
  {
   "cell_type": "markdown",
   "id": "9726321b-9ecb-4528-90e9-73619814dc39",
   "metadata": {},
   "source": [
    "### dictionaries"
   ]
  },
  {
   "cell_type": "code",
   "execution_count": 66,
   "id": "b031912f-e5ed-46f5-b857-dcae8b1d8944",
   "metadata": {},
   "outputs": [
    {
     "data": {
      "text/plain": [
       "{'A': 'Adenine', 'T': 'Thymine', 'C': 'Cytosine', 'G': 'Guanine'}"
      ]
     },
     "execution_count": 66,
     "metadata": {},
     "output_type": "execute_result"
    }
   ],
   "source": [
    "#format: {key:value,key:value}\n",
    "#e.g.\n",
    "dna = {\"A\": \"Adenine\", \"T\": \"Thymine\" , \"C\":\"Cytosine\" , \"G\":\"Guanine\"}\n",
    "dna"
   ]
  },
  {
   "cell_type": "code",
   "execution_count": 67,
   "id": "db3aadfb-d990-4f41-8e4d-0c8501859111",
   "metadata": {},
   "outputs": [
    {
     "name": "stdout",
     "output_type": "stream",
     "text": [
      "Therefore A is  Adenine\n"
     ]
    }
   ],
   "source": [
    "print(\"Therefore A is \", dna[\"A\"])"
   ]
  },
  {
   "cell_type": "code",
   "execution_count": 68,
   "id": "99467852-2976-4d50-bdc7-9c5fbfb3d019",
   "metadata": {},
   "outputs": [
    {
     "ename": "KeyError",
     "evalue": "'N'",
     "output_type": "error",
     "traceback": [
      "\u001b[0;31m---------------------------------------------------------------------------\u001b[0m",
      "\u001b[0;31mKeyError\u001b[0m                                  Traceback (most recent call last)",
      "Cell \u001b[0;32mIn[68], line 2\u001b[0m\n\u001b[1;32m      1\u001b[0m \u001b[38;5;66;03m##missing value handling\u001b[39;00m\n\u001b[0;32m----> 2\u001b[0m \u001b[38;5;28mprint\u001b[39m(\u001b[38;5;124m\"\u001b[39m\u001b[38;5;124mTherefore N is \u001b[39m\u001b[38;5;124m\"\u001b[39m, \u001b[43mdna\u001b[49m\u001b[43m[\u001b[49m\u001b[38;5;124;43m\"\u001b[39;49m\u001b[38;5;124;43mN\u001b[39;49m\u001b[38;5;124;43m\"\u001b[39;49m\u001b[43m]\u001b[49m)\n",
      "\u001b[0;31mKeyError\u001b[0m: 'N'"
     ]
    }
   ],
   "source": [
    "##missing value handling\n",
    "print(\"Therefore N is \", dna[\"N\"])\n"
   ]
  },
  {
   "cell_type": "code",
   "execution_count": 70,
   "id": "c52847a0-8748-433b-8f41-9914fa37e55f",
   "metadata": {},
   "outputs": [
    {
     "name": "stdout",
     "output_type": "stream",
     "text": [
      "Therefore N is  None\n",
      "Therefore A is  Adenine\n"
     ]
    }
   ],
   "source": [
    "print(\"Therefore N is \", dna.get(\"N\"))\n",
    "print(\"Therefore A is \", dna.get(\"A\"))"
   ]
  },
  {
   "cell_type": "code",
   "execution_count": 72,
   "id": "4282dc5b-9d5a-480b-8f6f-d4cd739a2f4a",
   "metadata": {},
   "outputs": [
    {
     "name": "stdout",
     "output_type": "stream",
     "text": [
      "Therefore N is  undetermined\n"
     ]
    }
   ],
   "source": [
    "print(\"Therefore N is \", dna.get(\"N\",\"undetermined\") )"
   ]
  },
  {
   "cell_type": "code",
   "execution_count": 73,
   "id": "923c0346-2686-416f-905e-a160ed94359c",
   "metadata": {},
   "outputs": [
    {
     "data": {
      "text/plain": [
       "False"
      ]
     },
     "execution_count": 73,
     "metadata": {},
     "output_type": "execute_result"
    }
   ],
   "source": [
    "## check if a key is in dictionary\n",
    "\"H\" in dna"
   ]
  },
  {
   "cell_type": "code",
   "execution_count": 74,
   "id": "9bd25add-3397-4ae7-822e-2728921808aa",
   "metadata": {},
   "outputs": [
    {
     "data": {
      "text/plain": [
       "4"
      ]
     },
     "execution_count": 74,
     "metadata": {},
     "output_type": "execute_result"
    }
   ],
   "source": [
    "#how many key-value pairs\n",
    "len(dna)"
   ]
  },
  {
   "cell_type": "code",
   "execution_count": 75,
   "id": "65b1235a-b0d3-4ae0-8e2a-388068e55f6a",
   "metadata": {},
   "outputs": [],
   "source": [
    "## adding a new value\n",
    "dna[\"Y\"] = \"pyrimidine\""
   ]
  },
  {
   "cell_type": "code",
   "execution_count": 76,
   "id": "fbf9c6c2-702e-4991-b510-46f3767b9597",
   "metadata": {},
   "outputs": [
    {
     "data": {
      "text/plain": [
       "{'A': 'Adenine',\n",
       " 'T': 'Thymine',\n",
       " 'C': 'Cytosine',\n",
       " 'G': 'Guanine',\n",
       " 'Y': 'pyrimidine'}"
      ]
     },
     "execution_count": 76,
     "metadata": {},
     "output_type": "execute_result"
    }
   ],
   "source": [
    "len(dna)\n",
    "dna"
   ]
  },
  {
   "cell_type": "code",
   "execution_count": 77,
   "id": "53d4971e-b3ff-40d1-a9d0-9a8f79e8565e",
   "metadata": {},
   "outputs": [
    {
     "data": {
      "text/plain": [
       "{'A': 'Adenine',\n",
       " 'T': 'Thymine',\n",
       " 'C': 'Cytosine',\n",
       " 'G': 'Guanine',\n",
       " 'Y': 'Cytosine or Guanine'}"
      ]
     },
     "execution_count": 77,
     "metadata": {},
     "output_type": "execute_result"
    }
   ],
   "source": [
    "#reassigning\n",
    "dna[\"Y\"] = \"Cytosine or Guanine\"\n",
    "dna"
   ]
  },
  {
   "cell_type": "code",
   "execution_count": 78,
   "id": "dfddf5ca-dca7-4ebe-a76e-73e1e71d2d43",
   "metadata": {},
   "outputs": [
    {
     "data": {
      "text/plain": [
       "{'A': 'Adenine', 'T': 'Thymine', 'C': 'Cytosine', 'G': 'Guanine'}"
      ]
     },
     "execution_count": 78,
     "metadata": {},
     "output_type": "execute_result"
    }
   ],
   "source": [
    "#deleting value\n",
    "del dna[\"Y\"]\n",
    "dna"
   ]
  },
  {
   "cell_type": "code",
   "execution_count": 82,
   "id": "513c04b5-1c74-4bed-8c0b-bbb7d7329983",
   "metadata": {},
   "outputs": [
    {
     "name": "stdout",
     "output_type": "stream",
     "text": [
      "dict_keys(['A', 'T', 'C', 'G'])\n",
      "['Adenine', 'Thymine', 'Cytosine', 'Guanine']\n",
      "dict_items([('A', 'Adenine'), ('T', 'Thymine'), ('C', 'Cytosine'), ('G', 'Guanine')])\n"
     ]
    }
   ],
   "source": [
    "#getting key, values and both\n",
    "print(dna.keys())\n",
    "print(list(dna.values()))\n",
    "print(dna.items()) # tuple"
   ]
  },
  {
   "cell_type": "markdown",
   "id": "48e52e14-ea45-4a44-8eb9-e945e08c67ab",
   "metadata": {},
   "source": [
    "### Exercises 1.4.2\n",
    "Print out the names of the amino acids that would be produced by the DNA sequence \"GTT GCA CCA CAA CCG\" (See the DNA codon table). Split this string into the individual codons and then use a dictionary to map between codon sequences and the amino acids they encode.\n",
    "Print each codon and its corresponding amino acid.\n",
    "Why couldn't we build a dictionary where the keys are names of amino acids and the values are the DNA codons?"
   ]
  },
  {
   "cell_type": "code",
   "execution_count": 83,
   "id": "5df167ca-0857-416d-92b4-29a06e526316",
   "metadata": {},
   "outputs": [],
   "source": [
    "protein_dict_seq =\"VAPQP\"\n",
    "dna_dict_seq = \"GTT GCA CCA CAA CCG\" "
   ]
  },
  {
   "cell_type": "code",
   "execution_count": 84,
   "id": "fffaf249-c4f7-4bf2-b50d-334b148b2bba",
   "metadata": {},
   "outputs": [
    {
     "data": {
      "text/plain": [
       "['GTT', 'GCA', 'CCA', 'CAA', 'CCG']"
      ]
     },
     "execution_count": 84,
     "metadata": {},
     "output_type": "execute_result"
    }
   ],
   "source": [
    "dna_dict_seq_list = dna_dict_seq.split(\" \")\n",
    "dna_dict_seq_list"
   ]
  },
  {
   "cell_type": "code",
   "execution_count": 86,
   "id": "ca3b88c8-74de-4a0b-bf70-d8f433046ad0",
   "metadata": {},
   "outputs": [],
   "source": [
    "dna_codon_dict = { \"GTT\":\"V\",\n",
    "                   \"GCA\":\"A\",\n",
    "                   \"CCA\":\"P\",\n",
    "                   \"CAA\":\"Q\",\n",
    "                  \"CCG\":\"P\"\n",
    "    \n",
    "                }"
   ]
  },
  {
   "cell_type": "code",
   "execution_count": 87,
   "id": "84a99c17-9909-4c7f-a03d-d10fa586acbf",
   "metadata": {},
   "outputs": [
    {
     "data": {
      "text/plain": [
       "{'GTT': 'V', 'GCA': 'A', 'CCA': 'P', 'CAA': 'Q', 'CCG': 'P'}"
      ]
     },
     "execution_count": 87,
     "metadata": {},
     "output_type": "execute_result"
    }
   ],
   "source": [
    "dna_codon_dict"
   ]
  },
  {
   "cell_type": "markdown",
   "id": "ba4ad395-c47c-4c71-adf8-665220778411",
   "metadata": {},
   "source": [
    "We can't build a dictionary where the keys are names of amino acids and the values are the DNA codons because of codon redundancy, the values would be a list of values instead of a single value"
   ]
  },
  {
   "cell_type": "markdown",
   "id": "0cc2d384-4c0d-439e-bf4b-fa3e3e7726c2",
   "metadata": {},
   "source": [
    "#### Advanced exercise 1.4.3\n",
    "Starting with an empty dictionary, count the abundance of different residue types present in the 1-letter lysozyme protein sequence (http://www.uniprot.org/uniprot/B2R4C5.fasta) and print the results to the screen in alphabetical key order."
   ]
  },
  {
   "cell_type": "code",
   "execution_count": 89,
   "id": "671291d0-4918-41be-9ab3-40c096647abf",
   "metadata": {},
   "outputs": [],
   "source": [
    "ex_143_seq = \"MKALIVLGLVLLSVTVQGKVFERCELARTLKRLGMDGYRGISLANWMCLAKWESGYNTRATNYNAGDRSTDYGIFQINSRYWCNDGKTPGAVNACHLSCSALLQDNIADAVACAKRVVRDPQGIRAWVAWRNRCQNRDVRQYVQGCGV\""
   ]
  },
  {
   "cell_type": "code",
   "execution_count": 90,
   "id": "b386501e-b958-4e7b-94c9-7c6ed8598d74",
   "metadata": {},
   "outputs": [],
   "source": [
    "ex143_dict = {}"
   ]
  },
  {
   "cell_type": "code",
   "execution_count": 92,
   "id": "4a625985-aeed-462a-92d2-af06ed39e6e1",
   "metadata": {},
   "outputs": [],
   "source": [
    "ex_143_seq_set = set(ex_143_seq) # giving us the unique values"
   ]
  },
  {
   "cell_type": "code",
   "execution_count": 95,
   "id": "91498077-5125-4e80-b27b-93a72718df1f",
   "metadata": {},
   "outputs": [
    {
     "data": {
      "text/plain": [
       "{'A',\n",
       " 'C',\n",
       " 'D',\n",
       " 'E',\n",
       " 'F',\n",
       " 'G',\n",
       " 'H',\n",
       " 'I',\n",
       " 'K',\n",
       " 'L',\n",
       " 'M',\n",
       " 'N',\n",
       " 'P',\n",
       " 'Q',\n",
       " 'R',\n",
       " 'S',\n",
       " 'T',\n",
       " 'V',\n",
       " 'W',\n",
       " 'Y'}"
      ]
     },
     "execution_count": 95,
     "metadata": {},
     "output_type": "execute_result"
    }
   ],
   "source": [
    "ex_143_seq_set"
   ]
  },
  {
   "cell_type": "code",
   "execution_count": 98,
   "id": "01e94172-7db5-4388-b7e7-f6688c14cc47",
   "metadata": {},
   "outputs": [],
   "source": [
    "ex143_dict['A'] = ex_143_seq.count('A')"
   ]
  },
  {
   "cell_type": "code",
   "execution_count": 99,
   "id": "0e908699-139a-4453-a987-f01ebbb87a7c",
   "metadata": {},
   "outputs": [
    {
     "data": {
      "text/plain": [
       "{'A': 15}"
      ]
     },
     "execution_count": 99,
     "metadata": {},
     "output_type": "execute_result"
    }
   ],
   "source": [
    "ex143_dict"
   ]
  },
  {
   "cell_type": "code",
   "execution_count": 100,
   "id": "d4739cec-78e0-4f04-8d44-394440742e03",
   "metadata": {},
   "outputs": [],
   "source": [
    "ex143_dict['C'] = ex_143_seq.count('C')"
   ]
  },
  {
   "cell_type": "code",
   "execution_count": 101,
   "id": "1307b092-3daf-41a2-a652-7cc9188717bc",
   "metadata": {},
   "outputs": [
    {
     "data": {
      "text/plain": [
       "{'A': 15, 'C': 8}"
      ]
     },
     "execution_count": 101,
     "metadata": {},
     "output_type": "execute_result"
    }
   ],
   "source": [
    "ex143_dict"
   ]
  },
  {
   "cell_type": "code",
   "execution_count": 102,
   "id": "2f3cba10-d1d9-4fa1-8fcc-fc973fc951c7",
   "metadata": {},
   "outputs": [],
   "source": [
    "## Will not continue for the rest 18, but this is my solution"
   ]
  },
  {
   "cell_type": "code",
   "execution_count": null,
   "id": "1cdd64ca-0e31-4f71-819d-c6c64f888e0e",
   "metadata": {},
   "outputs": [],
   "source": []
  }
 ],
 "metadata": {
  "kernelspec": {
   "display_name": "Python 3 (ipykernel)",
   "language": "python",
   "name": "python3"
  },
  "language_info": {
   "codemirror_mode": {
    "name": "ipython",
    "version": 3
   },
   "file_extension": ".py",
   "mimetype": "text/x-python",
   "name": "python",
   "nbconvert_exporter": "python",
   "pygments_lexer": "ipython3",
   "version": "3.10.8"
  }
 },
 "nbformat": 4,
 "nbformat_minor": 5
}

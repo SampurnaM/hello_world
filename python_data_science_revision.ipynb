{
 "cells": [
  {
   "cell_type": "code",
   "execution_count": 1,
   "id": "aa9b8c75-e7e0-4891-9631-26a1739438c8",
   "metadata": {},
   "outputs": [],
   "source": [
    "#Sampurna M, 11-06-24\n",
    "#Source Material: https://github.com/pycam/python-data-science"
   ]
  },
  {
   "cell_type": "code",
   "execution_count": 2,
   "id": "03b42cdd-5603-49eb-869a-b9cb56e8ab5c",
   "metadata": {},
   "outputs": [],
   "source": [
    "## use of in-built statistics module"
   ]
  },
  {
   "cell_type": "code",
   "execution_count": 3,
   "id": "908a8310-143f-43ec-b6a8-6cd869976fe3",
   "metadata": {},
   "outputs": [],
   "source": [
    "import statistics as stats"
   ]
  },
  {
   "cell_type": "code",
   "execution_count": 4,
   "id": "5293a2de-5e8d-4586-a6e0-3a4f75544daa",
   "metadata": {},
   "outputs": [
    {
     "data": {
      "text/plain": [
       "2.8"
      ]
     },
     "execution_count": 4,
     "metadata": {},
     "output_type": "execute_result"
    }
   ],
   "source": [
    "stats.mean([1,2,3,4,4])"
   ]
  },
  {
   "cell_type": "code",
   "execution_count": 1,
   "id": "1a94ad12-d02e-4899-b449-37c952c814ad",
   "metadata": {},
   "outputs": [],
   "source": [
    "#dir(stats)"
   ]
  },
  {
   "cell_type": "markdown",
   "id": "47577d96-6d3f-4e08-b85a-bcaac65535a5",
   "metadata": {},
   "source": [
    "### Exercise 1.2.1\n",
    "Calculate the average GDP per capita per country in Europe in 1962, its median and standard deviation using data/gapminder.csv data; and compare these figures with those from Americas."
   ]
  },
  {
   "cell_type": "code",
   "execution_count": 7,
   "id": "332d19d5-bee3-4674-8889-c907dba93bd7",
   "metadata": {},
   "outputs": [],
   "source": [
    "#!cat gapminder.csv "
   ]
  },
  {
   "cell_type": "code",
   "execution_count": 8,
   "id": "fd9de06e-8ce4-4332-b76b-661c645360fa",
   "metadata": {},
   "outputs": [],
   "source": [
    "### skipped functions and in-built csv module to Pandas"
   ]
  },
  {
   "cell_type": "code",
   "execution_count": 3,
   "id": "bcdcef3b-d0fc-482b-b008-28a7c04d6bbe",
   "metadata": {},
   "outputs": [],
   "source": [
    "import pandas as pd"
   ]
  },
  {
   "cell_type": "code",
   "execution_count": 10,
   "id": "b95e24ee-e429-4ee3-99a0-ad222f849a75",
   "metadata": {},
   "outputs": [],
   "source": [
    "data = pd.read_csv(\"gapminder_gdp_oceania.csv\")"
   ]
  },
  {
   "cell_type": "code",
   "execution_count": 14,
   "id": "d76afc90-97fa-418b-b72e-4cd06b554359",
   "metadata": {},
   "outputs": [
    {
     "data": {
      "text/html": [
       "<div>\n",
       "<style scoped>\n",
       "    .dataframe tbody tr th:only-of-type {\n",
       "        vertical-align: middle;\n",
       "    }\n",
       "\n",
       "    .dataframe tbody tr th {\n",
       "        vertical-align: top;\n",
       "    }\n",
       "\n",
       "    .dataframe thead th {\n",
       "        text-align: right;\n",
       "    }\n",
       "</style>\n",
       "<table border=\"1\" class=\"dataframe\">\n",
       "  <thead>\n",
       "    <tr style=\"text-align: right;\">\n",
       "      <th></th>\n",
       "      <th>gdpPercap_1952</th>\n",
       "      <th>gdpPercap_1957</th>\n",
       "      <th>gdpPercap_1962</th>\n",
       "      <th>gdpPercap_1967</th>\n",
       "      <th>gdpPercap_1972</th>\n",
       "      <th>gdpPercap_1977</th>\n",
       "      <th>gdpPercap_1982</th>\n",
       "      <th>gdpPercap_1987</th>\n",
       "      <th>gdpPercap_1992</th>\n",
       "      <th>gdpPercap_1997</th>\n",
       "      <th>gdpPercap_2002</th>\n",
       "      <th>gdpPercap_2007</th>\n",
       "    </tr>\n",
       "    <tr>\n",
       "      <th>country</th>\n",
       "      <th></th>\n",
       "      <th></th>\n",
       "      <th></th>\n",
       "      <th></th>\n",
       "      <th></th>\n",
       "      <th></th>\n",
       "      <th></th>\n",
       "      <th></th>\n",
       "      <th></th>\n",
       "      <th></th>\n",
       "      <th></th>\n",
       "      <th></th>\n",
       "    </tr>\n",
       "  </thead>\n",
       "  <tbody>\n",
       "    <tr>\n",
       "      <th>Australia</th>\n",
       "      <td>10039.59564</td>\n",
       "      <td>10949.64959</td>\n",
       "      <td>12217.22686</td>\n",
       "      <td>14526.12465</td>\n",
       "      <td>16788.62948</td>\n",
       "      <td>18334.19751</td>\n",
       "      <td>19477.00928</td>\n",
       "      <td>21888.88903</td>\n",
       "      <td>23424.76683</td>\n",
       "      <td>26997.93657</td>\n",
       "      <td>30687.75473</td>\n",
       "      <td>34435.36744</td>\n",
       "    </tr>\n",
       "    <tr>\n",
       "      <th>New Zealand</th>\n",
       "      <td>10556.57566</td>\n",
       "      <td>12247.39532</td>\n",
       "      <td>13175.67800</td>\n",
       "      <td>14463.91893</td>\n",
       "      <td>16046.03728</td>\n",
       "      <td>16233.71770</td>\n",
       "      <td>17632.41040</td>\n",
       "      <td>19007.19129</td>\n",
       "      <td>18363.32494</td>\n",
       "      <td>21050.41377</td>\n",
       "      <td>23189.80135</td>\n",
       "      <td>25185.00911</td>\n",
       "    </tr>\n",
       "  </tbody>\n",
       "</table>\n",
       "</div>"
      ],
      "text/plain": [
       "             gdpPercap_1952  gdpPercap_1957  gdpPercap_1962  gdpPercap_1967  \\\n",
       "country                                                                       \n",
       "Australia       10039.59564     10949.64959     12217.22686     14526.12465   \n",
       "New Zealand     10556.57566     12247.39532     13175.67800     14463.91893   \n",
       "\n",
       "             gdpPercap_1972  gdpPercap_1977  gdpPercap_1982  gdpPercap_1987  \\\n",
       "country                                                                       \n",
       "Australia       16788.62948     18334.19751     19477.00928     21888.88903   \n",
       "New Zealand     16046.03728     16233.71770     17632.41040     19007.19129   \n",
       "\n",
       "             gdpPercap_1992  gdpPercap_1997  gdpPercap_2002  gdpPercap_2007  \n",
       "country                                                                      \n",
       "Australia       23424.76683     26997.93657     30687.75473     34435.36744  \n",
       "New Zealand     18363.32494     21050.41377     23189.80135     25185.00911  "
      ]
     },
     "execution_count": 14,
     "metadata": {},
     "output_type": "execute_result"
    }
   ],
   "source": [
    "data.head(3)"
   ]
  },
  {
   "cell_type": "code",
   "execution_count": 12,
   "id": "b84a5ae1-d76a-4f04-9cb1-ca77ab7ae9b6",
   "metadata": {},
   "outputs": [],
   "source": [
    "#using country as index"
   ]
  },
  {
   "cell_type": "code",
   "execution_count": 13,
   "id": "abbf093e-c729-477a-b008-ebd45dcf5f38",
   "metadata": {},
   "outputs": [],
   "source": [
    "data = pd.read_csv(\"gapminder_gdp_oceania.csv\",index_col=\"country\")"
   ]
  },
  {
   "cell_type": "code",
   "execution_count": 15,
   "id": "e37a93bc-e6ab-4a42-827e-f95111c726fc",
   "metadata": {},
   "outputs": [
    {
     "data": {
      "text/html": [
       "<div>\n",
       "<style scoped>\n",
       "    .dataframe tbody tr th:only-of-type {\n",
       "        vertical-align: middle;\n",
       "    }\n",
       "\n",
       "    .dataframe tbody tr th {\n",
       "        vertical-align: top;\n",
       "    }\n",
       "\n",
       "    .dataframe thead th {\n",
       "        text-align: right;\n",
       "    }\n",
       "</style>\n",
       "<table border=\"1\" class=\"dataframe\">\n",
       "  <thead>\n",
       "    <tr style=\"text-align: right;\">\n",
       "      <th></th>\n",
       "      <th>gdpPercap_1952</th>\n",
       "      <th>gdpPercap_1957</th>\n",
       "      <th>gdpPercap_1962</th>\n",
       "      <th>gdpPercap_1967</th>\n",
       "      <th>gdpPercap_1972</th>\n",
       "      <th>gdpPercap_1977</th>\n",
       "      <th>gdpPercap_1982</th>\n",
       "      <th>gdpPercap_1987</th>\n",
       "      <th>gdpPercap_1992</th>\n",
       "      <th>gdpPercap_1997</th>\n",
       "      <th>gdpPercap_2002</th>\n",
       "      <th>gdpPercap_2007</th>\n",
       "    </tr>\n",
       "    <tr>\n",
       "      <th>country</th>\n",
       "      <th></th>\n",
       "      <th></th>\n",
       "      <th></th>\n",
       "      <th></th>\n",
       "      <th></th>\n",
       "      <th></th>\n",
       "      <th></th>\n",
       "      <th></th>\n",
       "      <th></th>\n",
       "      <th></th>\n",
       "      <th></th>\n",
       "      <th></th>\n",
       "    </tr>\n",
       "  </thead>\n",
       "  <tbody>\n",
       "    <tr>\n",
       "      <th>Australia</th>\n",
       "      <td>10039.59564</td>\n",
       "      <td>10949.64959</td>\n",
       "      <td>12217.22686</td>\n",
       "      <td>14526.12465</td>\n",
       "      <td>16788.62948</td>\n",
       "      <td>18334.19751</td>\n",
       "      <td>19477.00928</td>\n",
       "      <td>21888.88903</td>\n",
       "      <td>23424.76683</td>\n",
       "      <td>26997.93657</td>\n",
       "      <td>30687.75473</td>\n",
       "      <td>34435.36744</td>\n",
       "    </tr>\n",
       "    <tr>\n",
       "      <th>New Zealand</th>\n",
       "      <td>10556.57566</td>\n",
       "      <td>12247.39532</td>\n",
       "      <td>13175.67800</td>\n",
       "      <td>14463.91893</td>\n",
       "      <td>16046.03728</td>\n",
       "      <td>16233.71770</td>\n",
       "      <td>17632.41040</td>\n",
       "      <td>19007.19129</td>\n",
       "      <td>18363.32494</td>\n",
       "      <td>21050.41377</td>\n",
       "      <td>23189.80135</td>\n",
       "      <td>25185.00911</td>\n",
       "    </tr>\n",
       "  </tbody>\n",
       "</table>\n",
       "</div>"
      ],
      "text/plain": [
       "             gdpPercap_1952  gdpPercap_1957  gdpPercap_1962  gdpPercap_1967  \\\n",
       "country                                                                       \n",
       "Australia       10039.59564     10949.64959     12217.22686     14526.12465   \n",
       "New Zealand     10556.57566     12247.39532     13175.67800     14463.91893   \n",
       "\n",
       "             gdpPercap_1972  gdpPercap_1977  gdpPercap_1982  gdpPercap_1987  \\\n",
       "country                                                                       \n",
       "Australia       16788.62948     18334.19751     19477.00928     21888.88903   \n",
       "New Zealand     16046.03728     16233.71770     17632.41040     19007.19129   \n",
       "\n",
       "             gdpPercap_1992  gdpPercap_1997  gdpPercap_2002  gdpPercap_2007  \n",
       "country                                                                      \n",
       "Australia       23424.76683     26997.93657     30687.75473     34435.36744  \n",
       "New Zealand     18363.32494     21050.41377     23189.80135     25185.00911  "
      ]
     },
     "execution_count": 15,
     "metadata": {},
     "output_type": "execute_result"
    }
   ],
   "source": [
    "data.head(3)"
   ]
  },
  {
   "cell_type": "code",
   "execution_count": 16,
   "id": "151aeac1-d04e-4a1f-bd3d-56b000cb6b4f",
   "metadata": {},
   "outputs": [
    {
     "name": "stdout",
     "output_type": "stream",
     "text": [
      "<class 'pandas.core.frame.DataFrame'>\n",
      "Index: 2 entries, Australia to New Zealand\n",
      "Data columns (total 12 columns):\n",
      " #   Column          Non-Null Count  Dtype  \n",
      "---  ------          --------------  -----  \n",
      " 0   gdpPercap_1952  2 non-null      float64\n",
      " 1   gdpPercap_1957  2 non-null      float64\n",
      " 2   gdpPercap_1962  2 non-null      float64\n",
      " 3   gdpPercap_1967  2 non-null      float64\n",
      " 4   gdpPercap_1972  2 non-null      float64\n",
      " 5   gdpPercap_1977  2 non-null      float64\n",
      " 6   gdpPercap_1982  2 non-null      float64\n",
      " 7   gdpPercap_1987  2 non-null      float64\n",
      " 8   gdpPercap_1992  2 non-null      float64\n",
      " 9   gdpPercap_1997  2 non-null      float64\n",
      " 10  gdpPercap_2002  2 non-null      float64\n",
      " 11  gdpPercap_2007  2 non-null      float64\n",
      "dtypes: float64(12)\n",
      "memory usage: 208.0+ bytes\n"
     ]
    }
   ],
   "source": [
    "data.info()"
   ]
  },
  {
   "cell_type": "code",
   "execution_count": 18,
   "id": "692f64e7-7b1d-462b-a25c-68ef40a92fae",
   "metadata": {},
   "outputs": [
    {
     "data": {
      "text/plain": [
       "(2, 12)"
      ]
     },
     "execution_count": 18,
     "metadata": {},
     "output_type": "execute_result"
    }
   ],
   "source": [
    "data.shape"
   ]
  },
  {
   "cell_type": "code",
   "execution_count": 19,
   "id": "08761e58-2476-47a6-beab-98a3119315fb",
   "metadata": {},
   "outputs": [
    {
     "data": {
      "text/plain": [
       "array(['Australia', 'New Zealand'], dtype=object)"
      ]
     },
     "execution_count": 19,
     "metadata": {},
     "output_type": "execute_result"
    }
   ],
   "source": [
    "data.index.values"
   ]
  },
  {
   "cell_type": "code",
   "execution_count": 20,
   "id": "04e8ce9c-7ffa-4af1-9296-9b99e920c529",
   "metadata": {},
   "outputs": [
    {
     "data": {
      "text/html": [
       "<div>\n",
       "<style scoped>\n",
       "    .dataframe tbody tr th:only-of-type {\n",
       "        vertical-align: middle;\n",
       "    }\n",
       "\n",
       "    .dataframe tbody tr th {\n",
       "        vertical-align: top;\n",
       "    }\n",
       "\n",
       "    .dataframe thead th {\n",
       "        text-align: right;\n",
       "    }\n",
       "</style>\n",
       "<table border=\"1\" class=\"dataframe\">\n",
       "  <thead>\n",
       "    <tr style=\"text-align: right;\">\n",
       "      <th></th>\n",
       "      <th>gdpPercap_1952</th>\n",
       "      <th>gdpPercap_1957</th>\n",
       "      <th>gdpPercap_1962</th>\n",
       "      <th>gdpPercap_1967</th>\n",
       "      <th>gdpPercap_1972</th>\n",
       "      <th>gdpPercap_1977</th>\n",
       "      <th>gdpPercap_1982</th>\n",
       "      <th>gdpPercap_1987</th>\n",
       "      <th>gdpPercap_1992</th>\n",
       "      <th>gdpPercap_1997</th>\n",
       "      <th>gdpPercap_2002</th>\n",
       "      <th>gdpPercap_2007</th>\n",
       "    </tr>\n",
       "  </thead>\n",
       "  <tbody>\n",
       "    <tr>\n",
       "      <th>count</th>\n",
       "      <td>2.000000</td>\n",
       "      <td>2.000000</td>\n",
       "      <td>2.000000</td>\n",
       "      <td>2.000000</td>\n",
       "      <td>2.00000</td>\n",
       "      <td>2.000000</td>\n",
       "      <td>2.000000</td>\n",
       "      <td>2.000000</td>\n",
       "      <td>2.000000</td>\n",
       "      <td>2.000000</td>\n",
       "      <td>2.000000</td>\n",
       "      <td>2.000000</td>\n",
       "    </tr>\n",
       "    <tr>\n",
       "      <th>mean</th>\n",
       "      <td>10298.085650</td>\n",
       "      <td>11598.522455</td>\n",
       "      <td>12696.452430</td>\n",
       "      <td>14495.021790</td>\n",
       "      <td>16417.33338</td>\n",
       "      <td>17283.957605</td>\n",
       "      <td>18554.709840</td>\n",
       "      <td>20448.040160</td>\n",
       "      <td>20894.045885</td>\n",
       "      <td>24024.175170</td>\n",
       "      <td>26938.778040</td>\n",
       "      <td>29810.188275</td>\n",
       "    </tr>\n",
       "    <tr>\n",
       "      <th>std</th>\n",
       "      <td>365.560078</td>\n",
       "      <td>917.644806</td>\n",
       "      <td>677.727301</td>\n",
       "      <td>43.986086</td>\n",
       "      <td>525.09198</td>\n",
       "      <td>1485.263517</td>\n",
       "      <td>1304.328377</td>\n",
       "      <td>2037.668013</td>\n",
       "      <td>3578.979883</td>\n",
       "      <td>4205.533703</td>\n",
       "      <td>5301.853680</td>\n",
       "      <td>6540.991104</td>\n",
       "    </tr>\n",
       "    <tr>\n",
       "      <th>min</th>\n",
       "      <td>10039.595640</td>\n",
       "      <td>10949.649590</td>\n",
       "      <td>12217.226860</td>\n",
       "      <td>14463.918930</td>\n",
       "      <td>16046.03728</td>\n",
       "      <td>16233.717700</td>\n",
       "      <td>17632.410400</td>\n",
       "      <td>19007.191290</td>\n",
       "      <td>18363.324940</td>\n",
       "      <td>21050.413770</td>\n",
       "      <td>23189.801350</td>\n",
       "      <td>25185.009110</td>\n",
       "    </tr>\n",
       "    <tr>\n",
       "      <th>25%</th>\n",
       "      <td>10168.840645</td>\n",
       "      <td>11274.086022</td>\n",
       "      <td>12456.839645</td>\n",
       "      <td>14479.470360</td>\n",
       "      <td>16231.68533</td>\n",
       "      <td>16758.837652</td>\n",
       "      <td>18093.560120</td>\n",
       "      <td>19727.615725</td>\n",
       "      <td>19628.685412</td>\n",
       "      <td>22537.294470</td>\n",
       "      <td>25064.289695</td>\n",
       "      <td>27497.598692</td>\n",
       "    </tr>\n",
       "    <tr>\n",
       "      <th>50%</th>\n",
       "      <td>10298.085650</td>\n",
       "      <td>11598.522455</td>\n",
       "      <td>12696.452430</td>\n",
       "      <td>14495.021790</td>\n",
       "      <td>16417.33338</td>\n",
       "      <td>17283.957605</td>\n",
       "      <td>18554.709840</td>\n",
       "      <td>20448.040160</td>\n",
       "      <td>20894.045885</td>\n",
       "      <td>24024.175170</td>\n",
       "      <td>26938.778040</td>\n",
       "      <td>29810.188275</td>\n",
       "    </tr>\n",
       "    <tr>\n",
       "      <th>75%</th>\n",
       "      <td>10427.330655</td>\n",
       "      <td>11922.958888</td>\n",
       "      <td>12936.065215</td>\n",
       "      <td>14510.573220</td>\n",
       "      <td>16602.98143</td>\n",
       "      <td>17809.077558</td>\n",
       "      <td>19015.859560</td>\n",
       "      <td>21168.464595</td>\n",
       "      <td>22159.406358</td>\n",
       "      <td>25511.055870</td>\n",
       "      <td>28813.266385</td>\n",
       "      <td>32122.777858</td>\n",
       "    </tr>\n",
       "    <tr>\n",
       "      <th>max</th>\n",
       "      <td>10556.575660</td>\n",
       "      <td>12247.395320</td>\n",
       "      <td>13175.678000</td>\n",
       "      <td>14526.124650</td>\n",
       "      <td>16788.62948</td>\n",
       "      <td>18334.197510</td>\n",
       "      <td>19477.009280</td>\n",
       "      <td>21888.889030</td>\n",
       "      <td>23424.766830</td>\n",
       "      <td>26997.936570</td>\n",
       "      <td>30687.754730</td>\n",
       "      <td>34435.367440</td>\n",
       "    </tr>\n",
       "  </tbody>\n",
       "</table>\n",
       "</div>"
      ],
      "text/plain": [
       "       gdpPercap_1952  gdpPercap_1957  gdpPercap_1962  gdpPercap_1967  \\\n",
       "count        2.000000        2.000000        2.000000        2.000000   \n",
       "mean     10298.085650    11598.522455    12696.452430    14495.021790   \n",
       "std        365.560078      917.644806      677.727301       43.986086   \n",
       "min      10039.595640    10949.649590    12217.226860    14463.918930   \n",
       "25%      10168.840645    11274.086022    12456.839645    14479.470360   \n",
       "50%      10298.085650    11598.522455    12696.452430    14495.021790   \n",
       "75%      10427.330655    11922.958888    12936.065215    14510.573220   \n",
       "max      10556.575660    12247.395320    13175.678000    14526.124650   \n",
       "\n",
       "       gdpPercap_1972  gdpPercap_1977  gdpPercap_1982  gdpPercap_1987  \\\n",
       "count         2.00000        2.000000        2.000000        2.000000   \n",
       "mean      16417.33338    17283.957605    18554.709840    20448.040160   \n",
       "std         525.09198     1485.263517     1304.328377     2037.668013   \n",
       "min       16046.03728    16233.717700    17632.410400    19007.191290   \n",
       "25%       16231.68533    16758.837652    18093.560120    19727.615725   \n",
       "50%       16417.33338    17283.957605    18554.709840    20448.040160   \n",
       "75%       16602.98143    17809.077558    19015.859560    21168.464595   \n",
       "max       16788.62948    18334.197510    19477.009280    21888.889030   \n",
       "\n",
       "       gdpPercap_1992  gdpPercap_1997  gdpPercap_2002  gdpPercap_2007  \n",
       "count        2.000000        2.000000        2.000000        2.000000  \n",
       "mean     20894.045885    24024.175170    26938.778040    29810.188275  \n",
       "std       3578.979883     4205.533703     5301.853680     6540.991104  \n",
       "min      18363.324940    21050.413770    23189.801350    25185.009110  \n",
       "25%      19628.685412    22537.294470    25064.289695    27497.598692  \n",
       "50%      20894.045885    24024.175170    26938.778040    29810.188275  \n",
       "75%      22159.406358    25511.055870    28813.266385    32122.777858  \n",
       "max      23424.766830    26997.936570    30687.754730    34435.367440  "
      ]
     },
     "execution_count": 20,
     "metadata": {},
     "output_type": "execute_result"
    }
   ],
   "source": [
    "data.describe()"
   ]
  },
  {
   "cell_type": "markdown",
   "id": "396c0499-6baf-4385-a06c-8b8060a45eea",
   "metadata": {},
   "source": [
    "### Now we work on biological data dfs to revise accessing and indexing data"
   ]
  },
  {
   "cell_type": "code",
   "execution_count": 4,
   "id": "ebc052ca-30de-4c5e-9e6f-8144a588dbae",
   "metadata": {},
   "outputs": [],
   "source": [
    "df = pd.DataFrame({'gene': ['BRCA2', 'TNFAIP3', 'TCF7'], \n",
    "                       'chrom': ['13', '6', '5'],\n",
    "                       'length': [84195, 16099, 37155]}\n",
    ")"
   ]
  },
  {
   "cell_type": "code",
   "execution_count": 5,
   "id": "399895c5-6bb8-4d48-b97c-440f20f40e3d",
   "metadata": {},
   "outputs": [
    {
     "name": "stdout",
     "output_type": "stream",
     "text": [
      "      gene chrom  length\n",
      "0    BRCA2    13   84195\n",
      "1  TNFAIP3     6   16099\n",
      "2     TCF7     5   37155\n"
     ]
    }
   ],
   "source": [
    "print(df)"
   ]
  },
  {
   "cell_type": "code",
   "execution_count": 6,
   "id": "90656899-0b95-45e2-ada4-3230caf88565",
   "metadata": {},
   "outputs": [
    {
     "data": {
      "text/plain": [
       "0    84195\n",
       "1    16099\n",
       "2    37155\n",
       "Name: length, dtype: int64"
      ]
     },
     "execution_count": 6,
     "metadata": {},
     "output_type": "execute_result"
    }
   ],
   "source": [
    "#column name access\n",
    "df['length']"
   ]
  },
  {
   "cell_type": "code",
   "execution_count": 7,
   "id": "d5d50fc5-96f0-42a4-b6c0-63df746d1787",
   "metadata": {},
   "outputs": [
    {
     "data": {
      "text/html": [
       "<div>\n",
       "<style scoped>\n",
       "    .dataframe tbody tr th:only-of-type {\n",
       "        vertical-align: middle;\n",
       "    }\n",
       "\n",
       "    .dataframe tbody tr th {\n",
       "        vertical-align: top;\n",
       "    }\n",
       "\n",
       "    .dataframe thead th {\n",
       "        text-align: right;\n",
       "    }\n",
       "</style>\n",
       "<table border=\"1\" class=\"dataframe\">\n",
       "  <thead>\n",
       "    <tr style=\"text-align: right;\">\n",
       "      <th></th>\n",
       "      <th>gene</th>\n",
       "      <th>chrom</th>\n",
       "      <th>length</th>\n",
       "    </tr>\n",
       "  </thead>\n",
       "  <tbody>\n",
       "    <tr>\n",
       "      <th>0</th>\n",
       "      <td>BRCA2</td>\n",
       "      <td>13</td>\n",
       "      <td>84195</td>\n",
       "    </tr>\n",
       "    <tr>\n",
       "      <th>1</th>\n",
       "      <td>TNFAIP3</td>\n",
       "      <td>6</td>\n",
       "      <td>16099</td>\n",
       "    </tr>\n",
       "  </tbody>\n",
       "</table>\n",
       "</div>"
      ],
      "text/plain": [
       "      gene chrom  length\n",
       "0    BRCA2    13   84195\n",
       "1  TNFAIP3     6   16099"
      ]
     },
     "execution_count": 7,
     "metadata": {},
     "output_type": "execute_result"
    }
   ],
   "source": [
    "#only first two rows\n",
    "df[:2]"
   ]
  },
  {
   "cell_type": "code",
   "execution_count": 8,
   "id": "6e560aa2-854f-4b47-8cc5-db54d152049c",
   "metadata": {},
   "outputs": [
    {
     "data": {
      "text/plain": [
       "0    84195\n",
       "1    16099\n",
       "Name: length, dtype: int64"
      ]
     },
     "execution_count": 8,
     "metadata": {},
     "output_type": "execute_result"
    }
   ],
   "source": [
    "#both combined\n",
    "df[:2]['length']"
   ]
  },
  {
   "cell_type": "code",
   "execution_count": 9,
   "id": "8adf32ce-fa7d-40fc-bcbc-9307bf98c2ae",
   "metadata": {},
   "outputs": [
    {
     "data": {
      "text/plain": [
       "0    84195\n",
       "1    16099\n",
       "Name: length, dtype: int64"
      ]
     },
     "execution_count": 9,
     "metadata": {},
     "output_type": "execute_result"
    }
   ],
   "source": [
    "df['length'][:2] #order does not matter"
   ]
  },
  {
   "cell_type": "markdown",
   "id": "0b98cea9-20b1-478f-84c6-11f8e8b7fc87",
   "metadata": {},
   "source": [
    "## Now both rows and columns using positional values \n",
    "#### using iloc"
   ]
  },
  {
   "cell_type": "code",
   "execution_count": 10,
   "id": "5fb0e30b-8a2b-476b-984a-b3688445a21f",
   "metadata": {},
   "outputs": [
    {
     "data": {
      "text/html": [
       "<div>\n",
       "<style scoped>\n",
       "    .dataframe tbody tr th:only-of-type {\n",
       "        vertical-align: middle;\n",
       "    }\n",
       "\n",
       "    .dataframe tbody tr th {\n",
       "        vertical-align: top;\n",
       "    }\n",
       "\n",
       "    .dataframe thead th {\n",
       "        text-align: right;\n",
       "    }\n",
       "</style>\n",
       "<table border=\"1\" class=\"dataframe\">\n",
       "  <thead>\n",
       "    <tr style=\"text-align: right;\">\n",
       "      <th></th>\n",
       "      <th>gene</th>\n",
       "      <th>chrom</th>\n",
       "      <th>length</th>\n",
       "    </tr>\n",
       "  </thead>\n",
       "  <tbody>\n",
       "    <tr>\n",
       "      <th>0</th>\n",
       "      <td>BRCA2</td>\n",
       "      <td>13</td>\n",
       "      <td>84195</td>\n",
       "    </tr>\n",
       "    <tr>\n",
       "      <th>1</th>\n",
       "      <td>TNFAIP3</td>\n",
       "      <td>6</td>\n",
       "      <td>16099</td>\n",
       "    </tr>\n",
       "  </tbody>\n",
       "</table>\n",
       "</div>"
      ],
      "text/plain": [
       "      gene chrom  length\n",
       "0    BRCA2    13   84195\n",
       "1  TNFAIP3     6   16099"
      ]
     },
     "execution_count": 10,
     "metadata": {},
     "output_type": "execute_result"
    }
   ],
   "source": [
    "df.iloc[:2] #first two rows, all columns"
   ]
  },
  {
   "cell_type": "code",
   "execution_count": 12,
   "id": "d53d8712-f3b1-4b8a-94a0-fd81a24b2991",
   "metadata": {},
   "outputs": [
    {
     "data": {
      "text/plain": [
       "0    84195\n",
       "1    16099\n",
       "Name: length, dtype: int64"
      ]
     },
     "execution_count": 12,
     "metadata": {},
     "output_type": "execute_result"
    }
   ],
   "source": [
    "df.iloc[:2,2] #2row, column number 2 only"
   ]
  },
  {
   "cell_type": "code",
   "execution_count": 14,
   "id": "f6d4b1ac-56ea-49e7-bb1d-22eb06575111",
   "metadata": {},
   "outputs": [
    {
     "data": {
      "text/html": [
       "<div>\n",
       "<style scoped>\n",
       "    .dataframe tbody tr th:only-of-type {\n",
       "        vertical-align: middle;\n",
       "    }\n",
       "\n",
       "    .dataframe tbody tr th {\n",
       "        vertical-align: top;\n",
       "    }\n",
       "\n",
       "    .dataframe thead th {\n",
       "        text-align: right;\n",
       "    }\n",
       "</style>\n",
       "<table border=\"1\" class=\"dataframe\">\n",
       "  <thead>\n",
       "    <tr style=\"text-align: right;\">\n",
       "      <th></th>\n",
       "      <th>chrom</th>\n",
       "      <th>length</th>\n",
       "    </tr>\n",
       "  </thead>\n",
       "  <tbody>\n",
       "    <tr>\n",
       "      <th>0</th>\n",
       "      <td>13</td>\n",
       "      <td>84195</td>\n",
       "    </tr>\n",
       "    <tr>\n",
       "      <th>1</th>\n",
       "      <td>6</td>\n",
       "      <td>16099</td>\n",
       "    </tr>\n",
       "  </tbody>\n",
       "</table>\n",
       "</div>"
      ],
      "text/plain": [
       "  chrom  length\n",
       "0    13   84195\n",
       "1     6   16099"
      ]
     },
     "execution_count": 14,
     "metadata": {},
     "output_type": "execute_result"
    }
   ],
   "source": [
    "df.iloc[:2,1:] #column number 1 and whichever column(s) come after,\n",
    "#and first two rows from the beginning"
   ]
  },
  {
   "cell_type": "markdown",
   "id": "cf24ace6-3dc7-41d9-a0fa-f8564c3bba0a",
   "metadata": {},
   "source": [
    "### Label based indexing: use row and column names nad df.loc[]"
   ]
  },
  {
   "cell_type": "code",
   "execution_count": 15,
   "id": "9494c80e-671a-4499-9ddf-da8840294a09",
   "metadata": {},
   "outputs": [
    {
     "data": {
      "text/html": [
       "<div>\n",
       "<style scoped>\n",
       "    .dataframe tbody tr th:only-of-type {\n",
       "        vertical-align: middle;\n",
       "    }\n",
       "\n",
       "    .dataframe tbody tr th {\n",
       "        vertical-align: top;\n",
       "    }\n",
       "\n",
       "    .dataframe thead th {\n",
       "        text-align: right;\n",
       "    }\n",
       "</style>\n",
       "<table border=\"1\" class=\"dataframe\">\n",
       "  <thead>\n",
       "    <tr style=\"text-align: right;\">\n",
       "      <th></th>\n",
       "      <th>chrom</th>\n",
       "      <th>length</th>\n",
       "    </tr>\n",
       "  </thead>\n",
       "  <tbody>\n",
       "    <tr>\n",
       "      <th>0</th>\n",
       "      <td>13</td>\n",
       "      <td>84195</td>\n",
       "    </tr>\n",
       "    <tr>\n",
       "      <th>1</th>\n",
       "      <td>6</td>\n",
       "      <td>16099</td>\n",
       "    </tr>\n",
       "  </tbody>\n",
       "</table>\n",
       "</div>"
      ],
      "text/plain": [
       "  chrom  length\n",
       "0    13   84195\n",
       "1     6   16099"
      ]
     },
     "execution_count": 15,
     "metadata": {},
     "output_type": "execute_result"
    }
   ],
   "source": [
    "df.loc[:1,'chrom':] #returns the chrom and after that column, and 0 nad 1th rs"
   ]
  },
  {
   "cell_type": "code",
   "execution_count": 17,
   "id": "3038006b-5c4a-419f-b02d-0a6731686696",
   "metadata": {},
   "outputs": [],
   "source": [
    "sort_df = df.sort_values('length')"
   ]
  },
  {
   "cell_type": "code",
   "execution_count": 18,
   "id": "3acd24ba-68ae-4d62-b21d-165c8a058fe5",
   "metadata": {},
   "outputs": [
    {
     "data": {
      "text/html": [
       "<div>\n",
       "<style scoped>\n",
       "    .dataframe tbody tr th:only-of-type {\n",
       "        vertical-align: middle;\n",
       "    }\n",
       "\n",
       "    .dataframe tbody tr th {\n",
       "        vertical-align: top;\n",
       "    }\n",
       "\n",
       "    .dataframe thead th {\n",
       "        text-align: right;\n",
       "    }\n",
       "</style>\n",
       "<table border=\"1\" class=\"dataframe\">\n",
       "  <thead>\n",
       "    <tr style=\"text-align: right;\">\n",
       "      <th></th>\n",
       "      <th>gene</th>\n",
       "      <th>chrom</th>\n",
       "      <th>length</th>\n",
       "    </tr>\n",
       "  </thead>\n",
       "  <tbody>\n",
       "    <tr>\n",
       "      <th>1</th>\n",
       "      <td>TNFAIP3</td>\n",
       "      <td>6</td>\n",
       "      <td>16099</td>\n",
       "    </tr>\n",
       "    <tr>\n",
       "      <th>2</th>\n",
       "      <td>TCF7</td>\n",
       "      <td>5</td>\n",
       "      <td>37155</td>\n",
       "    </tr>\n",
       "    <tr>\n",
       "      <th>0</th>\n",
       "      <td>BRCA2</td>\n",
       "      <td>13</td>\n",
       "      <td>84195</td>\n",
       "    </tr>\n",
       "  </tbody>\n",
       "</table>\n",
       "</div>"
      ],
      "text/plain": [
       "      gene chrom  length\n",
       "1  TNFAIP3     6   16099\n",
       "2     TCF7     5   37155\n",
       "0    BRCA2    13   84195"
      ]
     },
     "execution_count": 18,
     "metadata": {},
     "output_type": "execute_result"
    }
   ],
   "source": [
    "sort_df #index is changed, so iloc[0] and loc[0] will be different"
   ]
  },
  {
   "cell_type": "code",
   "execution_count": 19,
   "id": "625a7c41-7656-485e-94d8-a61fb48b8a82",
   "metadata": {},
   "outputs": [
    {
     "data": {
      "text/plain": [
       "gene      TNFAIP3\n",
       "chrom           6\n",
       "length      16099\n",
       "Name: 1, dtype: object"
      ]
     },
     "execution_count": 19,
     "metadata": {},
     "output_type": "execute_result"
    }
   ],
   "source": [
    "sort_df.iloc[0]"
   ]
  },
  {
   "cell_type": "code",
   "execution_count": 20,
   "id": "55f2c113-d33b-47b0-be71-0fde884b0ef3",
   "metadata": {},
   "outputs": [
    {
     "data": {
      "text/plain": [
       "gene      BRCA2\n",
       "chrom        13\n",
       "length    84195\n",
       "Name: 0, dtype: object"
      ]
     },
     "execution_count": 20,
     "metadata": {},
     "output_type": "execute_result"
    }
   ],
   "source": [
    "sort_df.loc[0]"
   ]
  },
  {
   "cell_type": "code",
   "execution_count": 21,
   "id": "1528122a-9b8f-46cc-b9ac-7258ca650474",
   "metadata": {},
   "outputs": [],
   "source": [
    "#resetting the index"
   ]
  },
  {
   "cell_type": "code",
   "execution_count": 22,
   "id": "d8948338-a18f-49a4-b725-3c5bf82defea",
   "metadata": {},
   "outputs": [],
   "source": [
    "sorted_df_reindexed = sort_df.reset_index(drop = True) # to drop the old index"
   ]
  },
  {
   "cell_type": "code",
   "execution_count": 23,
   "id": "90a95f7d-21ae-4f4d-9669-11db957af3e7",
   "metadata": {},
   "outputs": [
    {
     "data": {
      "text/html": [
       "<div>\n",
       "<style scoped>\n",
       "    .dataframe tbody tr th:only-of-type {\n",
       "        vertical-align: middle;\n",
       "    }\n",
       "\n",
       "    .dataframe tbody tr th {\n",
       "        vertical-align: top;\n",
       "    }\n",
       "\n",
       "    .dataframe thead th {\n",
       "        text-align: right;\n",
       "    }\n",
       "</style>\n",
       "<table border=\"1\" class=\"dataframe\">\n",
       "  <thead>\n",
       "    <tr style=\"text-align: right;\">\n",
       "      <th></th>\n",
       "      <th>gene</th>\n",
       "      <th>chrom</th>\n",
       "      <th>length</th>\n",
       "    </tr>\n",
       "  </thead>\n",
       "  <tbody>\n",
       "    <tr>\n",
       "      <th>0</th>\n",
       "      <td>TNFAIP3</td>\n",
       "      <td>6</td>\n",
       "      <td>16099</td>\n",
       "    </tr>\n",
       "    <tr>\n",
       "      <th>1</th>\n",
       "      <td>TCF7</td>\n",
       "      <td>5</td>\n",
       "      <td>37155</td>\n",
       "    </tr>\n",
       "    <tr>\n",
       "      <th>2</th>\n",
       "      <td>BRCA2</td>\n",
       "      <td>13</td>\n",
       "      <td>84195</td>\n",
       "    </tr>\n",
       "  </tbody>\n",
       "</table>\n",
       "</div>"
      ],
      "text/plain": [
       "      gene chrom  length\n",
       "0  TNFAIP3     6   16099\n",
       "1     TCF7     5   37155\n",
       "2    BRCA2    13   84195"
      ]
     },
     "execution_count": 23,
     "metadata": {},
     "output_type": "execute_result"
    }
   ],
   "source": [
    "sorted_df_reindexed"
   ]
  },
  {
   "cell_type": "markdown",
   "id": "c48c9d6f-5842-4772-ae49-e5339d2162b9",
   "metadata": {},
   "source": [
    "### Exercise 2.1.1\n",
    "- Read the data in gapminder_gdp_americas.csv (which should be in the same directory as gapminder_gdp_oceania.csv) into a variable called americas_data and display its summary statistics.\r",
    "- \n",
    "As well as the .read_csv() function for reading data from a file, Pandas provides a .to_csv() function to write DataFrames to files. Applying what you’ve learned about reading from files, write one of your DataFrame to a file called processed.csv. You can use help to get information on how to use .to_csv()."
   ]
  },
  {
   "cell_type": "code",
   "execution_count": 24,
   "id": "13b8b420-7ff6-4286-82bf-fe4c3c229e81",
   "metadata": {},
   "outputs": [],
   "source": [
    "americas_data = pd.read_csv(\"gapminder_gdp_americas.csv\")"
   ]
  },
  {
   "cell_type": "code",
   "execution_count": 27,
   "id": "bc3782bb-0c80-4a9b-a11d-2521115f8fd3",
   "metadata": {},
   "outputs": [
    {
     "data": {
      "text/html": [
       "<div>\n",
       "<style scoped>\n",
       "    .dataframe tbody tr th:only-of-type {\n",
       "        vertical-align: middle;\n",
       "    }\n",
       "\n",
       "    .dataframe tbody tr th {\n",
       "        vertical-align: top;\n",
       "    }\n",
       "\n",
       "    .dataframe thead th {\n",
       "        text-align: right;\n",
       "    }\n",
       "</style>\n",
       "<table border=\"1\" class=\"dataframe\">\n",
       "  <thead>\n",
       "    <tr style=\"text-align: right;\">\n",
       "      <th></th>\n",
       "      <th>gdpPercap_1952</th>\n",
       "      <th>gdpPercap_1957</th>\n",
       "      <th>gdpPercap_1962</th>\n",
       "      <th>gdpPercap_1967</th>\n",
       "      <th>gdpPercap_1972</th>\n",
       "      <th>gdpPercap_1977</th>\n",
       "      <th>gdpPercap_1982</th>\n",
       "      <th>gdpPercap_1987</th>\n",
       "      <th>gdpPercap_1992</th>\n",
       "      <th>gdpPercap_1997</th>\n",
       "      <th>gdpPercap_2002</th>\n",
       "      <th>gdpPercap_2007</th>\n",
       "    </tr>\n",
       "  </thead>\n",
       "  <tbody>\n",
       "    <tr>\n",
       "      <th>count</th>\n",
       "      <td>25.000000</td>\n",
       "      <td>25.000000</td>\n",
       "      <td>25.000000</td>\n",
       "      <td>25.000000</td>\n",
       "      <td>25.000000</td>\n",
       "      <td>25.000000</td>\n",
       "      <td>25.000000</td>\n",
       "      <td>25.000000</td>\n",
       "      <td>25.000000</td>\n",
       "      <td>25.000000</td>\n",
       "      <td>25.000000</td>\n",
       "      <td>25.000000</td>\n",
       "    </tr>\n",
       "    <tr>\n",
       "      <th>mean</th>\n",
       "      <td>4079.062552</td>\n",
       "      <td>4616.043733</td>\n",
       "      <td>4901.541870</td>\n",
       "      <td>5668.253496</td>\n",
       "      <td>6491.334139</td>\n",
       "      <td>7352.007126</td>\n",
       "      <td>7506.737088</td>\n",
       "      <td>7793.400261</td>\n",
       "      <td>8044.934406</td>\n",
       "      <td>8889.300863</td>\n",
       "      <td>9287.677107</td>\n",
       "      <td>11003.031625</td>\n",
       "    </tr>\n",
       "    <tr>\n",
       "      <th>std</th>\n",
       "      <td>3001.727522</td>\n",
       "      <td>3312.381083</td>\n",
       "      <td>3421.740569</td>\n",
       "      <td>4160.885560</td>\n",
       "      <td>4754.404329</td>\n",
       "      <td>5355.602518</td>\n",
       "      <td>5530.490471</td>\n",
       "      <td>6665.039509</td>\n",
       "      <td>7047.089191</td>\n",
       "      <td>7874.225145</td>\n",
       "      <td>8895.817785</td>\n",
       "      <td>9713.209302</td>\n",
       "    </tr>\n",
       "    <tr>\n",
       "      <th>min</th>\n",
       "      <td>1397.717137</td>\n",
       "      <td>1544.402995</td>\n",
       "      <td>1662.137359</td>\n",
       "      <td>1452.057666</td>\n",
       "      <td>1654.456946</td>\n",
       "      <td>1874.298931</td>\n",
       "      <td>2011.159549</td>\n",
       "      <td>1823.015995</td>\n",
       "      <td>1456.309517</td>\n",
       "      <td>1341.726931</td>\n",
       "      <td>1270.364932</td>\n",
       "      <td>1201.637154</td>\n",
       "    </tr>\n",
       "    <tr>\n",
       "      <th>25%</th>\n",
       "      <td>2428.237769</td>\n",
       "      <td>2487.365989</td>\n",
       "      <td>2750.364446</td>\n",
       "      <td>3242.531147</td>\n",
       "      <td>4031.408271</td>\n",
       "      <td>4756.763836</td>\n",
       "      <td>4258.503604</td>\n",
       "      <td>4140.442097</td>\n",
       "      <td>4439.450840</td>\n",
       "      <td>4684.313807</td>\n",
       "      <td>4858.347495</td>\n",
       "      <td>5728.353514</td>\n",
       "    </tr>\n",
       "    <tr>\n",
       "      <th>50%</th>\n",
       "      <td>3048.302900</td>\n",
       "      <td>3780.546651</td>\n",
       "      <td>4086.114078</td>\n",
       "      <td>4643.393534</td>\n",
       "      <td>5305.445256</td>\n",
       "      <td>6281.290855</td>\n",
       "      <td>6434.501797</td>\n",
       "      <td>6360.943444</td>\n",
       "      <td>6618.743050</td>\n",
       "      <td>7113.692252</td>\n",
       "      <td>6994.774861</td>\n",
       "      <td>8948.102923</td>\n",
       "    </tr>\n",
       "    <tr>\n",
       "      <th>75%</th>\n",
       "      <td>3939.978789</td>\n",
       "      <td>4756.525781</td>\n",
       "      <td>5180.755910</td>\n",
       "      <td>5788.093330</td>\n",
       "      <td>6809.406690</td>\n",
       "      <td>7674.929108</td>\n",
       "      <td>8997.897412</td>\n",
       "      <td>7807.095818</td>\n",
       "      <td>8137.004775</td>\n",
       "      <td>9767.297530</td>\n",
       "      <td>8797.640716</td>\n",
       "      <td>11977.574960</td>\n",
       "    </tr>\n",
       "    <tr>\n",
       "      <th>max</th>\n",
       "      <td>13990.482080</td>\n",
       "      <td>14847.127120</td>\n",
       "      <td>16173.145860</td>\n",
       "      <td>19530.365570</td>\n",
       "      <td>21806.035940</td>\n",
       "      <td>24072.632130</td>\n",
       "      <td>25009.559140</td>\n",
       "      <td>29884.350410</td>\n",
       "      <td>32003.932240</td>\n",
       "      <td>35767.433030</td>\n",
       "      <td>39097.099550</td>\n",
       "      <td>42951.653090</td>\n",
       "    </tr>\n",
       "  </tbody>\n",
       "</table>\n",
       "</div>"
      ],
      "text/plain": [
       "       gdpPercap_1952  gdpPercap_1957  gdpPercap_1962  gdpPercap_1967  \\\n",
       "count       25.000000       25.000000       25.000000       25.000000   \n",
       "mean      4079.062552     4616.043733     4901.541870     5668.253496   \n",
       "std       3001.727522     3312.381083     3421.740569     4160.885560   \n",
       "min       1397.717137     1544.402995     1662.137359     1452.057666   \n",
       "25%       2428.237769     2487.365989     2750.364446     3242.531147   \n",
       "50%       3048.302900     3780.546651     4086.114078     4643.393534   \n",
       "75%       3939.978789     4756.525781     5180.755910     5788.093330   \n",
       "max      13990.482080    14847.127120    16173.145860    19530.365570   \n",
       "\n",
       "       gdpPercap_1972  gdpPercap_1977  gdpPercap_1982  gdpPercap_1987  \\\n",
       "count       25.000000       25.000000       25.000000       25.000000   \n",
       "mean      6491.334139     7352.007126     7506.737088     7793.400261   \n",
       "std       4754.404329     5355.602518     5530.490471     6665.039509   \n",
       "min       1654.456946     1874.298931     2011.159549     1823.015995   \n",
       "25%       4031.408271     4756.763836     4258.503604     4140.442097   \n",
       "50%       5305.445256     6281.290855     6434.501797     6360.943444   \n",
       "75%       6809.406690     7674.929108     8997.897412     7807.095818   \n",
       "max      21806.035940    24072.632130    25009.559140    29884.350410   \n",
       "\n",
       "       gdpPercap_1992  gdpPercap_1997  gdpPercap_2002  gdpPercap_2007  \n",
       "count       25.000000       25.000000       25.000000       25.000000  \n",
       "mean      8044.934406     8889.300863     9287.677107    11003.031625  \n",
       "std       7047.089191     7874.225145     8895.817785     9713.209302  \n",
       "min       1456.309517     1341.726931     1270.364932     1201.637154  \n",
       "25%       4439.450840     4684.313807     4858.347495     5728.353514  \n",
       "50%       6618.743050     7113.692252     6994.774861     8948.102923  \n",
       "75%       8137.004775     9767.297530     8797.640716    11977.574960  \n",
       "max      32003.932240    35767.433030    39097.099550    42951.653090  "
      ]
     },
     "execution_count": 27,
     "metadata": {},
     "output_type": "execute_result"
    }
   ],
   "source": [
    "##summary statistics\n",
    "americas_data.describe()"
   ]
  },
  {
   "cell_type": "code",
   "execution_count": 28,
   "id": "c827b5fe-5b41-42a9-b318-87b6f6d9d7df",
   "metadata": {},
   "outputs": [],
   "source": [
    "#writing to csv\n",
    "sorted_df_reindexed.to_csv(\"processed_data.csv\")"
   ]
  },
  {
   "cell_type": "markdown",
   "id": "2e79c12a-d1e2-46c1-aa13-ea501d9832ae",
   "metadata": {},
   "source": [
    "### Manipulating data with Pandas (live coding session)"
   ]
  },
  {
   "cell_type": "markdown",
   "id": "639107a4-b608-42f1-830b-c2f4e221cac9",
   "metadata": {},
   "source": [
    "##### data file: GRCm38.gff3"
   ]
  },
  {
   "cell_type": "code",
   "execution_count": 30,
   "id": "58bccf7f-a229-4f03-8e7b-9c8e09591095",
   "metadata": {},
   "outputs": [
    {
     "name": "stdout",
     "output_type": "stream",
     "text": [
      "seqid\tsource\ttype\tstart\tend\tscore\tstrand\tphase\tattributes\tgbid\n",
      "NC_000073.6\tGnomon\tCDS\t49420174\t49420340\t.\t+\t1\tID=cds30916;Parent=rna43633;Dbxref=GeneID:78286,Genbank:XP_006541352.1,MGI:MGI:2183691;Name=XP_006541352.1;gbkey=CDS;gene=Nav2;product=neuron navigator 2 isoform X2;protein_id=XP_006541352.1\tXP_006541352.1\n",
      "NC_000067.6\tGnomon\tCDS\t64607740\t64608137\t.\t-\t2\tID=cds1286;Parent=rna1815;Dbxref=GeneID:67099,Genbank:XP_006496267.1,MGI:MGI:1914349;Name=XP_006496267.1;gbkey=CDS;gene=Mettl21a;product=protein N-lysine methyltransferase METTL21A isoform X1;protein_id=XP_006496267.1\tXP_006496267.1\n"
     ]
    }
   ],
   "source": [
    "!head -3 GRCm38.gff3"
   ]
  },
  {
   "cell_type": "code",
   "execution_count": 31,
   "id": "9d45d5c7-fcae-4cf0-941e-3d9ff82d03eb",
   "metadata": {},
   "outputs": [],
   "source": [
    "mouse_data = pd.read_csv('GRCm38.gff3',sep = '\\t')"
   ]
  },
  {
   "cell_type": "code",
   "execution_count": 32,
   "id": "d37ec963-5f36-4db2-a84b-dbd1f846b0c1",
   "metadata": {},
   "outputs": [
    {
     "data": {
      "text/html": [
       "<div>\n",
       "<style scoped>\n",
       "    .dataframe tbody tr th:only-of-type {\n",
       "        vertical-align: middle;\n",
       "    }\n",
       "\n",
       "    .dataframe tbody tr th {\n",
       "        vertical-align: top;\n",
       "    }\n",
       "\n",
       "    .dataframe thead th {\n",
       "        text-align: right;\n",
       "    }\n",
       "</style>\n",
       "<table border=\"1\" class=\"dataframe\">\n",
       "  <thead>\n",
       "    <tr style=\"text-align: right;\">\n",
       "      <th></th>\n",
       "      <th>seqid</th>\n",
       "      <th>source</th>\n",
       "      <th>type</th>\n",
       "      <th>start</th>\n",
       "      <th>end</th>\n",
       "      <th>score</th>\n",
       "      <th>strand</th>\n",
       "      <th>phase</th>\n",
       "      <th>attributes</th>\n",
       "      <th>gbid</th>\n",
       "    </tr>\n",
       "  </thead>\n",
       "  <tbody>\n",
       "    <tr>\n",
       "      <th>0</th>\n",
       "      <td>NC_000073.6</td>\n",
       "      <td>Gnomon</td>\n",
       "      <td>CDS</td>\n",
       "      <td>49420174</td>\n",
       "      <td>49420340</td>\n",
       "      <td>.</td>\n",
       "      <td>+</td>\n",
       "      <td>1</td>\n",
       "      <td>ID=cds30916;Parent=rna43633;Dbxref=GeneID:7828...</td>\n",
       "      <td>XP_006541352.1</td>\n",
       "    </tr>\n",
       "    <tr>\n",
       "      <th>1</th>\n",
       "      <td>NC_000067.6</td>\n",
       "      <td>Gnomon</td>\n",
       "      <td>CDS</td>\n",
       "      <td>64607740</td>\n",
       "      <td>64608137</td>\n",
       "      <td>.</td>\n",
       "      <td>-</td>\n",
       "      <td>2</td>\n",
       "      <td>ID=cds1286;Parent=rna1815;Dbxref=GeneID:67099,...</td>\n",
       "      <td>XP_006496267.1</td>\n",
       "    </tr>\n",
       "    <tr>\n",
       "      <th>2</th>\n",
       "      <td>NC_000071.6</td>\n",
       "      <td>BestRefSeq</td>\n",
       "      <td>exon</td>\n",
       "      <td>24544129</td>\n",
       "      <td>24544373</td>\n",
       "      <td>.</td>\n",
       "      <td>-</td>\n",
       "      <td>.</td>\n",
       "      <td>ID=id325971;Parent=rna28488;Dbxref=GeneID:2310...</td>\n",
       "      <td>NM_177676.6</td>\n",
       "    </tr>\n",
       "    <tr>\n",
       "      <th>3</th>\n",
       "      <td>NC_000074.6</td>\n",
       "      <td>Gnomon</td>\n",
       "      <td>exon</td>\n",
       "      <td>71655663</td>\n",
       "      <td>71655741</td>\n",
       "      <td>.</td>\n",
       "      <td>-</td>\n",
       "      <td>.</td>\n",
       "      <td>ID=id568467;Parent=rna50916;Dbxref=GeneID:3820...</td>\n",
       "      <td>XM_017312883.1</td>\n",
       "    </tr>\n",
       "    <tr>\n",
       "      <th>4</th>\n",
       "      <td>NC_000068.7</td>\n",
       "      <td>Gnomon</td>\n",
       "      <td>CDS</td>\n",
       "      <td>135932249</td>\n",
       "      <td>135932302</td>\n",
       "      <td>.</td>\n",
       "      <td>+</td>\n",
       "      <td>1</td>\n",
       "      <td>ID=cds9263;Parent=rna13273;Dbxref=GeneID:18798...</td>\n",
       "      <td>XP_006499009.1</td>\n",
       "    </tr>\n",
       "  </tbody>\n",
       "</table>\n",
       "</div>"
      ],
      "text/plain": [
       "         seqid      source  type      start        end score strand phase  \\\n",
       "0  NC_000073.6      Gnomon   CDS   49420174   49420340     .      +     1   \n",
       "1  NC_000067.6      Gnomon   CDS   64607740   64608137     .      -     2   \n",
       "2  NC_000071.6  BestRefSeq  exon   24544129   24544373     .      -     .   \n",
       "3  NC_000074.6      Gnomon  exon   71655663   71655741     .      -     .   \n",
       "4  NC_000068.7      Gnomon   CDS  135932249  135932302     .      +     1   \n",
       "\n",
       "                                          attributes            gbid  \n",
       "0  ID=cds30916;Parent=rna43633;Dbxref=GeneID:7828...  XP_006541352.1  \n",
       "1  ID=cds1286;Parent=rna1815;Dbxref=GeneID:67099,...  XP_006496267.1  \n",
       "2  ID=id325971;Parent=rna28488;Dbxref=GeneID:2310...     NM_177676.6  \n",
       "3  ID=id568467;Parent=rna50916;Dbxref=GeneID:3820...  XM_017312883.1  \n",
       "4  ID=cds9263;Parent=rna13273;Dbxref=GeneID:18798...  XP_006499009.1  "
      ]
     },
     "execution_count": 32,
     "metadata": {},
     "output_type": "execute_result"
    }
   ],
   "source": [
    "mouse_data.head()"
   ]
  },
  {
   "cell_type": "code",
   "execution_count": 33,
   "id": "f9634ea8-c1ce-4df7-875f-95d501856ec2",
   "metadata": {},
   "outputs": [
    {
     "name": "stdout",
     "output_type": "stream",
     "text": [
      "<class 'pandas.core.frame.DataFrame'>\n",
      "RangeIndex: 29998 entries, 0 to 29997\n",
      "Data columns (total 10 columns):\n",
      " #   Column      Non-Null Count  Dtype \n",
      "---  ------      --------------  ----- \n",
      " 0   seqid       29998 non-null  object\n",
      " 1   source      29998 non-null  object\n",
      " 2   type        29998 non-null  object\n",
      " 3   start       29998 non-null  int64 \n",
      " 4   end         29998 non-null  int64 \n",
      " 5   score       29998 non-null  object\n",
      " 6   strand      29998 non-null  object\n",
      " 7   phase       29998 non-null  object\n",
      " 8   attributes  29998 non-null  object\n",
      " 9   gbid        28741 non-null  object\n",
      "dtypes: int64(2), object(8)\n",
      "memory usage: 2.3+ MB\n"
     ]
    }
   ],
   "source": [
    "mouse_data.info()"
   ]
  },
  {
   "cell_type": "code",
   "execution_count": 34,
   "id": "72768438-f4c0-4f04-b6fb-30f00fbd3d6d",
   "metadata": {},
   "outputs": [
    {
     "data": {
      "text/html": [
       "<div>\n",
       "<style scoped>\n",
       "    .dataframe tbody tr th:only-of-type {\n",
       "        vertical-align: middle;\n",
       "    }\n",
       "\n",
       "    .dataframe tbody tr th {\n",
       "        vertical-align: top;\n",
       "    }\n",
       "\n",
       "    .dataframe thead th {\n",
       "        text-align: right;\n",
       "    }\n",
       "</style>\n",
       "<table border=\"1\" class=\"dataframe\">\n",
       "  <thead>\n",
       "    <tr style=\"text-align: right;\">\n",
       "      <th></th>\n",
       "      <th>start</th>\n",
       "      <th>end</th>\n",
       "    </tr>\n",
       "  </thead>\n",
       "  <tbody>\n",
       "    <tr>\n",
       "      <th>count</th>\n",
       "      <td>2.999800e+04</td>\n",
       "      <td>2.999800e+04</td>\n",
       "    </tr>\n",
       "    <tr>\n",
       "      <th>mean</th>\n",
       "      <td>7.446804e+07</td>\n",
       "      <td>7.448115e+07</td>\n",
       "    </tr>\n",
       "    <tr>\n",
       "      <th>std</th>\n",
       "      <td>4.490600e+07</td>\n",
       "      <td>4.490355e+07</td>\n",
       "    </tr>\n",
       "    <tr>\n",
       "      <th>min</th>\n",
       "      <td>1.000000e+00</td>\n",
       "      <td>2.010000e+03</td>\n",
       "    </tr>\n",
       "    <tr>\n",
       "      <th>25%</th>\n",
       "      <td>3.497905e+07</td>\n",
       "      <td>3.499334e+07</td>\n",
       "    </tr>\n",
       "    <tr>\n",
       "      <th>50%</th>\n",
       "      <td>7.334594e+07</td>\n",
       "      <td>7.336266e+07</td>\n",
       "    </tr>\n",
       "    <tr>\n",
       "      <th>75%</th>\n",
       "      <td>1.088366e+08</td>\n",
       "      <td>1.088385e+08</td>\n",
       "    </tr>\n",
       "    <tr>\n",
       "      <th>max</th>\n",
       "      <td>1.951710e+08</td>\n",
       "      <td>1.951712e+08</td>\n",
       "    </tr>\n",
       "  </tbody>\n",
       "</table>\n",
       "</div>"
      ],
      "text/plain": [
       "              start           end\n",
       "count  2.999800e+04  2.999800e+04\n",
       "mean   7.446804e+07  7.448115e+07\n",
       "std    4.490600e+07  4.490355e+07\n",
       "min    1.000000e+00  2.010000e+03\n",
       "25%    3.497905e+07  3.499334e+07\n",
       "50%    7.334594e+07  7.336266e+07\n",
       "75%    1.088366e+08  1.088385e+08\n",
       "max    1.951710e+08  1.951712e+08"
      ]
     },
     "execution_count": 34,
     "metadata": {},
     "output_type": "execute_result"
    }
   ],
   "source": [
    "mouse_data.describe()"
   ]
  },
  {
   "cell_type": "code",
   "execution_count": 35,
   "id": "168460f7-cb56-4335-9759-eabd4ece0bc1",
   "metadata": {},
   "outputs": [],
   "source": [
    "mouse_data_type = mouse_data.iloc[:,[2]]"
   ]
  },
  {
   "cell_type": "code",
   "execution_count": 36,
   "id": "f89135ce-fe59-40db-bf84-005d6890e0ad",
   "metadata": {},
   "outputs": [
    {
     "data": {
      "text/html": [
       "<div>\n",
       "<style scoped>\n",
       "    .dataframe tbody tr th:only-of-type {\n",
       "        vertical-align: middle;\n",
       "    }\n",
       "\n",
       "    .dataframe tbody tr th {\n",
       "        vertical-align: top;\n",
       "    }\n",
       "\n",
       "    .dataframe thead th {\n",
       "        text-align: right;\n",
       "    }\n",
       "</style>\n",
       "<table border=\"1\" class=\"dataframe\">\n",
       "  <thead>\n",
       "    <tr style=\"text-align: right;\">\n",
       "      <th></th>\n",
       "      <th>type</th>\n",
       "    </tr>\n",
       "  </thead>\n",
       "  <tbody>\n",
       "    <tr>\n",
       "      <th>0</th>\n",
       "      <td>CDS</td>\n",
       "    </tr>\n",
       "    <tr>\n",
       "      <th>1</th>\n",
       "      <td>CDS</td>\n",
       "    </tr>\n",
       "    <tr>\n",
       "      <th>2</th>\n",
       "      <td>exon</td>\n",
       "    </tr>\n",
       "    <tr>\n",
       "      <th>3</th>\n",
       "      <td>exon</td>\n",
       "    </tr>\n",
       "    <tr>\n",
       "      <th>4</th>\n",
       "      <td>CDS</td>\n",
       "    </tr>\n",
       "    <tr>\n",
       "      <th>...</th>\n",
       "      <td>...</td>\n",
       "    </tr>\n",
       "    <tr>\n",
       "      <th>29993</th>\n",
       "      <td>CDS</td>\n",
       "    </tr>\n",
       "    <tr>\n",
       "      <th>29994</th>\n",
       "      <td>CDS</td>\n",
       "    </tr>\n",
       "    <tr>\n",
       "      <th>29995</th>\n",
       "      <td>exon</td>\n",
       "    </tr>\n",
       "    <tr>\n",
       "      <th>29996</th>\n",
       "      <td>exon</td>\n",
       "    </tr>\n",
       "    <tr>\n",
       "      <th>29997</th>\n",
       "      <td>exon</td>\n",
       "    </tr>\n",
       "  </tbody>\n",
       "</table>\n",
       "<p>29998 rows × 1 columns</p>\n",
       "</div>"
      ],
      "text/plain": [
       "       type\n",
       "0       CDS\n",
       "1       CDS\n",
       "2      exon\n",
       "3      exon\n",
       "4       CDS\n",
       "...     ...\n",
       "29993   CDS\n",
       "29994   CDS\n",
       "29995  exon\n",
       "29996  exon\n",
       "29997  exon\n",
       "\n",
       "[29998 rows x 1 columns]"
      ]
     },
     "execution_count": 36,
     "metadata": {},
     "output_type": "execute_result"
    }
   ],
   "source": [
    "mouse_data_type "
   ]
  },
  {
   "cell_type": "code",
   "execution_count": 37,
   "id": "7ff7c794-7991-4d41-bdae-da9479b6bf5c",
   "metadata": {},
   "outputs": [
    {
     "data": {
      "text/plain": [
       "pandas.core.frame.DataFrame"
      ]
     },
     "execution_count": 37,
     "metadata": {},
     "output_type": "execute_result"
    }
   ],
   "source": [
    "type(mouse_data_type)"
   ]
  },
  {
   "cell_type": "code",
   "execution_count": 38,
   "id": "638f2a35-5ca1-4d6f-90a4-dfeccf06cb0c",
   "metadata": {},
   "outputs": [],
   "source": [
    "mouse_data_type = mouse_data.iloc[:,2:3]"
   ]
  },
  {
   "cell_type": "code",
   "execution_count": 39,
   "id": "7a291779-031f-4049-b22b-2e7314648691",
   "metadata": {},
   "outputs": [
    {
     "data": {
      "text/html": [
       "<div>\n",
       "<style scoped>\n",
       "    .dataframe tbody tr th:only-of-type {\n",
       "        vertical-align: middle;\n",
       "    }\n",
       "\n",
       "    .dataframe tbody tr th {\n",
       "        vertical-align: top;\n",
       "    }\n",
       "\n",
       "    .dataframe thead th {\n",
       "        text-align: right;\n",
       "    }\n",
       "</style>\n",
       "<table border=\"1\" class=\"dataframe\">\n",
       "  <thead>\n",
       "    <tr style=\"text-align: right;\">\n",
       "      <th></th>\n",
       "      <th>type</th>\n",
       "    </tr>\n",
       "  </thead>\n",
       "  <tbody>\n",
       "    <tr>\n",
       "      <th>0</th>\n",
       "      <td>CDS</td>\n",
       "    </tr>\n",
       "    <tr>\n",
       "      <th>1</th>\n",
       "      <td>CDS</td>\n",
       "    </tr>\n",
       "    <tr>\n",
       "      <th>2</th>\n",
       "      <td>exon</td>\n",
       "    </tr>\n",
       "    <tr>\n",
       "      <th>3</th>\n",
       "      <td>exon</td>\n",
       "    </tr>\n",
       "    <tr>\n",
       "      <th>4</th>\n",
       "      <td>CDS</td>\n",
       "    </tr>\n",
       "    <tr>\n",
       "      <th>...</th>\n",
       "      <td>...</td>\n",
       "    </tr>\n",
       "    <tr>\n",
       "      <th>29993</th>\n",
       "      <td>CDS</td>\n",
       "    </tr>\n",
       "    <tr>\n",
       "      <th>29994</th>\n",
       "      <td>CDS</td>\n",
       "    </tr>\n",
       "    <tr>\n",
       "      <th>29995</th>\n",
       "      <td>exon</td>\n",
       "    </tr>\n",
       "    <tr>\n",
       "      <th>29996</th>\n",
       "      <td>exon</td>\n",
       "    </tr>\n",
       "    <tr>\n",
       "      <th>29997</th>\n",
       "      <td>exon</td>\n",
       "    </tr>\n",
       "  </tbody>\n",
       "</table>\n",
       "<p>29998 rows × 1 columns</p>\n",
       "</div>"
      ],
      "text/plain": [
       "       type\n",
       "0       CDS\n",
       "1       CDS\n",
       "2      exon\n",
       "3      exon\n",
       "4       CDS\n",
       "...     ...\n",
       "29993   CDS\n",
       "29994   CDS\n",
       "29995  exon\n",
       "29996  exon\n",
       "29997  exon\n",
       "\n",
       "[29998 rows x 1 columns]"
      ]
     },
     "execution_count": 39,
     "metadata": {},
     "output_type": "execute_result"
    }
   ],
   "source": [
    "mouse_data_type"
   ]
  },
  {
   "cell_type": "code",
   "execution_count": 40,
   "id": "121cef2e-9de4-4617-8134-970936fadf3a",
   "metadata": {},
   "outputs": [
    {
     "data": {
      "text/plain": [
       "array(['CDS', 'exon', 'mRNA', 'gene', 'cDNA_match', 'ncRNA', 'match',\n",
       "       'transcript', 'region', 'V_gene_segment', 'primary_transcript',\n",
       "       'tRNA', 'J_gene_segment'], dtype=object)"
      ]
     },
     "execution_count": 40,
     "metadata": {},
     "output_type": "execute_result"
    }
   ],
   "source": [
    "mouse_data['type'].unique()"
   ]
  },
  {
   "cell_type": "code",
   "execution_count": 41,
   "id": "1c3a006e-22f6-4d15-b140-f3b2af4568e6",
   "metadata": {},
   "outputs": [
    {
     "name": "stdout",
     "output_type": "stream",
     "text": [
      "type\n",
      "exon                  15604\n",
      "CDS                   12177\n",
      "mRNA                    991\n",
      "gene                    619\n",
      "ncRNA                   271\n",
      "transcript              117\n",
      "cDNA_match              105\n",
      "match                    82\n",
      "primary_transcript       14\n",
      "V_gene_segment            9\n",
      "tRNA                      4\n",
      "region                    3\n",
      "J_gene_segment            2\n",
      "Name: count, dtype: int64\n"
     ]
    }
   ],
   "source": [
    "\n",
    "feature_counts = mouse_data['type'].value_counts()\n",
    "print(feature_counts)"
   ]
  },
  {
   "cell_type": "code",
   "execution_count": 42,
   "id": "a9f0c805-122b-4920-9eaa-31a162015a3f",
   "metadata": {},
   "outputs": [
    {
     "data": {
      "text/plain": [
       "<Axes: xlabel='type'>"
      ]
     },
     "execution_count": 42,
     "metadata": {},
     "output_type": "execute_result"
    },
    {
     "data": {
      "image/png": "[encoded data removed]",
      "text/plain": [
       "<Figure size 640x480 with 1 Axes>"
      ]
     },
     "metadata": {},
     "output_type": "display_data"
    }
   ],
   "source": [
    "%matplotlib inline\n",
    "feature_counts.plot(kind='bar')"
   ]
  },
  {
   "cell_type": "code",
   "execution_count": 43,
   "id": "3900472a-f2e8-4a6a-b5ae-07644d194f85",
   "metadata": {},
   "outputs": [
    {
     "data": {
      "text/html": [
       "<div>\n",
       "<style scoped>\n",
       "    .dataframe tbody tr th:only-of-type {\n",
       "        vertical-align: middle;\n",
       "    }\n",
       "\n",
       "    .dataframe tbody tr th {\n",
       "        vertical-align: top;\n",
       "    }\n",
       "\n",
       "    .dataframe thead th {\n",
       "        text-align: right;\n",
       "    }\n",
       "</style>\n",
       "<table border=\"1\" class=\"dataframe\">\n",
       "  <thead>\n",
       "    <tr style=\"text-align: right;\">\n",
       "      <th></th>\n",
       "      <th>seqid</th>\n",
       "      <th>source</th>\n",
       "      <th>type</th>\n",
       "      <th>start</th>\n",
       "      <th>end</th>\n",
       "      <th>score</th>\n",
       "      <th>strand</th>\n",
       "      <th>phase</th>\n",
       "      <th>attributes</th>\n",
       "      <th>gbid</th>\n",
       "      <th>len</th>\n",
       "    </tr>\n",
       "  </thead>\n",
       "  <tbody>\n",
       "    <tr>\n",
       "      <th>0</th>\n",
       "      <td>NC_000073.6</td>\n",
       "      <td>Gnomon</td>\n",
       "      <td>CDS</td>\n",
       "      <td>49420174</td>\n",
       "      <td>49420340</td>\n",
       "      <td>.</td>\n",
       "      <td>+</td>\n",
       "      <td>1</td>\n",
       "      <td>ID=cds30916;Parent=rna43633;Dbxref=GeneID:7828...</td>\n",
       "      <td>XP_006541352.1</td>\n",
       "      <td>167</td>\n",
       "    </tr>\n",
       "    <tr>\n",
       "      <th>1</th>\n",
       "      <td>NC_000067.6</td>\n",
       "      <td>Gnomon</td>\n",
       "      <td>CDS</td>\n",
       "      <td>64607740</td>\n",
       "      <td>64608137</td>\n",
       "      <td>.</td>\n",
       "      <td>-</td>\n",
       "      <td>2</td>\n",
       "      <td>ID=cds1286;Parent=rna1815;Dbxref=GeneID:67099,...</td>\n",
       "      <td>XP_006496267.1</td>\n",
       "      <td>398</td>\n",
       "    </tr>\n",
       "    <tr>\n",
       "      <th>2</th>\n",
       "      <td>NC_000071.6</td>\n",
       "      <td>BestRefSeq</td>\n",
       "      <td>exon</td>\n",
       "      <td>24544129</td>\n",
       "      <td>24544373</td>\n",
       "      <td>.</td>\n",
       "      <td>-</td>\n",
       "      <td>.</td>\n",
       "      <td>ID=id325971;Parent=rna28488;Dbxref=GeneID:2310...</td>\n",
       "      <td>NM_177676.6</td>\n",
       "      <td>245</td>\n",
       "    </tr>\n",
       "    <tr>\n",
       "      <th>3</th>\n",
       "      <td>NC_000074.6</td>\n",
       "      <td>Gnomon</td>\n",
       "      <td>exon</td>\n",
       "      <td>71655663</td>\n",
       "      <td>71655741</td>\n",
       "      <td>.</td>\n",
       "      <td>-</td>\n",
       "      <td>.</td>\n",
       "      <td>ID=id568467;Parent=rna50916;Dbxref=GeneID:3820...</td>\n",
       "      <td>XM_017312883.1</td>\n",
       "      <td>79</td>\n",
       "    </tr>\n",
       "    <tr>\n",
       "      <th>4</th>\n",
       "      <td>NC_000068.7</td>\n",
       "      <td>Gnomon</td>\n",
       "      <td>CDS</td>\n",
       "      <td>135932249</td>\n",
       "      <td>135932302</td>\n",
       "      <td>.</td>\n",
       "      <td>+</td>\n",
       "      <td>1</td>\n",
       "      <td>ID=cds9263;Parent=rna13273;Dbxref=GeneID:18798...</td>\n",
       "      <td>XP_006499009.1</td>\n",
       "      <td>54</td>\n",
       "    </tr>\n",
       "  </tbody>\n",
       "</table>\n",
       "</div>"
      ],
      "text/plain": [
       "         seqid      source  type      start        end score strand phase  \\\n",
       "0  NC_000073.6      Gnomon   CDS   49420174   49420340     .      +     1   \n",
       "1  NC_000067.6      Gnomon   CDS   64607740   64608137     .      -     2   \n",
       "2  NC_000071.6  BestRefSeq  exon   24544129   24544373     .      -     .   \n",
       "3  NC_000074.6      Gnomon  exon   71655663   71655741     .      -     .   \n",
       "4  NC_000068.7      Gnomon   CDS  135932249  135932302     .      +     1   \n",
       "\n",
       "                                          attributes            gbid  len  \n",
       "0  ID=cds30916;Parent=rna43633;Dbxref=GeneID:7828...  XP_006541352.1  167  \n",
       "1  ID=cds1286;Parent=rna1815;Dbxref=GeneID:67099,...  XP_006496267.1  398  \n",
       "2  ID=id325971;Parent=rna28488;Dbxref=GeneID:2310...     NM_177676.6  245  \n",
       "3  ID=id568467;Parent=rna50916;Dbxref=GeneID:3820...  XM_017312883.1   79  \n",
       "4  ID=cds9263;Parent=rna13273;Dbxref=GeneID:18798...  XP_006499009.1   54  "
      ]
     },
     "execution_count": 43,
     "metadata": {},
     "output_type": "execute_result"
    }
   ],
   "source": [
    "mouse_data['len'] = mouse_data.end - mouse_data.start + 1\n",
    "mouse_data.head()"
   ]
  },
  {
   "cell_type": "code",
   "execution_count": 44,
   "id": "cedfe3b9-eb89-41dd-88e3-7d863c6bc646",
   "metadata": {},
   "outputs": [
    {
     "data": {
      "text/html": [
       "<div>\n",
       "<style scoped>\n",
       "    .dataframe tbody tr th:only-of-type {\n",
       "        vertical-align: middle;\n",
       "    }\n",
       "\n",
       "    .dataframe tbody tr th {\n",
       "        vertical-align: top;\n",
       "    }\n",
       "\n",
       "    .dataframe thead th {\n",
       "        text-align: right;\n",
       "    }\n",
       "</style>\n",
       "<table border=\"1\" class=\"dataframe\">\n",
       "  <thead>\n",
       "    <tr style=\"text-align: right;\">\n",
       "      <th></th>\n",
       "      <th>seqid</th>\n",
       "      <th>source</th>\n",
       "      <th>type</th>\n",
       "      <th>start</th>\n",
       "      <th>end</th>\n",
       "      <th>score</th>\n",
       "      <th>strand</th>\n",
       "      <th>phase</th>\n",
       "      <th>attributes</th>\n",
       "      <th>gbid</th>\n",
       "      <th>len</th>\n",
       "    </tr>\n",
       "  </thead>\n",
       "  <tbody>\n",
       "    <tr>\n",
       "      <th>2</th>\n",
       "      <td>NC_000071.6</td>\n",
       "      <td>BestRefSeq</td>\n",
       "      <td>exon</td>\n",
       "      <td>24544129</td>\n",
       "      <td>24544373</td>\n",
       "      <td>.</td>\n",
       "      <td>-</td>\n",
       "      <td>.</td>\n",
       "      <td>ID=id325971;Parent=rna28488;Dbxref=GeneID:2310...</td>\n",
       "      <td>NM_177676.6</td>\n",
       "      <td>245</td>\n",
       "    </tr>\n",
       "    <tr>\n",
       "      <th>3</th>\n",
       "      <td>NC_000074.6</td>\n",
       "      <td>Gnomon</td>\n",
       "      <td>exon</td>\n",
       "      <td>71655663</td>\n",
       "      <td>71655741</td>\n",
       "      <td>.</td>\n",
       "      <td>-</td>\n",
       "      <td>.</td>\n",
       "      <td>ID=id568467;Parent=rna50916;Dbxref=GeneID:3820...</td>\n",
       "      <td>XM_017312883.1</td>\n",
       "      <td>79</td>\n",
       "    </tr>\n",
       "    <tr>\n",
       "      <th>7</th>\n",
       "      <td>NC_000073.6</td>\n",
       "      <td>Gnomon</td>\n",
       "      <td>exon</td>\n",
       "      <td>118329486</td>\n",
       "      <td>118329612</td>\n",
       "      <td>.</td>\n",
       "      <td>+</td>\n",
       "      <td>.</td>\n",
       "      <td>ID=id520282;Parent=rna46416;Dbxref=GeneID:1026...</td>\n",
       "      <td>XR_378454.2</td>\n",
       "      <td>127</td>\n",
       "    </tr>\n",
       "    <tr>\n",
       "      <th>8</th>\n",
       "      <td>NC_000076.6</td>\n",
       "      <td>Gnomon</td>\n",
       "      <td>exon</td>\n",
       "      <td>5175722</td>\n",
       "      <td>5175928</td>\n",
       "      <td>.</td>\n",
       "      <td>-</td>\n",
       "      <td>.</td>\n",
       "      <td>ID=id673061;Parent=rna60010;Dbxref=GeneID:6400...</td>\n",
       "      <td>XM_017314047.1</td>\n",
       "      <td>207</td>\n",
       "    </tr>\n",
       "    <tr>\n",
       "      <th>9</th>\n",
       "      <td>NC_000083.6</td>\n",
       "      <td>Gnomon</td>\n",
       "      <td>exon</td>\n",
       "      <td>24585923</td>\n",
       "      <td>24586066</td>\n",
       "      <td>.</td>\n",
       "      <td>+</td>\n",
       "      <td>.</td>\n",
       "      <td>ID=id1054336;Parent=rna94586;Dbxref=GeneID:187...</td>\n",
       "      <td>XM_017317334.1</td>\n",
       "      <td>144</td>\n",
       "    </tr>\n",
       "  </tbody>\n",
       "</table>\n",
       "</div>"
      ],
      "text/plain": [
       "         seqid      source  type      start        end score strand phase  \\\n",
       "2  NC_000071.6  BestRefSeq  exon   24544129   24544373     .      -     .   \n",
       "3  NC_000074.6      Gnomon  exon   71655663   71655741     .      -     .   \n",
       "7  NC_000073.6      Gnomon  exon  118329486  118329612     .      +     .   \n",
       "8  NC_000076.6      Gnomon  exon    5175722    5175928     .      -     .   \n",
       "9  NC_000083.6      Gnomon  exon   24585923   24586066     .      +     .   \n",
       "\n",
       "                                          attributes            gbid  len  \n",
       "2  ID=id325971;Parent=rna28488;Dbxref=GeneID:2310...     NM_177676.6  245  \n",
       "3  ID=id568467;Parent=rna50916;Dbxref=GeneID:3820...  XM_017312883.1   79  \n",
       "7  ID=id520282;Parent=rna46416;Dbxref=GeneID:1026...     XR_378454.2  127  \n",
       "8  ID=id673061;Parent=rna60010;Dbxref=GeneID:6400...  XM_017314047.1  207  \n",
       "9  ID=id1054336;Parent=rna94586;Dbxref=GeneID:187...  XM_017317334.1  144  "
      ]
     },
     "execution_count": 44,
     "metadata": {},
     "output_type": "execute_result"
    }
   ],
   "source": [
    "mouse_exons = mouse_data[mouse_data.type=='exon']\n",
    "mouse_exons.head()"
   ]
  },
  {
   "cell_type": "code",
   "execution_count": 45,
   "id": "87612627-2f5d-4c68-80d6-dd79a8a26115",
   "metadata": {},
   "outputs": [
    {
     "data": {
      "text/html": [
       "<div>\n",
       "<style scoped>\n",
       "    .dataframe tbody tr th:only-of-type {\n",
       "        vertical-align: middle;\n",
       "    }\n",
       "\n",
       "    .dataframe tbody tr th {\n",
       "        vertical-align: top;\n",
       "    }\n",
       "\n",
       "    .dataframe thead th {\n",
       "        text-align: right;\n",
       "    }\n",
       "</style>\n",
       "<table border=\"1\" class=\"dataframe\">\n",
       "  <thead>\n",
       "    <tr style=\"text-align: right;\">\n",
       "      <th></th>\n",
       "      <th>seqid</th>\n",
       "      <th>source</th>\n",
       "      <th>type</th>\n",
       "      <th>start</th>\n",
       "      <th>end</th>\n",
       "      <th>score</th>\n",
       "      <th>strand</th>\n",
       "      <th>phase</th>\n",
       "      <th>attributes</th>\n",
       "      <th>gbid</th>\n",
       "      <th>len</th>\n",
       "    </tr>\n",
       "  </thead>\n",
       "  <tbody>\n",
       "    <tr>\n",
       "      <th>25</th>\n",
       "      <td>NC_000071.6</td>\n",
       "      <td>Gnomon</td>\n",
       "      <td>exon</td>\n",
       "      <td>52622299</td>\n",
       "      <td>52622981</td>\n",
       "      <td>.</td>\n",
       "      <td>-</td>\n",
       "      <td>.</td>\n",
       "      <td>ID=id341017;Parent=rna29660;Dbxref=GeneID:1026...</td>\n",
       "      <td>XR_376954.1</td>\n",
       "      <td>683</td>\n",
       "    </tr>\n",
       "    <tr>\n",
       "      <th>26</th>\n",
       "      <td>NC_000075.6</td>\n",
       "      <td>Gnomon</td>\n",
       "      <td>exon</td>\n",
       "      <td>49502134</td>\n",
       "      <td>49505563</td>\n",
       "      <td>.</td>\n",
       "      <td>-</td>\n",
       "      <td>.</td>\n",
       "      <td>ID=id621844;Parent=rna55895;Dbxref=GeneID:1796...</td>\n",
       "      <td>XM_006510062.1</td>\n",
       "      <td>3430</td>\n",
       "    </tr>\n",
       "    <tr>\n",
       "      <th>68</th>\n",
       "      <td>NC_000083.6</td>\n",
       "      <td>Gnomon</td>\n",
       "      <td>exon</td>\n",
       "      <td>65637507</td>\n",
       "      <td>65639029</td>\n",
       "      <td>.</td>\n",
       "      <td>-</td>\n",
       "      <td>.</td>\n",
       "      <td>ID=id1085508;Parent=rna97473;Dbxref=GeneID:213...</td>\n",
       "      <td>XM_011246354.2</td>\n",
       "      <td>1523</td>\n",
       "    </tr>\n",
       "    <tr>\n",
       "      <th>90</th>\n",
       "      <td>NC_000067.6</td>\n",
       "      <td>Gnomon</td>\n",
       "      <td>exon</td>\n",
       "      <td>157127821</td>\n",
       "      <td>157128922</td>\n",
       "      <td>.</td>\n",
       "      <td>+</td>\n",
       "      <td>.</td>\n",
       "      <td>ID=id69632;Parent=rna5050;Dbxref=GeneID:102632...</td>\n",
       "      <td>XM_006497076.3</td>\n",
       "      <td>1102</td>\n",
       "    </tr>\n",
       "    <tr>\n",
       "      <th>99</th>\n",
       "      <td>NC_000086.7</td>\n",
       "      <td>BestRefSeq</td>\n",
       "      <td>exon</td>\n",
       "      <td>13846008</td>\n",
       "      <td>13846556</td>\n",
       "      <td>.</td>\n",
       "      <td>-</td>\n",
       "      <td>.</td>\n",
       "      <td>ID=id1164540;Parent=rna104941;Dbxref=GeneID:12...</td>\n",
       "      <td>NM_001284505.1</td>\n",
       "      <td>549</td>\n",
       "    </tr>\n",
       "  </tbody>\n",
       "</table>\n",
       "</div>"
      ],
      "text/plain": [
       "          seqid      source  type      start        end score strand phase  \\\n",
       "25  NC_000071.6      Gnomon  exon   52622299   52622981     .      -     .   \n",
       "26  NC_000075.6      Gnomon  exon   49502134   49505563     .      -     .   \n",
       "68  NC_000083.6      Gnomon  exon   65637507   65639029     .      -     .   \n",
       "90  NC_000067.6      Gnomon  exon  157127821  157128922     .      +     .   \n",
       "99  NC_000086.7  BestRefSeq  exon   13846008   13846556     .      -     .   \n",
       "\n",
       "                                           attributes            gbid   len  \n",
       "25  ID=id341017;Parent=rna29660;Dbxref=GeneID:1026...     XR_376954.1   683  \n",
       "26  ID=id621844;Parent=rna55895;Dbxref=GeneID:1796...  XM_006510062.1  3430  \n",
       "68  ID=id1085508;Parent=rna97473;Dbxref=GeneID:213...  XM_011246354.2  1523  \n",
       "90  ID=id69632;Parent=rna5050;Dbxref=GeneID:102632...  XM_006497076.3  1102  \n",
       "99  ID=id1164540;Parent=rna104941;Dbxref=GeneID:12...  NM_001284505.1   549  "
      ]
     },
     "execution_count": 45,
     "metadata": {},
     "output_type": "execute_result"
    }
   ],
   "source": [
    "long_mouse_exons = mouse_data[(mouse_data.type=='exon') & (mouse_data.len > 500)]\n",
    "long_mouse_exons.head()"
   ]
  },
  {
   "cell_type": "code",
   "execution_count": 46,
   "id": "a5aa3ca8-a046-46cb-a598-85195b804cf5",
   "metadata": {},
   "outputs": [
    {
     "data": {
      "text/plain": [
       "1586"
      ]
     },
     "execution_count": 46,
     "metadata": {},
     "output_type": "execute_result"
    }
   ],
   "source": [
    "len(long_mouse_exons)"
   ]
  },
  {
   "cell_type": "code",
   "execution_count": 48,
   "id": "bfca7874-a24c-493d-97e1-368f6a0a6f2a",
   "metadata": {},
   "outputs": [
    {
     "data": {
      "text/html": [
       "<div>\n",
       "<style scoped>\n",
       "    .dataframe tbody tr th:only-of-type {\n",
       "        vertical-align: middle;\n",
       "    }\n",
       "\n",
       "    .dataframe tbody tr th {\n",
       "        vertical-align: top;\n",
       "    }\n",
       "\n",
       "    .dataframe thead th {\n",
       "        text-align: right;\n",
       "    }\n",
       "</style>\n",
       "<table border=\"1\" class=\"dataframe\">\n",
       "  <thead>\n",
       "    <tr style=\"text-align: right;\">\n",
       "      <th></th>\n",
       "      <th>seqid</th>\n",
       "      <th>source</th>\n",
       "      <th>type</th>\n",
       "      <th>start</th>\n",
       "      <th>end</th>\n",
       "      <th>score</th>\n",
       "      <th>strand</th>\n",
       "      <th>phase</th>\n",
       "      <th>attributes</th>\n",
       "      <th>gbid</th>\n",
       "      <th>len</th>\n",
       "    </tr>\n",
       "  </thead>\n",
       "  <tbody>\n",
       "    <tr>\n",
       "      <th>2</th>\n",
       "      <td>NC_000071.6</td>\n",
       "      <td>BestRefSeq</td>\n",
       "      <td>exon</td>\n",
       "      <td>24544129</td>\n",
       "      <td>24544373</td>\n",
       "      <td>.</td>\n",
       "      <td>-</td>\n",
       "      <td>.</td>\n",
       "      <td>ID=id325971;Parent=rna28488;Dbxref=GeneID:2310...</td>\n",
       "      <td>NM_177676.6</td>\n",
       "      <td>245</td>\n",
       "    </tr>\n",
       "    <tr>\n",
       "      <th>3</th>\n",
       "      <td>NC_000074.6</td>\n",
       "      <td>Gnomon</td>\n",
       "      <td>exon</td>\n",
       "      <td>71655663</td>\n",
       "      <td>71655741</td>\n",
       "      <td>.</td>\n",
       "      <td>-</td>\n",
       "      <td>.</td>\n",
       "      <td>ID=id568467;Parent=rna50916;Dbxref=GeneID:3820...</td>\n",
       "      <td>XM_017312883.1</td>\n",
       "      <td>79</td>\n",
       "    </tr>\n",
       "    <tr>\n",
       "      <th>7</th>\n",
       "      <td>NC_000073.6</td>\n",
       "      <td>Gnomon</td>\n",
       "      <td>exon</td>\n",
       "      <td>118329486</td>\n",
       "      <td>118329612</td>\n",
       "      <td>.</td>\n",
       "      <td>+</td>\n",
       "      <td>.</td>\n",
       "      <td>ID=id520282;Parent=rna46416;Dbxref=GeneID:1026...</td>\n",
       "      <td>XR_378454.2</td>\n",
       "      <td>127</td>\n",
       "    </tr>\n",
       "    <tr>\n",
       "      <th>8</th>\n",
       "      <td>NC_000076.6</td>\n",
       "      <td>Gnomon</td>\n",
       "      <td>exon</td>\n",
       "      <td>5175722</td>\n",
       "      <td>5175928</td>\n",
       "      <td>.</td>\n",
       "      <td>-</td>\n",
       "      <td>.</td>\n",
       "      <td>ID=id673061;Parent=rna60010;Dbxref=GeneID:6400...</td>\n",
       "      <td>XM_017314047.1</td>\n",
       "      <td>207</td>\n",
       "    </tr>\n",
       "    <tr>\n",
       "      <th>9</th>\n",
       "      <td>NC_000083.6</td>\n",
       "      <td>Gnomon</td>\n",
       "      <td>exon</td>\n",
       "      <td>24585923</td>\n",
       "      <td>24586066</td>\n",
       "      <td>.</td>\n",
       "      <td>+</td>\n",
       "      <td>.</td>\n",
       "      <td>ID=id1054336;Parent=rna94586;Dbxref=GeneID:187...</td>\n",
       "      <td>XM_017317334.1</td>\n",
       "      <td>144</td>\n",
       "    </tr>\n",
       "  </tbody>\n",
       "</table>\n",
       "</div>"
      ],
      "text/plain": [
       "         seqid      source  type      start        end score strand phase  \\\n",
       "2  NC_000071.6  BestRefSeq  exon   24544129   24544373     .      -     .   \n",
       "3  NC_000074.6      Gnomon  exon   71655663   71655741     .      -     .   \n",
       "7  NC_000073.6      Gnomon  exon  118329486  118329612     .      +     .   \n",
       "8  NC_000076.6      Gnomon  exon    5175722    5175928     .      -     .   \n",
       "9  NC_000083.6      Gnomon  exon   24585923   24586066     .      +     .   \n",
       "\n",
       "                                          attributes            gbid  len  \n",
       "2  ID=id325971;Parent=rna28488;Dbxref=GeneID:2310...     NM_177676.6  245  \n",
       "3  ID=id568467;Parent=rna50916;Dbxref=GeneID:3820...  XM_017312883.1   79  \n",
       "7  ID=id520282;Parent=rna46416;Dbxref=GeneID:1026...     XR_378454.2  127  \n",
       "8  ID=id673061;Parent=rna60010;Dbxref=GeneID:6400...  XM_017314047.1  207  \n",
       "9  ID=id1054336;Parent=rna94586;Dbxref=GeneID:187...  XM_017317334.1  144  "
      ]
     },
     "execution_count": 48,
     "metadata": {},
     "output_type": "execute_result"
    }
   ],
   "source": [
    "mouse_exons.head()"
   ]
  },
  {
   "cell_type": "code",
   "execution_count": 49,
   "id": "b883858b-df3f-48da-95c4-308ca1b17d61",
   "metadata": {},
   "outputs": [
    {
     "data": {
      "text/plain": [
       "<Axes: >"
      ]
     },
     "execution_count": 49,
     "metadata": {},
     "output_type": "execute_result"
    },
    {
     "data": {
      "image/png": "[encoded data removed]",
      "text/plain": [
       "<Figure size 640x480 with 1 Axes>"
      ]
     },
     "metadata": {},
     "output_type": "display_data"
    }
   ],
   "source": [
    "%matplotlib inline\n",
    "mouse_exons['len'].plot()"
   ]
  },
  {
   "cell_type": "code",
   "execution_count": 50,
   "id": "8d33a3a5-8645-49c3-abc2-b5f4268b12c8",
   "metadata": {},
   "outputs": [
    {
     "data": {
      "text/plain": [
       "<Axes: title={'center': 'mouse exons'}, xlabel='start', ylabel='len'>"
      ]
     },
     "execution_count": 50,
     "metadata": {},
     "output_type": "execute_result"
    },
    {
     "data": {
      "image/png": "[encoded data removed]",
      "text/plain": [
       "<Figure size 640x480 with 1 Axes>"
      ]
     },
     "metadata": {},
     "output_type": "display_data"
    }
   ],
   "source": [
    "%matplotlib inline\n",
    "mouse_exons.plot.scatter(x='start', y='len', title='mouse exons')\n"
   ]
  },
  {
   "cell_type": "markdown",
   "id": "fcbd6575-d5d4-4d40-8ee8-7f65f8ad8fbc",
   "metadata": {},
   "source": [
    "### Re-ordering columns and re-indexing data frame"
   ]
  },
  {
   "cell_type": "code",
   "execution_count": 51,
   "id": "81e91ba4-5393-440e-a85b-fe5f29adfd07",
   "metadata": {},
   "outputs": [
    {
     "data": {
      "text/html": [
       "<div>\n",
       "<style scoped>\n",
       "    .dataframe tbody tr th:only-of-type {\n",
       "        vertical-align: middle;\n",
       "    }\n",
       "\n",
       "    .dataframe tbody tr th {\n",
       "        vertical-align: top;\n",
       "    }\n",
       "\n",
       "    .dataframe thead th {\n",
       "        text-align: right;\n",
       "    }\n",
       "</style>\n",
       "<table border=\"1\" class=\"dataframe\">\n",
       "  <thead>\n",
       "    <tr style=\"text-align: right;\">\n",
       "      <th></th>\n",
       "      <th>seqid</th>\n",
       "      <th>source</th>\n",
       "      <th>type</th>\n",
       "      <th>start</th>\n",
       "      <th>end</th>\n",
       "      <th>score</th>\n",
       "      <th>strand</th>\n",
       "      <th>phase</th>\n",
       "      <th>attributes</th>\n",
       "      <th>gbid</th>\n",
       "      <th>len</th>\n",
       "    </tr>\n",
       "  </thead>\n",
       "  <tbody>\n",
       "    <tr>\n",
       "      <th>0</th>\n",
       "      <td>NC_000073.6</td>\n",
       "      <td>Gnomon</td>\n",
       "      <td>CDS</td>\n",
       "      <td>49420174</td>\n",
       "      <td>49420340</td>\n",
       "      <td>.</td>\n",
       "      <td>+</td>\n",
       "      <td>1</td>\n",
       "      <td>ID=cds30916;Parent=rna43633;Dbxref=GeneID:7828...</td>\n",
       "      <td>XP_006541352.1</td>\n",
       "      <td>167</td>\n",
       "    </tr>\n",
       "    <tr>\n",
       "      <th>1</th>\n",
       "      <td>NC_000067.6</td>\n",
       "      <td>Gnomon</td>\n",
       "      <td>CDS</td>\n",
       "      <td>64607740</td>\n",
       "      <td>64608137</td>\n",
       "      <td>.</td>\n",
       "      <td>-</td>\n",
       "      <td>2</td>\n",
       "      <td>ID=cds1286;Parent=rna1815;Dbxref=GeneID:67099,...</td>\n",
       "      <td>XP_006496267.1</td>\n",
       "      <td>398</td>\n",
       "    </tr>\n",
       "    <tr>\n",
       "      <th>2</th>\n",
       "      <td>NC_000071.6</td>\n",
       "      <td>BestRefSeq</td>\n",
       "      <td>exon</td>\n",
       "      <td>24544129</td>\n",
       "      <td>24544373</td>\n",
       "      <td>.</td>\n",
       "      <td>-</td>\n",
       "      <td>.</td>\n",
       "      <td>ID=id325971;Parent=rna28488;Dbxref=GeneID:2310...</td>\n",
       "      <td>NM_177676.6</td>\n",
       "      <td>245</td>\n",
       "    </tr>\n",
       "    <tr>\n",
       "      <th>3</th>\n",
       "      <td>NC_000074.6</td>\n",
       "      <td>Gnomon</td>\n",
       "      <td>exon</td>\n",
       "      <td>71655663</td>\n",
       "      <td>71655741</td>\n",
       "      <td>.</td>\n",
       "      <td>-</td>\n",
       "      <td>.</td>\n",
       "      <td>ID=id568467;Parent=rna50916;Dbxref=GeneID:3820...</td>\n",
       "      <td>XM_017312883.1</td>\n",
       "      <td>79</td>\n",
       "    </tr>\n",
       "    <tr>\n",
       "      <th>4</th>\n",
       "      <td>NC_000068.7</td>\n",
       "      <td>Gnomon</td>\n",
       "      <td>CDS</td>\n",
       "      <td>135932249</td>\n",
       "      <td>135932302</td>\n",
       "      <td>.</td>\n",
       "      <td>+</td>\n",
       "      <td>1</td>\n",
       "      <td>ID=cds9263;Parent=rna13273;Dbxref=GeneID:18798...</td>\n",
       "      <td>XP_006499009.1</td>\n",
       "      <td>54</td>\n",
       "    </tr>\n",
       "  </tbody>\n",
       "</table>\n",
       "</div>"
      ],
      "text/plain": [
       "         seqid      source  type      start        end score strand phase  \\\n",
       "0  NC_000073.6      Gnomon   CDS   49420174   49420340     .      +     1   \n",
       "1  NC_000067.6      Gnomon   CDS   64607740   64608137     .      -     2   \n",
       "2  NC_000071.6  BestRefSeq  exon   24544129   24544373     .      -     .   \n",
       "3  NC_000074.6      Gnomon  exon   71655663   71655741     .      -     .   \n",
       "4  NC_000068.7      Gnomon   CDS  135932249  135932302     .      +     1   \n",
       "\n",
       "                                          attributes            gbid  len  \n",
       "0  ID=cds30916;Parent=rna43633;Dbxref=GeneID:7828...  XP_006541352.1  167  \n",
       "1  ID=cds1286;Parent=rna1815;Dbxref=GeneID:67099,...  XP_006496267.1  398  \n",
       "2  ID=id325971;Parent=rna28488;Dbxref=GeneID:2310...     NM_177676.6  245  \n",
       "3  ID=id568467;Parent=rna50916;Dbxref=GeneID:3820...  XM_017312883.1   79  \n",
       "4  ID=cds9263;Parent=rna13273;Dbxref=GeneID:18798...  XP_006499009.1   54  "
      ]
     },
     "execution_count": 51,
     "metadata": {},
     "output_type": "execute_result"
    }
   ],
   "source": [
    "mouse_data.head()"
   ]
  },
  {
   "cell_type": "code",
   "execution_count": 52,
   "id": "b0744c3b-785c-4f42-bf3e-a4fd260b9606",
   "metadata": {},
   "outputs": [],
   "source": [
    "reorderd_mouse_data = mouse_data[['source','type','len']]"
   ]
  },
  {
   "cell_type": "code",
   "execution_count": 54,
   "id": "b141e454-72ed-48ca-a1a0-77c427b6315b",
   "metadata": {},
   "outputs": [
    {
     "data": {
      "text/html": [
       "<div>\n",
       "<style scoped>\n",
       "    .dataframe tbody tr th:only-of-type {\n",
       "        vertical-align: middle;\n",
       "    }\n",
       "\n",
       "    .dataframe tbody tr th {\n",
       "        vertical-align: top;\n",
       "    }\n",
       "\n",
       "    .dataframe thead th {\n",
       "        text-align: right;\n",
       "    }\n",
       "</style>\n",
       "<table border=\"1\" class=\"dataframe\">\n",
       "  <thead>\n",
       "    <tr style=\"text-align: right;\">\n",
       "      <th></th>\n",
       "      <th>source</th>\n",
       "      <th>type</th>\n",
       "      <th>len</th>\n",
       "    </tr>\n",
       "  </thead>\n",
       "  <tbody>\n",
       "    <tr>\n",
       "      <th>0</th>\n",
       "      <td>Gnomon</td>\n",
       "      <td>CDS</td>\n",
       "      <td>167</td>\n",
       "    </tr>\n",
       "    <tr>\n",
       "      <th>1</th>\n",
       "      <td>Gnomon</td>\n",
       "      <td>CDS</td>\n",
       "      <td>398</td>\n",
       "    </tr>\n",
       "    <tr>\n",
       "      <th>2</th>\n",
       "      <td>BestRefSeq</td>\n",
       "      <td>exon</td>\n",
       "      <td>245</td>\n",
       "    </tr>\n",
       "    <tr>\n",
       "      <th>3</th>\n",
       "      <td>Gnomon</td>\n",
       "      <td>exon</td>\n",
       "      <td>79</td>\n",
       "    </tr>\n",
       "    <tr>\n",
       "      <th>4</th>\n",
       "      <td>Gnomon</td>\n",
       "      <td>CDS</td>\n",
       "      <td>54</td>\n",
       "    </tr>\n",
       "  </tbody>\n",
       "</table>\n",
       "</div>"
      ],
      "text/plain": [
       "       source  type  len\n",
       "0      Gnomon   CDS  167\n",
       "1      Gnomon   CDS  398\n",
       "2  BestRefSeq  exon  245\n",
       "3      Gnomon  exon   79\n",
       "4      Gnomon   CDS   54"
      ]
     },
     "execution_count": 54,
     "metadata": {},
     "output_type": "execute_result"
    }
   ],
   "source": [
    "reorderd_mouse_data.head() #subsetting according to column names"
   ]
  },
  {
   "cell_type": "markdown",
   "id": "f63872c4-01b2-4e73-812d-c9065aefeb3d",
   "metadata": {},
   "source": [
    "##### reindexing"
   ]
  },
  {
   "cell_type": "code",
   "execution_count": 55,
   "id": "0cf789d2-b2c3-4a5c-b618-2e2e66dab89d",
   "metadata": {},
   "outputs": [
    {
     "data": {
      "text/html": [
       "<div>\n",
       "<style scoped>\n",
       "    .dataframe tbody tr th:only-of-type {\n",
       "        vertical-align: middle;\n",
       "    }\n",
       "\n",
       "    .dataframe tbody tr th {\n",
       "        vertical-align: top;\n",
       "    }\n",
       "\n",
       "    .dataframe thead th {\n",
       "        text-align: right;\n",
       "    }\n",
       "</style>\n",
       "<table border=\"1\" class=\"dataframe\">\n",
       "  <thead>\n",
       "    <tr style=\"text-align: right;\">\n",
       "      <th></th>\n",
       "      <th>seqid</th>\n",
       "      <th>source</th>\n",
       "      <th>type</th>\n",
       "      <th>start</th>\n",
       "      <th>end</th>\n",
       "      <th>score</th>\n",
       "      <th>strand</th>\n",
       "      <th>phase</th>\n",
       "      <th>attributes</th>\n",
       "      <th>gbid</th>\n",
       "      <th>len</th>\n",
       "    </tr>\n",
       "  </thead>\n",
       "  <tbody>\n",
       "    <tr>\n",
       "      <th>2</th>\n",
       "      <td>NC_000071.6</td>\n",
       "      <td>BestRefSeq</td>\n",
       "      <td>exon</td>\n",
       "      <td>24544129</td>\n",
       "      <td>24544373</td>\n",
       "      <td>.</td>\n",
       "      <td>-</td>\n",
       "      <td>.</td>\n",
       "      <td>ID=id325971;Parent=rna28488;Dbxref=GeneID:2310...</td>\n",
       "      <td>NM_177676.6</td>\n",
       "      <td>245</td>\n",
       "    </tr>\n",
       "    <tr>\n",
       "      <th>3</th>\n",
       "      <td>NC_000074.6</td>\n",
       "      <td>Gnomon</td>\n",
       "      <td>exon</td>\n",
       "      <td>71655663</td>\n",
       "      <td>71655741</td>\n",
       "      <td>.</td>\n",
       "      <td>-</td>\n",
       "      <td>.</td>\n",
       "      <td>ID=id568467;Parent=rna50916;Dbxref=GeneID:3820...</td>\n",
       "      <td>XM_017312883.1</td>\n",
       "      <td>79</td>\n",
       "    </tr>\n",
       "    <tr>\n",
       "      <th>7</th>\n",
       "      <td>NC_000073.6</td>\n",
       "      <td>Gnomon</td>\n",
       "      <td>exon</td>\n",
       "      <td>118329486</td>\n",
       "      <td>118329612</td>\n",
       "      <td>.</td>\n",
       "      <td>+</td>\n",
       "      <td>.</td>\n",
       "      <td>ID=id520282;Parent=rna46416;Dbxref=GeneID:1026...</td>\n",
       "      <td>XR_378454.2</td>\n",
       "      <td>127</td>\n",
       "    </tr>\n",
       "    <tr>\n",
       "      <th>8</th>\n",
       "      <td>NC_000076.6</td>\n",
       "      <td>Gnomon</td>\n",
       "      <td>exon</td>\n",
       "      <td>5175722</td>\n",
       "      <td>5175928</td>\n",
       "      <td>.</td>\n",
       "      <td>-</td>\n",
       "      <td>.</td>\n",
       "      <td>ID=id673061;Parent=rna60010;Dbxref=GeneID:6400...</td>\n",
       "      <td>XM_017314047.1</td>\n",
       "      <td>207</td>\n",
       "    </tr>\n",
       "    <tr>\n",
       "      <th>9</th>\n",
       "      <td>NC_000083.6</td>\n",
       "      <td>Gnomon</td>\n",
       "      <td>exon</td>\n",
       "      <td>24585923</td>\n",
       "      <td>24586066</td>\n",
       "      <td>.</td>\n",
       "      <td>+</td>\n",
       "      <td>.</td>\n",
       "      <td>ID=id1054336;Parent=rna94586;Dbxref=GeneID:187...</td>\n",
       "      <td>XM_017317334.1</td>\n",
       "      <td>144</td>\n",
       "    </tr>\n",
       "  </tbody>\n",
       "</table>\n",
       "</div>"
      ],
      "text/plain": [
       "         seqid      source  type      start        end score strand phase  \\\n",
       "2  NC_000071.6  BestRefSeq  exon   24544129   24544373     .      -     .   \n",
       "3  NC_000074.6      Gnomon  exon   71655663   71655741     .      -     .   \n",
       "7  NC_000073.6      Gnomon  exon  118329486  118329612     .      +     .   \n",
       "8  NC_000076.6      Gnomon  exon    5175722    5175928     .      -     .   \n",
       "9  NC_000083.6      Gnomon  exon   24585923   24586066     .      +     .   \n",
       "\n",
       "                                          attributes            gbid  len  \n",
       "2  ID=id325971;Parent=rna28488;Dbxref=GeneID:2310...     NM_177676.6  245  \n",
       "3  ID=id568467;Parent=rna50916;Dbxref=GeneID:3820...  XM_017312883.1   79  \n",
       "7  ID=id520282;Parent=rna46416;Dbxref=GeneID:1026...     XR_378454.2  127  \n",
       "8  ID=id673061;Parent=rna60010;Dbxref=GeneID:6400...  XM_017314047.1  207  \n",
       "9  ID=id1054336;Parent=rna94586;Dbxref=GeneID:187...  XM_017317334.1  144  "
      ]
     },
     "execution_count": 55,
     "metadata": {},
     "output_type": "execute_result"
    }
   ],
   "source": [
    "mouse_exons.head()"
   ]
  },
  {
   "cell_type": "code",
   "execution_count": 56,
   "id": "248c4b0d-61cb-4910-9617-a8f0f95114b5",
   "metadata": {},
   "outputs": [],
   "source": [
    "reindexed_mouse_exons = mouse_exons.reset_index()"
   ]
  },
  {
   "cell_type": "code",
   "execution_count": 57,
   "id": "74d267d7-f6c3-4020-83b8-f4671813cc6b",
   "metadata": {},
   "outputs": [
    {
     "data": {
      "text/html": [
       "<div>\n",
       "<style scoped>\n",
       "    .dataframe tbody tr th:only-of-type {\n",
       "        vertical-align: middle;\n",
       "    }\n",
       "\n",
       "    .dataframe tbody tr th {\n",
       "        vertical-align: top;\n",
       "    }\n",
       "\n",
       "    .dataframe thead th {\n",
       "        text-align: right;\n",
       "    }\n",
       "</style>\n",
       "<table border=\"1\" class=\"dataframe\">\n",
       "  <thead>\n",
       "    <tr style=\"text-align: right;\">\n",
       "      <th></th>\n",
       "      <th>index</th>\n",
       "      <th>seqid</th>\n",
       "      <th>source</th>\n",
       "      <th>type</th>\n",
       "      <th>start</th>\n",
       "      <th>end</th>\n",
       "      <th>score</th>\n",
       "      <th>strand</th>\n",
       "      <th>phase</th>\n",
       "      <th>attributes</th>\n",
       "      <th>gbid</th>\n",
       "      <th>len</th>\n",
       "    </tr>\n",
       "  </thead>\n",
       "  <tbody>\n",
       "    <tr>\n",
       "      <th>0</th>\n",
       "      <td>2</td>\n",
       "      <td>NC_000071.6</td>\n",
       "      <td>BestRefSeq</td>\n",
       "      <td>exon</td>\n",
       "      <td>24544129</td>\n",
       "      <td>24544373</td>\n",
       "      <td>.</td>\n",
       "      <td>-</td>\n",
       "      <td>.</td>\n",
       "      <td>ID=id325971;Parent=rna28488;Dbxref=GeneID:2310...</td>\n",
       "      <td>NM_177676.6</td>\n",
       "      <td>245</td>\n",
       "    </tr>\n",
       "    <tr>\n",
       "      <th>1</th>\n",
       "      <td>3</td>\n",
       "      <td>NC_000074.6</td>\n",
       "      <td>Gnomon</td>\n",
       "      <td>exon</td>\n",
       "      <td>71655663</td>\n",
       "      <td>71655741</td>\n",
       "      <td>.</td>\n",
       "      <td>-</td>\n",
       "      <td>.</td>\n",
       "      <td>ID=id568467;Parent=rna50916;Dbxref=GeneID:3820...</td>\n",
       "      <td>XM_017312883.1</td>\n",
       "      <td>79</td>\n",
       "    </tr>\n",
       "    <tr>\n",
       "      <th>2</th>\n",
       "      <td>7</td>\n",
       "      <td>NC_000073.6</td>\n",
       "      <td>Gnomon</td>\n",
       "      <td>exon</td>\n",
       "      <td>118329486</td>\n",
       "      <td>118329612</td>\n",
       "      <td>.</td>\n",
       "      <td>+</td>\n",
       "      <td>.</td>\n",
       "      <td>ID=id520282;Parent=rna46416;Dbxref=GeneID:1026...</td>\n",
       "      <td>XR_378454.2</td>\n",
       "      <td>127</td>\n",
       "    </tr>\n",
       "    <tr>\n",
       "      <th>3</th>\n",
       "      <td>8</td>\n",
       "      <td>NC_000076.6</td>\n",
       "      <td>Gnomon</td>\n",
       "      <td>exon</td>\n",
       "      <td>5175722</td>\n",
       "      <td>5175928</td>\n",
       "      <td>.</td>\n",
       "      <td>-</td>\n",
       "      <td>.</td>\n",
       "      <td>ID=id673061;Parent=rna60010;Dbxref=GeneID:6400...</td>\n",
       "      <td>XM_017314047.1</td>\n",
       "      <td>207</td>\n",
       "    </tr>\n",
       "    <tr>\n",
       "      <th>4</th>\n",
       "      <td>9</td>\n",
       "      <td>NC_000083.6</td>\n",
       "      <td>Gnomon</td>\n",
       "      <td>exon</td>\n",
       "      <td>24585923</td>\n",
       "      <td>24586066</td>\n",
       "      <td>.</td>\n",
       "      <td>+</td>\n",
       "      <td>.</td>\n",
       "      <td>ID=id1054336;Parent=rna94586;Dbxref=GeneID:187...</td>\n",
       "      <td>XM_017317334.1</td>\n",
       "      <td>144</td>\n",
       "    </tr>\n",
       "  </tbody>\n",
       "</table>\n",
       "</div>"
      ],
      "text/plain": [
       "   index        seqid      source  type      start        end score strand  \\\n",
       "0      2  NC_000071.6  BestRefSeq  exon   24544129   24544373     .      -   \n",
       "1      3  NC_000074.6      Gnomon  exon   71655663   71655741     .      -   \n",
       "2      7  NC_000073.6      Gnomon  exon  118329486  118329612     .      +   \n",
       "3      8  NC_000076.6      Gnomon  exon    5175722    5175928     .      -   \n",
       "4      9  NC_000083.6      Gnomon  exon   24585923   24586066     .      +   \n",
       "\n",
       "  phase                                         attributes            gbid  \\\n",
       "0     .  ID=id325971;Parent=rna28488;Dbxref=GeneID:2310...     NM_177676.6   \n",
       "1     .  ID=id568467;Parent=rna50916;Dbxref=GeneID:3820...  XM_017312883.1   \n",
       "2     .  ID=id520282;Parent=rna46416;Dbxref=GeneID:1026...     XR_378454.2   \n",
       "3     .  ID=id673061;Parent=rna60010;Dbxref=GeneID:6400...  XM_017314047.1   \n",
       "4     .  ID=id1054336;Parent=rna94586;Dbxref=GeneID:187...  XM_017317334.1   \n",
       "\n",
       "   len  \n",
       "0  245  \n",
       "1   79  \n",
       "2  127  \n",
       "3  207  \n",
       "4  144  "
      ]
     },
     "execution_count": 57,
     "metadata": {},
     "output_type": "execute_result"
    }
   ],
   "source": [
    "reindexed_mouse_exons.head()"
   ]
  },
  {
   "cell_type": "markdown",
   "id": "6a4c1c06-a1f2-468c-81ab-163fd9aa232c",
   "metadata": {},
   "source": [
    "#### Exercise 2.2.1\n",
    "Re-use the GapMinder dataset to plot, in Jupyter using Matplotlib, a scatter plot of world life expectancy against GDP per capita for 1952, 1977 and 2007. Add a title, axis labels and legend to your figure.\n",
    "\n",
    "Find the country with the highest GDP per capita for 1952, 1977 and 2007."
   ]
  },
  {
   "cell_type": "code",
   "execution_count": 58,
   "id": "5a804984-324e-4ce3-8ebf-9e0d8ad0b1a0",
   "metadata": {},
   "outputs": [],
   "source": [
    "gap = pd.read_csv(\"gapminder.csv\")"
   ]
  },
  {
   "cell_type": "code",
   "execution_count": 59,
   "id": "7816b74c-bf3d-4b95-adf4-4b69c268b1e9",
   "metadata": {},
   "outputs": [
    {
     "data": {
      "text/html": [
       "<div>\n",
       "<style scoped>\n",
       "    .dataframe tbody tr th:only-of-type {\n",
       "        vertical-align: middle;\n",
       "    }\n",
       "\n",
       "    .dataframe tbody tr th {\n",
       "        vertical-align: top;\n",
       "    }\n",
       "\n",
       "    .dataframe thead th {\n",
       "        text-align: right;\n",
       "    }\n",
       "</style>\n",
       "<table border=\"1\" class=\"dataframe\">\n",
       "  <thead>\n",
       "    <tr style=\"text-align: right;\">\n",
       "      <th></th>\n",
       "      <th>country</th>\n",
       "      <th>continent</th>\n",
       "      <th>year</th>\n",
       "      <th>lifeExp</th>\n",
       "      <th>pop</th>\n",
       "      <th>gdpPercap</th>\n",
       "    </tr>\n",
       "  </thead>\n",
       "  <tbody>\n",
       "    <tr>\n",
       "      <th>0</th>\n",
       "      <td>Afghanistan</td>\n",
       "      <td>Asia</td>\n",
       "      <td>1952</td>\n",
       "      <td>28.801</td>\n",
       "      <td>8425333</td>\n",
       "      <td>779.445314</td>\n",
       "    </tr>\n",
       "    <tr>\n",
       "      <th>1</th>\n",
       "      <td>Afghanistan</td>\n",
       "      <td>Asia</td>\n",
       "      <td>1957</td>\n",
       "      <td>30.332</td>\n",
       "      <td>9240934</td>\n",
       "      <td>820.853030</td>\n",
       "    </tr>\n",
       "    <tr>\n",
       "      <th>2</th>\n",
       "      <td>Afghanistan</td>\n",
       "      <td>Asia</td>\n",
       "      <td>1962</td>\n",
       "      <td>31.997</td>\n",
       "      <td>10267083</td>\n",
       "      <td>853.100710</td>\n",
       "    </tr>\n",
       "    <tr>\n",
       "      <th>3</th>\n",
       "      <td>Afghanistan</td>\n",
       "      <td>Asia</td>\n",
       "      <td>1967</td>\n",
       "      <td>34.020</td>\n",
       "      <td>11537966</td>\n",
       "      <td>836.197138</td>\n",
       "    </tr>\n",
       "    <tr>\n",
       "      <th>4</th>\n",
       "      <td>Afghanistan</td>\n",
       "      <td>Asia</td>\n",
       "      <td>1972</td>\n",
       "      <td>36.088</td>\n",
       "      <td>13079460</td>\n",
       "      <td>739.981106</td>\n",
       "    </tr>\n",
       "  </tbody>\n",
       "</table>\n",
       "</div>"
      ],
      "text/plain": [
       "       country continent  year  lifeExp       pop   gdpPercap\n",
       "0  Afghanistan      Asia  1952   28.801   8425333  779.445314\n",
       "1  Afghanistan      Asia  1957   30.332   9240934  820.853030\n",
       "2  Afghanistan      Asia  1962   31.997  10267083  853.100710\n",
       "3  Afghanistan      Asia  1967   34.020  11537966  836.197138\n",
       "4  Afghanistan      Asia  1972   36.088  13079460  739.981106"
      ]
     },
     "execution_count": 59,
     "metadata": {},
     "output_type": "execute_result"
    }
   ],
   "source": [
    "gap.head()"
   ]
  },
  {
   "cell_type": "code",
   "execution_count": 60,
   "id": "dd969a12-1146-443f-8e08-fb663012dcaf",
   "metadata": {},
   "outputs": [],
   "source": [
    "import matplotlib.pyplot as plt"
   ]
  },
  {
   "cell_type": "code",
   "execution_count": 71,
   "id": "e79e98c1-debe-40ed-8321-a9ec8f5b0368",
   "metadata": {},
   "outputs": [],
   "source": [
    "gap_gdp_years = gap[gap.year == 1952 ]"
   ]
  },
  {
   "cell_type": "code",
   "execution_count": 72,
   "id": "120a3eca-4bcc-46a7-8e55-fa75cc7fad78",
   "metadata": {},
   "outputs": [
    {
     "data": {
      "text/html": [
       "<div>\n",
       "<style scoped>\n",
       "    .dataframe tbody tr th:only-of-type {\n",
       "        vertical-align: middle;\n",
       "    }\n",
       "\n",
       "    .dataframe tbody tr th {\n",
       "        vertical-align: top;\n",
       "    }\n",
       "\n",
       "    .dataframe thead th {\n",
       "        text-align: right;\n",
       "    }\n",
       "</style>\n",
       "<table border=\"1\" class=\"dataframe\">\n",
       "  <thead>\n",
       "    <tr style=\"text-align: right;\">\n",
       "      <th></th>\n",
       "      <th>country</th>\n",
       "      <th>continent</th>\n",
       "      <th>year</th>\n",
       "      <th>lifeExp</th>\n",
       "      <th>pop</th>\n",
       "      <th>gdpPercap</th>\n",
       "    </tr>\n",
       "  </thead>\n",
       "  <tbody>\n",
       "    <tr>\n",
       "      <th>0</th>\n",
       "      <td>Afghanistan</td>\n",
       "      <td>Asia</td>\n",
       "      <td>1952</td>\n",
       "      <td>28.801</td>\n",
       "      <td>8425333</td>\n",
       "      <td>779.445314</td>\n",
       "    </tr>\n",
       "    <tr>\n",
       "      <th>12</th>\n",
       "      <td>Albania</td>\n",
       "      <td>Europe</td>\n",
       "      <td>1952</td>\n",
       "      <td>55.230</td>\n",
       "      <td>1282697</td>\n",
       "      <td>1601.056136</td>\n",
       "    </tr>\n",
       "    <tr>\n",
       "      <th>24</th>\n",
       "      <td>Algeria</td>\n",
       "      <td>Africa</td>\n",
       "      <td>1952</td>\n",
       "      <td>43.077</td>\n",
       "      <td>9279525</td>\n",
       "      <td>2449.008185</td>\n",
       "    </tr>\n",
       "    <tr>\n",
       "      <th>36</th>\n",
       "      <td>Angola</td>\n",
       "      <td>Africa</td>\n",
       "      <td>1952</td>\n",
       "      <td>30.015</td>\n",
       "      <td>4232095</td>\n",
       "      <td>3520.610273</td>\n",
       "    </tr>\n",
       "    <tr>\n",
       "      <th>48</th>\n",
       "      <td>Argentina</td>\n",
       "      <td>Americas</td>\n",
       "      <td>1952</td>\n",
       "      <td>62.485</td>\n",
       "      <td>17876956</td>\n",
       "      <td>5911.315053</td>\n",
       "    </tr>\n",
       "    <tr>\n",
       "      <th>...</th>\n",
       "      <td>...</td>\n",
       "      <td>...</td>\n",
       "      <td>...</td>\n",
       "      <td>...</td>\n",
       "      <td>...</td>\n",
       "      <td>...</td>\n",
       "    </tr>\n",
       "    <tr>\n",
       "      <th>1632</th>\n",
       "      <td>Vietnam</td>\n",
       "      <td>Asia</td>\n",
       "      <td>1952</td>\n",
       "      <td>40.412</td>\n",
       "      <td>26246839</td>\n",
       "      <td>605.066492</td>\n",
       "    </tr>\n",
       "    <tr>\n",
       "      <th>1644</th>\n",
       "      <td>West Bank and Gaza</td>\n",
       "      <td>Asia</td>\n",
       "      <td>1952</td>\n",
       "      <td>43.160</td>\n",
       "      <td>1030585</td>\n",
       "      <td>1515.592329</td>\n",
       "    </tr>\n",
       "    <tr>\n",
       "      <th>1656</th>\n",
       "      <td>Yemen Rep</td>\n",
       "      <td>Asia</td>\n",
       "      <td>1952</td>\n",
       "      <td>32.548</td>\n",
       "      <td>4963829</td>\n",
       "      <td>781.717576</td>\n",
       "    </tr>\n",
       "    <tr>\n",
       "      <th>1668</th>\n",
       "      <td>Zambia</td>\n",
       "      <td>Africa</td>\n",
       "      <td>1952</td>\n",
       "      <td>42.038</td>\n",
       "      <td>2672000</td>\n",
       "      <td>1147.388831</td>\n",
       "    </tr>\n",
       "    <tr>\n",
       "      <th>1680</th>\n",
       "      <td>Zimbabwe</td>\n",
       "      <td>Africa</td>\n",
       "      <td>1952</td>\n",
       "      <td>48.451</td>\n",
       "      <td>3080907</td>\n",
       "      <td>406.884115</td>\n",
       "    </tr>\n",
       "  </tbody>\n",
       "</table>\n",
       "<p>141 rows × 6 columns</p>\n",
       "</div>"
      ],
      "text/plain": [
       "                 country continent  year  lifeExp       pop    gdpPercap\n",
       "0            Afghanistan      Asia  1952   28.801   8425333   779.445314\n",
       "12               Albania    Europe  1952   55.230   1282697  1601.056136\n",
       "24               Algeria    Africa  1952   43.077   9279525  2449.008185\n",
       "36                Angola    Africa  1952   30.015   4232095  3520.610273\n",
       "48             Argentina  Americas  1952   62.485  17876956  5911.315053\n",
       "...                  ...       ...   ...      ...       ...          ...\n",
       "1632             Vietnam      Asia  1952   40.412  26246839   605.066492\n",
       "1644  West Bank and Gaza      Asia  1952   43.160   1030585  1515.592329\n",
       "1656           Yemen Rep      Asia  1952   32.548   4963829   781.717576\n",
       "1668              Zambia    Africa  1952   42.038   2672000  1147.388831\n",
       "1680            Zimbabwe    Africa  1952   48.451   3080907   406.884115\n",
       "\n",
       "[141 rows x 6 columns]"
      ]
     },
     "execution_count": 72,
     "metadata": {},
     "output_type": "execute_result"
    }
   ],
   "source": [
    "gap_gdp_years"
   ]
  },
  {
   "cell_type": "code",
   "execution_count": 76,
   "id": "792a3072-7629-4349-af4f-7bef509c822e",
   "metadata": {},
   "outputs": [
    {
     "data": {
      "text/plain": [
       "<matplotlib.legend.Legend at 0x7f1b2d4dbe50>"
      ]
     },
     "execution_count": 76,
     "metadata": {},
     "output_type": "execute_result"
    },
    {
     "data": {
      "image/png": "[encoded data removed]",
      "text/plain": [
       "<Figure size 640x480 with 1 Axes>"
      ]
     },
     "metadata": {},
     "output_type": "display_data"
    }
   ],
   "source": [
    "plt.scatter(x = gap_gdp_years.lifeExp, y = gap_gdp_years.gdpPercap,label =\"1952\")\n",
    "plt.title (\"Life expectancy v/s GDP per capita: 1952\")\n",
    "plt.xlabel(\"LifeExpectancy\")\n",
    "plt.ylabel(\"GDPperCapita\")\n",
    "plt.legend()\n"
   ]
  },
  {
   "cell_type": "markdown",
   "id": "a489f28d-2c27-4a59-9dc1-90c643177eee",
   "metadata": {},
   "source": [
    "#### \n",
    "- write a function that filters data for a continent and a specific year, and calculates the average, median and standard deviation of the GDP of the countries of this continent using pandas: gdp_stats_by_continent_and_year(gapminder_filepath, continent, year):"
   ]
  },
  {
   "cell_type": "code",
   "execution_count": 91,
   "id": "00e1aefb-b35d-4a7e-9fa1-8571acf21176",
   "metadata": {},
   "outputs": [],
   "source": [
    "def gdp_stats_by_continent_and_year(gapminder_filepath,continent, year):\n",
    "    df = pd.read_csv(gapminder_filepath)\n",
    "    df_year_continent = df[(df.year==year) & (df.continent == continent)]\n",
    "    print(df_year_continent.gdpPercap.mean())\n",
    "    print(df_year_continent.gdpPercap.median())\n",
    "    print(df_year_continent.gdpPercap.std())\n",
    "    \n",
    "    "
   ]
  },
  {
   "cell_type": "code",
   "execution_count": 92,
   "id": "85cfabd0-214f-4463-ad6c-d6d806a56074",
   "metadata": {},
   "outputs": [
    {
     "name": "stdout",
     "output_type": "stream",
     "text": [
      "5195.484004039394\n",
      "1206.947913\n",
      "18634.89086545037\n"
     ]
    }
   ],
   "source": [
    "gdp_stats_by_continent_and_year(gapminder_filepath=\"gapminder.csv\",continent=\"Asia\", year = 1952)"
   ]
  },
  {
   "cell_type": "markdown",
   "id": "3b8d4437-9417-4102-9704-193488c8d3d3",
   "metadata": {},
   "source": [
    "### Biopython revision"
   ]
  },
  {
   "cell_type": "code",
   "execution_count": 93,
   "id": "8010ad42-f9a4-4515-9b9f-4d4a1172f10c",
   "metadata": {},
   "outputs": [],
   "source": [
    "from Bio.Seq import Seq"
   ]
  },
  {
   "cell_type": "code",
   "execution_count": 94,
   "id": "064aadb9-d79d-4904-bb37-e742620f44bf",
   "metadata": {},
   "outputs": [],
   "source": [
    "my_dna = Seq(\"AGTACATGACTGGTTTAG\")"
   ]
  },
  {
   "cell_type": "code",
   "execution_count": 95,
   "id": "de500a51-98a3-4f4f-be8b-4c05aa1fda8a",
   "metadata": {},
   "outputs": [
    {
     "data": {
      "text/plain": [
       "Seq('AGTACATGACTGGTTTAG')"
      ]
     },
     "execution_count": 95,
     "metadata": {},
     "output_type": "execute_result"
    }
   ],
   "source": [
    "my_dna"
   ]
  },
  {
   "cell_type": "code",
   "execution_count": 96,
   "id": "ee074c1c-0f67-41f8-a36e-46226f5b42f9",
   "metadata": {},
   "outputs": [
    {
     "data": {
      "text/plain": [
       "Seq('TCATGTACTGACCAAATC')"
      ]
     },
     "execution_count": 96,
     "metadata": {},
     "output_type": "execute_result"
    }
   ],
   "source": [
    "my_dna.complement()"
   ]
  },
  {
   "cell_type": "code",
   "execution_count": 97,
   "id": "a0e044b8-380b-4806-b3a3-9bc9e7aff14f",
   "metadata": {},
   "outputs": [
    {
     "data": {
      "text/plain": [
       "Seq('CTAAACCAGTCATGTACT')"
      ]
     },
     "execution_count": 97,
     "metadata": {},
     "output_type": "execute_result"
    }
   ],
   "source": [
    "my_dna.reverse_complement()"
   ]
  },
  {
   "cell_type": "code",
   "execution_count": 98,
   "id": "54414ae3-5818-4c4d-aee2-0ffc0513aae2",
   "metadata": {},
   "outputs": [
    {
     "data": {
      "text/plain": [
       "Seq('ST*LV*')"
      ]
     },
     "execution_count": 98,
     "metadata": {},
     "output_type": "execute_result"
    }
   ],
   "source": [
    "my_dna.translate()"
   ]
  },
  {
   "cell_type": "code",
   "execution_count": 99,
   "id": "173bac90-fb95-4114-a6cd-bd416620bb63",
   "metadata": {},
   "outputs": [],
   "source": [
    "## using Bio.SeqUtils to calculate properties"
   ]
  },
  {
   "cell_type": "code",
   "execution_count": 100,
   "id": "9e4e556c-188d-4bce-9daa-114499e10ac5",
   "metadata": {},
   "outputs": [],
   "source": [
    "from Bio.SeqUtils import GC,molecular_weight"
   ]
  },
  {
   "cell_type": "code",
   "execution_count": 101,
   "id": "7935e188-a87c-423c-8772-c50df4657848",
   "metadata": {},
   "outputs": [
    {
     "name": "stdout",
     "output_type": "stream",
     "text": [
      "38.888888888888886\n"
     ]
    },
    {
     "name": "stderr",
     "output_type": "stream",
     "text": [
      "/home/sampurna/anaconda3/envs/prolif/lib/python3.10/site-packages/Bio/SeqUtils/__init__.py:144: BiopythonDeprecationWarning: GC is deprecated; please use gc_fraction instead.\n",
      "  warnings.warn(\n"
     ]
    }
   ],
   "source": [
    "print(GC(my_dna))"
   ]
  },
  {
   "cell_type": "code",
   "execution_count": 102,
   "id": "a718b401-8e4b-4d5b-b92f-03c6c49d742d",
   "metadata": {},
   "outputs": [
    {
     "data": {
      "text/plain": [
       "5633.600099999999"
      ]
     },
     "execution_count": 102,
     "metadata": {},
     "output_type": "execute_result"
    }
   ],
   "source": [
    "molecular_weight(my_dna)"
   ]
  },
  {
   "cell_type": "code",
   "execution_count": 103,
   "id": "778793e6-089e-42f3-aa62-c3b25e7373da",
   "metadata": {},
   "outputs": [
    {
     "data": {
      "text/plain": [
       "'AlaGlyThrAlaCysAlaThrGlyAlaCysThrGlyGlyThrThrThrAlaGly'"
      ]
     },
     "execution_count": 103,
     "metadata": {},
     "output_type": "execute_result"
    }
   ],
   "source": [
    "#converting one letter code into three letter code using seq3 module\n",
    "from Bio.SeqUtils import seq3\n",
    "seq3(my_dna)"
   ]
  },
  {
   "cell_type": "markdown",
   "id": "e3591ad5-abb1-497f-a31a-6e499edeb88f",
   "metadata": {},
   "source": [
    "### Fasta file : parsing "
   ]
  },
  {
   "cell_type": "code",
   "execution_count": 105,
   "id": "1f018413-5873-4144-914e-dcd84cd48a21",
   "metadata": {},
   "outputs": [
    {
     "name": "stdout",
     "output_type": "stream",
     "text": [
      ">swissprot|P02724|GLPA_HUMAN Glycophorin-A;\n",
      "MYGKIIFVLLLSEIVSISASSTTGVAMHTSTSSSVTKSYISSQTNDTHKRDTYAATPRAH\n",
      "EVSEISVRTVYPPEEETGERVQLAHHFSEPEITLIIFGVMAGVIGTILLISYGIRRLIKK\n",
      "SPSDVKPLPSPDTDVPLSSVEIENPETSDQ\n",
      "\n",
      "\n"
     ]
    }
   ],
   "source": [
    "#native Python method\n",
    "with open(\"glpa.fa\") as f:\n",
    "    print(f.read())"
   ]
  },
  {
   "cell_type": "markdown",
   "id": "66702567-5236-42ca-bbf6-406a7ccb2d1e",
   "metadata": {},
   "source": [
    "## BioPython usage"
   ]
  },
  {
   "cell_type": "code",
   "execution_count": 106,
   "id": "a9fc75a5-d438-4352-9c26-111c5c3d1f41",
   "metadata": {},
   "outputs": [],
   "source": [
    "from Bio import SeqIO"
   ]
  },
  {
   "cell_type": "code",
   "execution_count": 107,
   "id": "88a919f7-2550-4f9a-be5b-956ae23f4637",
   "metadata": {},
   "outputs": [
    {
     "name": "stdout",
     "output_type": "stream",
     "text": [
      "swissprot|P02724|GLPA_HUMAN\n",
      "MYGKIIFVLLLSEIVSISASSTTGVAMHTSTSSSVTKSYISSQTNDTHKRDTYAATPRAHEVSEISVRTVYPPEEETGERVQLAHHFSEPEITLIIFGVMAGVIGTILLISYGIRRLIKKSPSDVKPLPSPDTDVPLSSVEIENPETSDQ\n"
     ]
    }
   ],
   "source": [
    "with open(\"glpa.fa\") as f:\n",
    "    for protein in SeqIO.parse(f,'fasta'):\n",
    "        print(protein.id)\n",
    "        print(protein.seq)"
   ]
  },
  {
   "cell_type": "markdown",
   "id": "5d7f8558-5427-4da2-b169-706b7a401c65",
   "metadata": {},
   "source": [
    "### Exercise 2.3.1\n",
    "- a FASTA file named data/sample.fa using BioPython and answer the following questions:\n",
    "How many sequences are in the file?\n",
    "-  What are the IDs and the lengths of the longest and the shortest sequences?\n",
    "-  Select sequences longer than 500bp. What is the average length of these sequences?\n",
    "-  Calculate and print the percentage of GC in each of the sequences.\n",
    "Write the newly created sequences into a FASTA file named long_sequences.fa"
   ]
  },
  {
   "cell_type": "code",
   "execution_count": 132,
   "id": "5e3a8938-db06-4b65-8b79-e0a11fadfabf",
   "metadata": {},
   "outputs": [],
   "source": [
    "test_231 = SeqIO.parse(\"sample.fa\",\"fasta\")"
   ]
  },
  {
   "cell_type": "code",
   "execution_count": 133,
   "id": "f0607efa-0c30-4395-8bc6-52d14040c78d",
   "metadata": {},
   "outputs": [],
   "source": [
    "###converting the fasta file into dataframe "
   ]
  },
  {
   "cell_type": "code",
   "execution_count": 134,
   "id": "5ebe9aad-44b7-4923-8e47-3ff422b1467e",
   "metadata": {},
   "outputs": [],
   "source": [
    "df_231 ={}"
   ]
  },
  {
   "cell_type": "code",
   "execution_count": 135,
   "id": "9c5b8adc-39d8-4573-babf-95b2e30e0779",
   "metadata": {},
   "outputs": [],
   "source": [
    "for i in test_231:\n",
    "    #print(i.description)\n",
    "    df_231[i.description] = str(i.seq)"
   ]
  },
  {
   "cell_type": "code",
   "execution_count": 136,
   "id": "a2e83c57-69fa-4028-aeda-3ea54409807f",
   "metadata": {},
   "outputs": [
    {
     "data": {
      "text/plain": [
       "{'seq39': 'AAGGTCTCGAACGACATATAAGTGGGAAACGAAAAGGGAGGATCTACGGAACGTACAACGCACTGGATGCAAACGTAGATTCAAGTGGTAACGAAAACCATAAGAGGTTACTCCTAATGAGTCTACGATTCTTCTGCGGGTCGTGACTAAGCTCTATACGCGGAACGTGGCACCCCACAATGATCTCTAATCATCGGCAGCCACGTCAGTGGCCTTTTGCAAAGGAGCTAGGGTTACGCCAATTTTATATGCAAAGCGCTTCCTTTAGGGA',\n",
       " 'seq51': 'ATGGCCCGCATTGTTGCCTACGGAGCACACACATGGTCAACAGCGGGGTTACAATGGCGCTGCCGTCGCTGTCGCCGGATAACAGCTTATTGGCCCGCTATGCGTCGCTGCCTTAGGAACAGAAACTGATGGCGATGGGTTTGTGTGGCCGGTTGATGTAGGTCCGGCAATTCGTCACACCTTAGGGTGTATTAAAACCCCTCATTCAGACCTGAGCGAGTCTACGCAATGAGGCATGCATCCGAAACCTTATGCACGCCTAGTGTAGTCCAAACGATCTAGGGGTTGAGAACCACCAAATTTCATCACGTATACAATAAATGCAGGGAAGTATTCATTGTGAAGAAAGGTCTCGAACGACATATAAGTGGGAAACGAAAAGGGAGGATCTACGGAACGTACAACGCACTGGATGCAAACGTAGATTCAAGTGGTAACGAAAACCATAAGAGGTTACTCCTAATGAGTCTACGATTCTTCTGTGGGTCGTGACTAAGCTCTATACGCAGAACGTGGCACCCCGCAATGATCTCTAATCATCGGCAGCCACGTCAGTGGCCTTTTGCAAAGGAGCTAGGGTTACGCCAATTTTATATGCAAAGCGCTTCCTTTAGGGAGTGTGGCATTAGTCCCTAGAGGCCGCATATTTGACGAATGAAACAATTCGATGTCTGCGATTGGCAATTGACTGTAATAACCGCGGCAGAGTTGCTAAATCTTGCTCTCGTCAGGGCGGTCGTCGTAAATAGCTCAGTCAAAGCTGCGATTGCTTCCGTTTCATATGATGGCTGAAATCTGGGTTCGAAAAGCGTAAGCACATGATATCATCAAGAAGAGGAGGGGGAACGGCCATACCGACCTTGTGAACGACGATCTGCGTCCTACCCAGACATAATATTTATTGGCGATCGAGTGAGGGACACGCTTGAGATCTAAAAATCTGTCGCGAACCATGTATAAATCTACGCCGGCTCACCTGCTAACTATTTAGAGCGAACAC',\n",
       " 'seq31': 'AAGGTCTCGAACGACATATAAGTGGGAAACGAAAAGGGAGGATCTACGGAACGTACAACGCACTGGATGCAAACGTAGATTCAAGTGGTAACGAAAACCATAAGAGGTTACTCCTAATGAGTCTACGATTCTTATGTGGGTCGTGACTAAGCTCTATACACGGAACGTGGCACCCCGCAATGATCTCTAATCATCGCCAGCCACGTCAG',\n",
       " 'seq18': 'CGTAGATTCAAGTGGTAACGAAAACCATAAGAGGTTACTCCTAATGAGTCTACGATTCTTCTGTGGGTCGCGACTAAGCTCTATACGCGGAACGTGGCACCCCGCAATGATCTCTAATCATCGGCAGCCACGTCAGTGGTCTTTTGCAAAGGAGCTAGGGTTACGCCAATTTTATATGCAAAGC',\n",
       " 'seq32': 'ATGGCCCGCATTGTTGCCTACGAAGCACACACATGGTCAACAGCGGGGTTACAATGGCGCTGCCGTCGCTGTCGCCGGATAACAGCCTATTGGCCCGCTATGCGTCGCTGCCTTAGGAACAGAAACTGATGGCGATGGGTTTGTGCGGCCGGTTGATGTAGGTTCGGCAATTCGTCACACCTTAGGGTGTATTAAAACCCCTCATTCAGACCTGAGCGAGTCTACGCAATGAGGCATGCATCCGAAACCTTATGCACGCCTAGTGTAGTCCAAACGATCTAGGGGTTGAGAACCACCAAATTTCATCACGTATACAATAAATGCAGGGAAGTATTCATTGTGAAGAAAGGTCTCGAACGACATATAAGTGGGAAACGAAAAGGGAGGATCTACGGAACGTACAACGCACTGGATGCAAACGTACATTCAAGTGGTAACAAAAACCATAAGAGGTTACGCCTAATGAGTCTACGATTCTTCTGTGGGTCGCGACTAAGCTCTATACGCGGAACGTGGCACCCCGCAATGATCTCTAATCATCGGCAGCCACGTCAGTGGCCTTTTGCAAAGGAGCTAGGGTTACGCCAATTTTATATGCAAAGCGCTTCCTTTAGGGAGTGTGGCATTAGTCCCTAGAGGCCGCATATTTGACGAATGAAACAGTTCGATATCTGCAATTGGCAATTGACTGTAATAACCGCGGCAGAGATGCTAAATCTTGCTCTCGTCAAGGCGGTCGTCGTGAATAGCTCAGTCAAAGCTGCGATTGCTTCCGTTTCATATGATGGCTGAAATCTGGTTCGAAAAGCGTAAGCACATGATATCATCAAGAAGAGGAGGGCGAACGGCCATACCGACCTTGAGAACGACGATCTGCGTCCTACCCAGACATAATATTTATTGGCGATCGAGTGAGGGACACGCTTGAGATCTAAAAATCTGTCGCGAACCATGTATAAATCTACGCCGGCTCACCTGCTAACTCTTTAGAGCGAACAC',\n",
       " 'seq91': 'AAGAAAGGTCTCGAACGACATATAAGTGGGAAACGAAAAGGGAGGATCTACGGAACGTACAACGCACTGGATGCAAACGTAGATTCAAGTGGTAACGAAAACCATAAGAGGTTACTCCTAATGAGTCTACGCTTCTTCCGTGGGTCGTGACTAAGCTCTATACGCGAAACGTGGCACCCCGCAATGATCTCTAATCATCGGCAGCCACGTCAGTGGCCTTTTGCAAAGGAGCTAGGGTTACGCCAATTTTATATGCAAAGCGCTTCCTTTAGGGAGTGTGGCATTAGTCCCTAGAGGCCGCATATTTGACGAATGAAACAATTCGATTACTGCAATTGGCAATTGACTGT',\n",
       " 'seq37': 'CATTGTGAAGAAAGGTCTCGAACGACATATAAGTGGGAAACGAAAAGGGAGGATCTACGGAACGTACAACGCACTGGATGCAAACGTAGATTCAAGTGGTAACGAAAACCATAAGAGGTTACTCCTAATGAGTCTACGCTTCTTCCGTGGGTCGTGACTAAGCTCTATACGCGA',\n",
       " 'seq64': 'ATGGCCCGCATTGTTGCCTACGAAGCACACACATGGTCAACAGCGGGGTTACAATGGCGCTGCCGTTGCTGTCGCCGGATAAAAGCTTATTGGCCCGCTATGCGTCGCTGCCTTAGGAACAGAAACTGATGGCGATGGGTTTGTGCGGCCGGTTGATGTAGGTCCGGCAATTCGTCACACCTTAGGGTGTATTAAAACCCCTCATTCAGACCTGAGCGAGTCTACGCAATGAGGCATGCATCCGAAACCTTATGCATGCCTAGTGTAGTCCAAACGACCTAGGGGTTGAGAACCACCAAATTTCATCACGTATACAATAAATGCAGGGAAGTATTCATTGTGAAGAAAGGTCTCGAACGACATATAAGTGGGAAACGAAAAGGGAGGATCTACGGAACGTACAACGCACTGGATGCAAACGTAGATTCAAGTGGTAACGAAAACCATAAGAGGTTACTCCTAATGAGTCTACGCTTCTTCCGTGGGTCGTGACTAAGCTCTATACGCGAAACGTGGCACCCCGCAATGATCTCTAATCATCGGCAGCCACGTCAGTGGCCTTTTGCAAAGGAGCTAGGGTTACGCCAATTTTATATGCAAAGCGCTTCCTTTAGGGAGTGTGGCATTAGTCCCTAGAGGCCGCATATTTGACGAATGAAACAATTCGATAACTGCAATTGGCAATTGAATGTAATAACCGCGGCAGAGTTGCTAAATCTTGCCCTCGTCAAGGCGGTCGACGTAAACAGCTCAGTCAAAGCTGCGATTGCTTCCGTTTCATATGATGGCTGAAATCTGGGTTCGAAAAGCGTAAGCACATGATATCATCAAGAAGAGGAGGGGGAACGGCCATACCGACCTTGAGAACGACGATCTGCGTCCTCCCCAGACATAATATTTATTGGCGCTCGAGTGAGGGACACGCTTGAGATCTAAAAATCTGTCGCGAACCATGTATAAATCTACGCCGGCTCACCTGCTAACTCTTTAGAGCGAACAC',\n",
       " 'seq97': 'ATAGGTTCGAGTCTGCGCTGAAACCACCGATAATGACCTCCGTTGAGCCTCCGATCCTTCTGGTCATAAGTGTCCATATGCGGTATGTGGTTCCGCGCTAATAGCTATGGTGAGCCACGAGGACGCAAGTGGCCTCGCCTGTCATAATCGTTGGGTTGCGTCAATTGTATGCATTACCTGTGTCATTAGTCCTTAGACGCCGTCTATTTGGCATTGAATCTTCCTAA',\n",
       " 'seq100': 'CAACGCACGTAACTCAGGCGTAGGTTCGAGTCTGCGCTGAAACCATCGAAAATGACCTCCGTGGAGCCTCCGATCCTTCTGGTCCTAAGTGTCCATATGCGGTATGTGGTTCCGCGCTAAT',\n",
       " 'seq5': 'AAGGTCTCCATTGGGGACGCTGAAGCTCACGCGTCCTCGGCTGCAGGATTACAATGGAGCTGATGTCGCTGCGCTCGGGCATCAGTTCACTGGCATGCATTTCGTCGCTGCACTAGGGATAGGAATTGTCGGCGACGCTTAGTTGCGTCTAGTTAGACTAGGTCGGTTAATACCTCTTGCACTAGCGCCGGACTCAAGACTCCCAGTCGGACCCTTAGGGGCCTACGAAATCAGCCGGCCACCCGAGTGTCCTATCGCGTCAACCAGCGTCCAGACGACTAAGATGTTAGCGCCTTCCAACCCTCCTCACGGGTACTATAAATCTGGGGATTAACTCCTCGTAAACAATGTAGTAGAGTAACGTATAAATGACAACCTAAAGGGGACGGACTGCGGGAAACACAACGCACTTAACTCAGGCGTAGGTTCGAGTTTGCGCTGAAACCATCGAAAATGACCTCCGTGGAGCCTCCGATCCTTCTGGTCATAAGTGTCTATATGCGGTATGTGGTTCCGCGCTAATAGCTATGTTGAGCCACGAGGACGCAAGTGGCCTCGCCTGTCATAATCGTTGGGCTGCGTCGATTGTATGCATGACCTGTGTCATTAGTCCTTAGACGCCGTCTATTTAGCATTGGATCTTCCTAAGGCGGCGATTTCCAACGGATTTTAATTACCGGCCGTGAGTCGGACAACGTCGGTCTCGTCAGTACGGTCAACGTAAGTGGCTCGCTTAAGAGTGTGGCGGTTTCCATCTCATATAGTAGCTCATCCCCTAAGACACCAAATGGGAGCATATGGGGTCTGCATGAAGAGGATGGTAAACGGCCAAGATGCGCGGTGGGAATTCCCAGTTGCGTTCAACGCAACATAATTGTTGTCGCCGATACTGGGAGTGACACGCTTGTAAACTACAAAATTATCGCGAGCTATGTAGCAATTTAAGCAGGCTCATCTTATCACAATTTCAGGGCGGAAAG',\n",
       " 'seq96': 'AAGGTCTCCATTGGGGACGCTGAAGCTCACGCGTCCTCGGCTGCAGGATTACAATGGAGCTGATGTCGCTGCGCTCGGGCATCAGTTCACTGGCATGCATTTCGTCGCTGCACTAGGGATAGGAATTGTCGGCGACGCTTAGATGCGTCTAGTTAACCTAGGTCAGTTAATACCTCTTGCACTAGCGCCGGACTCAAGACCCCCAGTCGGACCCTTAGGGGCCTACGAAATCAGCCGGCCACCCGAGTGCCCTATCGCGTCAAACATCGTCCAGACGACTAAGATGTTAGCGACTTCCAACCCTCCTCGCGGGTACTATAAATCTGGGGATTAACTCCTCGTAAACAATGTAGTAGAGTAACGTATAAATGACAACCTAAAGGGGACGGACTGCGGGAAACACAACGCACTTAACTCAGGCGTAGGTTCGAGTCTGCGCTGAAACCATCGAAAATGACCTCCGTGGAGCCTCCGATCCTTCTGGTCATAAGTGTCTATATGCGGTATGTGGTTCCGCGCTAATAGCTATGGTGAGCCACGAGGACGCAAGTGGCCTCGCCTGTCATAATCGTTGGGCTGCGTCGATTGTATGCATGACCTGTGTCATTAGTCCTTAGACGCCGTCTATTTAGCATTAGATCTTCCTAAGGCGGCGATTTCCAACGGATTTTAATTACCGGCCGTGAGTCGGACAACGTCGGTCTCGTCAGTACGGTCAACGTAAGTGGCTCGCTTAAGAGTGTAGCGGTTTCCATCTCATATAGTAGCTCATCCCCTAAGACACCAAATGGGAGCATATGGGGTCTGCATGAAGAGGACGGTAAACGGCCAAGCTGCGCGGTGGGAATTCCCAGTTGCGTTCAACGCAACATAATTGTTGTCGCCGATACTGGGAGTGACACGCTTGTAAACTACAAAATTATCGCGAGCTATGTAGCAATTTAAGCAGGCTCATCTTATCACAATTTCAGGGCGGAAAG',\n",
       " 'seq4': 'CGTAAACAATGTAGTAGAGTTACGTATAAATGACAATCTAAAGGGGACGGACTGCGGGAAACACAACGCACTTAACTCAGGCGTAGGTTCGAGTCTGCGCTGAAACCATCGAAAATGACCTCCGTGGAGCCTCCGATCCTTCTGGTCATAAGTCTCTATATGCGGTATGTGGTTCCGCGCTAATAGCTATGGTGAGCCACGAGGACGCAAGTGGCCTCGCCTGTCATAATCGTTGGGCTGCGTCGATTGTATGCATGACCTGTGTCATTAGTCCTTAGACGCCGTCTATTTAGCA',\n",
       " 'seq90': 'AAGGTCTCCATTGGGGACGCTGAAGCTCACGCGTCCTCGGCTGCAGGATTACAATGGAGCTGATGTCGCTGCGCTCGGGCATCAGTTCACTGGCATGCATTTCGACGCTGCACTAGGGATAGGAATTGTCGGCGACGCTTAGATGCGTCAAGTTAACCTAGGTCGGTTAATACCTCTTGCACCAGCGCCGGACTCAAGACCCCCAGTCGGACCCTTAGGGGCCTACGAAATCAGCCGGCCACCCGAGTGCCCTATCGCGTCAAACAGCGTCCAGACGACTAAGATGTTAGCGACTTCCAACCCTCCTCGCGGGTACTATAAATCTGGGGATTAACTCCTCGTAAACAATGTAGTAGAGTAACGTATAAATGACAATCTAAAGGGGACGGACTGCGGGAAACACAACGCACTTAACTCAGGCGTAGGTTCGAGTCTGCGCTGAAACCATCGAAAATGACCACCGTGGAGCCTCGGATCCTTCTGGTCATAAGCCTCTATATGCGGTATGTGGTTCCGCGCTAATAGCTATGGTGAGCCACGAGGACGCAAGTGGCCTCGCCTGTCATAATCGTTGGGCTGCGTCGATTGTATGCATGACCTGTGTCATTAGTCCTTAGACGCCGTCTATTTAGCATTGGATCTTCCTAAGGCGGCGATTTCCAACGGATTTTAATTACCGGCCGTGAGTCGGACACCGTCGGTCTCGTCAGTACGGTCAACGTAAGTGGCTCGCTTAAGAGTGTAGCGGTTTCCATCTCATATAGTAGCTCATCCCCTAAGACACCAAATGGGAGCATATGGGGTCTGCATGAAGAGGACGGTAAACGGCCAAGCTGCGCGGTGGGAATTCCCAGTTGCGTTCAACGCTACATAATTGTTGTCGCCGATACTGTGAGTGACACGCTTGTAAACTACAAAATTATCGCGAGCTATGTAGCAATTTAAGCAGGCTCATCTTATCACAATTTCAGGGCGGAAAG',\n",
       " 'seq43': 'AAGGTCTGAATTGGGGACGCTGAAGCTCAAGCGTATTCGGCGGCAGGATTACAATGGAGCTGACGTCGCTGCGCTCGGGCATCAGTTCACTGGCATGCGTTTCGTCGCTGCGCTAGGGATAGGAATTGTCGGCAACGCTTAGATGCGTCTAGTTAACCTAGGCCGGTTAATACCTCCTGCACTAGCGCCGGACTCAAGACCCCCAATCGGACCCTAAGGGGCCTACGAAATCAGCCGGACACCCGAGTGCCCTATCGCATCAAACAGCGTCCAGACGAATAAGATGTTAGCGACTATCAACCCTCCTCGCGGGTACTATAAATCTGGGGATTAACTCCTCGTAAACAATGTAGTAGAGTAACGTATAAATGACAAACTAAAGGGGACGGACTGCGAGTAACACAACGCACTTAACTCAGGCGTAGGTTCGAGTCTGCGCTGAAACCATCGAAAATGACCTCCGTGGAGCCGCCGATCCTTCTGGTCATAAGTGTCTATATGCGGTATGTGGTTCCGCGCTAATAGCTAAGGTGAGCCACGAGGACGCAAGTGGCCTCGCCTGTCATAATCGTTGGGTTGCGTCGATTGTATGCATGACCTGTGTCATTAGCCCTTAGACGTCGTCTATTTAGCATTGGACCTTCCTAAGGCGGCGATTTCCAATGGATTTTAATTAGCGCCCGTGAGTCGGACAACGTCAGTCTCGTCAAGACGGTCAACGTAAGTGGCTCGCTTAAGAGTGTGGCGGCTTCCATCTTATATAGTAGCTCATCCCCTAAGACACCAAATGGGAGCATATGGGGTCTGCATGAAGAGGGCGGTAAAGGGCCAAGATGGGCGGTGGAAATTCCCAGTTGCGTTCAACGCAACATAATTGTTGTCGCCGATACTGGGAGTGACACGCTTGTAAACTACAAAATTATCGCGAGCTATGTAGCAATTGAAACTGGCTCATCTGATCACAATTTCAGGGCGAAAAG',\n",
       " 'seq38': 'CCGTAAACAATGTAGTAGAGTAACGTATAAATGACAAACTAAAGGGGACGGACTGCGGGTAACACAACGCACTTAACTCAGGCGTAGGTTCGAGTCTGCGCTGAAACCATCGAAAATGACCTCCGTGGAGCCTCCGATCCTTCTGGTCATAAGTGTCTATATGCGGT',\n",
       " 'seq6': 'AAGGTCTGAGTTGGGGACGCTGAAGCTCACACGTATTCGGCGGCAGGATTACAATGGAGCTGATGTCGCTGCGCTCGGGCATCAGTTCACTGGCATGCGTTTCGTCGCTGCACTAGGGATAGGAATTGTCGGCAACGCTTAGATGCGTCTAGTTAACCTAGGCCGGTTAATACCTCCTGCACTAGCGCCGGACTCAAGACCCCCAATCGGACCCTAAGGGGCCTACTAAATCAGCCGGACACCCGAGTGCCCTATCGCGTCAAACAGCGTCCAGACGACTAAGATGTTAGCGACTATCAACCCTCCTCGCGGGTACTATAAATCTGGGGATTAACTCCCCGTAAACAATGTAGTAGAGTAACGTATAAATGACAAACTAAAGGGGACGGACTGCGGGTAAGACAACGCACTTAACTCAGGCGTAGTTTCGAGTCTGCGCTGAAACCATCGAAAATGACCTCCGTGGAGCCTCCGATCCTTCTGGTCATAAGTGTCTATATGCGGTATGTGGTTCCGTGCTAATAGCTAAGGTGAGCCACGAGGACGCAAGTGGCCTCGCCTGTCATAATCGTTGGGTTGCGTCGATTGTATGCATGACCTGTGTCATTAGTCCTTAGACGTCGTCTATTTAGCATTGGATCTTCCTAAGGCGGCGATTTCCAATGGATTTTAATTAGCGCCCGTGAGTCGGACAACATCAGTCTCGTCAAGACGGTCAACGTAAGTGGCTCGCTTAAGAGTGTGGCGGCTTCCATCTTATATAGTAGCGCATCCCCTAGGACACGAAATGGGAGCATATGGGGTCTGCATGAAGAGGGCGGTAAACGGCCAAGATAGGCGGTGGAAATTCCCAGTTGCGTTCAACGCAACATAATTGGTGTCGCCGATACTGGGAGTGACACGCTTGTAAACTACAAAATTATTGCGAGCTATGTAGCAATTGAAGCTGCCTCATCTGATCACAATTTCAGGGCGAAAAG',\n",
       " 'seq7': 'CTATATGCGGTATGTGGTTCCGTGCTAATAGCTAAGGTGAGCCACGAGGACGCAAGTGTCCTCGCCTGTCATAATCGTTGGGTTGCGTC',\n",
       " 'seq99': 'AAGGTCTGAATTGGGGACGCTGAAGCTCACGCGTATTCGGCGGCAGGATTACAATGGAGCTGATGTCGCTGCGCTCGGGCATCAGTTCACTGGCATGCGTTTCGTCGCTGCACTAGGGATAGGAATTGTCGGCAACGCTTAGATGCGTCTAGTTAACCTAGGCCGGTTAATACCTCCTGCACTAGCGCCGGACTCAAGACCCCCAATCGGACCCTAAGGGGCCTACGAAATCAGCCGGACACCCGAGTGCCCTATCGCGTCAAGCAGCGTCCAGACGACTAAGATGTTAGCGACTTTCAACCCTCCTCGCGGGTACTATAAATCTGGGGATTAACTCCTCGTAAACAATGTAGTAGATTAACGTATAAATGACAAACTAAAGGGGACGGACTGCGGGTAACACAACGCACTTAACTCAGGCGTGGGTTCGAGTCTGCGTTGAAACCATCGAAAATGACCTCCGTGGAGCCTCCGATCCTTCTGGTCATAAGTGTCTATATGCGGTATGTGGTTCCGCGCTAATAGCTAAGGTGAGCCACGAGGACGCAAGTGGCCTCGCCTGTCATAATCGTTGGGTTGCGTCGATTGTATGCATGACCTGTGTCATTAGTCCTTAGACGTCGTCTATTTAGCATTGGATCTTCCTAAGGCGGCGATTTCCAATGGATTTTAATTAGCGCCCGTGAGTCGGGCAACGTCGGTCTCGTCAAGACGGTCAACGTAAGTGGCTCGCTTAAGAGTGTGGCGGCTTCCATCTTATATAGTAGCTCATCCCCTAAGACACCAAATGGGAGCATATGGGGTCTGCATGAGGAGGGCGGTAAACGGCCAAGATGGGCGGTGGAAATTCCCAGTTGCGTTCAACGCAACATAATTGTTGTCGCCGATACTGGGAGTGACACGCTTGTAAACTACAAAATTATCGCGAGCTATGTAGCAATTGAAGCTGGCTCATCTGATCACAATTTCAGGGCGAAAAG',\n",
       " 'seq92': 'ATGGCCTGCCTTGTTGAGCCCGGAGCCCACAAACGATCGAAAGGGGGGTTACAACGGCGCTGAGGTCGCTGCAGACGGATACGTACTTATTGGCACTCACTGCGTCGCTTCTCGAGTAATGCAAATTGATGGTGAGGTTCCAACGTGGCTCGTAAACCTAGGTTCGGCGATTCTTCCTGCATTACGCTGGATTAGGAACCGCCATTTACACTCGAGAGAGCCTACGGATTCAGCCGGAGACACGTGAACCCCAGCACGCCGAACAGAGTCTAAACGATCTAGATGTAGCGCGCTTCTATACTTCACCACCCGTCTTATAACTACAGGGACTAGCTCATTATGTACAATGTCCACGACCAACTTATAAATGACAAATCAAAGGGGATGGACTGCAGGAAATACATCGCACATGACGCAGACCTAGATTCGAGCCCGAGCTGGAACCTAAGAAGGTGACTGCCAAGAAGTCTCCGGCCTTTTGGGTCGTAGATTCCATACGCAAATATGTACTTCCTCGCTGCGAGATCCTATCACCAGTCGGGCCGTAGGCGGGCTTAACTTGTAGTAATCATTGGGTTGCCTGGCCTGTATTCTTAACCTATTTCCTCAGTCCCTATTGGCTGCCTATTTGGCTAATTTTTAGTTTTAAATAAGGCGGCTCGCGAAGGACTTTAAAAGCCTCGTAAGGGTCGCACAAGTCCTGTCTTGTTCAGGCGATTGACTGAAATAGTTCGCTAAAGGATGTATGGGTTCTCATCTCATACGATAGGTCAATGGCTGATTCAAAACCAGGAACCAGATTGTCTCGAAAGGGCTGCTGGGGGACGCCTATGAAACACCGTGAAAACTACGATTTGCGGCTTAGCCAACATGGGGACGTGTACGGTTGAACGTCTTTATAGGAGATCCTACGTGGGAAACGCTCATGAACTACGAATCTGTCGCGAATTATGCACTGCTCTTGGCCGGCTCAGTCGATAACAAGTCAGGGCGACTAC',\n",
       " 'seq28': 'GGTCGTCGATTCCAGACGTGGATATGTACTTCCTCGCTGCGAGATCCTATCACCAGCCGGGACGTAGGCGGGCTTAACTTGTAGTAATCATTGGGTTGCCTGGCCTGTATTCATTACCTGTA',\n",
       " 'seq85': 'ATAGCCTGCCTTGTTGAGCCCGGAGCCCACAAACGATGGAAAGGGGGGTTACAACGGCGCTGAGGTCGCTGCAGACGGATAGGTACTTATTGGCACTCACTGCGTCGCTTCTCGAGGGATGCAAATTGATGGTGAGGTTCCAACGTGGCTCGTAAACCTAGGTTCGGCGATTCTTCCTGCATTACACTGGATTAGGGACGGCCATTTACACTCGAGAGAGCCTACGGATTCAGCCGGAGACCCGTGAACCCCAGCACGCCGAACAGAGTCTAAACGATCTGGATGTAGCGCGCTTCTACACTTCACCACCCGTCTTATAACTACAGGGAGTAGCTCATTGTGTACGATGTATCCCACGACCAACCTATAAATGACAAATCAAAGGGGATGGACTCCGGGAATTACACCGCACATGACGTAGACCTAGATTCGAGCCCCAGCTGAAACCTAAGGAAGTGACTGCCAGGAAGTCTCCGACCCTTTGGGTCTTCGATTCCAGGCGTGGATATGTACTTCCTCGCTGCGAGATCCTATCACCAGCCGGGACGTAGGCGGGCTTAACTTGTAGTAATCATTGGGTTGCCTGGCCTGTATTCATTACCTGTATCCTCAGTCCCTATTGGCTGCCTATTTGGCTAATTTTTAGTTTTAAATAAGGCGGCTCGCAAAGGGCTTTAAAAGCCTGGTAAGTGTCGCACAAGGCCCGTCTTGTTCAGGCGGTTAGCGGAAATAGTTCGTTAAAGAAGGTATGGGTTCTCATCTGATACGATGGGACAATGCCTGATTCAAAACCAGGAACCAGATTGTCTCGAAAGAGCCCCTGGGGGACGCCCATGACACACCGTGAAAACTACGATTTGCGGCTTAGCCAACATGGGGTCGTTTACGGTAGAACGTCTTTATAGGAGATCCTACGTGGGAAACGCTCATGAACTACGAATCTGGCGCGAATTATGCACTGCTCTTGGCCGGCTCAGTCGATAACAAGTCAGGGCGACTAC',\n",
       " 'seq55': 'ATGGCCTGCCTTGTTGAGCCCGGAGCCCACAAACGATCGAAAGGGGGGTTACAACGGCGCTGAGGTCGCTGCACACGGATATGTACTTATTGGCACTCACTGCGTCGCTTCTCGAGGGATGCAAATTGATGGTGAGGTTCCAACGTGGCTCGTAAACCTAGGTTCGGCGATTCTTCCTGTATTACACTGGATTAGGGACGGCCATTTACACTCGAGAGAGCCTACGGATTCCGCCGGAGACCGTGAACCCCAGCACGCCGAACAGATCTAAACGATCTAGATGTAGCGTGCTTCTACACTTCACCACCCGTCTTATAACTACAGGGAGTAGCTCATTGTGTACGATGTATCCCACGACCAACCTATAAATGACAAATCAAAGGGGATGGATTCCGGGAATTACATCACACATGACGTAGACCTTGATTCGAGCCCCAGCTGAAACCTAAGGAAGTGACTGCCAGGAAGTCTCCGACCCTTTGGGTCGTCGATTCCAGACGTGGATATGTACTTCCTCGCTGCGAGATCCTATCACCAGCCGGGACGTAGGCGGGCTTAACTTGTAGTAATCATTGGGTTGCCTGGCCTGTATTCATAACCTGTATCCTCAGTCCCTATTGGCTGCCTATTTGGCTATTTTTTAGTTTTAAATAAGGCGGCTCGCAAAGGGCTTTAAAAGCCTGGTAGGGGTCGCACAAGGCCCGTCTTGTTCAGGCGGTTAGCAGAAACAGTTCGTTAAAGAATGTATGGGTTCTCATCTGATACGATGGGACAATGCCTGATTCAAAACCAGGAACCAGATTGTCTCGAAAGAGCCCCTGGGGGACGCCCATGAAACACCGTGAAAACTACGATTTGCGGCTTAGCCAACATGGGGTCGTTTACGGTTGAACGTCGTTATAGGAGATCCTACGTGGGAAACGCTCATGAACTACGAATCTGGCGCGAATTATGCACTGCTCTTGGCCGGCTCAATCGATAACAAGTCAGGGCGACTAC',\n",
       " 'seq68': 'ATGGCCTGCCTTGTTGAGCCCGGAGCTCACAAACGATCGAAAGGGGGGCTACAACGGCGCTGAGGTCGCTGCACACGGATATGTACTTATTGGCACTCACTGCGTCGCTTCTCGAGGGATGCAAATTGATGGTGAGGTTCCAACGTGGCTCGTAAACCTAGGTTCGGCGATTCTTCCTGTATTACAATGGATTAGGGACGGCCATTTACACTCGAGAGAGCCTACGGATTCAGCCGGAGACCGTGAACCCCAGCACGCCGAACAGATCTAAACGATCTAGATGTAGCGTGCTTCTACACTTCACCACCCGTCTTATAACTACAGGGAGTAGCTCATTGTGTACGATGTATCCCACGACCAACCTATAAATGACAAATCAAAGGGGATGGATTCCGGGAATTACATCACACATGACGTAGACCTTGATTCGAGCCCCAGCTGAAAGCTAAGGAAGTGACTGCCAGGAAGTCTCCGACCCTTTTGGTCGTCGATTCCAGACGTGGATATGTACTTCCTCGCTGCGAGATCCTATCACCAGCCGGGACGTAGGCGGGCTTAACTTGTAGTAATCATTGGGTTGCCTGGCCTGTATTCATAACCTGTATCCTCAGTCCCTATTGGCTGCCTATTTGGCTAATTTTTAGTTTTAAATAAGGCGGCTCGCGAAGGGCTTTAAAAGCCTGGTAAGGGTCGCATAAGGCCCGTCTTGTTCGGGCGGTTAGCAGAAACTGTTCGTTAAAGAATGTATGGGTTCTCATCTGATACGATGGGACAATGCCTGATTCAAAACCAGGAACCAGATTGTCTCGAAAGAGCCCCTGGGGGACGCCCGTGAAACACCGTGAAAACTACGATTTGCGGCTTAGCCAACATGGGGTCGTTTACGGTTGAACGTCGTTATAGGAGATCCCACGTGGGAAACGCTCATGAACTACGAATCTGGCGCGAATTATGCACTGCTCTTGGCCGGCTCAATCGATAACAAGTCAGCGCGACTAC',\n",
       " 'seq13': 'CCTAGATTCGAGCCCCAGCTGAAACCTAAGGAAGTGACTGCCAGGAAGTCTCCGACCCTTTGGGTCGTCGATTCCAGACGTGGATAAGTACTTCCTTGCTGCGAGATCCTATCACCAGCCGGGGCGTAGGCGGGCTTAACTTGTAGTAATCATTGGGTTGCCTGGCCTGTATTCATAACCTGTATCTTCAGTCCCTATTGGCTGCCTATTTGGCTAATTTTTAGTTTTAAAT',\n",
       " 'seq53': 'GACAAATCAAAGGGGATGGATTCCGGGAATTACATCGCACATGACGTAGACCTAGATTCGAGCCCCAGCTGAAACCTAAGGAAGTGACTGCCAGGAAGTCTCCGACCCTTTGGGTCGTCGATTCCAGACGTGG',\n",
       " 'seq56': 'TACATCGCTCATGACGTAAACCTAGATTCGAGCCCCAGCTGAAACCTAAGGAAGTGACTGCCAGGAAGTCTCCGACCCTTTGGGTCGTCGATTCCAGACGTGGATATGTACTTCCTCGCTGCGAGATCCTATCACCAGCCGGGACGTAGGCGGGCTTAACTTGTAGTAATCATTGCGTTGCCTGGCCTGTATTCATAACCTGTATCCTCAGTCCCTATTGGCTGCCTATTTGGCTAATTTTTA',\n",
       " 'seq79': 'ATGTATCCCACGACCAACCTATAAATGACAAATCAAAGGGGATGGATTCCGGGAATTACATCGCACATGACGTAGACCTAGATTCGAGCCCCAGCTGAAACCTAAGGAAGTGACTGCCAGGAAGTCTCCGACCCTTTGGGTCGTCGATTCCAGACGTGGATATGTACTTCCTCGCTGCGAGATCCTATCACCAGCCGGGACGTAGGCGGGCTTAACTTGTAGTAATCATTGCGTTGCCTGGCCTGTATTCATAACCTGTATCCTCAGTCCCTATTGGCTGCCTATTTGGC',\n",
       " 'seq35': 'ATGGCCTGCCTTGTCGAGCCCGGAGCCCACAAACGATCGAAAGGGGGGTTACAACGGCGCTGAAGTCGCTGCAGACGGATATGTACTTATTGGCACTCACTGCGTCGCTTCTCGAGGGATGCAAATTGATGGTGAGGTTCCAACGTGGCTCGTAAACCTAGGTTCGGCGATTCTTCCTGCATTACACTGGATTAGGGACGGCCATTTACACTCGAGAGAGCCTACGGATTCAGCCGGAGACCCGTGAACCCCAGCACGCCGAACATAGTCTAAACGATCTAGATGTAGCGTGCTTCTACACTTCACCACCAGTCTTATAACTACAGGGAGTAGCTCATTGTGTACGATGTATCCCACGACCAACCTATAAATGACAAATCAAAGGGGATGGATTCCGGGAATTACATCGCACAAGACGTAGACCTAGATTCGAGCCCCAGCTGAAACCTAAGGAAGTGGCTGCCAGGAAGTCTCCGACCCTTTGGGTCGTCGATTCCAGACGAGGATATGTACTTCCTCGCTGCGAGATCCTATCACCAGCCGGGACGTAGGCGGGCTTAACTTGGAGTAATCATTGGGTTGCCTGGCCTGTAGTCATAACCTGTATTCTCAATCCCTATTGGCTGCCTATTTGGCTAATTTTTAGTTTTAAATAAGGCGGCTCGCAAAGGGCTTTAAAAGCCTGGTAAGGGTCGCACAAGGCCCGTCTTGTCAAGGCGGTTAGCAGAAACAGTTCGTTAAAGAATGTATGGGTTCTCATCTGATACGATGGGACAATGCCTGATTCAAAACCAGGAACCAGATTGTCTCGAAAGAGCCCCTGGGGGACGCCCATGAAACACCGTGAAAACTACGATTTGCGGCTTAGCCAACATGGGGTCGTTTACGGTTGAACGTCTTTATAGGAGGTCCTACGTGGGAAACGCTCATGAACTACGAATCTGGCGCGAATTATGCACTGCTCTTGGCCGGCAGTCGATAACAAGTCAGGGCGACTAC',\n",
       " 'seq52': 'TGACTGCCAGGAAGTCTCCGACCCTTTGGGTCGTCGATTCCAGACGTGGATATGTACTTCCTC',\n",
       " 'seq16': 'CCCTTTGGGTCGTCGATTCCAGACGTGGATATGTACTTCCTCGCTACGAGATCCTATCACCAGCCGGGACGTA',\n",
       " 'seq29': 'CAGACGTGGATATGTACTTCCTCGCTACGAGATCCTATCACCAGCCGGGACGTAGGCGGGCTTAACTTGGAGTAATCATTGGGTTGCCTG',\n",
       " 'seq30': 'CTGAAACCTAAGGAAGTGACTGCCAGGAAGTCTCCGACCCTTTGGGTCGTCGATTCCAGACGTGGATATGTACTTCCTCGCTACGAGATCCTATCACCAGCCGGGACGTAGGCGGGCTTAACTTGGAGTAATCATTGGGTT',\n",
       " 'seq9': 'AGTCTCCGACCCTTTGGGTCGTGGATTCCAGACGCGGATATGTACTTCCTCGCTGCGGGGTCCTATCACCAGACGGGACTTAGGCGGGCTTGACTTGTAGTAATCATTGGGTTGTCTGACCCGTATTCATAACCTGTGTCCTCAGTCCCTATAGGCTGCCTATTTGGCTAAT',\n",
       " 'seq93': 'ATGTATCCCACGACCAACCTATAAATGACAAATCAAAGGGGATGGACTGCGGGAATTACATCGCACATGACGTAGACCTAGATTCGAGCCCGAGCTGAAGCCTAAGGAAGTGACTGCCAGGAAGTCTCCGACCCTTTGGGTCGTAGATTCCAGACGCGGTTATGTACTTCCTCGCTGCGAGGTCCTATGACCAGCCGGGACTTAGGCGGGCTTAACTTGTAGTAATCATTGGATTGTCTGGCCTGTATTCATAACCTGTATCCTCAGTCCCTATTGGCTGCCTATTTGGCTAATTTTTAGTTTTAAATAAGGCGGCTCGCAAAGGGCTTTAAAAGCCTGGTAAG',\n",
       " 'seq86': 'CATTACAAACAAAGTCCTCGACCAACGTATAAACGGCTAACCAGAGCGGGTGAACTGTGGGAAGTAAATCGAACATGGCCCGAAGGTAGGTTCGAGTCGGTGCAGAATCCCTAGAGGATGAGTGCCCAGCACCGTCCGATCCTTCCGGTCGTGGAATTCAATACTCGCAGATGAGGTTACCCACTGAGAGATCAAAGCACTGTTCGGGGTGTAAACGGCCTTTACTGTAGTAATGGTTGGGTTACGTCAACCGTATGCGTAAGCTGAATCATTAGTCCTAAGAGGCTGCCTATTTGGTTAATTTAACGGTTCCCACTCGGCGGTTTTCAAAGGCCTTTAAGAGCCGCGTATGGATCGCACGAGTCTGGTCTTATTCA',\n",
       " 'seq71': 'CTACACTGCGTTGTTGGCCCCGAAGCTCACCCACGGTAGAAAGCGGGGTTATAATGGTGCTTAAGTAGGTACAAACGGATACGGACGTACTGACGCGACATGCCTCGCTTCACAAGGATTGGAATCTGTTGATGACGTTTAGGTATGGCTCATAAAATTAGGTCCGGCAGTCCTACATGCCTTACGCTGGATTAAGCACTCCCATTTACGCACGACAGAGCTTACGGAATCAGCTGCGCACCCGAGAACACCTGTACGTCTAGTACAGTCGAAACGATCTAGATGTAAAAAAGTTCTAAGCTTCATCACGCGGCTTAGAACTTCAGGCACGAGCTCATTACAAACAAAGTCCTCTACCAACCTATAAACGACTAACCAGAGCGGGTGAACTGCGGGAAGTAAATCGAACATGGCCCGAAGGTAGGTTCGAGTCGGTGCAGAATCCCTAGGGGATGAGTGCCCAGCACCGTCCGACCCTTCCGGTCGTAGAATTCAATACTCGCAGATGAGGTTCCCCACTGAGAGATCAAAGCACTGTTCGGGGTGTAAACGGCCTTTACTGTAGTAATGGTTGGGTTACGTCAACCGTATGCGTAAGCGGAATCATTAGTCCTAAGAGGCTGCCTATTTGGTTAATTTAACGGTTCCCACTCGGCGGTTTTCAAAGGCCTTTAAGAGCCGCGTATGGATCGCACGAGTCTGGTCTTATTCAGGCGGTCGACGAAATTAGACCGGTAGAAGATGTAATGGCTTCTCTCTCATATGGTTACTCAATTCCTGATTCAAAAACAGGGAACATATGATGTTTCCGGGAGTCGGACGGGGAACAGCTACGACACACCTTGACAATTGCGGTTTACTGCCTGGCCAACTTGGGGCAGTTCACGGTTGGAACATCTTTATACGCGATCGCGTGAGGGAAACGTTTAGCAACTACTAATCTTTCAAGAACTATGCATAATGGCCAGGCGGCTCGGTGAGTAACAAGCCAGGGCGAATAC',\n",
       " 'seq76': 'CTACACTGCTTTGTTGGCCCCGAAGCTCACCCACGGTAGAAAGCGGGGTTATAGTGGTGCTTAAGTAGGTACAGACGGATACGGACGTACTGACGCGACATGCCTCGCTTCACAAGGATTGGAATCTGTTGATGACGCTTAGGTACGGCTCATAAAATTAGGTCCGGCAGTCCTACATGCCTTACGCTGGATTAAGGACTCCCATTTACACACGACAAAGCTTACGGAATCAGGTGCGCACCCGAGAACACCTGTACGTCTAGTACAGTCGAAACGATCTAGATGTAAAAGAGTTCTAAGCTTCATCACGCGGCTTAGAACTTCAGGCACGAGCTCATTACAAACAAAGTCCTCTACCAACGTATAAACGACTAACCAGAGCGGGTGAACTGCGGGAAGTAAATCGAACATGGACCGAAGGGAGGTTCGAGTCGGTGCAGAATCCCTAGAGGATGAGTGCCCAGCACCGTCCGATCCTTCCGGTCGTGGAATTCAATACTCGTAGATGAGGTTCCCCACTGAGAGATCAAAGCACTGTTCGGGGTGTAAACGGCCTTTACTGTAGTAATGGTTGGGTCACGTCAACCGTATGCGTAAGCGGAATCATTAGTCCTAAGAGGCTGCCTATTTGGTTAATTTAACGGTTCCCACTCGGCGGTTTTCAAAGGCCTTTAAGAGCCGCGTATGGATCGCACGAGTCTGGTCTTATTCAGGCGGTCGACGGAATTAGACCGGTAGAAGATGTAATGGCTTCTCTGTCATATGGTTACTCAATTCCTGATTCAAAAACAGGGAACATATGATGTTTTCGGGAGTCGGACGGGGAACAGCTACGACACACCTTGACAATTGCGGTTTACTGCCTGGCCAACTTGGGGCAGTTCACGGTTGGAACATCTTTATACGCGATCGCGTGAGGGAAACGTTTAGCAACTACTAATCTTTCAAGAACTATGCATAATGGCCAGCCGGCTCGGTGAGTAACAATCCAGGGCGAATAC',\n",
       " 'seq70': 'CTACACTGCGTTTTTGGCCCCGAAGCTCACCCACGGTAGAAAGCGGGGTTATGATGGTGCTTAAGTCGGTACAGACGGATACGGACGTACCGACGCGACATGCATCGCTTCACAAGGATTGGAATCTGTTGATGACGCTTAGGTACGGCTCATAAAATTAGGTCCGGCAGTCCTACATGCCTTACGCTGGATTAAGGACTCCCATTTTCACATGACAGAGCTTACGGAATCAGCTGCGCACCCGAGAACCCCTGTACTTCAAGCAGAGTCGAAACGATCTAGATGTAAAAGAGTTCCAAGCTTCATCACGCGGCTTAGAACTTCAGGCATGAGCTCATTAGAAACAAAGTCCTCGACCAACGTATAAACGACTAACCAGAGCGGGTGAACTGCGGGAAGTAAATCGAACACGGCCCGAAGGTAGGTTCGAGTCGGTGCAGAAACCCTAGAGAATGAGGGCCCAGCACCGTCCGATCCTTCCGGTCGTGGAATTCAATACTCGCAGATGAGGTTCCCCACTGCGAGATCAAAGCACTGGACGGGATGTAAACGGCCTTTACTGTAGTAATGGTTGGGTTGCGTCAACCGTATGCGTAAGCTGAATCATTAGTCCTAAGAAGCTGCCTATTTGGTTAATTTAACGGTTCCAACTCGGCGGTTTTCAAAGGACTTTAAGAGCCGCGTATGGATCGCACGAGTTTGGTCTTATTCAGGCGGTCGACGGAAATAGACCGGTAGAGGATGTAATGGCTTCCATCTCATATGGTTACTCAATTCCTGATTCAAAAACATGGAACATATGATGTTTCCGGGAGTCGGACGGGGAACGGCTACGACACACCTTGAGAATCGCGATTTACTGCCTGGCCAACTCGGGGCCGTTCACAGTTGGAACATCTTTATAGGCGATCGCGTGAGGGAAACACTTAGCAACTACTAATCTTTCAAGAACTATGCATAATGGCTAGCCGGCTCGGTGGGTAACAATCCAGGGCGAATAC',\n",
       " 'seq74': 'GTGAACTGCGGGAAGTAAATCGAACACGGCCCGAAGGTAGGTTCGAGTCGGTGCAGAAACCCTAGAGGATGAGGGCCCAGCACCGTCCGATCCTTCCGGTCGTGGAATTCAATACTCGCAGATGAGGTTCCCCACTGAGAGATCAAAGC',\n",
       " 'seq42': 'CTAAACTGTGGTGCTGGCCTCGAAGCTCACCCACGGTAGAAAGCGGGGTTATGATGGTGCTTAAGTCGGTACAGACGGATACGGACGCACTGACGCGACATGCATCGCTTCACAAGGATTGGAATCTGTTGATGACGCTTAGGTACGGCTCATAAAATTAGGTCCGGCAGTCCTACATGCCTTACGCTGGATTAAGGACTTCCATTTACACATGACAGAGCCTACGGAATTAGCCGCGCACCTGAGAACCCCTGTACGTCAAGCAGAGTCGAAACGATCTAGATGTAAAAGAGTTCCAAGCTCCATCACGCGGCTTAGAACTTCAGGCATGAGCTCATTAGAACCAAAGTCCTCGACCAACGTATAAACGACTAACCAGAGCGGGTGAACTGCGGGAAGTAAATCAAACACGGCCCGAAGGTAGGTTCGAGTCGGTGCAGAAACCCTAGAGGATGAGGGACCAGTACCGCCCGATTCTTCCGGTCGTGGAATTCAATACTCGCAGATGAGGTTCCCTACAGAGAGGGCAAAGCACTGGCCGGGATGTAAACGGCCTTTACTGTAGTAATGGTTGGGTTACGTCTACCGTATGCGTACGCAGAATCATTAGTCTTAAGAGGCTGCCTATTTGGTAAATTTAATGGTTCCAACTCGGCGGTTTGCAAAGGACTTTAAGAGCCGCGTATGGATCGCACGAGTTTGGTCTTATTCAGGCGGTCGACGGAAATAGACTGGTAGAGGATGTAATGGCTTCCATCTCATATGGTTACTCAATTCCTGAGTCAAAAACAGGGAACATATGATGTTTCCGGGAGTCGGACGGGCAACGGCTACGAGACACCTTGAGAATTGCGATCTACTGCCTGGCCAACTTGGGGCCGTTCACAGTTGGAAGATCTTTATAGGCGATCGCGTGAGGGAAACACTTAACAACTACCGATCTTTCAAGAACTATTCATAATGGCTGGCCGGCTCGGTGGGTAACAATCCAGACCGAATAC',\n",
       " 'seq10': 'CTACACTGCGGTGCTGGCCTCGAAGCTCACCCACGGTAGAAAGCGGGGTTATGATGGTGCTTAAGTCGGTACAGACGGATACGGACGTACTGACGCGACATGCATCGCTTCACAAGGATTGGAATCTGTTGATGACGCTTAGGTACGGCTCATAAAATTAGGTCCGGCAGTCCTACATGCCTTACGCTGGATTAAGGACTTCCATTTACACATGACAGAGCTTACGGAATTAGCTGCGCACCCGAGAACCCCTGTACGTCAAGCAGAGTCGAAACGATCTAGATGTAAAAGAGTTCCAAGCTCCATCACGCGGCTTAGAACTTCAGGCATGAGCTCATTAGAACCAAAGTCCTCGACCAACGTATAAACGACTAACCAGAGCGGGTGAACTGCGGGAAGTAAATCGAACACGGCTCGAAGGTAGGTTCGAGTCGGTGCAGAAACCCTAGAGGATGAGAGACCAACACCGCCCGATCCTTCCGGTCGTGGAATTCAATACTCGCAGATGAGGTTCCCCACAGAGAGAGCAAAGCCCTGGCCGGGATGTAAACGGCCTTTACTGTAGTAATGGTTGGGTTACGTCAACCGTATGCGTACGCAGAAACATTAGTCTTAAGAGGCTGCCTATTTGGTAAATTTAATGGTTCCAACTCGGCGGTTTTCAAAGGACTTTAAGAGCCGCGTATGGATCGCACGAGTTTGGTCTTATTCAGGCGGTCGACGGAAATAGACTGGTAGAGGATGTAATGGCTTCCATCTCATATGGTTACTCAATTCCTGAGTCAAAAACACGGAACATATGATGTTTCCGGGAGTCGGACGGGCAACGGCTACGACACACCTTGAGAATTGCGATCTACTGCCTGGCCAACTTGGGGCCGTTCACAGTTGGAACATCTTTATAGGCGATCGCGTGAGGGAAACACTTAACAACTACCAATCTTTCAAGAACTATGCATAACGGCTGGCCGGCTCGGTGGGTAACAATCCAGGCCGAATAC',\n",
       " 'seq36': 'AAGTCCTCGACCAACGTATAAACGGCTAACCAGAGCGGGTGCACTGCGGGAAGTAAATCGAACACGGCCCGAAGGTAGGTTCGAGTCGGTGCAGAAACCCTAGAGGATGAGGGACCAGCACCGCCCGATCCTTCCGGTCGTGGAATTCAATACTCGCAGATGA',\n",
       " 'seq40': 'AACTGCGGGAAGTAAATCGAACACGGCCCGAAGGTAGGTTCGAGTCGGTGCAGAAACCCTAGAGGATGAGGGACCAGCACCGCCCGCTCCTTCCGGTCGTGGAATTCAATACTCGCAGATGAGGTTCCC',\n",
       " 'seq63': 'CCAAAGTCCTCGACCGACGTATAAACGACTAACCAGAGCGGGTGAACTGCGGGAAGTAAATCGAACACGGCCCGAAGGTAGGTTCGAGTCGGTGCAGAAACCCTAGAGGATGAGGGACCAGCACCGCCCGCTCCTTCCGGTCGTGGAATTCAATACTCACAGATGAGGTTCCCCACAGAGAGAGCAAAGCACTGCCCGGGATGTAAACGGCCTTTACTG',\n",
       " 'seq27': 'AGCTCCATCACGCGGCTTAGAACTTCAGGCATGAGCTCATTAGAACCAAAGTCCTCGACCGACGTATAAACGACTAACCAGAGCGGGTGAGCTGCGGGAAGTAAATCGAACACGGCCCGAAGGTAGGTTCGAGTCGGTGCAGAAACCCTAGAGGATGAGGGACCAGCACCGCCCGCTCCTTCCGGTCGTGGAATTCAATATTCGCAGATGAGGTTCCCCACAGAGAGAGCAAAGCACTGCCCGGGATGTAAACGGCCTTTACTGTAATAATGGTTGGGTTACGTCAACCGTATGCGTACGCAGAATCATTAGTTTTAAGAGGCTGCCTATTTGGTAAATTTAATGGTTCCAACTCGGCGGTTTTC',\n",
       " 'seq34': 'TCGAACACGGCCCGAAGGTAGGTTCGAGTCGGTGCAGAAACCCTAGAGGATGAGGGACCAGCACCGCCCGCTCCTTCCGGTCGTGGAATTCAATATTCGCAGATGAGGTTCCCCACAGAGAGAG',\n",
       " 'seq19': 'GAGGATGAGGGACCAGCACCGCCCGCTCCTTCCGGTCGTGGAATTCAACACTCGCAGATGAGGTTCCCCACAGAGAGAGCAAAGCACTGCCCGGGATGTAAACGGCCTTTACTGTAGTAATGGTTGGGTTACGTCAACCGTATGCGTACGC',\n",
       " 'seq3': 'CTACACTGCGGTGCTGGCCTCGAAGCTCACCCACGGTAGAAAGCGGGGTTATGATGGTGCTTAAGTCGGTACAGACGGGTACGGACGTACTGACGCTACATGCATCGCTTCACAAGAATCGGAATCTGTTGATGACGCTTAGGTACGGCTCATAAAATTAGGTCCGGCAGTCCTACATGCCTTACGCCGGATTAAGGACTTCCATTTACATATGACAGAGCTTACGGAATTAGCTGCGCACCCGTGAACCCCTGTACGTCAAGCAGAGTCGAAACGATCTAGATGTAAAAGAGTTCCAAGCTCCATCACGCGGCTTAGAACTTCAGGCATGAGCTCATTAGAACCAAAGTCCTCGACCGACGTATAAACGACTAACCAGAGCGGGTGAACTGCGGGAAGTAAATCGAACACGGCCCGAAGGTAGGTTCGGGTCGGTGCAGAAACCCTAGAGGATGAGGGACCAGCACCGCCCGCTCCTTCCGGTCGTGGAATTCAATACTCGCAGATGAGGTTCCCCACAGAGAGAGCAAAGCACTGCCCGGGATGTAAACGGCCTTTACTGTAGTAATGTTGGGTTACGTCAACCGTATGCGTACGCAGAATCATTAGTCTTAAGAGGCTGCCTATTTGGTAAATTTAATGGTTCCAACTCGGCGGTTTTCAAAGGACTTTAAGAGCCGCGTATGGATCGCACGAGTTTGGTCTTATTCGGGCGGTCGACGGAAATCGACTGGTAGAGGATGTAATGGCTTCCATCTCATATGGTTTCTCAATTCCTGAGTCAAAAACACGGAACATATGATTCCGGGAGTCGGACGGTTAACGGCTACGACACACCTTGAGAATTGCGATCTACTGCCTGGCCAACTAGGGGCCGTTCACAGTTGGAACATCTTTATAGGCGATCGCGTGAGGGAAACACTTAACAACTACCAATCTTTCAAGAACTATGCATAATGGCTGGCCGGCTCGGTGGCTAACAATCCAGGCCGAATAC',\n",
       " 'seq66': 'CTAGACTGCGGTGCTGGCCTCGAAGCTCACCCACGGTAGAAAGCGGGGTTATGATGGTGCTTAAGTCGGTACAGACGGATACGGACGTACTGACGCGACATGCATCGCTTCACAAGAATCGGAATCTGTTGATGACGCTTAGGTACGGCTCATAAAATTAGGTCCGGCAGTCCTACATGCCTTACGCTGGATTAAGGACTTCCATTTACATATGACAGAGCTTACGGAATTAGTTGCGCACCCGTGAACCCCTGTACGTCAAGCAGAGTCGAAACGATCTAGATGTAAAGGAGTTCCAAGCTCCATCACGCGGCTTAGAACTTCAGGCATGAGCTCATTAGAACCAAAGTCCTCGACCGACGTATAAACGACTAACCAGAGCGGTTGAACTGCGGGAAGTAAATCGAACACGGCCCGAATGTAGGTTCGGGTCGGTGCAGAAACCCTAGAGGATGAGGGACCAGCACCGCCCGCTCCTTCCGGTCGTGGAATTCAATACTCGCAGATGAGGTTCCCCACAGAGAGAGCGAAGCACTGCCCGGGATGTAAACGGCCTTTACTGTAGTTATGGTTGGGTTACGTCAACCGTATGCGTACGCAGAATCATTAGTCTTAAGAGGCTGCCTATTTGGTAAATTTAATGGTTCCAACTCGGCGGTTTTCAAAGAACTTTAAGAGCCGCGTATGGATCGCACGAGTTTGGTCTTATTCGGGTGGTCGACGGAAATCGACTGGTAGAGGATGTAATGGCTTCCATCTCATATGGTTACTCAATTCCTGAGTCAAAAACACGGAACATATGATTCCGGGAGTCGGACGGTCAACGGCTACGACACACCTTGAGAATTGCGATCTACTGCCTGGCCAACTAGGGGCCGTTCACAGTTGGAACATCTTTATAGGCGATCGCGTGAGGGAAACACTTAACAACTACCAATCTTTCAAGAACTATGCATAATGGCTGGCCGGCTCGGTGGCTAACAATCCAGGCCGAATAC',\n",
       " 'seq84': 'CTACACTGTGTTGTTGTCCCCGAAGCTCACCCACGGTAGAAAGCGGGGTTATGATGGTGCTTAAGTCGGTACAGACGGATACGGACGTACTGACGCGACATGCATCGCTTCACAAGGATTGGAATCTGTTGATGACGCTTAGGTACGGCTCATAAAATTAGGTCCGGCAGTCCTACATGCCTAAAGCTGGATTAAGGACTTCCATTTACACATGACTGAGCTTACGGAATCGGCTGCGCACCCGGGAACCCCTGTACGTCAAGCAGAGTCGAAACGATCTGGATGTAAAAGAGTTCCAAGCTTCATCATGCGGCTTAGAACTTCAGGCATGTGCTCATTAGAAACAAAGTCCTCGACCAACGTATAAACGACTAACCAGAGCGGGTGTACTGCGGGAAGTAAATCGAACACGGCCCGAAGGTAGGTTCGAGTCGGTGCTGAAACCCCAAAGGATGAGGACCCAGCACCGTCCGATCCTTCCGGTCGTGGAATTCAATACTCGCAGATGAGGTTCCCCACTGAGAGGTCAAAGCACTGGTCGGGATGTACACGGCCTTTACTGTAGTCATGGTTGAGTTCCGTCACCCGTATGCGTAAGCTGAATCATTAGTCTTAAGAGGCTGCCTATTTGGTTAATTTAACGGTTCCAACTCGGCGGTTTTCAAAGGACTTTAAGAGCCGCGTATGGATCGCACGAGTTTGGTCTTATTCAGGCGGTCGACGGAAATAGACCGGTAGAGGATGTAATGGCTTCCATCTCATATGGTTACTCAATTCCTGAATCAAAAACAGGGTACATATGGTGTTTCCGGGAGTCGGACGGGCAACGGCTATGACACACCTTGAGAATTGCGAGTTACTGCCTGGCCAACTTGGGGCCGTTCACAGTTGCAACATCTTTATTGGCGATCGCGTGAGGGAAACACTTAGCAACTACTAATCTTTCAAGAACTATGGGTATTGGCTAGCCGGCTCGGTGGGTAATAATCCAGGGCGAATAC',\n",
       " 'seq95': 'CTACACTGCGTTGTTGACCCCGAAGCTCACCCACGGTAGAAAGCGGGGTTATGATGGTGCTTAACTCGGTACAGACGGATACGGACGTACTGACGCGACATGCATCGCTTCACAAGGATTGGAATCTGTTGATGACGCTTAGGTACGGCTCATAAAATTAGGTCCGGCAGTCCTACATGCCTTACGCTGGATTAAGGACTTCCATTTACACATGACAGAGCTTACGGAATCAGCTGCGCACCCGAGAACCCCTGTACGTTAAGCAGAGTCGAAACGATCTGGATGTAAAAGAGTTCCAAGCTTCATCATGCGGCTTAGAACTTCAGGCATGAGCTCATTAGAAACAAAGTCCTCGACCAACGTATAAACGACTAACCAGAGCGGGTGAACTGCGGGAAGTAAATCGAACACGGCCCGAAGGTAGGTTCGAGTCGGTGCTGAAACCCCACAGGATGAGGGCCCAGCACCGTCCGATCCTTCCGGTCGTGGAATTCAATACTCGCAGATGAGGTTCCCCACTGAGAGGTCAAAGCACTGGTCGGGATGTACACGGCCTTTACTGTAGTAATGGTTGGGTTACGTCATCCGTATGCGTAAGCTGAATCATTAGTCTTAAGAGGCTGCCTATTTGGTTAATTTAACGGTTCCAACTCAGCGGTTTTCAAAGGACTTTAAGAGCCGCGTATGGATCGCACGAGTTTGGTCTTATTCAGGCGGTCGACGGAAATAGACCGGTAGAGGATGTAATGGCTTCCATCTCATATGATTACTCAATTCCTGAATCAAAAACAGGGAACATATGGTGTTTCCGGGAGTCGGACGGGCAACGGCTATGACACACCTTGAGAATTGCGAGTTACTGCCTGGCCAACTTGGGGCCGTTCACAGTTGCAACATCCTTATTGGCGATCGCGTGAGGGAAACGCTTAGCAACTACTAATCTTTCAAGAACTATGGATAATGGCTAGCCGGCTCGGTGGGTAATAATCCAGGGCGAATAC',\n",
       " 'seq44': 'CTACACTGCGTTGTTGACCCCGAAGCCCACCCACGGTAGAAAGCGGGGTTATGATGGTGCTTAATTCGGTACAGACGGATACCGACGTACTGACGTGACATGCATCGCTTCACAAGGATTGGAATCTGTTGATCACGCTTAGGTACGGCTCATAAAATTAGGTCCGGCAGTCCTACATGCCTTACGCTGGATTAAAGACTTCCATTTACACATGACAGAGCTTACGGAATCAGCTGCGCACCCGAGAACCCCTGTACGTTAAGCAGAGTCGAAACGATCTGGATGTAAAAGAGTTCCAAGCTTCATCATGCGGCTTAGAACTTCAGGCATGAACTCATTAGAAACAAGGTCCTCGACCAACGTATAAACGACTAACCAGAGCGGGTGAACTGCGGGAAGTAAATCGAACACGGCCCGAAGGTAGGTTCGAGTCGGTGCTGAAACCCCAAAGGATGAGGGCCCAGCACCGTCCGATCCTTCCGGTCGTGGAATTCAATACTCGCAGATGAGGTTCCCCACTGAGAGGTCAAAGCACTGGTCGGGATGTACACGGCCTTTACTGTAGTAATGGTTGGGTTACGTCAACCGTATGCGTAAGCTTAATCATTAGTCTTAAGAGGCTGCCTATTTGGTTAATTTAACGGTTCCAACTCGGCGGTTTTCAAAGGACTTTAAGAGCCGCGTATGGATCGCACGAGTTTGGTCTTATTCAGGCGGTCGACGGAAATAGACCGGTAGAGGATGTAATGGCTTCCATCTCATATGGTTACTCAATTCCTGAATCAAAAACAGGGAACATATGGTGTGTCCGGGAGTCGGACGGGCAACGGCTATGACACACCTTGAGAATTGCAATTTACTGCCTGGCCAACTTGGGGCCGTTCACAGTTGCATCATCCTTATTGGCGATCGCGTGAGGGAAACGCTTAGCAACTACTAATCTTTCAAGGACTATGGATAATGGCTAGCCGGCTCGGTGGGTAATAATCCAGGGCGAGTAC',\n",
       " 'seq2': 'GGTGTTGAAACCCCAAAGGATGAGGGCCCAGCACCGTCCGATCCTTCCGGTCGTGGAATTCAATACTCGCAGATGAGGTTCCCCACTGAGAGGTCAAAACACTGGTCGGGATGTACACGGCCTTTACTGTAGTAATGGTTGGGTTACGTCAACCGTATGCGTAAGCTTGATCATTAGTCTTAAGAGGCTGCTTATTTGGTTTATTTAACGGTTCCAACTCGGCGGTTTTCAAAGGACTTTAAGAGCCGCGTATGGATCGCACGAGTTTGGTCTTATTCAGGCGGTCGACGGAAA',\n",
       " 'seq17': 'CTACACTGCGTTGTTGACCCCGAAGCTCACCCACGGTAGAAAGCGGGGTTATGATGGTGCTTAATTCGGTACAGACGGATACGGACGTACTGACGCGACATGCATCGCTTCACAAGGATTGGAATCTGTTGGTCACGCTTAGGTACGGCTCATAAAATTAGGTCCGGCAGTCCTACATGCCTTACGCTGGCTTAAAGACTTCCATTTACACATGACAGAACTTACGGAATCAGCTGCGCACCCGGGACCCCCTGTACCTTAAGCAGAGTCGAAACGATATGGATGTAAAAGAGTTCCAAGCTTCATCATGCGGCTTAGAACTTCAGGCATGAATTCATTAGAAACAAAGTCCTCGACCAACGTATAAACGACTAACCAGAGCGGGTGAACTGCGGGAAGTAAATCGAACACGGCCCGAAGTAGGTTCGAGTCGGTGCTGAAACCCCAAAGGATGAGGGCCCAGCACCGTCCGATCCTTCCGGTCGTGGAATTCAATACTCGCAGATGAGGTTCCCCACTGAGAGGTCAAAGCACTGGTCGGGATGTACACGGCCTTTACTGTAGTAATGGTTGGGTTACGTCAACCGTATGCGTAAGCTTGATCATTAGTCTTAAGAGGCTGCCTATTTGGTTAATTTAACAGTTCCAACTCGGCGGTTTTCAAAGGACTTTAAGAGCCGCGTATGGATCGCACGGGTTTTGTCTTATTCAGGCGGTCGACGGAAATAGACCGGTAGAGCATGTAATGGCTTCCATCTCATATGGTTACTCAATTCCTGAATCAAAAACAGGGAACATATGGTGTTTCCGGGAGTCGGACGGGCAACGGCTATGACACACCTTGAGAATTGCGATTTACTGCCTGGCCAACTTGGGGCCGTTCACAGTTGCAACATCTTTATTGGCGATCGCATGAGGGAAACGCTTAGCAACTACTAATCTTTCAAGAACTATGGATAATGGCTAGCCGGCTCGGTGGGTAATAATCCAGGGCGAGTCC',\n",
       " 'seq48': 'CTGCACTGCGTTGTTGACCCCGAAGCTCACCCACGGTAGAAAGCGGGGTTATGATGGTGCTTAATTCAGTACAGACGGATACGGACGTACTGACGCGACATGCATCGCTTCACAAGGATTGGAATCTGTTGGTCACGCTTAGGTACGGCTCATAAAATTAGGTCCGGCAGTCCTACATGCCTTACGCTGGCTTAAAGACTTCCAATTACATATGACAGAACTCACGGAATCAGCTGCGCACCCGAGAACCCCTGTACCTTAAGCAGAGTCGAAACGATCTGGATGTAAAAGAGTTCCAAGCTTCATCATGCGGCTTAGCACTTCAGGCATGAATTCATTAGAAACAAAGTCCTCGACCAACGTATAAACGACTAACCAGAGCGGGTGAACTGCGGGAAGTAAATCGAACACGGCCCGAAGTAGGTTCGAGTCGGTGCTGAAACCCCAAAGGATGAGGGCCCAGCACCGTCCGATCCTTCCGGTCGTGGAATTCAATACTCGCAGATGAGGTTCCCCACTGAGAGGTCAAAGCACTGGTCGGGATGTACACGGCCTTTACTGTAGTAATGGTTGGGTTACGTCAACCGTATGCGTAAGCTTGATCATTAGTCTTAAGAGGCTGCCTATTTGGTTAATTTAACGGTTCCAACTCGGCGGTTTTCAAAGGACTTTAAGAGCCGCGTATGGATCGCACGGGTTTTGTCTTATTCAGGCGGTCGACGGAAATAGACCGGTAGAGCATGTAATGGCTTCCATCTCATATGGTTACTCAATTCCTGAATCAAAAACAGGGAACATATGGTGTTTCCGGGAGTCGGACGGGCAACGGCTATGACACACCTTGAGAATTGCGATTTACTGCCTGGCCAACTTGGGGCCGTTCACAGTTGCAACATCTTTATTGGCGATCGCGTGAGGGAAACGCTTAGCAACTACTAATCTTTCAAGAACTATGGATAATGGCTAGCCGGCTCGGTGGGTAATAATCCAGGGCGAGTCC',\n",
       " 'seq11': 'AAGTCCTCGGCCAACGTATAAACGACTAACCAGAGCGGGCGAACTGCGGGAAGTAAATCGAATACGGCCCGAAGGTAGGTTCGAGTCGGTGCTGAAACCCCAAAGGATGAGGGCCCAGCACCGTCCGATCCTTCCGGTCGTGGAATTCAATACTCGCAGATGAGGTTCCCCACTGAGAGGTCAAAGCACTGGTCGGGATGTACACGGCCTTT',\n",
       " 'seq69': 'CTACACTGCGTTATTGACCCCGAAGCTCACCCACGGTAGAAAGCGGGGTTATGATGGTGCTTAATTCGGTCCAGACGGATACGGACGTACTGACGCGACATGCATCGCTTCACAAGGATTGGAATCTGTTGGTCACGCTTAGGTACGGCGCATAAAATTAGGTCCGGCAGTCCTACATGCCTTACGCTGGATTAAAGACTTCCATTTACACATGACAGAGCTTACGGAATCAGCTGCGCACCCGAGAACCCCTGTACGTTAAGCAGAGTCGAAACGATCTGGATGTAAAAGAGTTCCAAGCTTCATCATGCGGCTTAGAACTTCGGGCATGAATTCATTAGAAACAAAGTCCTCGACCAACGTATAAACGACTAACCAGAGCGGGCGAACTGCGGGAAGTAAATCGAACACGGCCCGAAGGTAGGTTCGAGTCGGTGCTGAAACCCCAAAGGATGAGGGCCCAGCACCGTCCGATCCTTCCGGTCGTGGAATTCAATACTCGCAGATGAGGTTCCCCACTGAGAGGTCAGAGCACTGGTCGGGATGTACACGGCCTTTACTGTAGTAATGGTTGGGTTACGTCAACCGTATGCGTAAGCTTGATCATTAGTCTTAAGAGGCTGCCTATTTGGTTAATTTAACGGTTCCAACTCGGCGGTTTTCAAAGGACTTTAAGAGCCGCGTATGGATCGCACGGGTTTGGTCTTATTCAGGCGGTCGACGGAAATAGACCGGTAGAGCATGTAATGGCTTCCAGCTCATATGGTTACTCAATTCCTGAATCAAAAACAGGGAACATATGGTGTTTCCGGGAGTCGGACGGCTATGACACCCCTTGAGAATTGCGATTTACTGCCTGGCCAACTTGGGGCCGTTCACAGTTGCAACATCTTTATTGGCGATCGCGTGAGGGAAACGCTTAGCAACTACTAATCTTTCAAGAACTATGGATAATGGCTAGCCGGCTCGGTGGGTAATAATCCAGGGCGAGTCC',\n",
       " 'seq94': 'CTACACTGCGTTGTTGACCCCGAAGCTCACCCACGGTAGAAAGCGGGGTTATGATGGTGCTTAAGTCGGTACAGACGGATACGGACGTACTGACGCGACATGCATCGCTTCACAAGGATTGGAATCTGTTGATGACGCTTAGGTACGGCTCATAAAATTAGGTCCGGCAGTCCTACATGCCTTACGCTGGATTAAGGACTTCCATTTACACATGACAGAGCTTACGGGATCAGCTGCGCACCCGAGAACCCCTGTACGTTAAGCAGAGTCGAAACGATCTGGATGTAAAAGAGTTCCAAGCTTCATCATGCGGCTTAGAACTTCAGGCATGAGCTCATTAGAAACAAAGTCCTCGACCAACGTATAAACGACTAACCAGAGCGGGTGAACTGCGGGAAGTAAATCGAACACGGCCCGAAGGTAGGTTCGAGTCGGTGCTGAAACCCCAAAGGATGAGGGCCCAGCACCGTCCGATCCTTCCGGTCGTGGAATTCAATACTCGCAGATGAGGTTCCCCACTGAGAGGTCAAAGCACTGGTCGGGATGTACACGGCCTTTACTGTAGTAATGGTTGGGTTACGTCAACCGTATGCGTAAGCTGAATCATTAGTCTTAAGAGGCTGCCTATTTGGTTAATTTAACGGTTCCAACTCGGCGGTTTTCAAAGGACTTTAAGAGCCGCGTATGGATCGCACGAGTTTGGTCTTATTCAGGCGGTCGACGGAAATAGACCGGTAGAGGATGTAATGGCTTCCATCTCATATGGTTACTCAATTCCTGAATCAAAAACAGGGAACATATGGTGTTTCCGGGAGTCGGACGGGCAACGGCTATGACACACCTTGAGAATTGCGAGTTACTGCCTGGCCAACTTGGGGCCGTTCACAGTTGCAACATCCTTATTGGCGATCGCGTGAGGGAAACACTTAGCAACTACTAATCTTTCAAGAACTATGGATAATGGCTAGCCGGCTCGGTGGGTAATAATCCAGCGCGAATAC',\n",
       " 'seq81': 'AGCGGAAACCATAAAAGGTAACTGCCAAGAAATCCACGCTCCTTCTGCGGGTCGTGATTGACTTCCACACGCGGTACGTGGCTCCCCTCTATGAGTTCTAAACAACGGCAGGGACGGCGGTGGCCGCACTTGTAAAAATGCTAGGCTTGCGTCAATTGTCTGCGGAAAATGTATCATTAGCCCTTAGTGGTCGG',\n",
       " 'seq80': 'CTGGCCTGCATTGTTTCCCACGAAGCCCACACATCGTCAACAGCGGGGTTACAATGGGTCTGCCGTCGCTGCCGCCGGATAACAGCTTATTGGCCCGCTATGTGCCGCTTCTCTAGGAACAGAAACTGATTGTGATGGGTTGTTGTAGCCGCTTAATGTAGGATAGGTGACTGGTCACGCCCTAGGATGGATTCAAACCCCCCAGTCACACCTGAGCGAAGCTACGGAATGAGGCATACATCCGAGTACTCATGCACGTCAAGTATAGTCCAAACGACCGCGGTGAAAAGTACTCCCAAATTTCATCACGCATACAACAAATGCAGCGAATAATTTATTGTAAAGATCTAACCCACCGCAAAGTAAGGGAAATCGTTACGTTCTTGAATGACGTTTAAGTGACAAATTAAAGGTGATGAACTACGAGACGTACAACGTACTGGACGAAAAAGTAGAAGCGGAAATCACAAAAGGTAACTGCCAAGAAATCCACGCTCCTTCTTCGGGTCGTGATTGACTTGCATACCCGGTACGTGGCTCCCCTCTATGAGTTCTAAACAACGGCAGGGACGGCAGTGGCCGCACTTGTAAAAATGCTAGGCTTGCGTCAATTGTCTGCGGAAAATGTATCATTAGCCCTTAGTGGTCGGCTATTTGATGAATTAAATAGTTCTATATCGGCAACCGGGAATTTACTGTAATAGCCGCGGAAGAGCTGCAAGATTTTGGTCTCGTAAAGGCGGTCGATGTAGAGAACCCAGTCAAGTGTGCGATAGCTCCCATCTTTTATGATGGCTGAATTCTGAGTCCGAAGCGCGAAAGCTGATGACAGCATCAAGAAGTGGACGGGGAACAGCCATAGCGAGCTTGAAAACTACGATTTGCGTCCTACCCAACTTGATATTTATTGACGGTCGTGTGAGAAAAACTTTTAAGAACTACAAATTGGCCGCGAACCAGGTATGAACCTACGGCTGCTCAACTGCTAACTCTTTAGCGCGAACGC',\n",
       " 'seq82': 'CTGGCCTGCATTGTTTCCCACGAAGCCCACACATCGTCAACAGGGGGGTTACAATGGGTCTGCCGTCGCTGCCGCCGGATAATAGCTTATTGGCCCGCTATGTGCCGCTTCTCTAGGAACAGAAACTGATTGTGATGGGTTGTTGTAGCCGCTTAATGTAGGATAGGTGACTCGTCACGCTCTAGGATGGATTCAAACCCCCCAGTCACACCTGAGCGAAGCTACGGAATGAGGCATACATCCGAGTACTCATGCACGTCAAGTATAGTCCAAACGACCGCGGTGTAAAGTACTCCCAAATTTCATCACGCATACAACAAATGCAGCGAATAATTTATTGTAAAGATCTAACCCACCGCAAAGTAAGGGAAATCGTTACGTTCTTGAATGACGTTTAAGTGACAAATTAAAGGTGATGAACAACGAGACGTACAACGTACTGGACGAAAAAGTAGAAGCGGAAATCATAAAAGGTAACTGCCAAGAAATCCACGCTCCTTCTGCGGGTCGTTATTGACTTGCATACCCGGTACGTGGCTCCCCTCTATGAGTTCTAAACAACGGCAGGGACGGCAGTGGCCGCATTTGTAAAAATGCTAGGCTTGCGTCAATTGTCTGCGGAAAATGTCTCATTAGCCCTTAGTGGTCGGCTATTTGATGAATTAAATAGTTCTATATCCGCAACTGGGAATTTACTGTAATAGCCTCGGAAGAACTGCAAGATTTTGGTCTCGTCAAGGCGGTCGATGTAAAGAACCCAGTCAAGTGTGCGATAGCTCCCATCTTTTACGATGGCTGAATTCTGAGTCCGAAGCGCGAAAGCTGATGACAGCATCAAGAAGTGGACGGGGAACAGCCATAGCGAGCTTGAAAACTACGATTTGCGTCCTACTCAACTTGATAATTATTGACGGTCGTGTGAGAAAAACTTTTAAGAACTACAAATTGGCCGCGAACCAGGTATGAACCTACGGCTGCTCAACTGCTAACTCTTTAGCGCGAACGC',\n",
       " 'seq46': 'GCAAATCGTTACGTTCGCGAATGACGTATAAGTGACAAATTAAAGGTGATGAACTACGAGACGTACAACGTACTGGACGAAAAAGGAGGCTCAAGACGGAGCGGGAACCTTAAAAGGTAACTGCCAAGAAATCCACGAGCCTTCTGCGGGTCGTAATCGACCCCCATACGCAGTACGTGACTCCCCTCTCCGAGTTCTAATCAACGGCAGGGACGGCGGTGACCTCACTTGTAAAAATGCTAGGGTTGCGACAATTGTATGTG',\n",
       " 'seq83': 'CGTGATCGACCCCCATACGCGGTACGTGACTCCCCTCTACGAGTTCTAATCAACGGCAGTGACGGCGATGACCTCACTTGTGAAAATGC',\n",
       " 'seq45': 'AAAGGGAGGATCTACGAAACGGACAACGCACTCGACGCAATCGGAAATTCAAGTGGGAACGGAAACCATCAGAGGTTACTCCTTATGGGTCTACCATTTTTTTGCGTGTCGTGACTAACCTCTATACACGGAACGTGGCACCCCGCGACGATCTCTGATCATCGGCAGCCACGTCGGTGGCCTTTTGC',\n",
       " 'seq61': 'GAACGGAAACCATCAGAGGTTACTCCTTATGGGTCTACCATTTTTTTGCGTGTCGTGACTAACCTCTATACACGGAACGTGGCACCCCGCGACGATCTCTGATCATCGGCAGCCACGTCGGTGGCCTTTTGCAGAGAAG',\n",
       " 'seq50': 'ATGGCCCGCATTGTTGCCTACGAAGCACACGCATGGTCAACCGAGGTTACAATGGTGCTGCCGTCGCTGTGGCCGGATAACAGCTTATTGGCCCGCTATGTGTCTCTGCCTAAGGAACAGAAACTGATGGCGATGGGTTGGTGCAGCCGGTTGATGTAGGTCCGGCAATTCGTCACACCTTAGGATGTATTAAAACCCCTCACTCAAACCTGAGCGAATCTACGAAATGAGGCATACATCCGAAACCTTATGCACGCCAAGGGTAGTCCTAACGATCTAGGTATTAAGAACGACCAAATTTCATCACGTATACAATAAATGCAGGGAAGTATTCATTGTGAAGAATGGTCTCGAACGACATATAAGGGACAAACGAAAAGGGACGATCTACGAAACGGACAACGCACTCGACGCAATCGGAAATTCAAGTGGGAACGGAAACCATCAGAGGTTACTCCTTATGGGTCTACCATTTTTTTGCGTGTCGTGACTAACCTCTATACACGGAACGTGGCACCCCGCGACGATCTCTGATCATCGGCAGCCACGTCGGTGGCCTTTTGCAGAGAAGCCAGGGTTACTTCAAGTGTATGGGCCAAGCGCTTCCTTTAGGAAGTGTGGCATTAGTCCCTAGAGGCCGCATATTTGACGAATGAAACAATCCGATATCTGCAATTGGCAATAGACTGTAATAGCCGCGGCAGAGTTGCAAATTCTTGGTCTCGTCAAGGCGGTCGACGTAATTAGCTCAGTCAAAGCTAGGATTGCTCCCGTTTCATGTGATGGCTGAAATCTGGGTTTGGAAAGCGGAAGTACATGTATCATCAAGAAGCGGTCAGGGAACGGCCATAGCGACCTTGAGAACGACGATTTGCGTCCTACCCAACATAATATTTATTGGCGATCGAGTGAGGGACACGCTTGAGATCTAAAAATCTGTGGCGAACCATGTATAAATCTACGCCGGCTCACCTGCTAACTCTTTAGAGCGAACGC',\n",
       " 'seq12': 'CATCACGTATACAATAAATACAGGGAAGTATTCATTGTGAAGAATGGTCTCGAACGACATATAAGGGACAAACGAGAAGGGAGGATCTACGAAACGGACAACGCACTCGACGCAATCGGAAATTCAAGTGGGACCGGAAACCATCAGAGGTTACTCCTTATGGGTCTACCATTTTTTTGCGTGTCGTGACTAACCTCTATACACGGAACGTGACACCCCGCGACGATCTCTGATCATCGGCAGCCACGTCG',\n",
       " 'seq54': 'CGACCAAATTTCATCACGTATACAATAAATGCAGGGAAGTATTCATTGTGAAGAATGGTCTCGAACGACATATAAGGGACAATCGAAAAGGGAGGATCTACGAAACGGACAACGCACTCGACGCAATCGGAAATTCAAGTGGGAACGGAAACCATCAGAGGTTACTCCTTATGGGTCTACCATTTTTTTGCGTGTCGTGACTAACCTCTATACACGGAACGTGGCACCCCGCGACGATCTCTGATCATCGGCAGCCACGTCGGTGGCCTTTTGCAGAGAAGCCAGGGTTACTTCAAGTGTATGGGCCAAGCGCTTCCTTTAGGAAGTGTGGCATTAGTCCCTAGAGGCCGCATATTTGACGAATGGAACATTCCGATATCTGCAATTGGCAATAGACTGTAATAGCCGCGGCAGAGTTGCAAATTCTTGGTCTCGTCAAGGCGGT',\n",
       " 'seq26': 'ATGGCCCGCATTGTTGCCTACGAAGCACACGCATGGTCAACCGAGGTTACAATGGTGCTGCCGTCGCTGTGGCCGGATAACAGCTTATTGGCCCGCTATGTGTCTCTGCCTAAGGAACAGAAACTGATGGCGATGGGTTGGTGCAGCCGGTTGATGTAGGTCCGGCAATTCGTCACACCTTAGGATGTATTAAAACCCCTCACTCAAACCTGAGCGAATCTACGAAATGAGGCATACATCCGAAACCTTATACACGCCAAGTGTAGTCCTAACGATCTAGGTATTAAGAACGACCAAATTTCATCACGTATACAATAAATGCAGGGAAGTATTCATTGTGAAGAATGGTCTCGAACGACATATAAGGGACAAACGAAAAGGGGCAGGATCTACGAAACGGACAACGCACTCGACGCAATCGGAAATTCAAGTGGGGACGGAAACCATCAGAGGTTACTCCTTATGGGTCTACCATTTTGTTGCGTGTCGTGACTAACCTCTATACACGGAACGTGGCACCCCGCGACGATTTCTGATCATCGGCAGCCACGTCGGTGGCCTTTTGCAGAGAAGCCAGGGTTACTTCAAGTGTATGGGCCAAGCGCTTCCTTTAGGAAGTGTGGCATTAGTCCCTAGAGGCCGTATATTTGACGAATGAAACAATCCGATATCTGCAATTGGCAATAGACTGTAATAGCCGCGGCAGAGTTGCAAATTCTTTGTCTCGTCAAGGCGGTCGACGTAACTAGCTCAGTCAAAGCTAGGATTGCTCCCGTTTCATGTGATGGCTGAAATCTGGGTTTGGAAAGCGGAAGTACATGTATCATCAAGAAGCGGTCAGGGAACGGCCATAGCGACCTTGAGAACGACGATTTGCGTCCTACCCAACATAATATTTATTGGCGATCGAGTGAGGGACACGCTTGAGATCTAAAAATCTGTGGCGAACCATGTATAAATCTACGCCGGCTCCCCTGCTAACTCTTTAGAGCGAACGC',\n",
       " 'seq47': 'AACGAAAAGCGGCAGGATCTACGAAACGGACAACGCACTCGACGCAATCGGAAATTCAAGTGGGAACGGAAACCATCAGAGGTTACTCCTTATGGGTCTACCATTTTATTGCGTGTCGTGACTAACCTCTATACACGGAACATGGCACCCCGCGACGATTTCTGATCATCGGCAGCCACGTCGGTGGCCTTTTGCAGAGAAGCCAGGGTTACTTCAAGTGTATGGGCCAAGCGCTTCCTTTAGGAAGTGTGGCATTAGTCCCTAGAGGCCGCATAATT',\n",
       " 'seq88': 'ATGGCCCGCATTGTTGCCTACGAAGCACACGCATGGTCAACAGCGAGGCTACAATGGTGCTGCCGTCGCTGTGGCCGGGTAACAGCTTATTGGCCCGCTATGTGTCTCTGCCTAAGGAACAGAAACTGATGGCGATGGGTTGGTGCGGCCGGTTGATGTAGGTCCGGCAATTCGTCACACCTTAGGGTGTATTAAAACCCCTCACTCAAACCTGAGCGAGTCTACGAAATGAGGCATGCATCCGAAACCTTATGCACGCCAAGTGTAGTCCTAACGATCTAGGTATTAAGAACTACCAAATTTCATCACGTATACAATAAATGCAGGGAAGTATTCATTGTGAAGAATGGCCTCGAACGACATATAAGTGACAAACGAAAAGGGAGGATCTACGAAACGGACAACGCACTCGACGCAATCGGAAATTCAAGTGGGAACGAAAACCATAAGAGGTTACCCCTTATGGGTCTACCATTCTTTTGCGTGTCGTGACCAACCTTTATACGCGGAACGTGGCACCCCGCGACGATCTCTGTTCATCGGCAGCCACGTCGGTGGCCTTTTGCAGAGAAGCCAGGGTTACTTCAAGTGTATGGGCCAAGCGCTTCCTTTAGGAAGTGTGGCATTAGTCCCTAGAGGCCGCATATTTGACGAATGAAACAATCCGATATCTGCAATTGGCAATTGACTGTGATAGCCGCGGCAGAGTTGCAAATTCTTGGTCTCGTCAAGGCGGTCGACGTAATTAGCTCAATCAAAGCTAGGATTGCTCCCGTTTCATGTGATGGCTGAAATCTGGGTTCGGAAAGCGGAAGTACATGTATCATCAAGAAGCGGTCGGGGAACGGCCATAGCGACCTCGAGAACGACGATTTGCGTCCTACCCAACATAATATTTATTGGCGATCGAGTGAGGGACACGCTTGAGATCTAAAAATCTGTGGCGAACCATGTATAAATCTACGCCGGCTCACCTGCTAACTCTTTAGAGCGAACGC',\n",
       " 'seq89': 'TTTTGCGAGTCGTGACTAACCTCTATACGCGGAACGTGGCACCCCGCGACGATCTCTGATCATCGGCAGCCACGTCGGTGGCCTTTTGCAGAGAAGCCAGGGTTACTTCAAGTGTATGGGCCAAGCGCTTCCTTTAGGAAGTGTGGCATTAGTCCCTAGAGGCCGCATATTTGACGAATGAAACAATCCGATATCTGCAATTGGCAATTGACTGTAATAGCCGCGGCAGAGTTGCAAATTCTTG',\n",
       " 'seq75': 'CAAACTCAAGTGGGAACGGAAACCATAAGAGGTTACTCCCAGAGTCTTCAATTCTTCAGCGGGTCGTGACTAAGCTCTATACGCGGAACGTGGCACCCCGCTACGATCTCTAATCATCGGCAGCCACGTCAGTGGCCTTTTGCAAAGAAGCCAGGGTTACTTCAATTGTATGGGCCAAGCGCTTCCTCTAGGAAGTGTTGCATTAGTCCCTAGAGGCCGCATACCTGACGAATGAAACAATCCGATATCTGCAATTGGCAATTGACTGTGATAGCCGCGGCAGAGTTGCAAAATCTTG',\n",
       " 'seq14': 'ATGGCCCGCATTGTTGCCTACGAAGCACACACATGGTCAACAGCGGGGTTACAATGGCGCTGCCGTCGCTGGCGCCGGATAACAGCTTATTGGCCCGCTATGGGTCGCTGCCTGAGGAACAGAAAATGATGGCTATGGGTTGGTGCGGCCGGTTGATGCAGGTCCGGCAATTCGTCACACCTTAGGGTGTATTCAAACCCCTCATTCAAACCTGAGCGAGTCTACGAAATGAGGCATGCATCCGAAACCTTATGCACGCCAAGTGCAGTCCAAACGATCTAGGTGTTAAGAACTATCAAATTTCATCACGTATACAATAAATGCAGGGAAGTATTCATTGTGAAGAATGGTCTCGCACGACACATAAGTGACAAACGAAAAGGGAGGATCTACGAGACGTACAACGCACTCGACGCAAGCGCAAATTCAAGCGGGAACGGAAACCATAAGAGGTTACTCCCAATGAGTCTACGATTCTTCTGCGGGTCGTGACTAAGCTCTATACGCGGAACGTGGCACCCCGCTACGATCTCTAATCATCGGCAGCCACGTCAGTGGCCTTTTGCAAAGAAGCCAGGGTTACTTCAATTGTATGGGCCAAGCGCTTCCTTTAGGAAGTGTGGAATTAGTCCCTAGAGGCCGAATACTTGACGAATGAAACAATCCGATATCTGCAATTGGCAATTGACTGTGATAGCCGCGGCAGAGTTGCAAAATCTTGGTCTCGTCAAGGCGGTCGACGTAAATAGCTCAGTCAAAGCTACAATTGCTCCCGTTTCATGGGATGGCTGAAATCTGGGTTCGAAAAGCGGAAGTTCACGTATCATCAAGAAGCGGACGGGGAACGGCCATACCGACCTTGAGAACGACGATTTGCGTCCTACCCAACATAATATTTATTGGCGATCGAGTGAGGGACACGCTTGAGATCTAAAAATTTGTCGCGAACCATGTATAAATCTACGCCGGCTCACCTGCTAACTCTTTAGAGCGAACGC',\n",
       " 'seq15': 'ATGGCCCGCATTGTTGCCTACGAAGCACACACATGGTCAACAGCGGGGTTACAATGGCGCTGCCGTCGCTGTCGCCGGATAACAGCTTATTGGCCCGCTATGTGTCGCTGCCTGAGGAACAGAAAATGATGGCTATGGGTTGGTGCGGCCGGTTGATGCAGGTCCGGCAATTCGTCACACCTTAGAGTGTATTCAAACCCCTCACTCAAACCTGAGCGAGTCTACGAAATGAGGCATGCATCCGAAACCTTATGCACGCCAAGTGCAGTCCAAACGATCTAGGTGTTAAGAACTATCAAATTTCATCACGTATACAATAAATGCAGGGAAGTATTCATTGTGAAGAATGGTCTCGCACGACACATAAGTGACAAACGAAAAGGGAGGATCTACGAAACGTACAACGCACTCGACGCAAACGCAAATTCAAGCGGGAACGGAAACCATAAGAGGTTCCTCCCAATGAGTCTACGATTCTTCTGCGGGTCGTGACTAAGCTCTATACGCGCAACGTGGCACCCCGCTACGATCTCTAATCATCGGCAGCCACGTCAGTGGCCTTTTGCAAAGAAGCCAGGGTTACTTCAATTGTATGGGCCAAGCGCTTCCTTTAGGAAGTGTGGAATTAGTCCCTAGAGGCCGCATACTTGACGAATGAAACAATCCGATATCTGCAATTGGCAATTGACTGTGATAGCCGCGGCAGAGTTGCAAAATCTTGGTCTCGTCAAGGCGGTCGACGTAAATAGCTCAGTCAAAGCTACGATTGCTCCCGTTTCATGTGATGGCTGAAATCTGGGTTCGAAAAGCGGAAGTTCACGTATCATCAAGAAGCGGACGGGGAACGGCCATACCGACCTTGAGAACGACGATTTGCGTCCTACCCAACATAATATTTATTGGCGATCGAGTGAGGGACACGCTTGAGATCTAAAAATTTGTCGCGAACCATGTATAAATCTACGCCGGCTCACCTGCTAACTCTTTAGAGCGAACGC',\n",
       " 'seq1': 'ATGGCCCGCATTGCTGCCTACGAAGCTCAAACATGGTCAACAGCCGGGTTAGAATGGCGCTGACGTCGCTGTCGCCGGATAACAGCTTATTGGCCCACTATGCGTCGCTACCTCAGGAACAGAAACTGATGGCAATGGGTTGGTGCGGCCGGTTGATGTAGGTCCGGCAATTCGTCACACCTTAGGGTGTATTGAAACCCCCCACTCAAACCTGAGCGACTCTACGAAATGAGGCATGCATCTGAAACCTTATGCACGCCAAGAGTAGTCCAAACGATCTAGGTGTTAAGAACTACGAAATTTCATCACGTATACAATAAAGGCAGGGAAGTATTGATTTTGAAGAATGGTCTGGAACTACATATAAGTGACAAACTAAAAGCGAGGATCTACGAAACGTACAACGCACTCGACGCAAACGGAAATTCAAGTGGGAACGGAAGCCATAAGAGGTTATTCCCAATGAGTTTATGACTATTCTGCGGGTCGTGACTAAATACGCGGAACGTGACACCCCGCTACGATCTCTAATCATCGGCAGCCACGTCAGTGGCCTTTTGCAAAGAAGCCAGGCTTACGTCAATTGTTTGTGCGAAGCGCTTCCTGTAGGAAGTGCAGGATTAGTCCCTAGAGGCCGCATATTTGACGAATGAAATAATCCGATATCTGCAATTAGCAATTGACTGTAATAGCCGCTGTCGAGTTGCAAAATCTTGGTCTCGTCCAGGCGGTCAACGTAAATAGCTCAGTCAGAGCTTCGATTGCTCCCGTTTCATGTGATGGCTTAAATCTGGGTTCGAAAAGCGGAAGTACATGTATCTTCAAGAGGCGGACGAGGAACGGCTGTACCGACCTCGAGAACGACGATTCGCGTCCTACCCCACATAAAATTTATTGGCGATCGAGTGAGGGACACGCTTGAGATCCGGAAATCTGTCCCGAACCATGTATAAATCTACGCGGGTTCGTCTGCTAACTCTTTAGAGCGGACGC',\n",
       " 'seq41': 'ATGGTCTGGAACGACATATAAGTGACAAACTAAAAGCGAGGATCTACGAAACGTACAGCGCACTCGACGCAAACAGAAATTCAAGTGGGAACGGAAGCCATAAGAGGTTATTCTCAATGAGTCTATGATTATTCTGCGGGTCGTGACTAAGCTCTATACGCGGAACGTGGCACCCCGCTACGATCTCTAATCATCAGCAGCCACGTCAGTGGCCTTTTGCAAAGAAGCCAGGCTTACGTCAATTGTTTGTGCGAGGCGCTTCCTGCAGGGAGTGTAGCATTAGTCCCTAGAGGCCGCATATTTGACGAATGAAACAATTCGATATCTGCAATTAGCAATTGACTGTAATAGC',\n",
       " 'seq98': 'ATGGTCTGGAACGACATATAAGTGACAAACTAAAAGCGAGGATCTACGAAACGTACAACGCACTCGACGCAAACGGAAATTCAAGTGGGAACGGAAGCCATAAGAGGTTATTCCCAATGCGTCTACGACTCTTCTGCGGGTCGTGACTAAGCTCTATACGCGGAACGTGGCACCCCGCTACGATCTCTAATCATCGGCAGCCACGTCAGTGGCCTTTTACGAAGAAGTCAGGCTTACGTCGATTGTGTGTGCGAAGCGCTTCCTGTAGGAAGTGTAGCAGTAGTCCCTAGAGGCCGCATATTTGACGAATGAAACAATCCGATATCTG',\n",
       " 'seq25': 'GAACTTCGAAATTTCATCACGTATACAATAAAGGCAGGGAAGTATTGATTTTGAAGAATGGTCTGGAACGACATATAAGTGACAAACTAAAAGCGAGGATCTACGAAACGTACAACGCACTCGACGCAAACGGAAATTCAAGTGGGAACTGAAGCCATAAGGGGTTATTCCCAATGCGTCTACGACTCTTCTGCGGGTCGTGACTAAGCTCTATACGCGGAACGTGGCACCCCGCTACGATCTCTAATCATCGGCAGCCACGTCAGTGGCCTT',\n",
       " 'seq77': 'ATGGCCCGCATTGTTGCCTACGAAGCTCACACATGGTCAACAGCCGTGTTACCATGGCGCTGCCTTCGCTGTCGCCGGATAACAGCTTATTGGCCCACTATGCGTCGCTGGCTAAGGAACAGAAACTGATGGCGATGGGTTGGTGCGGCTGGTTGATGTAGGTCCGGCAATTCGTTACACCTTAGGGTATATTAAGACCCCTCACTCAAACCTGAGCGAGTCTACGAAATGAGGCATGCATGCGAAACCTTATGCACGCCAAGTGTAGTCCAAATGATCTAGGTGTTAAGAACTTCGAAATTTCATCACGTATACAATAAAGGCAGGGAAGTATTGATTTTGAAGAATGGTCTGGAACGACATATAAGTGACAAACTAAAAGCGAGGATCTACGAAACGTACAACGCACTCGACGCAAACGGAAATTCAAGTGGGAACTGAAGCCATAAGGGGTTATTCCCAATGCGTCTACGACTCTTCTGCGGGTCGTGACTAAGCTCTATACGCGGAACGTGGCACCCCGCTACGATCTCTAATCATCGGCAGCCACGTCAGTGGCCTTTTACGAAGAAGTCAGGCTTACGTCGATTGTGTGTGCGAAGCGCTTCCTGTAGGAAGTGTAGCAGTAGTCCCTAGAGGCCGCATATTTGACGAATGAAACAATCCGATATCTGCAATTGGCAATTGACTGTAATAGCCGCTGCCGTGTTGCAAAATCTTGGTCTGGTCCAGGCGGTCGACGTAAATAGCTCAGTCAAAGCTTCGATTGCTCCCATTTCATGTGATGGCTTAAATCTGGGTTCGAAAAGCGGTAATACATGTATCATCAAGAAGCGGATGGGGAACGGCCATACCGACCTCGAGAACGACGATTTGCGTCCTACCCAACATAAAATTTTTTGGGGATCGAGTGAGGGACAGGCTTGAGATCTAAAAATCTGTCGCGAACCATGTATAAATCTACACGGGCACACCTGCTAACTCTTTAGAGCGAACGC',\n",
       " 'seq72': 'CGACTAAGCTCTATACGCGGAACGTGGCACCCCGCTACGATCTCTAATCATCGGCAGCCACGTCAGTGGCCTTTTACGAAGAAGTCAGGCTTACGTCGATTGTGTGTGCGAAGCGCTTCCTGTAGGAAGTGTAGCAGTAGTCCCTAGAGGCCGCATATTTGACGAATGAAACAATCCGATATCTGCAATTGGCAAT',\n",
       " 'seq78': 'ATGGCCCGCATTGTTGCCTACGAAGCTCACACATGGTCAACAGCCGGGTTACAATGGCGCTGCCTTCGCTGTCGCCGGATAACAGCTTATTGGCCCACTATGCGTCGCTGGCTAAGGAACAGAAACTGATGGCGATGGGTTGGTGCGGCTGGTTGATGTAGGTCCGGCAATTCGTCACACCTTAGGGTGTATTAAGACCCCTCACTCAAACCTGGGCGAGTCTACGAAATGAGGCATGCATCCGAAACCTTATGCACGCCAAGTGTAGTCCAAACGATCTTGGTGTTAAGAACTTCGAAATTTCATCACGTATACAATAAAGGCAGGGAAGTATTGATTTTGAAGAATGGTCTGGAACGACATATAAGTGACAAACTAAAAGCGAGGATCTACGAAACGTACAACGCACTCGACGCAAACGGAAATTCAAGTGGGAACTGAAGCCATAAGGGGTTATTCCCAATGCGTCTACGACTCTTCTGCGGGTCGTGACTAAGCTCTATACGCGGAACGTGGCACCCCGCTACGATCTCTAATCATCGGCAGCCACGTCAGTAGCCTTTTACGAAGAAGTCAGGCTTACGTCGATTGTGTGTGCGAAGCGCTTTCTGTAGGAAGTGTAGCAGTAGTCCCTAGAGGCCGCATATTTGACGAATGAAACAATCCGATATCTGCAATTGACAATTGACTGTAATAGCCGCCGCCGTGTTGCAAAATCTTGGTCTCGTCCAGGCGGTCGACGTAAATAGCTCACTCAAAGCTTCGATTGCTCCCATTTCATGTGATGGCTTAAATCTGGGTTCGAAAAGCGGTAATACATGTATCATCAAGAAGCGGATGGGGAACGGCCATACCGACCTCGAGAACGACGATTTGCGTCCTACCCAACATAAAATTTTTCGGGGATCGAGTGAGGGACTGGCTTGAGATCTAAAAATCTGTCGCGAACCATGTATAAATCTACACGGGCACACCTGCTAACTCTTTAGAGCGAACGC',\n",
       " 'seq8': 'ATGGCCCGCATTGTTGCCTACGAAGCTCACACATGGTCAACAGCCGGGTTACAATGGCGCTGCCTTCGCTGTCGCCGGATAACAGCTTATTGGCCCACTATGCGTCGCTGGCTAAGGAACAGAAACTGATGGCGATGGGTTGGTGCGGCTGGTTGATGTAGGTCCGGCAATTTGTCACACCTTAGGGTGTATTAAGACCCCTCACTCAAACCTGAGCGAGTATACGAAATGAGGCATGCATCCGAAACCTTATGCACGCCAAGTGTAGTCCAAACGATCTTGGTGTTAAGAACTTCGAAATTTCATCACGTATACAATAAAGGCAGGGAAGTATTGATTTTGTAGAATGGTCTGGAACGACATATAAATGACAAACTAAAAGCGAGGATCTACGAAACGTACAACGCACTCGACGCAAACGGAAATTCAAGTGGGAACTGAAGCCATAAGGGGTTATTCCCAATGCGTCTACGACTCTTCTGCGGGTCGTGACTAAGCTCTATACGCGGAACGTGGCACCCCGCTACGATCTCTAATCATCGGCAGCCACGTCAGTAGCCTTTTACGAAGAAGTCAGGCTTACGTCGATTGTGTGTGCGAAGCGCTTTCTGTAGGAAGTGTAGCAGTAGTCCCTAGAGGCCGCATATTTGACGAATGAAACAATCCGATATCTGCAACTGGCAATTGACTGTAATAGCCGCCGCCGTGTTGCAAAATCTTGGTCTCATCCAGGCGGTCGACGTAAATAGCTCACTCAAAGCTTCGATTGCTCCCATATCATGTGATGGCTTAAATCTGGGTTCGAAAAGCGGTAATACATGTATTATCAAGAAGCGGATGGGGAACGGCCATACCGACCTCGAGAACGACGATTTGCGTCCTACCCAACATAAAATTTTTTGGGGATCGAGTGAGGGACTGGCTTGAGATCTAAAAATCTGTCGCGAACCATGTATAAATCTACACGGGCACACCTGCTAACTCTTTAGAGCGCACGC',\n",
       " 'seq67': 'ATGGCCCGCATTGTTGCCTACGAAGCTCACACATGGTCAACAGCCGGGTTACAATGGCGCTGCCTTCGCTGTCGCCGGATAACAGCTTATTGGCCCACTAGGCGTCGCTGGCTAAGGAACAGAAACTGATGGCGATGGGTTGGTGCGGCTGGTTGATGTAGGTCCGGCAATTCGTCACACCTTAGGGTGTATTAAGACCCCTCACTCAAACCTGAGCGAGTCTACGAAATGAGGCATGCATCCGAAACCTTATGCACGCCAAGTGTAGTCCAAACGATCGTGGTGTTAAGAACTTCGAAATTTCATCACGTATACAATAAAGGGAGGGAAGTATTGATTTTGTAGAATGGTCTGGAACGACATATAAGTGACAAACTAAAAGCGAGGATCTACGAAACGTACAACGCACTCGACGCAAACGGAAATTCAAGTGGGAACTGAAGCCATAAGGGGTTATTCCCAATGCGTCTACGACTCTTCTGCGGGTCGAGACTAAGCTCTATACGCGGAACGTGGCACCCCGCTACGATCTCTAATCGTCGGCAGCCACGTCAGTAGCCTTTTACGAAGAAGTCAGGCTTACGTCGATTGTGTGTGCGAAGCGCTTTCTGTAGGAAGTGTAGCAGTAGTCCCTAGAGGCCGCATATTTGACGAATGAAACAATCCGATATCTGCAATTGGCAATTGACTGTAATAGCCGCCGCCGTGTTGCAAAATCTTGGTCTCGTCCAGGCGGTCGACGTAAATAGCTCACTCAAAGCTTCGATTGCTCCCATTTCATGTGATGGCTTAAATCTGGGTTCGAAAAGCGGTAATACATGTATTACCAAGAAGCGGATGGGGAACGGCCATACCGACCTTGAGAACGACGATTTGCGTCCTACCCAACATAAAATTTTTTGGGGATCGAGTGAGGGACTGGCTTGAGATCTAAAAATCTGTCGCGAACCATGTATAAATCTACACGGGCACACCTGCTAACTCTTTAGAGCGAACGC',\n",
       " 'seq24': 'TAAAGGCAGGGAAGTATTGATTTTGAAGAATGGTCTGGAACGACATATAAGTGACAAACTAAAAGCGAGGATCTACGAAACGTACAACGCACTCGACGCAAACGGAAATTCAAGTGGGAACGGAAGCCATAAGAGGGTATTCCCAATGAGTCTACGATTCTTCTGCGGGTCGTGACTAAGCTCTATACGCGGAACGTGGC',\n",
       " 'seq73': 'TGATTTTGAAGAATGGTCTGGAACGACATATAAGTGACAAACTAAAAGCGAGGATCTACGAAACATACAACGCACTCGACGCAAACGGAAATTCAAGTGGGAACGGAAGCCATAAGAGGTTATTCCCAATGAGTCTACGATTCTTCTGCGGGTCGTGACTAAGCTCCATACGCGGAACGTGGCACCCCGCTACGATCTCTAATCATCGGCAGCCACGTCAGTGGCCTTTCGCAAAGAAGCCAGGCTTACGTCGATTGTTTGTGCGAAGCGCTTCCTGTAGGAAGTGAAGCATTAGTCCCTAGAGGCCGCATATTTGACGAA',\n",
       " 'seq87': 'AAATGCAGGGTAGTATTCATAGTGAAGAAAGGTCTCGAACGACATATATGTGACAAACGAAAAGTGAGGATCTACGGAACGTACAACGCACTGGACGCAAACGTAGATTCAAGTGGTAACGAAAACCATATGAGGTTACTCCTAATGAGACTACGATTCTTCTGCGGGTCGTGACTAAGCTCTATACGCGGAACGTGGCACCCCGCTACGATCTCTAATCATCGGCAGCCACGTCAGTGGCCTTTTGCAAAGCAGCTAGGGTTACGTCAATTTTATGTGCAAAGCGC',\n",
       " 'seq49': 'ATAAATGCAGGGAAGTATTCATAGTGAAGAAAGGTCTCGAACGACATATAAGTGACAAACGAAAAGTGAGGAACTACGGAACGTACAACGCACTGGACGCAAACGTAGATTCAAGTGGTAACGAAAACCATAAGAGGTTACTCCTAATGAGACTACGATTCTTCTGCGGGTCGTGTCTAAGCTCTATACGCGGAACGTGGCACCCCGCTACGATCTCTAATCATCGGCAGCCACGTCAGTGGCCTTTTGCAAAGAAGCTAGGGTTACGTCAATTTTATGTGCAAAGCGCTTCCTTTAGGAAGTGTGGCATTACTCCCTAGAGGCCGCATATTTGACGAATGAAACAATTC',\n",
       " 'seq57': 'ATGGCCCGCATTGTTGTCTACGAAGCACACACATGGTCAACAGCGGGGTTAAAATGGCGCTGCCGTCGCTGTCGCCGGATAACAGCTTATTGGCCCGCTATGCGTCGCTGCCTTAGGAACAGAAACTGATGGCGATGGGTTGGTGCGGCCGGTTAATGTAGGTCCGGCAATTCGTCACACCTTGGGGTGTATTAAAACCCCTCATTCAGACCTGAGCGAGTCTACGCAATGATGCATGCCTCCGAAACCTTATGCACGACTAGTGTAGTCCAAACGATCCAGGTGTTGAGAACCACCAAATTTCATCACGTATACAATAAATGCAGGGAAGTATTCATAGTGAAGAAAGGTCTCGAACGACATATAAGTGACAAACGAAAAGTGAGGAACTACGGAACGTACTACGCACTGGACGCAAACGTAGATTCAAGTGGTAACGAAAACCACAAGAGGTTACTCCTAATGAGACTACGATTCTTCTGCGGCTCGTGACTAAGCTCTATACGCGGAACGTGGCACCCCGCTACGATCTCTAATCATCGGCAGCCACGTCAGTGGCCTTTTGCAAAGAAGCTAGGGTTACGTCAATTTTATGTGCAAAGCGCTTCCTTTAGGAAGTGTGGCATTAGTCCCTAGAGGCCGCATATTTGACGAATGAAACAATTCGATATCTGCAATGGGCAATTGACTGTAATAACCGCGGCAGAGTTGCAAAATCTTGGTCTCGTCAAGGCGGTCGACGTAAATAGCTCAGTCAAAGCTGCGATTGCTCCTGTTTCATATGATGGCTGAAATCTGGGTTCGAAAAACGTAAGTACATGATATCATCAAGAAGAGGAGGGGGAACGGCCATACCGACCTTGAGAACGACGATTTGAGTCCTACCCAACATAATAGTTATTGGCGATCGAGTGAGGGACACGCTTGAGATCTAAAAATCCGTCGCGAACCATGTGTAAATCTACGCCGGCTCACCTGCTAACTCTTTAGAGCGAACAC',\n",
       " 'seq58': 'ATGGCCCGCATTGTTGTCTACGAAGCACACACATGGTCAACAGCGGGATTAAAATGGCGCTGCCGTCGCTGTCGCCGGATAACAGCTTATTGGCCCGCTATGCGTCGCTGCCTTAGGAACAGAATCTGTTGGCGATGGGTTGGTGCGGCCGGTTGTTGTAGGTCCGGCAATTCGTCACACCTTAGGGTGTATTAAAACCCCTCATTCCGACCTGAGCGAGTCTACACAATGATGCATGCCTCCGAAACTTTATGCACGCCTAGTGTAGTCCAAACGATCCAGGTGTTGAGAACCACCAAATTTCATCACGTATACAATAAATGCAGGGAAGTATTCATAGTGAAGAAAGGTCTCGAACGACATATAAGTGACAAACGAAAAGTGAGCAACTACGGAACGTACAACGCACTGGACGCAAACGTAGGTTCAAGTGGTAACGAAAACCATAAGAGGTTACTCCTAATGAGACTACGATTCTTCTGCGGGTCGTGACTAAGCTCTATACGCGGAACGTGGCACCCCGCTACGATCTCTAATCATCGGCAGCCACGTCAGTGGCCTTTTGCAAAGAAGCTAGGGTTACGTCAATTTTATGTGCAAAGCGCTTCCTTTAGGAAGTGTAGCATTAGTCCCTAGAGGCCGCATATTTGACGAATAAAACAATTCGATATCTGCAATTGGCAATTGACTGTAATAACCGCGGCAGAGTTGCAAAATCTTGGTCTCGTCAAGGCGGTCGACGTAAATAGCTCAGTCAAAGCTGCGATTGCTCCCGTTTCATATGATGACTGAAATCTGGGTTCGAAAAGCGTAAGTACATGATATCATCAAGAAGAGGAGGGGGAACGGCCATACCGACCTTGAGAACGACGATTTGAGTCCTACCCAACATAATATTTATTGGCGATCGAGTGAGGGACACGCTTGAGATCTAAAAATCCGTCGCGAACCATGTATAAATCTACGACGGCTCACCTGCTAACTCTTTAGAGCGAACAC',\n",
       " 'seq59': 'AAGGTCTCGAACGACATATAAGTGACAAACGAAAAGTGAGGAACTACGGAACGTACAACGCACTGGACGCAAACGCAGGTTCAAGTGGTAACGAAAACCATAAGAGGTTACTCCTAATGAGACTACGATTCTTCTGCGGGTCGTGACTAAGCTCTATACGCGGAACGTGGCACCCCGCTACGATCTCTAATCATCGGCAGCCACGTCAGTGGCCTTTTGCAAAGAAGCTAGGGTTACGTCAATTTTATGTGCAAAGCGCTTCCTTTAGGAAGTGTAGCATTAGTCCCTAGAGGCCGCATATTTGACGAATAAAACAATTCGATATCTGCAATTGGCAATTGACTGTAATAACCGCGGCAGAGTTGCAAA',\n",
       " 'seq22': 'AAACCATAAGAGGTTACTCCTAATGAGTCTACGATTCTTCGGCGGGTCGTGACTAAGCTCTATACGGGGAGCGTGGCACCCCGCAATGATCTCTAATCATCGGCAGCCACGTCAGTTGCCTTTTGCAAAGGAGTTAGGGTTACGCCAATTTTATGTGCAAAGCGCTTCCTTTAGGAAGTGGGGCATTAGTCCCTAGAAGC',\n",
       " 'seq65': 'AGGGCCCGCATTGTTGCCTACGAAGCACACACATGGTCAACAGCGGGGTTACAATGGCGCTGCCGTCGCTGTCGCCGGATAACAGCTTATTGGCCCGCTATGCGTCGTTGCCTTAGGAACAAAAACTGATGGCGATGGGTTGGTGCGGCCGGTTGATGTAGGTCCAGTAATTCGTCACACCTTAGGGTGTATTAAAACCCCTCATTCAGACCTGAGCGAGTCTACGCAATGAGGCATGCATCCGAAACCTTATGCACGCCTAGTGTAGTCCAAACGATCTAGGGGTTGAGAACCACCAAATTTCATCACGTATACAATAAATGCAGGGAAGTATTCATTGTGAAGAAAGGTCTCGAACGACATATAAGTGGGAAACGAAAAGGGAGGATCTACGGAACGTACAACGCACTGGATGCAAACGTAGATTCAAGTGGTAACGAAAACCATAAGAGGTTACTCCTAATGAGTCTACGATTCTTCTGCGGGTCGTGACTAAGCTCTATACGGGGAACGTGGCACCCCGCAATGATCTCTAATCATCGGCAGCCACGTCAGTTGCCTTTTGCAAAGGGGCTAGGGTTACGCCAATTTTATGTGCAAAGCGCTTCCTTTAGGAAGTGGGGCATTAGTCCCTAGAAACCGCATATTTGACGAATGAAACAATTCGATATCTGCAATTGGCAATTGACTGTAATAACCGCGGCAGAGTTGCTAAATCTTGCTCTCGTCAAGGCGGTCGACGTAAATAGCTCAGTCAAAGCTGCGATTGCTTCCGTTTCATATGATGGCTGAAGTCTGGGTTCGAAAAGCGTAAGTACATGATATCATCAAGAAGAGGAGGGGGAACGGCCATATCGACCTTGAGAACGACGATCTGCGTCCTACCCAGACATAATATTTATTGGCGATCGAGTGAGGGACACGCTTGAGATCTAAAAATCTGTCGCGAACCATGTATAAATCTACGCCGGCTCACCTGCTAACTCTTTAGAGCGAACAC',\n",
       " 'seq20': 'ATGGCCCGCATTGTTGCCTACGAAGCACACACATGGTCAACAGCGGGGTTACAATGGCGCTGCCGTCGCTGTCGCCGGATAACAGCTTATTGGCCCGCTATGCGTCGCTGCCTTAGGAACAGAAACTGATGGCGATGGGATGGTGCGGCCGGTTGATGTAGGTCCGGCAATTCGTTACACCTTAGGGTGTATTAAAACCCCTCATTCAGACCTGAGCGAGTCTACGCAATGAGGCCTGCATCCGAAACCTTATGCACGCCTAGTGTAGTCCAAACGATCTAGGGGTTGAGAACCACCAAATTTCATCACGTATACAATAAATGCAGGAAAGTATTCATTGTGAAGAAAGGTCTCGAACGACATATAAGTGGGAAACGAAAAGGGAGGATCTACGGAACGTACAACGCACTGGATGCAAACGTAGATTCAAGTGGTAACGAAAACCATAAGAGGTTACTCCTAATGAGTCTACGATTCTTCTGCGGGTCGTGACTAAGCTCTATACGCGGAACGTGGCACCCCGCAATGATCTCTAATCATCGGCAGCCACGTCAGTGGCCTTTTGCAAAGGAGCTAGGGTTACGCCAATTTTATGTGCAAAGCGCTTCCTTTAGGAAGTGTGGCATTAGTCCCTAGAGGCCGCATATTTGACGAATGAAACAATTCGATATCTGCAATTGGCAATTGACTGTAATAACCGCGGCAGAGTTGCTAAATCTTGCTCTCGTCAAGGCGGTCGACGTAAATAGTTCAGTCAAAGCTGCGATTGCTTCCGTTTCATATGATGGCTGAAATCTGGGTTCGAAAAGCGTAAGTACATGATATCATCAAGAAGAGGAGGGGGAACGGCCCTACCGACCTTGAGAACGACGATCTGCGTCCTACCCAGACATAATATTTATTGACGATCGAGTGAGGGACACGCTTGAGATCTAAAAATCTGTCGCGAACCATGTATAAATCTACGCCGGCTCACCTGCTAACTCTTTAGAGCGAACAC',\n",
       " 'seq21': 'GTGGGAAACGAAAAGGAAGGATCTACGGAACGTACAACGCACTGGATGCAAACGTAGATTCAAGTGGTAACGAAAACCATAAGAGGTTACTCCTAATGAGTCTACGATTCTTCTGCGGGTCGTGACTAAGCTCTATACGCGGAACGTGGCACCCCGCAATGATCTCTAATCATCGGCAGCCACGTCAGTGGCCTTTTGCAAAGGAGCTAGGGTTACACCAATTTTATGTGCAAAGCGCTTCCTTTAGGAAGTGTGGCATTAGTCCCTAGAGGCCGCATATTTGACGAATGAAACAATTCGATATCTGCAATTGGCAATTGACTGTAATAACCGCGGCAGAGTTGCTAAATCTTGCTCTCGTCAAGGCGGTCGA',\n",
       " 'seq33': 'AAGGTCTCGAACGACATATAAGTGGGAAACGAAAAGGGAGGATCTACGGAACGTACAACGCACTGGATGCAAACGTAGATTCAAGTGGTAACGAAAACCATAAGAGGTTACTCCTAATGAGTCTACGATTCTTCTGCGGGTCGTGACTAAGCTCTATACGCGGAACGTGGCACCCCGCAATGATCTCTAATCATCGGCAGCCACGTCAGTGGCCTTTTGCAAAGGAGCTAGGGTTACGCCAATTTTATGTGCAAAGCGCTTCCTTTAGGAAGTGTGGCATTAGTCCCTAGA',\n",
       " 'seq62': 'TCGTGACTAAGCTCTATACGCGGAACGTGGCACCCCGCAATGATCTCTAATCATCGGCAGCCACGTCAGTGGCCTTTTGCAGAGGAGCTAGGGTTACGCCAATTTTATGTGCAAAGCGCTTCCTTTAGGAAGTGTGGCATTAGTCCCTAGAGGCCGCATATTTGACGAATGAAACAATTCGATATCTGCAATTGGCAATTGACTGTAATAACCGCGGC',\n",
       " 'seq60': 'ATGGCCCGTGTTGTTGCCTAGAAGCACACACATGGTCAACAGCGGGGTGACAATGGCGCTGCTGTCGCTGTCGCCGGATAACAGCTTATTGGCCCGCTATGCGTCGCTGCCTTAGGAACAGAAACTGATGGCGATGGGATCGTGCGGCCGGTTGATGTAGGTCCGGCAATTCGTCACACCTTAGGGTGTATTAAAACCCCTCATTCAGACCCGAGCAAGTCTACGCAATGAGGCATGCATGCGAAAACTTATGCACGCCTAGTGTAGTCCAAACGAGCTAGGGGTTGAGAACCACCAAATTTCATCACGTATACAATAAATGCAGGGAAGTATTCATTGTGAAGAAAGGTCTCGAACGACATATAAGTGGGAAACGAAAAGGGAGGATCTACGGAACGTACGACGCACTGGATGCAAACGTAGATTCAAGTGGTAACGAAAACCATAAGAGGTTACTCCTAATGAGTCTACGATTCTTCTGCGGGTCGTGACTAAGCTCTATACGCGGAACGTGGCACCCCGCAATGATCTCTAATCATCGGCAGCCACGTCAGTGGCCTTTTGCAAAGGAGCTAGGGTTACGCCAATTTTATGTGCAAAGCGCTTCCTTTAGGAAGTGTGGCATTAGTCCCTAGAGGCCGCATATTTGACGAATGAAACAATTCGATATCTGCAATTGGCAATTGACTGTAATAACCGCGGCAGAGTTGCCAAATCTTGCTCTCGTCAAGGCGGTCGACGTAAATAGCTCAGTCAAAGCTGCGATTGCTTCCGTTTCATATGATGGCTGAAATCTGGGCTCGAAAAGCGTAAGTACATGATATCATCAAGAAGAGGAGGGGGAACGGCCATACCGACCTTGAGAACGTCGATCTGCGTCCTACCCAGACATAATATTTATTGGCGATCGAGTGAGGGACACGCTTGAGATCTAAAAATCTGTCGCGAACCATGTATAAATCTACGCCGGCTCACCTGCTAACTCTTTAGAGCGAACAC',\n",
       " 'seq23': 'ATGGCCCGCATTGTTGCCTAGAAGCACACACATGGTCAACAGCGGGGTTACAATGGCGCTGCTGTCGCTGTCGCCGGATAACAGCTTATTGGCCCGCTATGCGTCGCTGCCTTAGGAACAGAAACTGATGGCGATGGGATAGTGCGGCCGGTTGATGTAGGTCCGGCAATTCGTCACACCTTAGGGTGTATTAAAACCCCTCATTCAGACCTGAGCGAGTCTACGCAATGAGGCATGCATCCGAAACCTTATGCGCGCCTAGTGTAGTCCAAACGATCTAGGGGTTGAGAACCACCAAATTTCATCACGTATACAATAAATGCAGGGAAGTATTCATTGTGAAGAAAGGTCTCGAACGACATATAAGTGGGAAACGAAAAGGGAGGATCTACGGAACGTACAACGCACTGGATGCAAACGTAGATTCAAGTGGTAACGAAAACCATAAGAGGTTACTCCTAATGAGTCTACGATTCTTCTGCGGGTCGTGACTAAGCTCTATACGCGGAACGTGGCACCCCGCAATGATCTCTAATCATCGGCAGCCACGTCAGTGGCCTTTTGCAAAGGAGCTAGGGTTACGCCAATTTTATGTGCAAAGCGCTTCCTTTAGGAAGTGTGGCATTAGTCCCTAGAGGCCGCATATTTGACGAATGAAACAATTCGATATCTGCAATTGGCAATTGACTGTAATAACCGCGGCAGAGTTGCTAAATCTTGCTCTCGTCAAGGCTGTCGACGTAAATAGCTCAGTCAAAGCTGCGATTGCTTCCGTTTCATATGATGGCTGAAATCTGGGTTCGAAAAGCGTAAGTACATGATATCATCAAGAAGAGGAGGGGGAACGGCCATACCGACCTTGAGAACGACGATCTGCGTCCTACCCAGACATAATATTTATTGGCGATCGAGTGAGGGACACGCTTGAGATCTGAAAATCTGTCGCGAACCATGTATAAATCTACGCCGGCTCACCTGCTAACTCTTTAGAGCGAACAC'}"
      ]
     },
     "execution_count": 136,
     "metadata": {},
     "output_type": "execute_result"
    }
   ],
   "source": [
    "df_231"
   ]
  },
  {
   "cell_type": "code",
   "execution_count": 141,
   "id": "47b5a580-b33b-4069-b424-e1f59598962b",
   "metadata": {},
   "outputs": [],
   "source": [
    "df_from_dict_231 = pd.DataFrame([df_231])#https://stackoverflow.com/questions/17839973/constructing-dataframe-from-values-in-variables-yields-valueerror-if-using-all"
   ]
  },
  {
   "cell_type": "code",
   "execution_count": 142,
   "id": "7956d340-5030-4e35-941d-a87822eb65bb",
   "metadata": {},
   "outputs": [
    {
     "data": {
      "text/html": [
       "<div>\n",
       "<style scoped>\n",
       "    .dataframe tbody tr th:only-of-type {\n",
       "        vertical-align: middle;\n",
       "    }\n",
       "\n",
       "    .dataframe tbody tr th {\n",
       "        vertical-align: top;\n",
       "    }\n",
       "\n",
       "    .dataframe thead th {\n",
       "        text-align: right;\n",
       "    }\n",
       "</style>\n",
       "<table border=\"1\" class=\"dataframe\">\n",
       "  <thead>\n",
       "    <tr style=\"text-align: right;\">\n",
       "      <th></th>\n",
       "      <th>seq39</th>\n",
       "      <th>seq51</th>\n",
       "      <th>seq31</th>\n",
       "      <th>seq18</th>\n",
       "      <th>seq32</th>\n",
       "      <th>seq91</th>\n",
       "      <th>seq37</th>\n",
       "      <th>seq64</th>\n",
       "      <th>seq97</th>\n",
       "      <th>seq100</th>\n",
       "      <th>...</th>\n",
       "      <th>seq58</th>\n",
       "      <th>seq59</th>\n",
       "      <th>seq22</th>\n",
       "      <th>seq65</th>\n",
       "      <th>seq20</th>\n",
       "      <th>seq21</th>\n",
       "      <th>seq33</th>\n",
       "      <th>seq62</th>\n",
       "      <th>seq60</th>\n",
       "      <th>seq23</th>\n",
       "    </tr>\n",
       "  </thead>\n",
       "  <tbody>\n",
       "    <tr>\n",
       "      <th>0</th>\n",
       "      <td>AAGGTCTCGAACGACATATAAGTGGGAAACGAAAAGGGAGGATCTA...</td>\n",
       "      <td>ATGGCCCGCATTGTTGCCTACGGAGCACACACATGGTCAACAGCGG...</td>\n",
       "      <td>AAGGTCTCGAACGACATATAAGTGGGAAACGAAAAGGGAGGATCTA...</td>\n",
       "      <td>CGTAGATTCAAGTGGTAACGAAAACCATAAGAGGTTACTCCTAATG...</td>\n",
       "      <td>ATGGCCCGCATTGTTGCCTACGAAGCACACACATGGTCAACAGCGG...</td>\n",
       "      <td>AAGAAAGGTCTCGAACGACATATAAGTGGGAAACGAAAAGGGAGGA...</td>\n",
       "      <td>CATTGTGAAGAAAGGTCTCGAACGACATATAAGTGGGAAACGAAAA...</td>\n",
       "      <td>ATGGCCCGCATTGTTGCCTACGAAGCACACACATGGTCAACAGCGG...</td>\n",
       "      <td>ATAGGTTCGAGTCTGCGCTGAAACCACCGATAATGACCTCCGTTGA...</td>\n",
       "      <td>CAACGCACGTAACTCAGGCGTAGGTTCGAGTCTGCGCTGAAACCAT...</td>\n",
       "      <td>...</td>\n",
       "      <td>ATGGCCCGCATTGTTGTCTACGAAGCACACACATGGTCAACAGCGG...</td>\n",
       "      <td>AAGGTCTCGAACGACATATAAGTGACAAACGAAAAGTGAGGAACTA...</td>\n",
       "      <td>AAACCATAAGAGGTTACTCCTAATGAGTCTACGATTCTTCGGCGGG...</td>\n",
       "      <td>AGGGCCCGCATTGTTGCCTACGAAGCACACACATGGTCAACAGCGG...</td>\n",
       "      <td>ATGGCCCGCATTGTTGCCTACGAAGCACACACATGGTCAACAGCGG...</td>\n",
       "      <td>GTGGGAAACGAAAAGGAAGGATCTACGGAACGTACAACGCACTGGA...</td>\n",
       "      <td>AAGGTCTCGAACGACATATAAGTGGGAAACGAAAAGGGAGGATCTA...</td>\n",
       "      <td>TCGTGACTAAGCTCTATACGCGGAACGTGGCACCCCGCAATGATCT...</td>\n",
       "      <td>ATGGCCCGTGTTGTTGCCTAGAAGCACACACATGGTCAACAGCGGG...</td>\n",
       "      <td>ATGGCCCGCATTGTTGCCTAGAAGCACACACATGGTCAACAGCGGG...</td>\n",
       "    </tr>\n",
       "  </tbody>\n",
       "</table>\n",
       "<p>1 rows × 100 columns</p>\n",
       "</div>"
      ],
      "text/plain": [
       "                                               seq39  \\\n",
       "0  AAGGTCTCGAACGACATATAAGTGGGAAACGAAAAGGGAGGATCTA...   \n",
       "\n",
       "                                               seq51  \\\n",
       "0  ATGGCCCGCATTGTTGCCTACGGAGCACACACATGGTCAACAGCGG...   \n",
       "\n",
       "                                               seq31  \\\n",
       "0  AAGGTCTCGAACGACATATAAGTGGGAAACGAAAAGGGAGGATCTA...   \n",
       "\n",
       "                                               seq18  \\\n",
       "0  CGTAGATTCAAGTGGTAACGAAAACCATAAGAGGTTACTCCTAATG...   \n",
       "\n",
       "                                               seq32  \\\n",
       "0  ATGGCCCGCATTGTTGCCTACGAAGCACACACATGGTCAACAGCGG...   \n",
       "\n",
       "                                               seq91  \\\n",
       "0  AAGAAAGGTCTCGAACGACATATAAGTGGGAAACGAAAAGGGAGGA...   \n",
       "\n",
       "                                               seq37  \\\n",
       "0  CATTGTGAAGAAAGGTCTCGAACGACATATAAGTGGGAAACGAAAA...   \n",
       "\n",
       "                                               seq64  \\\n",
       "0  ATGGCCCGCATTGTTGCCTACGAAGCACACACATGGTCAACAGCGG...   \n",
       "\n",
       "                                               seq97  \\\n",
       "0  ATAGGTTCGAGTCTGCGCTGAAACCACCGATAATGACCTCCGTTGA...   \n",
       "\n",
       "                                              seq100  ...  \\\n",
       "0  CAACGCACGTAACTCAGGCGTAGGTTCGAGTCTGCGCTGAAACCAT...  ...   \n",
       "\n",
       "                                               seq58  \\\n",
       "0  ATGGCCCGCATTGTTGTCTACGAAGCACACACATGGTCAACAGCGG...   \n",
       "\n",
       "                                               seq59  \\\n",
       "0  AAGGTCTCGAACGACATATAAGTGACAAACGAAAAGTGAGGAACTA...   \n",
       "\n",
       "                                               seq22  \\\n",
       "0  AAACCATAAGAGGTTACTCCTAATGAGTCTACGATTCTTCGGCGGG...   \n",
       "\n",
       "                                               seq65  \\\n",
       "0  AGGGCCCGCATTGTTGCCTACGAAGCACACACATGGTCAACAGCGG...   \n",
       "\n",
       "                                               seq20  \\\n",
       "0  ATGGCCCGCATTGTTGCCTACGAAGCACACACATGGTCAACAGCGG...   \n",
       "\n",
       "                                               seq21  \\\n",
       "0  GTGGGAAACGAAAAGGAAGGATCTACGGAACGTACAACGCACTGGA...   \n",
       "\n",
       "                                               seq33  \\\n",
       "0  AAGGTCTCGAACGACATATAAGTGGGAAACGAAAAGGGAGGATCTA...   \n",
       "\n",
       "                                               seq62  \\\n",
       "0  TCGTGACTAAGCTCTATACGCGGAACGTGGCACCCCGCAATGATCT...   \n",
       "\n",
       "                                               seq60  \\\n",
       "0  ATGGCCCGTGTTGTTGCCTAGAAGCACACACATGGTCAACAGCGGG...   \n",
       "\n",
       "                                               seq23  \n",
       "0  ATGGCCCGCATTGTTGCCTAGAAGCACACACATGGTCAACAGCGGG...  \n",
       "\n",
       "[1 rows x 100 columns]"
      ]
     },
     "execution_count": 142,
     "metadata": {},
     "output_type": "execute_result"
    }
   ],
   "source": [
    "df_from_dict_231"
   ]
  },
  {
   "cell_type": "code",
   "execution_count": 143,
   "id": "4e4172ae-6685-4ba9-acf6-de0463d86e48",
   "metadata": {},
   "outputs": [],
   "source": [
    "df_from_dict_231 = df_from_dict_231 .T"
   ]
  },
  {
   "cell_type": "code",
   "execution_count": 144,
   "id": "534a7386-f057-445b-a7f7-a8ecc7644a0a",
   "metadata": {},
   "outputs": [
    {
     "data": {
      "text/html": [
       "<div>\n",
       "<style scoped>\n",
       "    .dataframe tbody tr th:only-of-type {\n",
       "        vertical-align: middle;\n",
       "    }\n",
       "\n",
       "    .dataframe tbody tr th {\n",
       "        vertical-align: top;\n",
       "    }\n",
       "\n",
       "    .dataframe thead th {\n",
       "        text-align: right;\n",
       "    }\n",
       "</style>\n",
       "<table border=\"1\" class=\"dataframe\">\n",
       "  <thead>\n",
       "    <tr style=\"text-align: right;\">\n",
       "      <th></th>\n",
       "      <th>0</th>\n",
       "    </tr>\n",
       "  </thead>\n",
       "  <tbody>\n",
       "    <tr>\n",
       "      <th>seq39</th>\n",
       "      <td>AAGGTCTCGAACGACATATAAGTGGGAAACGAAAAGGGAGGATCTA...</td>\n",
       "    </tr>\n",
       "    <tr>\n",
       "      <th>seq51</th>\n",
       "      <td>ATGGCCCGCATTGTTGCCTACGGAGCACACACATGGTCAACAGCGG...</td>\n",
       "    </tr>\n",
       "    <tr>\n",
       "      <th>seq31</th>\n",
       "      <td>AAGGTCTCGAACGACATATAAGTGGGAAACGAAAAGGGAGGATCTA...</td>\n",
       "    </tr>\n",
       "    <tr>\n",
       "      <th>seq18</th>\n",
       "      <td>CGTAGATTCAAGTGGTAACGAAAACCATAAGAGGTTACTCCTAATG...</td>\n",
       "    </tr>\n",
       "    <tr>\n",
       "      <th>seq32</th>\n",
       "      <td>ATGGCCCGCATTGTTGCCTACGAAGCACACACATGGTCAACAGCGG...</td>\n",
       "    </tr>\n",
       "    <tr>\n",
       "      <th>...</th>\n",
       "      <td>...</td>\n",
       "    </tr>\n",
       "    <tr>\n",
       "      <th>seq21</th>\n",
       "      <td>GTGGGAAACGAAAAGGAAGGATCTACGGAACGTACAACGCACTGGA...</td>\n",
       "    </tr>\n",
       "    <tr>\n",
       "      <th>seq33</th>\n",
       "      <td>AAGGTCTCGAACGACATATAAGTGGGAAACGAAAAGGGAGGATCTA...</td>\n",
       "    </tr>\n",
       "    <tr>\n",
       "      <th>seq62</th>\n",
       "      <td>TCGTGACTAAGCTCTATACGCGGAACGTGGCACCCCGCAATGATCT...</td>\n",
       "    </tr>\n",
       "    <tr>\n",
       "      <th>seq60</th>\n",
       "      <td>ATGGCCCGTGTTGTTGCCTAGAAGCACACACATGGTCAACAGCGGG...</td>\n",
       "    </tr>\n",
       "    <tr>\n",
       "      <th>seq23</th>\n",
       "      <td>ATGGCCCGCATTGTTGCCTAGAAGCACACACATGGTCAACAGCGGG...</td>\n",
       "    </tr>\n",
       "  </tbody>\n",
       "</table>\n",
       "<p>100 rows × 1 columns</p>\n",
       "</div>"
      ],
      "text/plain": [
       "                                                       0\n",
       "seq39  AAGGTCTCGAACGACATATAAGTGGGAAACGAAAAGGGAGGATCTA...\n",
       "seq51  ATGGCCCGCATTGTTGCCTACGGAGCACACACATGGTCAACAGCGG...\n",
       "seq31  AAGGTCTCGAACGACATATAAGTGGGAAACGAAAAGGGAGGATCTA...\n",
       "seq18  CGTAGATTCAAGTGGTAACGAAAACCATAAGAGGTTACTCCTAATG...\n",
       "seq32  ATGGCCCGCATTGTTGCCTACGAAGCACACACATGGTCAACAGCGG...\n",
       "...                                                  ...\n",
       "seq21  GTGGGAAACGAAAAGGAAGGATCTACGGAACGTACAACGCACTGGA...\n",
       "seq33  AAGGTCTCGAACGACATATAAGTGGGAAACGAAAAGGGAGGATCTA...\n",
       "seq62  TCGTGACTAAGCTCTATACGCGGAACGTGGCACCCCGCAATGATCT...\n",
       "seq60  ATGGCCCGTGTTGTTGCCTAGAAGCACACACATGGTCAACAGCGGG...\n",
       "seq23  ATGGCCCGCATTGTTGCCTAGAAGCACACACATGGTCAACAGCGGG...\n",
       "\n",
       "[100 rows x 1 columns]"
      ]
     },
     "execution_count": 144,
     "metadata": {},
     "output_type": "execute_result"
    }
   ],
   "source": [
    "df_from_dict_231"
   ]
  },
  {
   "cell_type": "code",
   "execution_count": 146,
   "id": "f8eaf42b-9802-45ec-96cb-9b9b4e7c0401",
   "metadata": {},
   "outputs": [
    {
     "data": {
      "text/plain": [
       "100"
      ]
     },
     "execution_count": 146,
     "metadata": {},
     "output_type": "execute_result"
    }
   ],
   "source": [
    "len(df_from_dict_231) #number of sequences"
   ]
  },
  {
   "cell_type": "code",
   "execution_count": 152,
   "id": "bdd587b6-b337-4c1e-b2ab-8ff94ecfcaf2",
   "metadata": {},
   "outputs": [],
   "source": [
    "#renaming the sequence column\n",
    "df_from_dict_231 = df_from_dict_231.rename(columns ={0:\"sequence\"})"
   ]
  },
  {
   "cell_type": "code",
   "execution_count": 154,
   "id": "5b6fbe2c-d2d4-4987-8520-ff113f822ffd",
   "metadata": {},
   "outputs": [
    {
     "data": {
      "text/html": [
       "<div>\n",
       "<style scoped>\n",
       "    .dataframe tbody tr th:only-of-type {\n",
       "        vertical-align: middle;\n",
       "    }\n",
       "\n",
       "    .dataframe tbody tr th {\n",
       "        vertical-align: top;\n",
       "    }\n",
       "\n",
       "    .dataframe thead th {\n",
       "        text-align: right;\n",
       "    }\n",
       "</style>\n",
       "<table border=\"1\" class=\"dataframe\">\n",
       "  <thead>\n",
       "    <tr style=\"text-align: right;\">\n",
       "      <th></th>\n",
       "      <th>sequence</th>\n",
       "    </tr>\n",
       "  </thead>\n",
       "  <tbody>\n",
       "    <tr>\n",
       "      <th>seq39</th>\n",
       "      <td>AAGGTCTCGAACGACATATAAGTGGGAAACGAAAAGGGAGGATCTA...</td>\n",
       "    </tr>\n",
       "    <tr>\n",
       "      <th>seq51</th>\n",
       "      <td>ATGGCCCGCATTGTTGCCTACGGAGCACACACATGGTCAACAGCGG...</td>\n",
       "    </tr>\n",
       "    <tr>\n",
       "      <th>seq31</th>\n",
       "      <td>AAGGTCTCGAACGACATATAAGTGGGAAACGAAAAGGGAGGATCTA...</td>\n",
       "    </tr>\n",
       "    <tr>\n",
       "      <th>seq18</th>\n",
       "      <td>CGTAGATTCAAGTGGTAACGAAAACCATAAGAGGTTACTCCTAATG...</td>\n",
       "    </tr>\n",
       "    <tr>\n",
       "      <th>seq32</th>\n",
       "      <td>ATGGCCCGCATTGTTGCCTACGAAGCACACACATGGTCAACAGCGG...</td>\n",
       "    </tr>\n",
       "  </tbody>\n",
       "</table>\n",
       "</div>"
      ],
      "text/plain": [
       "                                                sequence\n",
       "seq39  AAGGTCTCGAACGACATATAAGTGGGAAACGAAAAGGGAGGATCTA...\n",
       "seq51  ATGGCCCGCATTGTTGCCTACGGAGCACACACATGGTCAACAGCGG...\n",
       "seq31  AAGGTCTCGAACGACATATAAGTGGGAAACGAAAAGGGAGGATCTA...\n",
       "seq18  CGTAGATTCAAGTGGTAACGAAAACCATAAGAGGTTACTCCTAATG...\n",
       "seq32  ATGGCCCGCATTGTTGCCTACGAAGCACACACATGGTCAACAGCGG..."
      ]
     },
     "execution_count": 154,
     "metadata": {},
     "output_type": "execute_result"
    }
   ],
   "source": [
    "df_from_dict_231.head()"
   ]
  },
  {
   "cell_type": "code",
   "execution_count": 155,
   "id": "006d8986-a0cb-4ebe-bbf5-47caa8cf1293",
   "metadata": {},
   "outputs": [],
   "source": [
    "### What are the IDs and the lengths of the longest and the shortest sequences?\n",
    "#using the apply function\n",
    "df_from_dict_231['len'] = df_from_dict_231.sequence.apply(len)"
   ]
  },
  {
   "cell_type": "code",
   "execution_count": 156,
   "id": "b6eae09d-52a8-4b8e-b7d1-546702146ba2",
   "metadata": {},
   "outputs": [
    {
     "data": {
      "text/html": [
       "<div>\n",
       "<style scoped>\n",
       "    .dataframe tbody tr th:only-of-type {\n",
       "        vertical-align: middle;\n",
       "    }\n",
       "\n",
       "    .dataframe tbody tr th {\n",
       "        vertical-align: top;\n",
       "    }\n",
       "\n",
       "    .dataframe thead th {\n",
       "        text-align: right;\n",
       "    }\n",
       "</style>\n",
       "<table border=\"1\" class=\"dataframe\">\n",
       "  <thead>\n",
       "    <tr style=\"text-align: right;\">\n",
       "      <th></th>\n",
       "      <th>sequence</th>\n",
       "      <th>len</th>\n",
       "    </tr>\n",
       "  </thead>\n",
       "  <tbody>\n",
       "    <tr>\n",
       "      <th>seq39</th>\n",
       "      <td>AAGGTCTCGAACGACATATAAGTGGGAAACGAAAAGGGAGGATCTA...</td>\n",
       "      <td>271</td>\n",
       "    </tr>\n",
       "    <tr>\n",
       "      <th>seq51</th>\n",
       "      <td>ATGGCCCGCATTGTTGCCTACGGAGCACACACATGGTCAACAGCGG...</td>\n",
       "      <td>1000</td>\n",
       "    </tr>\n",
       "    <tr>\n",
       "      <th>seq31</th>\n",
       "      <td>AAGGTCTCGAACGACATATAAGTGGGAAACGAAAAGGGAGGATCTA...</td>\n",
       "      <td>209</td>\n",
       "    </tr>\n",
       "    <tr>\n",
       "      <th>seq18</th>\n",
       "      <td>CGTAGATTCAAGTGGTAACGAAAACCATAAGAGGTTACTCCTAATG...</td>\n",
       "      <td>184</td>\n",
       "    </tr>\n",
       "    <tr>\n",
       "      <th>seq32</th>\n",
       "      <td>ATGGCCCGCATTGTTGCCTACGAAGCACACACATGGTCAACAGCGG...</td>\n",
       "      <td>999</td>\n",
       "    </tr>\n",
       "  </tbody>\n",
       "</table>\n",
       "</div>"
      ],
      "text/plain": [
       "                                                sequence   len\n",
       "seq39  AAGGTCTCGAACGACATATAAGTGGGAAACGAAAAGGGAGGATCTA...   271\n",
       "seq51  ATGGCCCGCATTGTTGCCTACGGAGCACACACATGGTCAACAGCGG...  1000\n",
       "seq31  AAGGTCTCGAACGACATATAAGTGGGAAACGAAAAGGGAGGATCTA...   209\n",
       "seq18  CGTAGATTCAAGTGGTAACGAAAACCATAAGAGGTTACTCCTAATG...   184\n",
       "seq32  ATGGCCCGCATTGTTGCCTACGAAGCACACACATGGTCAACAGCGG...   999"
      ]
     },
     "execution_count": 156,
     "metadata": {},
     "output_type": "execute_result"
    }
   ],
   "source": [
    "df_from_dict_231.head()"
   ]
  },
  {
   "cell_type": "code",
   "execution_count": 157,
   "id": "71f94908-28c0-44b1-9528-195549b0e53e",
   "metadata": {},
   "outputs": [],
   "source": [
    "#finding the shortest and longest sequence lengths\n",
    "short_seq = df_from_dict_231.sort_values(\"len\", ascending = True).iloc[0]\n",
    "longest_seq = df_from_dict_231.sort_values(\"len\",ascending=False).iloc[0]"
   ]
  },
  {
   "cell_type": "code",
   "execution_count": 158,
   "id": "57327913-c8e2-4cf4-9e46-ae7e9c507a69",
   "metadata": {},
   "outputs": [
    {
     "data": {
      "text/plain": [
       "sequence    TGACTGCCAGGAAGTCTCCGACCCTTTGGGTCGTCGATTCCAGACG...\n",
       "len                                                        63\n",
       "Name: seq52, dtype: object"
      ]
     },
     "execution_count": 158,
     "metadata": {},
     "output_type": "execute_result"
    }
   ],
   "source": [
    "short_seq"
   ]
  },
  {
   "cell_type": "code",
   "execution_count": 161,
   "id": "dcb62fd1-8715-4d78-93e9-4ea367c97f91",
   "metadata": {},
   "outputs": [
    {
     "data": {
      "text/plain": [
       "sequence    CTGGCCTGCATTGTTTCCCACGAAGCCCACACATCGTCAACAGGGG...\n",
       "len                                                      1006\n",
       "Name: seq82, dtype: object"
      ]
     },
     "execution_count": 161,
     "metadata": {},
     "output_type": "execute_result"
    }
   ],
   "source": [
    "longest_seq"
   ]
  },
  {
   "cell_type": "code",
   "execution_count": 162,
   "id": "761ccb0a-c0ac-46a3-aa78-1b5c6b4e6c4b",
   "metadata": {},
   "outputs": [
    {
     "data": {
      "text/plain": [
       "996.8260869565217"
      ]
     },
     "execution_count": 162,
     "metadata": {},
     "output_type": "execute_result"
    }
   ],
   "source": [
    "### Select sequences longer than 500bp. What is the average length of these sequences?\n",
    "more_than_500_bp = df_from_dict_231[df_from_dict_231.len>500]\n",
    "more_than_500_bp.len.mean()"
   ]
  },
  {
   "cell_type": "code",
   "execution_count": 165,
   "id": "ad55827a-b55c-4cf9-b25d-4fcac82f3282",
   "metadata": {},
   "outputs": [
    {
     "name": "stderr",
     "output_type": "stream",
     "text": [
      "/home/sampurna/anaconda3/envs/prolif/lib/python3.10/site-packages/Bio/SeqUtils/__init__.py:144: BiopythonDeprecationWarning: GC is deprecated; please use gc_fraction instead.\n",
      "  warnings.warn(\n"
     ]
    }
   ],
   "source": [
    "## Calculate and print the percentage of GC in each of the sequences.\n",
    "##Write the newly created sequences into a FASTA file named long_sequences.fa\n",
    "from Bio.SeqUtils import GC\n",
    "more_than_500_bp.loc[:,'GC'] = more_than_500_bp.sequence.apply(GC)"
   ]
  },
  {
   "cell_type": "code",
   "execution_count": 167,
   "id": "e14765f7-27e1-435c-8f1b-d75a207a4793",
   "metadata": {},
   "outputs": [
    {
     "data": {
      "text/html": [
       "<div>\n",
       "<style scoped>\n",
       "    .dataframe tbody tr th:only-of-type {\n",
       "        vertical-align: middle;\n",
       "    }\n",
       "\n",
       "    .dataframe tbody tr th {\n",
       "        vertical-align: top;\n",
       "    }\n",
       "\n",
       "    .dataframe thead th {\n",
       "        text-align: right;\n",
       "    }\n",
       "</style>\n",
       "<table border=\"1\" class=\"dataframe\">\n",
       "  <thead>\n",
       "    <tr style=\"text-align: right;\">\n",
       "      <th></th>\n",
       "      <th>sequence</th>\n",
       "      <th>len</th>\n",
       "      <th>GC</th>\n",
       "    </tr>\n",
       "  </thead>\n",
       "  <tbody>\n",
       "    <tr>\n",
       "      <th>seq51</th>\n",
       "      <td>ATGGCCCGCATTGTTGCCTACGGAGCACACACATGGTCAACAGCGG...</td>\n",
       "      <td>1000</td>\n",
       "      <td>48.400000</td>\n",
       "    </tr>\n",
       "    <tr>\n",
       "      <th>seq32</th>\n",
       "      <td>ATGGCCCGCATTGTTGCCTACGAAGCACACACATGGTCAACAGCGG...</td>\n",
       "      <td>999</td>\n",
       "      <td>48.548549</td>\n",
       "    </tr>\n",
       "    <tr>\n",
       "      <th>seq64</th>\n",
       "      <td>ATGGCCCGCATTGTTGCCTACGAAGCACACACATGGTCAACAGCGG...</td>\n",
       "      <td>1000</td>\n",
       "      <td>48.500000</td>\n",
       "    </tr>\n",
       "    <tr>\n",
       "      <th>seq5</th>\n",
       "      <td>AAGGTCTCCATTGGGGACGCTGAAGCTCACGCGTCCTCGGCTGCAG...</td>\n",
       "      <td>980</td>\n",
       "      <td>51.122449</td>\n",
       "    </tr>\n",
       "    <tr>\n",
       "      <th>seq96</th>\n",
       "      <td>AAGGTCTCCATTGGGGACGCTGAAGCTCACGCGTCCTCGGCTGCAG...</td>\n",
       "      <td>980</td>\n",
       "      <td>51.224490</td>\n",
       "    </tr>\n",
       "  </tbody>\n",
       "</table>\n",
       "</div>"
      ],
      "text/plain": [
       "                                                sequence   len         GC\n",
       "seq51  ATGGCCCGCATTGTTGCCTACGGAGCACACACATGGTCAACAGCGG...  1000  48.400000\n",
       "seq32  ATGGCCCGCATTGTTGCCTACGAAGCACACACATGGTCAACAGCGG...   999  48.548549\n",
       "seq64  ATGGCCCGCATTGTTGCCTACGAAGCACACACATGGTCAACAGCGG...  1000  48.500000\n",
       "seq5   AAGGTCTCCATTGGGGACGCTGAAGCTCACGCGTCCTCGGCTGCAG...   980  51.122449\n",
       "seq96  AAGGTCTCCATTGGGGACGCTGAAGCTCACGCGTCCTCGGCTGCAG...   980  51.224490"
      ]
     },
     "execution_count": 167,
     "metadata": {},
     "output_type": "execute_result"
    }
   ],
   "source": [
    "more_than_500_bp.head()"
   ]
  },
  {
   "cell_type": "code",
   "execution_count": 168,
   "id": "8dd36a0e-71c8-4c79-92de-b11859d7f465",
   "metadata": {},
   "outputs": [
    {
     "ename": "AttributeError",
     "evalue": "'str' object has no attribute 'id'",
     "output_type": "error",
     "traceback": [
      "\u001b[0;31m---------------------------------------------------------------------------\u001b[0m",
      "\u001b[0;31mAttributeError\u001b[0m                            Traceback (most recent call last)",
      "Cell \u001b[0;32mIn[168], line 2\u001b[0m\n\u001b[1;32m      1\u001b[0m \u001b[38;5;66;03m##writing the file\u001b[39;00m\n\u001b[0;32m----> 2\u001b[0m \u001b[43mSeqIO\u001b[49m\u001b[38;5;241;43m.\u001b[39;49m\u001b[43mwrite\u001b[49m\u001b[43m(\u001b[49m\u001b[43mmore_than_500_bp\u001b[49m\u001b[43m[\u001b[49m\u001b[38;5;124;43m'\u001b[39;49m\u001b[38;5;124;43msequence\u001b[39;49m\u001b[38;5;124;43m'\u001b[39;49m\u001b[43m]\u001b[49m\u001b[43m,\u001b[49m\u001b[38;5;124;43m'\u001b[39;49m\u001b[38;5;124;43mlong_sequences.fa\u001b[39;49m\u001b[38;5;124;43m'\u001b[39;49m\u001b[43m,\u001b[49m\u001b[38;5;124;43m'\u001b[39;49m\u001b[38;5;124;43mfasta\u001b[39;49m\u001b[38;5;124;43m'\u001b[39;49m\u001b[43m)\u001b[49m\n",
      "File \u001b[0;32m~/anaconda3/envs/prolif/lib/python3.10/site-packages/Bio/SeqIO/__init__.py:518\u001b[0m, in \u001b[0;36mwrite\u001b[0;34m(sequences, handle, format)\u001b[0m\n\u001b[1;32m    516\u001b[0m \u001b[38;5;28;01mwith\u001b[39;00m as_handle(handle, \u001b[38;5;124m\"\u001b[39m\u001b[38;5;124mw\u001b[39m\u001b[38;5;124m\"\u001b[39m) \u001b[38;5;28;01mas\u001b[39;00m fp:\n\u001b[1;32m    517\u001b[0m     \u001b[38;5;28;01mfor\u001b[39;00m record \u001b[38;5;129;01min\u001b[39;00m sequences:\n\u001b[0;32m--> 518\u001b[0m         fp\u001b[38;5;241m.\u001b[39mwrite(\u001b[43mformat_function\u001b[49m\u001b[43m(\u001b[49m\u001b[43mrecord\u001b[49m\u001b[43m)\u001b[49m)\n\u001b[1;32m    519\u001b[0m         count \u001b[38;5;241m+\u001b[39m\u001b[38;5;241m=\u001b[39m \u001b[38;5;241m1\u001b[39m\n\u001b[1;32m    520\u001b[0m \u001b[38;5;28;01mreturn\u001b[39;00m count\n",
      "File \u001b[0;32m~/anaconda3/envs/prolif/lib/python3.10/site-packages/Bio/SeqIO/FastaIO.py:416\u001b[0m, in \u001b[0;36mas_fasta\u001b[0;34m(record)\u001b[0m\n\u001b[1;32m    410\u001b[0m \u001b[38;5;28;01mdef\u001b[39;00m \u001b[38;5;21mas_fasta\u001b[39m(record):\n\u001b[1;32m    411\u001b[0m \u001b[38;5;250m    \u001b[39m\u001b[38;5;124;03m\"\"\"Turn a SeqRecord into a FASTA formatted string.\u001b[39;00m\n\u001b[1;32m    412\u001b[0m \n\u001b[1;32m    413\u001b[0m \u001b[38;5;124;03m    This is used internally by the SeqRecord's .format(\"fasta\")\u001b[39;00m\n\u001b[1;32m    414\u001b[0m \u001b[38;5;124;03m    method and by the SeqIO.write(..., ..., \"fasta\") function.\u001b[39;00m\n\u001b[1;32m    415\u001b[0m \u001b[38;5;124;03m    \"\"\"\u001b[39;00m\n\u001b[0;32m--> 416\u001b[0m     \u001b[38;5;28mid\u001b[39m \u001b[38;5;241m=\u001b[39m _clean(\u001b[43mrecord\u001b[49m\u001b[38;5;241;43m.\u001b[39;49m\u001b[43mid\u001b[49m)\n\u001b[1;32m    417\u001b[0m     description \u001b[38;5;241m=\u001b[39m _clean(record\u001b[38;5;241m.\u001b[39mdescription)\n\u001b[1;32m    418\u001b[0m     \u001b[38;5;28;01mif\u001b[39;00m description \u001b[38;5;129;01mand\u001b[39;00m description\u001b[38;5;241m.\u001b[39msplit(\u001b[38;5;28;01mNone\u001b[39;00m, \u001b[38;5;241m1\u001b[39m)[\u001b[38;5;241m0\u001b[39m] \u001b[38;5;241m==\u001b[39m \u001b[38;5;28mid\u001b[39m:\n\u001b[1;32m    419\u001b[0m         \u001b[38;5;66;03m# The description includes the id at the start\u001b[39;00m\n",
      "\u001b[0;31mAttributeError\u001b[0m: 'str' object has no attribute 'id'"
     ]
    }
   ],
   "source": [
    "##writing the file\n",
    "SeqIO.write(more_than_500_bp['sequence'],'long_sequences.fa','fasta')"
   ]
  },
  {
   "cell_type": "code",
   "execution_count": 170,
   "id": "260a68ca-966b-442b-9872-862fb73096eb",
   "metadata": {},
   "outputs": [],
   "source": [
    "with open (\"long_sequences.fa\",\"w\") as f:\n",
    "    for i in more_than_500_bp['sequence']:\n",
    "        \n",
    "        f.write(i+\"/n\")"
   ]
  },
  {
   "cell_type": "code",
   "execution_count": 171,
   "id": "573abe90-10dc-4c16-a439-e2ff107e5442",
   "metadata": {},
   "outputs": [
    {
     "name": "stdout",
     "output_type": "stream",
     "text": [
      "ATGGCCCGCATTGTTGCCTACGGAGCACACACATGGTCAACAGCGGGGTTACAATGGCGCTGCCGTCGCTGTCGCCGGATAACAGCTTATTGGCCCGCTATGCGTCGCTGCCTTAGGAACAGAAACTGATGGCGATGGGTTTGTGTGGCCGGTTGATGTAGGTCCGGCAATTCGTCACACCTTAGGGTGTATTAAAACCCCTCATTCAGACCTGAGCGAGTCTACGCAATGAGGCATGCATCCGAAACCTTATGCACGCCTAGTGTAGTCCAAACGATCTAGGGGTTGAGAACCACCAAATTTCATCACGTATACAATAAATGCAGGGAAGTATTCATTGTGAAGAAAGGTCTCGAACGACATATAAGTGGGAAACGAAAAGGGAGGATCTACGGAACGTACAACGCACTGGATGCAAACGTAGATTCAAGTGGTAACGAAAACCATAAGAGGTTACTCCTAATGAGTCTACGATTCTTCTGTGGGTCGTGACTAAGCTCTATACGCAGAACGTGGCACCCCGCAATGATCTCTAATCATCGGCAGCCACGTCAGTGGCCTTTTGCAAAGGAGCTAGGGTTACGCCAATTTTATATGCAAAGCGCTTCCTTTAGGGAGTGTGGCATTAGTCCCTAGAGGCCGCATATTTGACGAATGAAACAATTCGATGTCTGCGATTGGCAATTGACTGTAATAACCGCGGCAGAGTTGCTAAATCTTGCTCTCGTCAGGGCGGTCGTCGTAAATAGCTCAGTCAAAGCTGCGATTGCTTCCGTTTCATATGATGGCTGAAATCTGGGTTCGAAAAGCGTAAGCACATGATATCATCAAGAAGAGGAGGGGGAACGGCCATACCGACCTTGTGAACGACGATCTGCGTCCTACCCAGACATAATATTTATTGGCGATCGAGTGAGGGACACGCTTGAGATCTAAAAATCTGTCGCGAACCATGTATAAATCTACGCCGGCTCACCTGCTAACTATTTAGAGCGAACAC/nATGGCCCGCATTGTTGCCTACGAAGCACACACATGGTCAACAGCGGGGTTACAATGGCGCTGCCGTCGCTGTCGCCGGATAACAGCCTATTGGCCCGCTATGCGTCGCTGCCTTAGGAACAGAAACTGATGGCGATGGGTTTGTGCGGCCGGTTGATGTAGGTTCGGCAATTCGTCACACCTTAGGGTGTATTAAAACCCCTCATTCAGACCTGAGCGAGTCTACGCAATGAGGCATGCATCCGAAACCTTATGCACGCCTAGTGTAGTCCAAACGATCTAGGGGTTGAGAACCACCAAATTTCATCACGTATACAATAAATGCAGGGAAGTATTCATTGTGAAGAAAGGTCTCGAACGACATATAAGTGGGAAACGAAAAGGGAGGATCTACGGAACGTACAACGCACTGGATGCAAACGTACATTCAAGTGGTAACAAAAACCATAAGAGGTTACGCCTAATGAGTCTACGATTCTTCTGTGGGTCGCGACTAAGCTCTATACGCGGAACGTGGCACCCCGCAATGATCTCTAATCATCGGCAGCCACGTCAGTGGCCTTTTGCAAAGGAGCTAGGGTTACGCCAATTTTATATGCAAAGCGCTTCCTTTAGGGAGTGTGGCATTAGTCCCTAGAGGCCGCATATTTGACGAATGAAACAGTTCGATATCTGCAATTGGCAATTGACTGTAATAACCGCGGCAGAGATGCTAAATCTTGCTCTCGTCAAGGCGGTCGTCGTGAATAGCTCAGTCAAAGCTGCGATTGCTTCCGTTTCATATGATGGCTGAAATCTGGTTCGAAAAGCGTAAGCACATGATATCATCAAGAAGAGGAGGGCGAACGGCCATACCGACCTTGAGAACGACGATCTGCGTCCTACCCAGACATAATATTTATTGGCGATCGAGTGAGGGACACGCTTGAGATCTAAAAATCTGTCGCGAACCATGTATAAATCTACGCCGGCTCACCTGCTAACTCTTTAGAGCGAACAC/nATGGCCCGCATTGTTGCCTACGAAGCACACACATGGTCAACAGCGGGGTTACAATGGCGCTGCCGTTGCTGTCGCCGGATAAAAGCTTATTGGCCCGCTATGCGTCGCTGCCTTAGGAACAGAAACTGATGGCGATGGGTTTGTGCGGCCGGTTGATGTAGGTCCGGCAATTCGTCACACCTTAGGGTGTATTAAAACCCCTCATTCAGACCTGAGCGAGTCTACGCAATGAGGCATGCATCCGAAACCTTATGCATGCCTAGTGTAGTCCAAACGACCTAGGGGTTGAGAACCACCAAATTTCATCACGTATACAATAAATGCAGGGAAGTATTCATTGTGAAGAAAGGTCTCGAACGACATATAAGTGGGAAACGAAAAGGGAGGATCTACGGAACGTACAACGCACTGGATGCAAACGTAGATTCAAGTGGTAACGAAAACCATAAGAGGTTACTCCTAATGAGTCTACGCTTCTTCCGTGGGTCGTGACTAAGCTCTATACGCGAAACGTGGCACCCCGCAATGATCTCTAATCATCGGCAGCCACGTCAGTGGCCTTTTGCAAAGGAGCTAGGGTTACGCCAATTTTATATGCAAAGCGCTTCCTTTAGGGAGTGTGGCATTAGTCCCTAGAGGCCGCATATTTGACGAATGAAACAATTCGATAACTGCAATTGGCAATTGAATGTAATAACCGCGGCAGAGTTGCTAAATCTTGCCCTCGTCAAGGCGGTCGACGTAAACAGCTCAGTCAAAGCTGCGATTGCTTCCGTTTCATATGATGGCTGAAATCTGGGTTCGAAAAGCGTAAGCACATGATATCATCAAGAAGAGGAGGGGGAACGGCCATACCGACCTTGAGAACGACGATCTGCGTCCTCCCCAGACATAATATTTATTGGCGCTCGAGTGAGGGACACGCTTGAGATCTAAAAATCTGTCGCGAACCATGTATAAATCTACGCCGGCTCACCTGCTAACTCTTTAGAGCGAACAC/nAAGGTCTCCATTGGGGACGCTGAAGCTCACGCGTCCTCGGCTGCAGGATTACAATGGAGCTGATGTCGCTGCGCTCGGGCATCAGTTCACTGGCATGCATTTCGTCGCTGCACTAGGGATAGGAATTGTCGGCGACGCTTAGTTGCGTCTAGTTAGACTAGGTCGGTTAATACCTCTTGCACTAGCGCCGGACTCAAGACTCCCAGTCGGACCCTTAGGGGCCTACGAAATCAGCCGGCCACCCGAGTGTCCTATCGCGTCAACCAGCGTCCAGACGACTAAGATGTTAGCGCCTTCCAACCCTCCTCACGGGTACTATAAATCTGGGGATTAACTCCTCGTAAACAATGTAGTAGAGTAACGTATAAATGACAACCTAAAGGGGACGGACTGCGGGAAACACAACGCACTTAACTCAGGCGTAGGTTCGAGTTTGCGCTGAAACCATCGAAAATGACCTCCGTGGAGCCTCCGATCCTTCTGGTCATAAGTGTCTATATGCGGTATGTGGTTCCGCGCTAATAGCTATGTTGAGCCACGAGGACGCAAGTGGCCTCGCCTGTCATAATCGTTGGGCTGCGTCGATTGTATGCATGACCTGTGTCATTAGTCCTTAGACGCCGTCTATTTAGCATTGGATCTTCCTAAGGCGGCGATTTCCAACGGATTTTAATTACCGGCCGTGAGTCGGACAACGTCGGTCTCGTCAGTACGGTCAACGTAAGTGGCTCGCTTAAGAGTGTGGCGGTTTCCATCTCATATAGTAGCTCATCCCCTAAGACACCAAATGGGAGCATATGGGGTCTGCATGAAGAGGATGGTAAACGGCCAAGATGCGCGGTGGGAATTCCCAGTTGCGTTCAACGCAACATAATTGTTGTCGCCGATACTGGGAGTGACACGCTTGTAAACTACAAAATTATCGCGAGCTATGTAGCAATTTAAGCAGGCTCATCTTATCACAATTTCAGGGCGGAAAG/nAAGGTCTCCATTGGGGACGCTGAAGCTCACGCGTCCTCGGCTGCAGGATTACAATGGAGCTGATGTCGCTGCGCTCGGGCATCAGTTCACTGGCATGCATTTCGTCGCTGCACTAGGGATAGGAATTGTCGGCGACGCTTAGATGCGTCTAGTTAACCTAGGTCAGTTAATACCTCTTGCACTAGCGCCGGACTCAAGACCCCCAGTCGGACCCTTAGGGGCCTACGAAATCAGCCGGCCACCCGAGTGCCCTATCGCGTCAAACATCGTCCAGACGACTAAGATGTTAGCGACTTCCAACCCTCCTCGCGGGTACTATAAATCTGGGGATTAACTCCTCGTAAACAATGTAGTAGAGTAACGTATAAATGACAACCTAAAGGGGACGGACTGCGGGAAACACAACGCACTTAACTCAGGCGTAGGTTCGAGTCTGCGCTGAAACCATCGAAAATGACCTCCGTGGAGCCTCCGATCCTTCTGGTCATAAGTGTCTATATGCGGTATGTGGTTCCGCGCTAATAGCTATGGTGAGCCACGAGGACGCAAGTGGCCTCGCCTGTCATAATCGTTGGGCTGCGTCGATTGTATGCATGACCTGTGTCATTAGTCCTTAGACGCCGTCTATTTAGCATTAGATCTTCCTAAGGCGGCGATTTCCAACGGATTTTAATTACCGGCCGTGAGTCGGACAACGTCGGTCTCGTCAGTACGGTCAACGTAAGTGGCTCGCTTAAGAGTGTAGCGGTTTCCATCTCATATAGTAGCTCATCCCCTAAGACACCAAATGGGAGCATATGGGGTCTGCATGAAGAGGACGGTAAACGGCCAAGCTGCGCGGTGGGAATTCCCAGTTGCGTTCAACGCAACATAATTGTTGTCGCCGATACTGGGAGTGACACGCTTGTAAACTACAAAATTATCGCGAGCTATGTAGCAATTTAAGCAGGCTCATCTTATCACAATTTCAGGGCGGAAAG/nAAGGTCTCCATTGGGGACGCTGAAGCTCACGCGTCCTCGGCTGCAGGATTACAATGGAGCTGATGTCGCTGCGCTCGGGCATCAGTTCACTGGCATGCATTTCGACGCTGCACTAGGGATAGGAATTGTCGGCGACGCTTAGATGCGTCAAGTTAACCTAGGTCGGTTAATACCTCTTGCACCAGCGCCGGACTCAAGACCCCCAGTCGGACCCTTAGGGGCCTACGAAATCAGCCGGCCACCCGAGTGCCCTATCGCGTCAAACAGCGTCCAGACGACTAAGATGTTAGCGACTTCCAACCCTCCTCGCGGGTACTATAAATCTGGGGATTAACTCCTCGTAAACAATGTAGTAGAGTAACGTATAAATGACAATCTAAAGGGGACGGACTGCGGGAAACACAACGCACTTAACTCAGGCGTAGGTTCGAGTCTGCGCTGAAACCATCGAAAATGACCACCGTGGAGCCTCGGATCCTTCTGGTCATAAGCCTCTATATGCGGTATGTGGTTCCGCGCTAATAGCTATGGTGAGCCACGAGGACGCAAGTGGCCTCGCCTGTCATAATCGTTGGGCTGCGTCGATTGTATGCATGACCTGTGTCATTAGTCCTTAGACGCCGTCTATTTAGCATTGGATCTTCCTAAGGCGGCGATTTCCAACGGATTTTAATTACCGGCCGTGAGTCGGACACCGTCGGTCTCGTCAGTACGGTCAACGTAAGTGGCTCGCTTAAGAGTGTAGCGGTTTCCATCTCATATAGTAGCTCATCCCCTAAGACACCAAATGGGAGCATATGGGGTCTGCATGAAGAGGACGGTAAACGGCCAAGCTGCGCGGTGGGAATTCCCAGTTGCGTTCAACGCTACATAATTGTTGTCGCCGATACTGTGAGTGACACGCTTGTAAACTACAAAATTATCGCGAGCTATGTAGCAATTTAAGCAGGCTCATCTTATCACAATTTCAGGGCGGAAAG/nAAGGTCTGAATTGGGGACGCTGAAGCTCAAGCGTATTCGGCGGCAGGATTACAATGGAGCTGACGTCGCTGCGCTCGGGCATCAGTTCACTGGCATGCGTTTCGTCGCTGCGCTAGGGATAGGAATTGTCGGCAACGCTTAGATGCGTCTAGTTAACCTAGGCCGGTTAATACCTCCTGCACTAGCGCCGGACTCAAGACCCCCAATCGGACCCTAAGGGGCCTACGAAATCAGCCGGACACCCGAGTGCCCTATCGCATCAAACAGCGTCCAGACGAATAAGATGTTAGCGACTATCAACCCTCCTCGCGGGTACTATAAATCTGGGGATTAACTCCTCGTAAACAATGTAGTAGAGTAACGTATAAATGACAAACTAAAGGGGACGGACTGCGAGTAACACAACGCACTTAACTCAGGCGTAGGTTCGAGTCTGCGCTGAAACCATCGAAAATGACCTCCGTGGAGCCGCCGATCCTTCTGGTCATAAGTGTCTATATGCGGTATGTGGTTCCGCGCTAATAGCTAAGGTGAGCCACGAGGACGCAAGTGGCCTCGCCTGTCATAATCGTTGGGTTGCGTCGATTGTATGCATGACCTGTGTCATTAGCCCTTAGACGTCGTCTATTTAGCATTGGACCTTCCTAAGGCGGCGATTTCCAATGGATTTTAATTAGCGCCCGTGAGTCGGACAACGTCAGTCTCGTCAAGACGGTCAACGTAAGTGGCTCGCTTAAGAGTGTGGCGGCTTCCATCTTATATAGTAGCTCATCCCCTAAGACACCAAATGGGAGCATATGGGGTCTGCATGAAGAGGGCGGTAAAGGGCCAAGATGGGCGGTGGAAATTCCCAGTTGCGTTCAACGCAACATAATTGTTGTCGCCGATACTGGGAGTGACACGCTTGTAAACTACAAAATTATCGCGAGCTATGTAGCAATTGAAACTGGCTCATCTGATCACAATTTCAGGGCGAAAAG/nAAGGTCTGAGTTGGGGACGCTGAAGCTCACACGTATTCGGCGGCAGGATTACAATGGAGCTGATGTCGCTGCGCTCGGGCATCAGTTCACTGGCATGCGTTTCGTCGCTGCACTAGGGATAGGAATTGTCGGCAACGCTTAGATGCGTCTAGTTAACCTAGGCCGGTTAATACCTCCTGCACTAGCGCCGGACTCAAGACCCCCAATCGGACCCTAAGGGGCCTACTAAATCAGCCGGACACCCGAGTGCCCTATCGCGTCAAACAGCGTCCAGACGACTAAGATGTTAGCGACTATCAACCCTCCTCGCGGGTACTATAAATCTGGGGATTAACTCCCCGTAAACAATGTAGTAGAGTAACGTATAAATGACAAACTAAAGGGGACGGACTGCGGGTAAGACAACGCACTTAACTCAGGCGTAGTTTCGAGTCTGCGCTGAAACCATCGAAAATGACCTCCGTGGAGCCTCCGATCCTTCTGGTCATAAGTGTCTATATGCGGTATGTGGTTCCGTGCTAATAGCTAAGGTGAGCCACGAGGACGCAAGTGGCCTCGCCTGTCATAATCGTTGGGTTGCGTCGATTGTATGCATGACCTGTGTCATTAGTCCTTAGACGTCGTCTATTTAGCATTGGATCTTCCTAAGGCGGCGATTTCCAATGGATTTTAATTAGCGCCCGTGAGTCGGACAACATCAGTCTCGTCAAGACGGTCAACGTAAGTGGCTCGCTTAAGAGTGTGGCGGCTTCCATCTTATATAGTAGCGCATCCCCTAGGACACGAAATGGGAGCATATGGGGTCTGCATGAAGAGGGCGGTAAACGGCCAAGATAGGCGGTGGAAATTCCCAGTTGCGTTCAACGCAACATAATTGGTGTCGCCGATACTGGGAGTGACACGCTTGTAAACTACAAAATTATTGCGAGCTATGTAGCAATTGAAGCTGCCTCATCTGATCACAATTTCAGGGCGAAAAG/nAAGGTCTGAATTGGGGACGCTGAAGCTCACGCGTATTCGGCGGCAGGATTACAATGGAGCTGATGTCGCTGCGCTCGGGCATCAGTTCACTGGCATGCGTTTCGTCGCTGCACTAGGGATAGGAATTGTCGGCAACGCTTAGATGCGTCTAGTTAACCTAGGCCGGTTAATACCTCCTGCACTAGCGCCGGACTCAAGACCCCCAATCGGACCCTAAGGGGCCTACGAAATCAGCCGGACACCCGAGTGCCCTATCGCGTCAAGCAGCGTCCAGACGACTAAGATGTTAGCGACTTTCAACCCTCCTCGCGGGTACTATAAATCTGGGGATTAACTCCTCGTAAACAATGTAGTAGATTAACGTATAAATGACAAACTAAAGGGGACGGACTGCGGGTAACACAACGCACTTAACTCAGGCGTGGGTTCGAGTCTGCGTTGAAACCATCGAAAATGACCTCCGTGGAGCCTCCGATCCTTCTGGTCATAAGTGTCTATATGCGGTATGTGGTTCCGCGCTAATAGCTAAGGTGAGCCACGAGGACGCAAGTGGCCTCGCCTGTCATAATCGTTGGGTTGCGTCGATTGTATGCATGACCTGTGTCATTAGTCCTTAGACGTCGTCTATTTAGCATTGGATCTTCCTAAGGCGGCGATTTCCAATGGATTTTAATTAGCGCCCGTGAGTCGGGCAACGTCGGTCTCGTCAAGACGGTCAACGTAAGTGGCTCGCTTAAGAGTGTGGCGGCTTCCATCTTATATAGTAGCTCATCCCCTAAGACACCAAATGGGAGCATATGGGGTCTGCATGAGGAGGGCGGTAAACGGCCAAGATGGGCGGTGGAAATTCCCAGTTGCGTTCAACGCAACATAATTGTTGTCGCCGATACTGGGAGTGACACGCTTGTAAACTACAAAATTATCGCGAGCTATGTAGCAATTGAAGCTGGCTCATCTGATCACAATTTCAGGGCGAAAAG/nATGGCCTGCCTTGTTGAGCCCGGAGCCCACAAACGATCGAAAGGGGGGTTACAACGGCGCTGAGGTCGCTGCAGACGGATACGTACTTATTGGCACTCACTGCGTCGCTTCTCGAGTAATGCAAATTGATGGTGAGGTTCCAACGTGGCTCGTAAACCTAGGTTCGGCGATTCTTCCTGCATTACGCTGGATTAGGAACCGCCATTTACACTCGAGAGAGCCTACGGATTCAGCCGGAGACACGTGAACCCCAGCACGCCGAACAGAGTCTAAACGATCTAGATGTAGCGCGCTTCTATACTTCACCACCCGTCTTATAACTACAGGGACTAGCTCATTATGTACAATGTCCACGACCAACTTATAAATGACAAATCAAAGGGGATGGACTGCAGGAAATACATCGCACATGACGCAGACCTAGATTCGAGCCCGAGCTGGAACCTAAGAAGGTGACTGCCAAGAAGTCTCCGGCCTTTTGGGTCGTAGATTCCATACGCAAATATGTACTTCCTCGCTGCGAGATCCTATCACCAGTCGGGCCGTAGGCGGGCTTAACTTGTAGTAATCATTGGGTTGCCTGGCCTGTATTCTTAACCTATTTCCTCAGTCCCTATTGGCTGCCTATTTGGCTAATTTTTAGTTTTAAATAAGGCGGCTCGCGAAGGACTTTAAAAGCCTCGTAAGGGTCGCACAAGTCCTGTCTTGTTCAGGCGATTGACTGAAATAGTTCGCTAAAGGATGTATGGGTTCTCATCTCATACGATAGGTCAATGGCTGATTCAAAACCAGGAACCAGATTGTCTCGAAAGGGCTGCTGGGGGACGCCTATGAAACACCGTGAAAACTACGATTTGCGGCTTAGCCAACATGGGGACGTGTACGGTTGAACGTCTTTATAGGAGATCCTACGTGGGAAACGCTCATGAACTACGAATCTGTCGCGAATTATGCACTGCTCTTGGCCGGCTCAGTCGATAACAAGTCAGGGCGACTAC/nATAGCCTGCCTTGTTGAGCCCGGAGCCCACAAACGATGGAAAGGGGGGTTACAACGGCGCTGAGGTCGCTGCAGACGGATAGGTACTTATTGGCACTCACTGCGTCGCTTCTCGAGGGATGCAAATTGATGGTGAGGTTCCAACGTGGCTCGTAAACCTAGGTTCGGCGATTCTTCCTGCATTACACTGGATTAGGGACGGCCATTTACACTCGAGAGAGCCTACGGATTCAGCCGGAGACCCGTGAACCCCAGCACGCCGAACAGAGTCTAAACGATCTGGATGTAGCGCGCTTCTACACTTCACCACCCGTCTTATAACTACAGGGAGTAGCTCATTGTGTACGATGTATCCCACGACCAACCTATAAATGACAAATCAAAGGGGATGGACTCCGGGAATTACACCGCACATGACGTAGACCTAGATTCGAGCCCCAGCTGAAACCTAAGGAAGTGACTGCCAGGAAGTCTCCGACCCTTTGGGTCTTCGATTCCAGGCGTGGATATGTACTTCCTCGCTGCGAGATCCTATCACCAGCCGGGACGTAGGCGGGCTTAACTTGTAGTAATCATTGGGTTGCCTGGCCTGTATTCATTACCTGTATCCTCAGTCCCTATTGGCTGCCTATTTGGCTAATTTTTAGTTTTAAATAAGGCGGCTCGCAAAGGGCTTTAAAAGCCTGGTAAGTGTCGCACAAGGCCCGTCTTGTTCAGGCGGTTAGCGGAAATAGTTCGTTAAAGAAGGTATGGGTTCTCATCTGATACGATGGGACAATGCCTGATTCAAAACCAGGAACCAGATTGTCTCGAAAGAGCCCCTGGGGGACGCCCATGACACACCGTGAAAACTACGATTTGCGGCTTAGCCAACATGGGGTCGTTTACGGTAGAACGTCTTTATAGGAGATCCTACGTGGGAAACGCTCATGAACTACGAATCTGGCGCGAATTATGCACTGCTCTTGGCCGGCTCAGTCGATAACAAGTCAGGGCGACTAC/nATGGCCTGCCTTGTTGAGCCCGGAGCCCACAAACGATCGAAAGGGGGGTTACAACGGCGCTGAGGTCGCTGCACACGGATATGTACTTATTGGCACTCACTGCGTCGCTTCTCGAGGGATGCAAATTGATGGTGAGGTTCCAACGTGGCTCGTAAACCTAGGTTCGGCGATTCTTCCTGTATTACACTGGATTAGGGACGGCCATTTACACTCGAGAGAGCCTACGGATTCCGCCGGAGACCGTGAACCCCAGCACGCCGAACAGATCTAAACGATCTAGATGTAGCGTGCTTCTACACTTCACCACCCGTCTTATAACTACAGGGAGTAGCTCATTGTGTACGATGTATCCCACGACCAACCTATAAATGACAAATCAAAGGGGATGGATTCCGGGAATTACATCACACATGACGTAGACCTTGATTCGAGCCCCAGCTGAAACCTAAGGAAGTGACTGCCAGGAAGTCTCCGACCCTTTGGGTCGTCGATTCCAGACGTGGATATGTACTTCCTCGCTGCGAGATCCTATCACCAGCCGGGACGTAGGCGGGCTTAACTTGTAGTAATCATTGGGTTGCCTGGCCTGTATTCATAACCTGTATCCTCAGTCCCTATTGGCTGCCTATTTGGCTATTTTTTAGTTTTAAATAAGGCGGCTCGCAAAGGGCTTTAAAAGCCTGGTAGGGGTCGCACAAGGCCCGTCTTGTTCAGGCGGTTAGCAGAAACAGTTCGTTAAAGAATGTATGGGTTCTCATCTGATACGATGGGACAATGCCTGATTCAAAACCAGGAACCAGATTGTCTCGAAAGAGCCCCTGGGGGACGCCCATGAAACACCGTGAAAACTACGATTTGCGGCTTAGCCAACATGGGGTCGTTTACGGTTGAACGTCGTTATAGGAGATCCTACGTGGGAAACGCTCATGAACTACGAATCTGGCGCGAATTATGCACTGCTCTTGGCCGGCTCAATCGATAACAAGTCAGGGCGACTAC/nATGGCCTGCCTTGTTGAGCCCGGAGCTCACAAACGATCGAAAGGGGGGCTACAACGGCGCTGAGGTCGCTGCACACGGATATGTACTTATTGGCACTCACTGCGTCGCTTCTCGAGGGATGCAAATTGATGGTGAGGTTCCAACGTGGCTCGTAAACCTAGGTTCGGCGATTCTTCCTGTATTACAATGGATTAGGGACGGCCATTTACACTCGAGAGAGCCTACGGATTCAGCCGGAGACCGTGAACCCCAGCACGCCGAACAGATCTAAACGATCTAGATGTAGCGTGCTTCTACACTTCACCACCCGTCTTATAACTACAGGGAGTAGCTCATTGTGTACGATGTATCCCACGACCAACCTATAAATGACAAATCAAAGGGGATGGATTCCGGGAATTACATCACACATGACGTAGACCTTGATTCGAGCCCCAGCTGAAAGCTAAGGAAGTGACTGCCAGGAAGTCTCCGACCCTTTTGGTCGTCGATTCCAGACGTGGATATGTACTTCCTCGCTGCGAGATCCTATCACCAGCCGGGACGTAGGCGGGCTTAACTTGTAGTAATCATTGGGTTGCCTGGCCTGTATTCATAACCTGTATCCTCAGTCCCTATTGGCTGCCTATTTGGCTAATTTTTAGTTTTAAATAAGGCGGCTCGCGAAGGGCTTTAAAAGCCTGGTAAGGGTCGCATAAGGCCCGTCTTGTTCGGGCGGTTAGCAGAAACTGTTCGTTAAAGAATGTATGGGTTCTCATCTGATACGATGGGACAATGCCTGATTCAAAACCAGGAACCAGATTGTCTCGAAAGAGCCCCTGGGGGACGCCCGTGAAACACCGTGAAAACTACGATTTGCGGCTTAGCCAACATGGGGTCGTTTACGGTTGAACGTCGTTATAGGAGATCCCACGTGGGAAACGCTCATGAACTACGAATCTGGCGCGAATTATGCACTGCTCTTGGCCGGCTCAATCGATAACAAGTCAGCGCGACTAC/nATGGCCTGCCTTGTCGAGCCCGGAGCCCACAAACGATCGAAAGGGGGGTTACAACGGCGCTGAAGTCGCTGCAGACGGATATGTACTTATTGGCACTCACTGCGTCGCTTCTCGAGGGATGCAAATTGATGGTGAGGTTCCAACGTGGCTCGTAAACCTAGGTTCGGCGATTCTTCCTGCATTACACTGGATTAGGGACGGCCATTTACACTCGAGAGAGCCTACGGATTCAGCCGGAGACCCGTGAACCCCAGCACGCCGAACATAGTCTAAACGATCTAGATGTAGCGTGCTTCTACACTTCACCACCAGTCTTATAACTACAGGGAGTAGCTCATTGTGTACGATGTATCCCACGACCAACCTATAAATGACAAATCAAAGGGGATGGATTCCGGGAATTACATCGCACAAGACGTAGACCTAGATTCGAGCCCCAGCTGAAACCTAAGGAAGTGGCTGCCAGGAAGTCTCCGACCCTTTGGGTCGTCGATTCCAGACGAGGATATGTACTTCCTCGCTGCGAGATCCTATCACCAGCCGGGACGTAGGCGGGCTTAACTTGGAGTAATCATTGGGTTGCCTGGCCTGTAGTCATAACCTGTATTCTCAATCCCTATTGGCTGCCTATTTGGCTAATTTTTAGTTTTAAATAAGGCGGCTCGCAAAGGGCTTTAAAAGCCTGGTAAGGGTCGCACAAGGCCCGTCTTGTCAAGGCGGTTAGCAGAAACAGTTCGTTAAAGAATGTATGGGTTCTCATCTGATACGATGGGACAATGCCTGATTCAAAACCAGGAACCAGATTGTCTCGAAAGAGCCCCTGGGGGACGCCCATGAAACACCGTGAAAACTACGATTTGCGGCTTAGCCAACATGGGGTCGTTTACGGTTGAACGTCTTTATAGGAGGTCCTACGTGGGAAACGCTCATGAACTACGAATCTGGCGCGAATTATGCACTGCTCTTGGCCGGCAGTCGATAACAAGTCAGGGCGACTAC/nCTACACTGCGTTGTTGGCCCCGAAGCTCACCCACGGTAGAAAGCGGGGTTATAATGGTGCTTAAGTAGGTACAAACGGATACGGACGTACTGACGCGACATGCCTCGCTTCACAAGGATTGGAATCTGTTGATGACGTTTAGGTATGGCTCATAAAATTAGGTCCGGCAGTCCTACATGCCTTACGCTGGATTAAGCACTCCCATTTACGCACGACAGAGCTTACGGAATCAGCTGCGCACCCGAGAACACCTGTACGTCTAGTACAGTCGAAACGATCTAGATGTAAAAAAGTTCTAAGCTTCATCACGCGGCTTAGAACTTCAGGCACGAGCTCATTACAAACAAAGTCCTCTACCAACCTATAAACGACTAACCAGAGCGGGTGAACTGCGGGAAGTAAATCGAACATGGCCCGAAGGTAGGTTCGAGTCGGTGCAGAATCCCTAGGGGATGAGTGCCCAGCACCGTCCGACCCTTCCGGTCGTAGAATTCAATACTCGCAGATGAGGTTCCCCACTGAGAGATCAAAGCACTGTTCGGGGTGTAAACGGCCTTTACTGTAGTAATGGTTGGGTTACGTCAACCGTATGCGTAAGCGGAATCATTAGTCCTAAGAGGCTGCCTATTTGGTTAATTTAACGGTTCCCACTCGGCGGTTTTCAAAGGCCTTTAAGAGCCGCGTATGGATCGCACGAGTCTGGTCTTATTCAGGCGGTCGACGAAATTAGACCGGTAGAAGATGTAATGGCTTCTCTCTCATATGGTTACTCAATTCCTGATTCAAAAACAGGGAACATATGATGTTTCCGGGAGTCGGACGGGGAACAGCTACGACACACCTTGACAATTGCGGTTTACTGCCTGGCCAACTTGGGGCAGTTCACGGTTGGAACATCTTTATACGCGATCGCGTGAGGGAAACGTTTAGCAACTACTAATCTTTCAAGAACTATGCATAATGGCCAGGCGGCTCGGTGAGTAACAAGCCAGGGCGAATAC/nCTACACTGCTTTGTTGGCCCCGAAGCTCACCCACGGTAGAAAGCGGGGTTATAGTGGTGCTTAAGTAGGTACAGACGGATACGGACGTACTGACGCGACATGCCTCGCTTCACAAGGATTGGAATCTGTTGATGACGCTTAGGTACGGCTCATAAAATTAGGTCCGGCAGTCCTACATGCCTTACGCTGGATTAAGGACTCCCATTTACACACGACAAAGCTTACGGAATCAGGTGCGCACCCGAGAACACCTGTACGTCTAGTACAGTCGAAACGATCTAGATGTAAAAGAGTTCTAAGCTTCATCACGCGGCTTAGAACTTCAGGCACGAGCTCATTACAAACAAAGTCCTCTACCAACGTATAAACGACTAACCAGAGCGGGTGAACTGCGGGAAGTAAATCGAACATGGACCGAAGGGAGGTTCGAGTCGGTGCAGAATCCCTAGAGGATGAGTGCCCAGCACCGTCCGATCCTTCCGGTCGTGGAATTCAATACTCGTAGATGAGGTTCCCCACTGAGAGATCAAAGCACTGTTCGGGGTGTAAACGGCCTTTACTGTAGTAATGGTTGGGTCACGTCAACCGTATGCGTAAGCGGAATCATTAGTCCTAAGAGGCTGCCTATTTGGTTAATTTAACGGTTCCCACTCGGCGGTTTTCAAAGGCCTTTAAGAGCCGCGTATGGATCGCACGAGTCTGGTCTTATTCAGGCGGTCGACGGAATTAGACCGGTAGAAGATGTAATGGCTTCTCTGTCATATGGTTACTCAATTCCTGATTCAAAAACAGGGAACATATGATGTTTTCGGGAGTCGGACGGGGAACAGCTACGACACACCTTGACAATTGCGGTTTACTGCCTGGCCAACTTGGGGCAGTTCACGGTTGGAACATCTTTATACGCGATCGCGTGAGGGAAACGTTTAGCAACTACTAATCTTTCAAGAACTATGCATAATGGCCAGCCGGCTCGGTGAGTAACAATCCAGGGCGAATAC/nCTACACTGCGTTTTTGGCCCCGAAGCTCACCCACGGTAGAAAGCGGGGTTATGATGGTGCTTAAGTCGGTACAGACGGATACGGACGTACCGACGCGACATGCATCGCTTCACAAGGATTGGAATCTGTTGATGACGCTTAGGTACGGCTCATAAAATTAGGTCCGGCAGTCCTACATGCCTTACGCTGGATTAAGGACTCCCATTTTCACATGACAGAGCTTACGGAATCAGCTGCGCACCCGAGAACCCCTGTACTTCAAGCAGAGTCGAAACGATCTAGATGTAAAAGAGTTCCAAGCTTCATCACGCGGCTTAGAACTTCAGGCATGAGCTCATTAGAAACAAAGTCCTCGACCAACGTATAAACGACTAACCAGAGCGGGTGAACTGCGGGAAGTAAATCGAACACGGCCCGAAGGTAGGTTCGAGTCGGTGCAGAAACCCTAGAGAATGAGGGCCCAGCACCGTCCGATCCTTCCGGTCGTGGAATTCAATACTCGCAGATGAGGTTCCCCACTGCGAGATCAAAGCACTGGACGGGATGTAAACGGCCTTTACTGTAGTAATGGTTGGGTTGCGTCAACCGTATGCGTAAGCTGAATCATTAGTCCTAAGAAGCTGCCTATTTGGTTAATTTAACGGTTCCAACTCGGCGGTTTTCAAAGGACTTTAAGAGCCGCGTATGGATCGCACGAGTTTGGTCTTATTCAGGCGGTCGACGGAAATAGACCGGTAGAGGATGTAATGGCTTCCATCTCATATGGTTACTCAATTCCTGATTCAAAAACATGGAACATATGATGTTTCCGGGAGTCGGACGGGGAACGGCTACGACACACCTTGAGAATCGCGATTTACTGCCTGGCCAACTCGGGGCCGTTCACAGTTGGAACATCTTTATAGGCGATCGCGTGAGGGAAACACTTAGCAACTACTAATCTTTCAAGAACTATGCATAATGGCTAGCCGGCTCGGTGGGTAACAATCCAGGGCGAATAC/nCTAAACTGTGGTGCTGGCCTCGAAGCTCACCCACGGTAGAAAGCGGGGTTATGATGGTGCTTAAGTCGGTACAGACGGATACGGACGCACTGACGCGACATGCATCGCTTCACAAGGATTGGAATCTGTTGATGACGCTTAGGTACGGCTCATAAAATTAGGTCCGGCAGTCCTACATGCCTTACGCTGGATTAAGGACTTCCATTTACACATGACAGAGCCTACGGAATTAGCCGCGCACCTGAGAACCCCTGTACGTCAAGCAGAGTCGAAACGATCTAGATGTAAAAGAGTTCCAAGCTCCATCACGCGGCTTAGAACTTCAGGCATGAGCTCATTAGAACCAAAGTCCTCGACCAACGTATAAACGACTAACCAGAGCGGGTGAACTGCGGGAAGTAAATCAAACACGGCCCGAAGGTAGGTTCGAGTCGGTGCAGAAACCCTAGAGGATGAGGGACCAGTACCGCCCGATTCTTCCGGTCGTGGAATTCAATACTCGCAGATGAGGTTCCCTACAGAGAGGGCAAAGCACTGGCCGGGATGTAAACGGCCTTTACTGTAGTAATGGTTGGGTTACGTCTACCGTATGCGTACGCAGAATCATTAGTCTTAAGAGGCTGCCTATTTGGTAAATTTAATGGTTCCAACTCGGCGGTTTGCAAAGGACTTTAAGAGCCGCGTATGGATCGCACGAGTTTGGTCTTATTCAGGCGGTCGACGGAAATAGACTGGTAGAGGATGTAATGGCTTCCATCTCATATGGTTACTCAATTCCTGAGTCAAAAACAGGGAACATATGATGTTTCCGGGAGTCGGACGGGCAACGGCTACGAGACACCTTGAGAATTGCGATCTACTGCCTGGCCAACTTGGGGCCGTTCACAGTTGGAAGATCTTTATAGGCGATCGCGTGAGGGAAACACTTAACAACTACCGATCTTTCAAGAACTATTCATAATGGCTGGCCGGCTCGGTGGGTAACAATCCAGACCGAATAC/nCTACACTGCGGTGCTGGCCTCGAAGCTCACCCACGGTAGAAAGCGGGGTTATGATGGTGCTTAAGTCGGTACAGACGGATACGGACGTACTGACGCGACATGCATCGCTTCACAAGGATTGGAATCTGTTGATGACGCTTAGGTACGGCTCATAAAATTAGGTCCGGCAGTCCTACATGCCTTACGCTGGATTAAGGACTTCCATTTACACATGACAGAGCTTACGGAATTAGCTGCGCACCCGAGAACCCCTGTACGTCAAGCAGAGTCGAAACGATCTAGATGTAAAAGAGTTCCAAGCTCCATCACGCGGCTTAGAACTTCAGGCATGAGCTCATTAGAACCAAAGTCCTCGACCAACGTATAAACGACTAACCAGAGCGGGTGAACTGCGGGAAGTAAATCGAACACGGCTCGAAGGTAGGTTCGAGTCGGTGCAGAAACCCTAGAGGATGAGAGACCAACACCGCCCGATCCTTCCGGTCGTGGAATTCAATACTCGCAGATGAGGTTCCCCACAGAGAGAGCAAAGCCCTGGCCGGGATGTAAACGGCCTTTACTGTAGTAATGGTTGGGTTACGTCAACCGTATGCGTACGCAGAAACATTAGTCTTAAGAGGCTGCCTATTTGGTAAATTTAATGGTTCCAACTCGGCGGTTTTCAAAGGACTTTAAGAGCCGCGTATGGATCGCACGAGTTTGGTCTTATTCAGGCGGTCGACGGAAATAGACTGGTAGAGGATGTAATGGCTTCCATCTCATATGGTTACTCAATTCCTGAGTCAAAAACACGGAACATATGATGTTTCCGGGAGTCGGACGGGCAACGGCTACGACACACCTTGAGAATTGCGATCTACTGCCTGGCCAACTTGGGGCCGTTCACAGTTGGAACATCTTTATAGGCGATCGCGTGAGGGAAACACTTAACAACTACCAATCTTTCAAGAACTATGCATAACGGCTGGCCGGCTCGGTGGGTAACAATCCAGGCCGAATAC/nCTACACTGCGGTGCTGGCCTCGAAGCTCACCCACGGTAGAAAGCGGGGTTATGATGGTGCTTAAGTCGGTACAGACGGGTACGGACGTACTGACGCTACATGCATCGCTTCACAAGAATCGGAATCTGTTGATGACGCTTAGGTACGGCTCATAAAATTAGGTCCGGCAGTCCTACATGCCTTACGCCGGATTAAGGACTTCCATTTACATATGACAGAGCTTACGGAATTAGCTGCGCACCCGTGAACCCCTGTACGTCAAGCAGAGTCGAAACGATCTAGATGTAAAAGAGTTCCAAGCTCCATCACGCGGCTTAGAACTTCAGGCATGAGCTCATTAGAACCAAAGTCCTCGACCGACGTATAAACGACTAACCAGAGCGGGTGAACTGCGGGAAGTAAATCGAACACGGCCCGAAGGTAGGTTCGGGTCGGTGCAGAAACCCTAGAGGATGAGGGACCAGCACCGCCCGCTCCTTCCGGTCGTGGAATTCAATACTCGCAGATGAGGTTCCCCACAGAGAGAGCAAAGCACTGCCCGGGATGTAAACGGCCTTTACTGTAGTAATGTTGGGTTACGTCAACCGTATGCGTACGCAGAATCATTAGTCTTAAGAGGCTGCCTATTTGGTAAATTTAATGGTTCCAACTCGGCGGTTTTCAAAGGACTTTAAGAGCCGCGTATGGATCGCACGAGTTTGGTCTTATTCGGGCGGTCGACGGAAATCGACTGGTAGAGGATGTAATGGCTTCCATCTCATATGGTTTCTCAATTCCTGAGTCAAAAACACGGAACATATGATTCCGGGAGTCGGACGGTTAACGGCTACGACACACCTTGAGAATTGCGATCTACTGCCTGGCCAACTAGGGGCCGTTCACAGTTGGAACATCTTTATAGGCGATCGCGTGAGGGAAACACTTAACAACTACCAATCTTTCAAGAACTATGCATAATGGCTGGCCGGCTCGGTGGCTAACAATCCAGGCCGAATAC/nCTAGACTGCGGTGCTGGCCTCGAAGCTCACCCACGGTAGAAAGCGGGGTTATGATGGTGCTTAAGTCGGTACAGACGGATACGGACGTACTGACGCGACATGCATCGCTTCACAAGAATCGGAATCTGTTGATGACGCTTAGGTACGGCTCATAAAATTAGGTCCGGCAGTCCTACATGCCTTACGCTGGATTAAGGACTTCCATTTACATATGACAGAGCTTACGGAATTAGTTGCGCACCCGTGAACCCCTGTACGTCAAGCAGAGTCGAAACGATCTAGATGTAAAGGAGTTCCAAGCTCCATCACGCGGCTTAGAACTTCAGGCATGAGCTCATTAGAACCAAAGTCCTCGACCGACGTATAAACGACTAACCAGAGCGGTTGAACTGCGGGAAGTAAATCGAACACGGCCCGAATGTAGGTTCGGGTCGGTGCAGAAACCCTAGAGGATGAGGGACCAGCACCGCCCGCTCCTTCCGGTCGTGGAATTCAATACTCGCAGATGAGGTTCCCCACAGAGAGAGCGAAGCACTGCCCGGGATGTAAACGGCCTTTACTGTAGTTATGGTTGGGTTACGTCAACCGTATGCGTACGCAGAATCATTAGTCTTAAGAGGCTGCCTATTTGGTAAATTTAATGGTTCCAACTCGGCGGTTTTCAAAGAACTTTAAGAGCCGCGTATGGATCGCACGAGTTTGGTCTTATTCGGGTGGTCGACGGAAATCGACTGGTAGAGGATGTAATGGCTTCCATCTCATATGGTTACTCAATTCCTGAGTCAAAAACACGGAACATATGATTCCGGGAGTCGGACGGTCAACGGCTACGACACACCTTGAGAATTGCGATCTACTGCCTGGCCAACTAGGGGCCGTTCACAGTTGGAACATCTTTATAGGCGATCGCGTGAGGGAAACACTTAACAACTACCAATCTTTCAAGAACTATGCATAATGGCTGGCCGGCTCGGTGGCTAACAATCCAGGCCGAATAC/nCTACACTGTGTTGTTGTCCCCGAAGCTCACCCACGGTAGAAAGCGGGGTTATGATGGTGCTTAAGTCGGTACAGACGGATACGGACGTACTGACGCGACATGCATCGCTTCACAAGGATTGGAATCTGTTGATGACGCTTAGGTACGGCTCATAAAATTAGGTCCGGCAGTCCTACATGCCTAAAGCTGGATTAAGGACTTCCATTTACACATGACTGAGCTTACGGAATCGGCTGCGCACCCGGGAACCCCTGTACGTCAAGCAGAGTCGAAACGATCTGGATGTAAAAGAGTTCCAAGCTTCATCATGCGGCTTAGAACTTCAGGCATGTGCTCATTAGAAACAAAGTCCTCGACCAACGTATAAACGACTAACCAGAGCGGGTGTACTGCGGGAAGTAAATCGAACACGGCCCGAAGGTAGGTTCGAGTCGGTGCTGAAACCCCAAAGGATGAGGACCCAGCACCGTCCGATCCTTCCGGTCGTGGAATTCAATACTCGCAGATGAGGTTCCCCACTGAGAGGTCAAAGCACTGGTCGGGATGTACACGGCCTTTACTGTAGTCATGGTTGAGTTCCGTCACCCGTATGCGTAAGCTGAATCATTAGTCTTAAGAGGCTGCCTATTTGGTTAATTTAACGGTTCCAACTCGGCGGTTTTCAAAGGACTTTAAGAGCCGCGTATGGATCGCACGAGTTTGGTCTTATTCAGGCGGTCGACGGAAATAGACCGGTAGAGGATGTAATGGCTTCCATCTCATATGGTTACTCAATTCCTGAATCAAAAACAGGGTACATATGGTGTTTCCGGGAGTCGGACGGGCAACGGCTATGACACACCTTGAGAATTGCGAGTTACTGCCTGGCCAACTTGGGGCCGTTCACAGTTGCAACATCTTTATTGGCGATCGCGTGAGGGAAACACTTAGCAACTACTAATCTTTCAAGAACTATGGGTATTGGCTAGCCGGCTCGGTGGGTAATAATCCAGGGCGAATAC/nCTACACTGCGTTGTTGACCCCGAAGCTCACCCACGGTAGAAAGCGGGGTTATGATGGTGCTTAACTCGGTACAGACGGATACGGACGTACTGACGCGACATGCATCGCTTCACAAGGATTGGAATCTGTTGATGACGCTTAGGTACGGCTCATAAAATTAGGTCCGGCAGTCCTACATGCCTTACGCTGGATTAAGGACTTCCATTTACACATGACAGAGCTTACGGAATCAGCTGCGCACCCGAGAACCCCTGTACGTTAAGCAGAGTCGAAACGATCTGGATGTAAAAGAGTTCCAAGCTTCATCATGCGGCTTAGAACTTCAGGCATGAGCTCATTAGAAACAAAGTCCTCGACCAACGTATAAACGACTAACCAGAGCGGGTGAACTGCGGGAAGTAAATCGAACACGGCCCGAAGGTAGGTTCGAGTCGGTGCTGAAACCCCACAGGATGAGGGCCCAGCACCGTCCGATCCTTCCGGTCGTGGAATTCAATACTCGCAGATGAGGTTCCCCACTGAGAGGTCAAAGCACTGGTCGGGATGTACACGGCCTTTACTGTAGTAATGGTTGGGTTACGTCATCCGTATGCGTAAGCTGAATCATTAGTCTTAAGAGGCTGCCTATTTGGTTAATTTAACGGTTCCAACTCAGCGGTTTTCAAAGGACTTTAAGAGCCGCGTATGGATCGCACGAGTTTGGTCTTATTCAGGCGGTCGACGGAAATAGACCGGTAGAGGATGTAATGGCTTCCATCTCATATGATTACTCAATTCCTGAATCAAAAACAGGGAACATATGGTGTTTCCGGGAGTCGGACGGGCAACGGCTATGACACACCTTGAGAATTGCGAGTTACTGCCTGGCCAACTTGGGGCCGTTCACAGTTGCAACATCCTTATTGGCGATCGCGTGAGGGAAACGCTTAGCAACTACTAATCTTTCAAGAACTATGGATAATGGCTAGCCGGCTCGGTGGGTAATAATCCAGGGCGAATAC/nCTACACTGCGTTGTTGACCCCGAAGCCCACCCACGGTAGAAAGCGGGGTTATGATGGTGCTTAATTCGGTACAGACGGATACCGACGTACTGACGTGACATGCATCGCTTCACAAGGATTGGAATCTGTTGATCACGCTTAGGTACGGCTCATAAAATTAGGTCCGGCAGTCCTACATGCCTTACGCTGGATTAAAGACTTCCATTTACACATGACAGAGCTTACGGAATCAGCTGCGCACCCGAGAACCCCTGTACGTTAAGCAGAGTCGAAACGATCTGGATGTAAAAGAGTTCCAAGCTTCATCATGCGGCTTAGAACTTCAGGCATGAACTCATTAGAAACAAGGTCCTCGACCAACGTATAAACGACTAACCAGAGCGGGTGAACTGCGGGAAGTAAATCGAACACGGCCCGAAGGTAGGTTCGAGTCGGTGCTGAAACCCCAAAGGATGAGGGCCCAGCACCGTCCGATCCTTCCGGTCGTGGAATTCAATACTCGCAGATGAGGTTCCCCACTGAGAGGTCAAAGCACTGGTCGGGATGTACACGGCCTTTACTGTAGTAATGGTTGGGTTACGTCAACCGTATGCGTAAGCTTAATCATTAGTCTTAAGAGGCTGCCTATTTGGTTAATTTAACGGTTCCAACTCGGCGGTTTTCAAAGGACTTTAAGAGCCGCGTATGGATCGCACGAGTTTGGTCTTATTCAGGCGGTCGACGGAAATAGACCGGTAGAGGATGTAATGGCTTCCATCTCATATGGTTACTCAATTCCTGAATCAAAAACAGGGAACATATGGTGTGTCCGGGAGTCGGACGGGCAACGGCTATGACACACCTTGAGAATTGCAATTTACTGCCTGGCCAACTTGGGGCCGTTCACAGTTGCATCATCCTTATTGGCGATCGCGTGAGGGAAACGCTTAGCAACTACTAATCTTTCAAGGACTATGGATAATGGCTAGCCGGCTCGGTGGGTAATAATCCAGGGCGAGTAC/nCTACACTGCGTTGTTGACCCCGAAGCTCACCCACGGTAGAAAGCGGGGTTATGATGGTGCTTAATTCGGTACAGACGGATACGGACGTACTGACGCGACATGCATCGCTTCACAAGGATTGGAATCTGTTGGTCACGCTTAGGTACGGCTCATAAAATTAGGTCCGGCAGTCCTACATGCCTTACGCTGGCTTAAAGACTTCCATTTACACATGACAGAACTTACGGAATCAGCTGCGCACCCGGGACCCCCTGTACCTTAAGCAGAGTCGAAACGATATGGATGTAAAAGAGTTCCAAGCTTCATCATGCGGCTTAGAACTTCAGGCATGAATTCATTAGAAACAAAGTCCTCGACCAACGTATAAACGACTAACCAGAGCGGGTGAACTGCGGGAAGTAAATCGAACACGGCCCGAAGTAGGTTCGAGTCGGTGCTGAAACCCCAAAGGATGAGGGCCCAGCACCGTCCGATCCTTCCGGTCGTGGAATTCAATACTCGCAGATGAGGTTCCCCACTGAGAGGTCAAAGCACTGGTCGGGATGTACACGGCCTTTACTGTAGTAATGGTTGGGTTACGTCAACCGTATGCGTAAGCTTGATCATTAGTCTTAAGAGGCTGCCTATTTGGTTAATTTAACAGTTCCAACTCGGCGGTTTTCAAAGGACTTTAAGAGCCGCGTATGGATCGCACGGGTTTTGTCTTATTCAGGCGGTCGACGGAAATAGACCGGTAGAGCATGTAATGGCTTCCATCTCATATGGTTACTCAATTCCTGAATCAAAAACAGGGAACATATGGTGTTTCCGGGAGTCGGACGGGCAACGGCTATGACACACCTTGAGAATTGCGATTTACTGCCTGGCCAACTTGGGGCCGTTCACAGTTGCAACATCTTTATTGGCGATCGCATGAGGGAAACGCTTAGCAACTACTAATCTTTCAAGAACTATGGATAATGGCTAGCCGGCTCGGTGGGTAATAATCCAGGGCGAGTCC/nCTGCACTGCGTTGTTGACCCCGAAGCTCACCCACGGTAGAAAGCGGGGTTATGATGGTGCTTAATTCAGTACAGACGGATACGGACGTACTGACGCGACATGCATCGCTTCACAAGGATTGGAATCTGTTGGTCACGCTTAGGTACGGCTCATAAAATTAGGTCCGGCAGTCCTACATGCCTTACGCTGGCTTAAAGACTTCCAATTACATATGACAGAACTCACGGAATCAGCTGCGCACCCGAGAACCCCTGTACCTTAAGCAGAGTCGAAACGATCTGGATGTAAAAGAGTTCCAAGCTTCATCATGCGGCTTAGCACTTCAGGCATGAATTCATTAGAAACAAAGTCCTCGACCAACGTATAAACGACTAACCAGAGCGGGTGAACTGCGGGAAGTAAATCGAACACGGCCCGAAGTAGGTTCGAGTCGGTGCTGAAACCCCAAAGGATGAGGGCCCAGCACCGTCCGATCCTTCCGGTCGTGGAATTCAATACTCGCAGATGAGGTTCCCCACTGAGAGGTCAAAGCACTGGTCGGGATGTACACGGCCTTTACTGTAGTAATGGTTGGGTTACGTCAACCGTATGCGTAAGCTTGATCATTAGTCTTAAGAGGCTGCCTATTTGGTTAATTTAACGGTTCCAACTCGGCGGTTTTCAAAGGACTTTAAGAGCCGCGTATGGATCGCACGGGTTTTGTCTTATTCAGGCGGTCGACGGAAATAGACCGGTAGAGCATGTAATGGCTTCCATCTCATATGGTTACTCAATTCCTGAATCAAAAACAGGGAACATATGGTGTTTCCGGGAGTCGGACGGGCAACGGCTATGACACACCTTGAGAATTGCGATTTACTGCCTGGCCAACTTGGGGCCGTTCACAGTTGCAACATCTTTATTGGCGATCGCGTGAGGGAAACGCTTAGCAACTACTAATCTTTCAAGAACTATGGATAATGGCTAGCCGGCTCGGTGGGTAATAATCCAGGGCGAGTCC/nCTACACTGCGTTATTGACCCCGAAGCTCACCCACGGTAGAAAGCGGGGTTATGATGGTGCTTAATTCGGTCCAGACGGATACGGACGTACTGACGCGACATGCATCGCTTCACAAGGATTGGAATCTGTTGGTCACGCTTAGGTACGGCGCATAAAATTAGGTCCGGCAGTCCTACATGCCTTACGCTGGATTAAAGACTTCCATTTACACATGACAGAGCTTACGGAATCAGCTGCGCACCCGAGAACCCCTGTACGTTAAGCAGAGTCGAAACGATCTGGATGTAAAAGAGTTCCAAGCTTCATCATGCGGCTTAGAACTTCGGGCATGAATTCATTAGAAACAAAGTCCTCGACCAACGTATAAACGACTAACCAGAGCGGGCGAACTGCGGGAAGTAAATCGAACACGGCCCGAAGGTAGGTTCGAGTCGGTGCTGAAACCCCAAAGGATGAGGGCCCAGCACCGTCCGATCCTTCCGGTCGTGGAATTCAATACTCGCAGATGAGGTTCCCCACTGAGAGGTCAGAGCACTGGTCGGGATGTACACGGCCTTTACTGTAGTAATGGTTGGGTTACGTCAACCGTATGCGTAAGCTTGATCATTAGTCTTAAGAGGCTGCCTATTTGGTTAATTTAACGGTTCCAACTCGGCGGTTTTCAAAGGACTTTAAGAGCCGCGTATGGATCGCACGGGTTTGGTCTTATTCAGGCGGTCGACGGAAATAGACCGGTAGAGCATGTAATGGCTTCCAGCTCATATGGTTACTCAATTCCTGAATCAAAAACAGGGAACATATGGTGTTTCCGGGAGTCGGACGGCTATGACACCCCTTGAGAATTGCGATTTACTGCCTGGCCAACTTGGGGCCGTTCACAGTTGCAACATCTTTATTGGCGATCGCGTGAGGGAAACGCTTAGCAACTACTAATCTTTCAAGAACTATGGATAATGGCTAGCCGGCTCGGTGGGTAATAATCCAGGGCGAGTCC/nCTACACTGCGTTGTTGACCCCGAAGCTCACCCACGGTAGAAAGCGGGGTTATGATGGTGCTTAAGTCGGTACAGACGGATACGGACGTACTGACGCGACATGCATCGCTTCACAAGGATTGGAATCTGTTGATGACGCTTAGGTACGGCTCATAAAATTAGGTCCGGCAGTCCTACATGCCTTACGCTGGATTAAGGACTTCCATTTACACATGACAGAGCTTACGGGATCAGCTGCGCACCCGAGAACCCCTGTACGTTAAGCAGAGTCGAAACGATCTGGATGTAAAAGAGTTCCAAGCTTCATCATGCGGCTTAGAACTTCAGGCATGAGCTCATTAGAAACAAAGTCCTCGACCAACGTATAAACGACTAACCAGAGCGGGTGAACTGCGGGAAGTAAATCGAACACGGCCCGAAGGTAGGTTCGAGTCGGTGCTGAAACCCCAAAGGATGAGGGCCCAGCACCGTCCGATCCTTCCGGTCGTGGAATTCAATACTCGCAGATGAGGTTCCCCACTGAGAGGTCAAAGCACTGGTCGGGATGTACACGGCCTTTACTGTAGTAATGGTTGGGTTACGTCAACCGTATGCGTAAGCTGAATCATTAGTCTTAAGAGGCTGCCTATTTGGTTAATTTAACGGTTCCAACTCGGCGGTTTTCAAAGGACTTTAAGAGCCGCGTATGGATCGCACGAGTTTGGTCTTATTCAGGCGGTCGACGGAAATAGACCGGTAGAGGATGTAATGGCTTCCATCTCATATGGTTACTCAATTCCTGAATCAAAAACAGGGAACATATGGTGTTTCCGGGAGTCGGACGGGCAACGGCTATGACACACCTTGAGAATTGCGAGTTACTGCCTGGCCAACTTGGGGCCGTTCACAGTTGCAACATCCTTATTGGCGATCGCGTGAGGGAAACACTTAGCAACTACTAATCTTTCAAGAACTATGGATAATGGCTAGCCGGCTCGGTGGGTAATAATCCAGCGCGAATAC/nCTGGCCTGCATTGTTTCCCACGAAGCCCACACATCGTCAACAGCGGGGTTACAATGGGTCTGCCGTCGCTGCCGCCGGATAACAGCTTATTGGCCCGCTATGTGCCGCTTCTCTAGGAACAGAAACTGATTGTGATGGGTTGTTGTAGCCGCTTAATGTAGGATAGGTGACTGGTCACGCCCTAGGATGGATTCAAACCCCCCAGTCACACCTGAGCGAAGCTACGGAATGAGGCATACATCCGAGTACTCATGCACGTCAAGTATAGTCCAAACGACCGCGGTGAAAAGTACTCCCAAATTTCATCACGCATACAACAAATGCAGCGAATAATTTATTGTAAAGATCTAACCCACCGCAAAGTAAGGGAAATCGTTACGTTCTTGAATGACGTTTAAGTGACAAATTAAAGGTGATGAACTACGAGACGTACAACGTACTGGACGAAAAAGTAGAAGCGGAAATCACAAAAGGTAACTGCCAAGAAATCCACGCTCCTTCTTCGGGTCGTGATTGACTTGCATACCCGGTACGTGGCTCCCCTCTATGAGTTCTAAACAACGGCAGGGACGGCAGTGGCCGCACTTGTAAAAATGCTAGGCTTGCGTCAATTGTCTGCGGAAAATGTATCATTAGCCCTTAGTGGTCGGCTATTTGATGAATTAAATAGTTCTATATCGGCAACCGGGAATTTACTGTAATAGCCGCGGAAGAGCTGCAAGATTTTGGTCTCGTAAAGGCGGTCGATGTAGAGAACCCAGTCAAGTGTGCGATAGCTCCCATCTTTTATGATGGCTGAATTCTGAGTCCGAAGCGCGAAAGCTGATGACAGCATCAAGAAGTGGACGGGGAACAGCCATAGCGAGCTTGAAAACTACGATTTGCGTCCTACCCAACTTGATATTTATTGACGGTCGTGTGAGAAAAACTTTTAAGAACTACAAATTGGCCGCGAACCAGGTATGAACCTACGGCTGCTCAACTGCTAACTCTTTAGCGCGAACGC/nCTGGCCTGCATTGTTTCCCACGAAGCCCACACATCGTCAACAGGGGGGTTACAATGGGTCTGCCGTCGCTGCCGCCGGATAATAGCTTATTGGCCCGCTATGTGCCGCTTCTCTAGGAACAGAAACTGATTGTGATGGGTTGTTGTAGCCGCTTAATGTAGGATAGGTGACTCGTCACGCTCTAGGATGGATTCAAACCCCCCAGTCACACCTGAGCGAAGCTACGGAATGAGGCATACATCCGAGTACTCATGCACGTCAAGTATAGTCCAAACGACCGCGGTGTAAAGTACTCCCAAATTTCATCACGCATACAACAAATGCAGCGAATAATTTATTGTAAAGATCTAACCCACCGCAAAGTAAGGGAAATCGTTACGTTCTTGAATGACGTTTAAGTGACAAATTAAAGGTGATGAACAACGAGACGTACAACGTACTGGACGAAAAAGTAGAAGCGGAAATCATAAAAGGTAACTGCCAAGAAATCCACGCTCCTTCTGCGGGTCGTTATTGACTTGCATACCCGGTACGTGGCTCCCCTCTATGAGTTCTAAACAACGGCAGGGACGGCAGTGGCCGCATTTGTAAAAATGCTAGGCTTGCGTCAATTGTCTGCGGAAAATGTCTCATTAGCCCTTAGTGGTCGGCTATTTGATGAATTAAATAGTTCTATATCCGCAACTGGGAATTTACTGTAATAGCCTCGGAAGAACTGCAAGATTTTGGTCTCGTCAAGGCGGTCGATGTAAAGAACCCAGTCAAGTGTGCGATAGCTCCCATCTTTTACGATGGCTGAATTCTGAGTCCGAAGCGCGAAAGCTGATGACAGCATCAAGAAGTGGACGGGGAACAGCCATAGCGAGCTTGAAAACTACGATTTGCGTCCTACTCAACTTGATAATTATTGACGGTCGTGTGAGAAAAACTTTTAAGAACTACAAATTGGCCGCGAACCAGGTATGAACCTACGGCTGCTCAACTGCTAACTCTTTAGCGCGAACGC/nATGGCCCGCATTGTTGCCTACGAAGCACACGCATGGTCAACCGAGGTTACAATGGTGCTGCCGTCGCTGTGGCCGGATAACAGCTTATTGGCCCGCTATGTGTCTCTGCCTAAGGAACAGAAACTGATGGCGATGGGTTGGTGCAGCCGGTTGATGTAGGTCCGGCAATTCGTCACACCTTAGGATGTATTAAAACCCCTCACTCAAACCTGAGCGAATCTACGAAATGAGGCATACATCCGAAACCTTATGCACGCCAAGGGTAGTCCTAACGATCTAGGTATTAAGAACGACCAAATTTCATCACGTATACAATAAATGCAGGGAAGTATTCATTGTGAAGAATGGTCTCGAACGACATATAAGGGACAAACGAAAAGGGACGATCTACGAAACGGACAACGCACTCGACGCAATCGGAAATTCAAGTGGGAACGGAAACCATCAGAGGTTACTCCTTATGGGTCTACCATTTTTTTGCGTGTCGTGACTAACCTCTATACACGGAACGTGGCACCCCGCGACGATCTCTGATCATCGGCAGCCACGTCGGTGGCCTTTTGCAGAGAAGCCAGGGTTACTTCAAGTGTATGGGCCAAGCGCTTCCTTTAGGAAGTGTGGCATTAGTCCCTAGAGGCCGCATATTTGACGAATGAAACAATCCGATATCTGCAATTGGCAATAGACTGTAATAGCCGCGGCAGAGTTGCAAATTCTTGGTCTCGTCAAGGCGGTCGACGTAATTAGCTCAGTCAAAGCTAGGATTGCTCCCGTTTCATGTGATGGCTGAAATCTGGGTTTGGAAAGCGGAAGTACATGTATCATCAAGAAGCGGTCAGGGAACGGCCATAGCGACCTTGAGAACGACGATTTGCGTCCTACCCAACATAATATTTATTGGCGATCGAGTGAGGGACACGCTTGAGATCTAAAAATCTGTGGCGAACCATGTATAAATCTACGCCGGCTCACCTGCTAACTCTTTAGAGCGAACGC/nATGGCCCGCATTGTTGCCTACGAAGCACACGCATGGTCAACCGAGGTTACAATGGTGCTGCCGTCGCTGTGGCCGGATAACAGCTTATTGGCCCGCTATGTGTCTCTGCCTAAGGAACAGAAACTGATGGCGATGGGTTGGTGCAGCCGGTTGATGTAGGTCCGGCAATTCGTCACACCTTAGGATGTATTAAAACCCCTCACTCAAACCTGAGCGAATCTACGAAATGAGGCATACATCCGAAACCTTATACACGCCAAGTGTAGTCCTAACGATCTAGGTATTAAGAACGACCAAATTTCATCACGTATACAATAAATGCAGGGAAGTATTCATTGTGAAGAATGGTCTCGAACGACATATAAGGGACAAACGAAAAGGGGCAGGATCTACGAAACGGACAACGCACTCGACGCAATCGGAAATTCAAGTGGGGACGGAAACCATCAGAGGTTACTCCTTATGGGTCTACCATTTTGTTGCGTGTCGTGACTAACCTCTATACACGGAACGTGGCACCCCGCGACGATTTCTGATCATCGGCAGCCACGTCGGTGGCCTTTTGCAGAGAAGCCAGGGTTACTTCAAGTGTATGGGCCAAGCGCTTCCTTTAGGAAGTGTGGCATTAGTCCCTAGAGGCCGTATATTTGACGAATGAAACAATCCGATATCTGCAATTGGCAATAGACTGTAATAGCCGCGGCAGAGTTGCAAATTCTTTGTCTCGTCAAGGCGGTCGACGTAACTAGCTCAGTCAAAGCTAGGATTGCTCCCGTTTCATGTGATGGCTGAAATCTGGGTTTGGAAAGCGGAAGTACATGTATCATCAAGAAGCGGTCAGGGAACGGCCATAGCGACCTTGAGAACGACGATTTGCGTCCTACCCAACATAATATTTATTGGCGATCGAGTGAGGGACACGCTTGAGATCTAAAAATCTGTGGCGAACCATGTATAAATCTACGCCGGCTCCCCTGCTAACTCTTTAGAGCGAACGC/nATGGCCCGCATTGTTGCCTACGAAGCACACGCATGGTCAACAGCGAGGCTACAATGGTGCTGCCGTCGCTGTGGCCGGGTAACAGCTTATTGGCCCGCTATGTGTCTCTGCCTAAGGAACAGAAACTGATGGCGATGGGTTGGTGCGGCCGGTTGATGTAGGTCCGGCAATTCGTCACACCTTAGGGTGTATTAAAACCCCTCACTCAAACCTGAGCGAGTCTACGAAATGAGGCATGCATCCGAAACCTTATGCACGCCAAGTGTAGTCCTAACGATCTAGGTATTAAGAACTACCAAATTTCATCACGTATACAATAAATGCAGGGAAGTATTCATTGTGAAGAATGGCCTCGAACGACATATAAGTGACAAACGAAAAGGGAGGATCTACGAAACGGACAACGCACTCGACGCAATCGGAAATTCAAGTGGGAACGAAAACCATAAGAGGTTACCCCTTATGGGTCTACCATTCTTTTGCGTGTCGTGACCAACCTTTATACGCGGAACGTGGCACCCCGCGACGATCTCTGTTCATCGGCAGCCACGTCGGTGGCCTTTTGCAGAGAAGCCAGGGTTACTTCAAGTGTATGGGCCAAGCGCTTCCTTTAGGAAGTGTGGCATTAGTCCCTAGAGGCCGCATATTTGACGAATGAAACAATCCGATATCTGCAATTGGCAATTGACTGTGATAGCCGCGGCAGAGTTGCAAATTCTTGGTCTCGTCAAGGCGGTCGACGTAATTAGCTCAATCAAAGCTAGGATTGCTCCCGTTTCATGTGATGGCTGAAATCTGGGTTCGGAAAGCGGAAGTACATGTATCATCAAGAAGCGGTCGGGGAACGGCCATAGCGACCTCGAGAACGACGATTTGCGTCCTACCCAACATAATATTTATTGGCGATCGAGTGAGGGACACGCTTGAGATCTAAAAATCTGTGGCGAACCATGTATAAATCTACGCCGGCTCACCTGCTAACTCTTTAGAGCGAACGC/nATGGCCCGCATTGTTGCCTACGAAGCACACACATGGTCAACAGCGGGGTTACAATGGCGCTGCCGTCGCTGGCGCCGGATAACAGCTTATTGGCCCGCTATGGGTCGCTGCCTGAGGAACAGAAAATGATGGCTATGGGTTGGTGCGGCCGGTTGATGCAGGTCCGGCAATTCGTCACACCTTAGGGTGTATTCAAACCCCTCATTCAAACCTGAGCGAGTCTACGAAATGAGGCATGCATCCGAAACCTTATGCACGCCAAGTGCAGTCCAAACGATCTAGGTGTTAAGAACTATCAAATTTCATCACGTATACAATAAATGCAGGGAAGTATTCATTGTGAAGAATGGTCTCGCACGACACATAAGTGACAAACGAAAAGGGAGGATCTACGAGACGTACAACGCACTCGACGCAAGCGCAAATTCAAGCGGGAACGGAAACCATAAGAGGTTACTCCCAATGAGTCTACGATTCTTCTGCGGGTCGTGACTAAGCTCTATACGCGGAACGTGGCACCCCGCTACGATCTCTAATCATCGGCAGCCACGTCAGTGGCCTTTTGCAAAGAAGCCAGGGTTACTTCAATTGTATGGGCCAAGCGCTTCCTTTAGGAAGTGTGGAATTAGTCCCTAGAGGCCGAATACTTGACGAATGAAACAATCCGATATCTGCAATTGGCAATTGACTGTGATAGCCGCGGCAGAGTTGCAAAATCTTGGTCTCGTCAAGGCGGTCGACGTAAATAGCTCAGTCAAAGCTACAATTGCTCCCGTTTCATGGGATGGCTGAAATCTGGGTTCGAAAAGCGGAAGTTCACGTATCATCAAGAAGCGGACGGGGAACGGCCATACCGACCTTGAGAACGACGATTTGCGTCCTACCCAACATAATATTTATTGGCGATCGAGTGAGGGACACGCTTGAGATCTAAAAATTTGTCGCGAACCATGTATAAATCTACGCCGGCTCACCTGCTAACTCTTTAGAGCGAACGC/nATGGCCCGCATTGTTGCCTACGAAGCACACACATGGTCAACAGCGGGGTTACAATGGCGCTGCCGTCGCTGTCGCCGGATAACAGCTTATTGGCCCGCTATGTGTCGCTGCCTGAGGAACAGAAAATGATGGCTATGGGTTGGTGCGGCCGGTTGATGCAGGTCCGGCAATTCGTCACACCTTAGAGTGTATTCAAACCCCTCACTCAAACCTGAGCGAGTCTACGAAATGAGGCATGCATCCGAAACCTTATGCACGCCAAGTGCAGTCCAAACGATCTAGGTGTTAAGAACTATCAAATTTCATCACGTATACAATAAATGCAGGGAAGTATTCATTGTGAAGAATGGTCTCGCACGACACATAAGTGACAAACGAAAAGGGAGGATCTACGAAACGTACAACGCACTCGACGCAAACGCAAATTCAAGCGGGAACGGAAACCATAAGAGGTTCCTCCCAATGAGTCTACGATTCTTCTGCGGGTCGTGACTAAGCTCTATACGCGCAACGTGGCACCCCGCTACGATCTCTAATCATCGGCAGCCACGTCAGTGGCCTTTTGCAAAGAAGCCAGGGTTACTTCAATTGTATGGGCCAAGCGCTTCCTTTAGGAAGTGTGGAATTAGTCCCTAGAGGCCGCATACTTGACGAATGAAACAATCCGATATCTGCAATTGGCAATTGACTGTGATAGCCGCGGCAGAGTTGCAAAATCTTGGTCTCGTCAAGGCGGTCGACGTAAATAGCTCAGTCAAAGCTACGATTGCTCCCGTTTCATGTGATGGCTGAAATCTGGGTTCGAAAAGCGGAAGTTCACGTATCATCAAGAAGCGGACGGGGAACGGCCATACCGACCTTGAGAACGACGATTTGCGTCCTACCCAACATAATATTTATTGGCGATCGAGTGAGGGACACGCTTGAGATCTAAAAATTTGTCGCGAACCATGTATAAATCTACGCCGGCTCACCTGCTAACTCTTTAGAGCGAACGC/nATGGCCCGCATTGCTGCCTACGAAGCTCAAACATGGTCAACAGCCGGGTTAGAATGGCGCTGACGTCGCTGTCGCCGGATAACAGCTTATTGGCCCACTATGCGTCGCTACCTCAGGAACAGAAACTGATGGCAATGGGTTGGTGCGGCCGGTTGATGTAGGTCCGGCAATTCGTCACACCTTAGGGTGTATTGAAACCCCCCACTCAAACCTGAGCGACTCTACGAAATGAGGCATGCATCTGAAACCTTATGCACGCCAAGAGTAGTCCAAACGATCTAGGTGTTAAGAACTACGAAATTTCATCACGTATACAATAAAGGCAGGGAAGTATTGATTTTGAAGAATGGTCTGGAACTACATATAAGTGACAAACTAAAAGCGAGGATCTACGAAACGTACAACGCACTCGACGCAAACGGAAATTCAAGTGGGAACGGAAGCCATAAGAGGTTATTCCCAATGAGTTTATGACTATTCTGCGGGTCGTGACTAAATACGCGGAACGTGACACCCCGCTACGATCTCTAATCATCGGCAGCCACGTCAGTGGCCTTTTGCAAAGAAGCCAGGCTTACGTCAATTGTTTGTGCGAAGCGCTTCCTGTAGGAAGTGCAGGATTAGTCCCTAGAGGCCGCATATTTGACGAATGAAATAATCCGATATCTGCAATTAGCAATTGACTGTAATAGCCGCTGTCGAGTTGCAAAATCTTGGTCTCGTCCAGGCGGTCAACGTAAATAGCTCAGTCAGAGCTTCGATTGCTCCCGTTTCATGTGATGGCTTAAATCTGGGTTCGAAAAGCGGAAGTACATGTATCTTCAAGAGGCGGACGAGGAACGGCTGTACCGACCTCGAGAACGACGATTCGCGTCCTACCCCACATAAAATTTATTGGCGATCGAGTGAGGGACACGCTTGAGATCCGGAAATCTGTCCCGAACCATGTATAAATCTACGCGGGTTCGTCTGCTAACTCTTTAGAGCGGACGC/nATGGCCCGCATTGTTGCCTACGAAGCTCACACATGGTCAACAGCCGTGTTACCATGGCGCTGCCTTCGCTGTCGCCGGATAACAGCTTATTGGCCCACTATGCGTCGCTGGCTAAGGAACAGAAACTGATGGCGATGGGTTGGTGCGGCTGGTTGATGTAGGTCCGGCAATTCGTTACACCTTAGGGTATATTAAGACCCCTCACTCAAACCTGAGCGAGTCTACGAAATGAGGCATGCATGCGAAACCTTATGCACGCCAAGTGTAGTCCAAATGATCTAGGTGTTAAGAACTTCGAAATTTCATCACGTATACAATAAAGGCAGGGAAGTATTGATTTTGAAGAATGGTCTGGAACGACATATAAGTGACAAACTAAAAGCGAGGATCTACGAAACGTACAACGCACTCGACGCAAACGGAAATTCAAGTGGGAACTGAAGCCATAAGGGGTTATTCCCAATGCGTCTACGACTCTTCTGCGGGTCGTGACTAAGCTCTATACGCGGAACGTGGCACCCCGCTACGATCTCTAATCATCGGCAGCCACGTCAGTGGCCTTTTACGAAGAAGTCAGGCTTACGTCGATTGTGTGTGCGAAGCGCTTCCTGTAGGAAGTGTAGCAGTAGTCCCTAGAGGCCGCATATTTGACGAATGAAACAATCCGATATCTGCAATTGGCAATTGACTGTAATAGCCGCTGCCGTGTTGCAAAATCTTGGTCTGGTCCAGGCGGTCGACGTAAATAGCTCAGTCAAAGCTTCGATTGCTCCCATTTCATGTGATGGCTTAAATCTGGGTTCGAAAAGCGGTAATACATGTATCATCAAGAAGCGGATGGGGAACGGCCATACCGACCTCGAGAACGACGATTTGCGTCCTACCCAACATAAAATTTTTTGGGGATCGAGTGAGGGACAGGCTTGAGATCTAAAAATCTGTCGCGAACCATGTATAAATCTACACGGGCACACCTGCTAACTCTTTAGAGCGAACGC/nATGGCCCGCATTGTTGCCTACGAAGCTCACACATGGTCAACAGCCGGGTTACAATGGCGCTGCCTTCGCTGTCGCCGGATAACAGCTTATTGGCCCACTATGCGTCGCTGGCTAAGGAACAGAAACTGATGGCGATGGGTTGGTGCGGCTGGTTGATGTAGGTCCGGCAATTCGTCACACCTTAGGGTGTATTAAGACCCCTCACTCAAACCTGGGCGAGTCTACGAAATGAGGCATGCATCCGAAACCTTATGCACGCCAAGTGTAGTCCAAACGATCTTGGTGTTAAGAACTTCGAAATTTCATCACGTATACAATAAAGGCAGGGAAGTATTGATTTTGAAGAATGGTCTGGAACGACATATAAGTGACAAACTAAAAGCGAGGATCTACGAAACGTACAACGCACTCGACGCAAACGGAAATTCAAGTGGGAACTGAAGCCATAAGGGGTTATTCCCAATGCGTCTACGACTCTTCTGCGGGTCGTGACTAAGCTCTATACGCGGAACGTGGCACCCCGCTACGATCTCTAATCATCGGCAGCCACGTCAGTAGCCTTTTACGAAGAAGTCAGGCTTACGTCGATTGTGTGTGCGAAGCGCTTTCTGTAGGAAGTGTAGCAGTAGTCCCTAGAGGCCGCATATTTGACGAATGAAACAATCCGATATCTGCAATTGACAATTGACTGTAATAGCCGCCGCCGTGTTGCAAAATCTTGGTCTCGTCCAGGCGGTCGACGTAAATAGCTCACTCAAAGCTTCGATTGCTCCCATTTCATGTGATGGCTTAAATCTGGGTTCGAAAAGCGGTAATACATGTATCATCAAGAAGCGGATGGGGAACGGCCATACCGACCTCGAGAACGACGATTTGCGTCCTACCCAACATAAAATTTTTCGGGGATCGAGTGAGGGACTGGCTTGAGATCTAAAAATCTGTCGCGAACCATGTATAAATCTACACGGGCACACCTGCTAACTCTTTAGAGCGAACGC/nATGGCCCGCATTGTTGCCTACGAAGCTCACACATGGTCAACAGCCGGGTTACAATGGCGCTGCCTTCGCTGTCGCCGGATAACAGCTTATTGGCCCACTATGCGTCGCTGGCTAAGGAACAGAAACTGATGGCGATGGGTTGGTGCGGCTGGTTGATGTAGGTCCGGCAATTTGTCACACCTTAGGGTGTATTAAGACCCCTCACTCAAACCTGAGCGAGTATACGAAATGAGGCATGCATCCGAAACCTTATGCACGCCAAGTGTAGTCCAAACGATCTTGGTGTTAAGAACTTCGAAATTTCATCACGTATACAATAAAGGCAGGGAAGTATTGATTTTGTAGAATGGTCTGGAACGACATATAAATGACAAACTAAAAGCGAGGATCTACGAAACGTACAACGCACTCGACGCAAACGGAAATTCAAGTGGGAACTGAAGCCATAAGGGGTTATTCCCAATGCGTCTACGACTCTTCTGCGGGTCGTGACTAAGCTCTATACGCGGAACGTGGCACCCCGCTACGATCTCTAATCATCGGCAGCCACGTCAGTAGCCTTTTACGAAGAAGTCAGGCTTACGTCGATTGTGTGTGCGAAGCGCTTTCTGTAGGAAGTGTAGCAGTAGTCCCTAGAGGCCGCATATTTGACGAATGAAACAATCCGATATCTGCAACTGGCAATTGACTGTAATAGCCGCCGCCGTGTTGCAAAATCTTGGTCTCATCCAGGCGGTCGACGTAAATAGCTCACTCAAAGCTTCGATTGCTCCCATATCATGTGATGGCTTAAATCTGGGTTCGAAAAGCGGTAATACATGTATTATCAAGAAGCGGATGGGGAACGGCCATACCGACCTCGAGAACGACGATTTGCGTCCTACCCAACATAAAATTTTTTGGGGATCGAGTGAGGGACTGGCTTGAGATCTAAAAATCTGTCGCGAACCATGTATAAATCTACACGGGCACACCTGCTAACTCTTTAGAGCGCACGC/nATGGCCCGCATTGTTGCCTACGAAGCTCACACATGGTCAACAGCCGGGTTACAATGGCGCTGCCTTCGCTGTCGCCGGATAACAGCTTATTGGCCCACTAGGCGTCGCTGGCTAAGGAACAGAAACTGATGGCGATGGGTTGGTGCGGCTGGTTGATGTAGGTCCGGCAATTCGTCACACCTTAGGGTGTATTAAGACCCCTCACTCAAACCTGAGCGAGTCTACGAAATGAGGCATGCATCCGAAACCTTATGCACGCCAAGTGTAGTCCAAACGATCGTGGTGTTAAGAACTTCGAAATTTCATCACGTATACAATAAAGGGAGGGAAGTATTGATTTTGTAGAATGGTCTGGAACGACATATAAGTGACAAACTAAAAGCGAGGATCTACGAAACGTACAACGCACTCGACGCAAACGGAAATTCAAGTGGGAACTGAAGCCATAAGGGGTTATTCCCAATGCGTCTACGACTCTTCTGCGGGTCGAGACTAAGCTCTATACGCGGAACGTGGCACCCCGCTACGATCTCTAATCGTCGGCAGCCACGTCAGTAGCCTTTTACGAAGAAGTCAGGCTTACGTCGATTGTGTGTGCGAAGCGCTTTCTGTAGGAAGTGTAGCAGTAGTCCCTAGAGGCCGCATATTTGACGAATGAAACAATCCGATATCTGCAATTGGCAATTGACTGTAATAGCCGCCGCCGTGTTGCAAAATCTTGGTCTCGTCCAGGCGGTCGACGTAAATAGCTCACTCAAAGCTTCGATTGCTCCCATTTCATGTGATGGCTTAAATCTGGGTTCGAAAAGCGGTAATACATGTATTACCAAGAAGCGGATGGGGAACGGCCATACCGACCTTGAGAACGACGATTTGCGTCCTACCCAACATAAAATTTTTTGGGGATCGAGTGAGGGACTGGCTTGAGATCTAAAAATCTGTCGCGAACCATGTATAAATCTACACGGGCACACCTGCTAACTCTTTAGAGCGAACGC/nATGGCCCGCATTGTTGTCTACGAAGCACACACATGGTCAACAGCGGGGTTAAAATGGCGCTGCCGTCGCTGTCGCCGGATAACAGCTTATTGGCCCGCTATGCGTCGCTGCCTTAGGAACAGAAACTGATGGCGATGGGTTGGTGCGGCCGGTTAATGTAGGTCCGGCAATTCGTCACACCTTGGGGTGTATTAAAACCCCTCATTCAGACCTGAGCGAGTCTACGCAATGATGCATGCCTCCGAAACCTTATGCACGACTAGTGTAGTCCAAACGATCCAGGTGTTGAGAACCACCAAATTTCATCACGTATACAATAAATGCAGGGAAGTATTCATAGTGAAGAAAGGTCTCGAACGACATATAAGTGACAAACGAAAAGTGAGGAACTACGGAACGTACTACGCACTGGACGCAAACGTAGATTCAAGTGGTAACGAAAACCACAAGAGGTTACTCCTAATGAGACTACGATTCTTCTGCGGCTCGTGACTAAGCTCTATACGCGGAACGTGGCACCCCGCTACGATCTCTAATCATCGGCAGCCACGTCAGTGGCCTTTTGCAAAGAAGCTAGGGTTACGTCAATTTTATGTGCAAAGCGCTTCCTTTAGGAAGTGTGGCATTAGTCCCTAGAGGCCGCATATTTGACGAATGAAACAATTCGATATCTGCAATGGGCAATTGACTGTAATAACCGCGGCAGAGTTGCAAAATCTTGGTCTCGTCAAGGCGGTCGACGTAAATAGCTCAGTCAAAGCTGCGATTGCTCCTGTTTCATATGATGGCTGAAATCTGGGTTCGAAAAACGTAAGTACATGATATCATCAAGAAGAGGAGGGGGAACGGCCATACCGACCTTGAGAACGACGATTTGAGTCCTACCCAACATAATAGTTATTGGCGATCGAGTGAGGGACACGCTTGAGATCTAAAAATCCGTCGCGAACCATGTGTAAATCTACGCCGGCTCACCTGCTAACTCTTTAGAGCGAACAC/nATGGCCCGCATTGTTGTCTACGAAGCACACACATGGTCAACAGCGGGATTAAAATGGCGCTGCCGTCGCTGTCGCCGGATAACAGCTTATTGGCCCGCTATGCGTCGCTGCCTTAGGAACAGAATCTGTTGGCGATGGGTTGGTGCGGCCGGTTGTTGTAGGTCCGGCAATTCGTCACACCTTAGGGTGTATTAAAACCCCTCATTCCGACCTGAGCGAGTCTACACAATGATGCATGCCTCCGAAACTTTATGCACGCCTAGTGTAGTCCAAACGATCCAGGTGTTGAGAACCACCAAATTTCATCACGTATACAATAAATGCAGGGAAGTATTCATAGTGAAGAAAGGTCTCGAACGACATATAAGTGACAAACGAAAAGTGAGCAACTACGGAACGTACAACGCACTGGACGCAAACGTAGGTTCAAGTGGTAACGAAAACCATAAGAGGTTACTCCTAATGAGACTACGATTCTTCTGCGGGTCGTGACTAAGCTCTATACGCGGAACGTGGCACCCCGCTACGATCTCTAATCATCGGCAGCCACGTCAGTGGCCTTTTGCAAAGAAGCTAGGGTTACGTCAATTTTATGTGCAAAGCGCTTCCTTTAGGAAGTGTAGCATTAGTCCCTAGAGGCCGCATATTTGACGAATAAAACAATTCGATATCTGCAATTGGCAATTGACTGTAATAACCGCGGCAGAGTTGCAAAATCTTGGTCTCGTCAAGGCGGTCGACGTAAATAGCTCAGTCAAAGCTGCGATTGCTCCCGTTTCATATGATGACTGAAATCTGGGTTCGAAAAGCGTAAGTACATGATATCATCAAGAAGAGGAGGGGGAACGGCCATACCGACCTTGAGAACGACGATTTGAGTCCTACCCAACATAATATTTATTGGCGATCGAGTGAGGGACACGCTTGAGATCTAAAAATCCGTCGCGAACCATGTATAAATCTACGACGGCTCACCTGCTAACTCTTTAGAGCGAACAC/nAGGGCCCGCATTGTTGCCTACGAAGCACACACATGGTCAACAGCGGGGTTACAATGGCGCTGCCGTCGCTGTCGCCGGATAACAGCTTATTGGCCCGCTATGCGTCGTTGCCTTAGGAACAAAAACTGATGGCGATGGGTTGGTGCGGCCGGTTGATGTAGGTCCAGTAATTCGTCACACCTTAGGGTGTATTAAAACCCCTCATTCAGACCTGAGCGAGTCTACGCAATGAGGCATGCATCCGAAACCTTATGCACGCCTAGTGTAGTCCAAACGATCTAGGGGTTGAGAACCACCAAATTTCATCACGTATACAATAAATGCAGGGAAGTATTCATTGTGAAGAAAGGTCTCGAACGACATATAAGTGGGAAACGAAAAGGGAGGATCTACGGAACGTACAACGCACTGGATGCAAACGTAGATTCAAGTGGTAACGAAAACCATAAGAGGTTACTCCTAATGAGTCTACGATTCTTCTGCGGGTCGTGACTAAGCTCTATACGGGGAACGTGGCACCCCGCAATGATCTCTAATCATCGGCAGCCACGTCAGTTGCCTTTTGCAAAGGGGCTAGGGTTACGCCAATTTTATGTGCAAAGCGCTTCCTTTAGGAAGTGGGGCATTAGTCCCTAGAAACCGCATATTTGACGAATGAAACAATTCGATATCTGCAATTGGCAATTGACTGTAATAACCGCGGCAGAGTTGCTAAATCTTGCTCTCGTCAAGGCGGTCGACGTAAATAGCTCAGTCAAAGCTGCGATTGCTTCCGTTTCATATGATGGCTGAAGTCTGGGTTCGAAAAGCGTAAGTACATGATATCATCAAGAAGAGGAGGGGGAACGGCCATATCGACCTTGAGAACGACGATCTGCGTCCTACCCAGACATAATATTTATTGGCGATCGAGTGAGGGACACGCTTGAGATCTAAAAATCTGTCGCGAACCATGTATAAATCTACGCCGGCTCACCTGCTAACTCTTTAGAGCGAACAC/nATGGCCCGCATTGTTGCCTACGAAGCACACACATGGTCAACAGCGGGGTTACAATGGCGCTGCCGTCGCTGTCGCCGGATAACAGCTTATTGGCCCGCTATGCGTCGCTGCCTTAGGAACAGAAACTGATGGCGATGGGATGGTGCGGCCGGTTGATGTAGGTCCGGCAATTCGTTACACCTTAGGGTGTATTAAAACCCCTCATTCAGACCTGAGCGAGTCTACGCAATGAGGCCTGCATCCGAAACCTTATGCACGCCTAGTGTAGTCCAAACGATCTAGGGGTTGAGAACCACCAAATTTCATCACGTATACAATAAATGCAGGAAAGTATTCATTGTGAAGAAAGGTCTCGAACGACATATAAGTGGGAAACGAAAAGGGAGGATCTACGGAACGTACAACGCACTGGATGCAAACGTAGATTCAAGTGGTAACGAAAACCATAAGAGGTTACTCCTAATGAGTCTACGATTCTTCTGCGGGTCGTGACTAAGCTCTATACGCGGAACGTGGCACCCCGCAATGATCTCTAATCATCGGCAGCCACGTCAGTGGCCTTTTGCAAAGGAGCTAGGGTTACGCCAATTTTATGTGCAAAGCGCTTCCTTTAGGAAGTGTGGCATTAGTCCCTAGAGGCCGCATATTTGACGAATGAAACAATTCGATATCTGCAATTGGCAATTGACTGTAATAACCGCGGCAGAGTTGCTAAATCTTGCTCTCGTCAAGGCGGTCGACGTAAATAGTTCAGTCAAAGCTGCGATTGCTTCCGTTTCATATGATGGCTGAAATCTGGGTTCGAAAAGCGTAAGTACATGATATCATCAAGAAGAGGAGGGGGAACGGCCCTACCGACCTTGAGAACGACGATCTGCGTCCTACCCAGACATAATATTTATTGACGATCGAGTGAGGGACACGCTTGAGATCTAAAAATCTGTCGCGAACCATGTATAAATCTACGCCGGCTCACCTGCTAACTCTTTAGAGCGAACAC/nATGGCCCGTGTTGTTGCCTAGAAGCACACACATGGTCAACAGCGGGGTGACAATGGCGCTGCTGTCGCTGTCGCCGGATAACAGCTTATTGGCCCGCTATGCGTCGCTGCCTTAGGAACAGAAACTGATGGCGATGGGATCGTGCGGCCGGTTGATGTAGGTCCGGCAATTCGTCACACCTTAGGGTGTATTAAAACCCCTCATTCAGACCCGAGCAAGTCTACGCAATGAGGCATGCATGCGAAAACTTATGCACGCCTAGTGTAGTCCAAACGAGCTAGGGGTTGAGAACCACCAAATTTCATCACGTATACAATAAATGCAGGGAAGTATTCATTGTGAAGAAAGGTCTCGAACGACATATAAGTGGGAAACGAAAAGGGAGGATCTACGGAACGTACGACGCACTGGATGCAAACGTAGATTCAAGTGGTAACGAAAACCATAAGAGGTTACTCCTAATGAGTCTACGATTCTTCTGCGGGTCGTGACTAAGCTCTATACGCGGAACGTGGCACCCCGCAATGATCTCTAATCATCGGCAGCCACGTCAGTGGCCTTTTGCAAAGGAGCTAGGGTTACGCCAATTTTATGTGCAAAGCGCTTCCTTTAGGAAGTGTGGCATTAGTCCCTAGAGGCCGCATATTTGACGAATGAAACAATTCGATATCTGCAATTGGCAATTGACTGTAATAACCGCGGCAGAGTTGCCAAATCTTGCTCTCGTCAAGGCGGTCGACGTAAATAGCTCAGTCAAAGCTGCGATTGCTTCCGTTTCATATGATGGCTGAAATCTGGGCTCGAAAAGCGTAAGTACATGATATCATCAAGAAGAGGAGGGGGAACGGCCATACCGACCTTGAGAACGTCGATCTGCGTCCTACCCAGACATAATATTTATTGGCGATCGAGTGAGGGACACGCTTGAGATCTAAAAATCTGTCGCGAACCATGTATAAATCTACGCCGGCTCACCTGCTAACTCTTTAGAGCGAACAC/nATGGCCCGCATTGTTGCCTAGAAGCACACACATGGTCAACAGCGGGGTTACAATGGCGCTGCTGTCGCTGTCGCCGGATAACAGCTTATTGGCCCGCTATGCGTCGCTGCCTTAGGAACAGAAACTGATGGCGATGGGATAGTGCGGCCGGTTGATGTAGGTCCGGCAATTCGTCACACCTTAGGGTGTATTAAAACCCCTCATTCAGACCTGAGCGAGTCTACGCAATGAGGCATGCATCCGAAACCTTATGCGCGCCTAGTGTAGTCCAAACGATCTAGGGGTTGAGAACCACCAAATTTCATCACGTATACAATAAATGCAGGGAAGTATTCATTGTGAAGAAAGGTCTCGAACGACATATAAGTGGGAAACGAAAAGGGAGGATCTACGGAACGTACAACGCACTGGATGCAAACGTAGATTCAAGTGGTAACGAAAACCATAAGAGGTTACTCCTAATGAGTCTACGATTCTTCTGCGGGTCGTGACTAAGCTCTATACGCGGAACGTGGCACCCCGCAATGATCTCTAATCATCGGCAGCCACGTCAGTGGCCTTTTGCAAAGGAGCTAGGGTTACGCCAATTTTATGTGCAAAGCGCTTCCTTTAGGAAGTGTGGCATTAGTCCCTAGAGGCCGCATATTTGACGAATGAAACAATTCGATATCTGCAATTGGCAATTGACTGTAATAACCGCGGCAGAGTTGCTAAATCTTGCTCTCGTCAAGGCTGTCGACGTAAATAGCTCAGTCAAAGCTGCGATTGCTTCCGTTTCATATGATGGCTGAAATCTGGGTTCGAAAAGCGTAAGTACATGATATCATCAAGAAGAGGAGGGGGAACGGCCATACCGACCTTGAGAACGACGATCTGCGTCCTACCCAGACATAATATTTATTGGCGATCGAGTGAGGGACACGCTTGAGATCTGAAAATCTGTCGCGAACCATGTATAAATCTACGCCGGCTCACCTGCTAACTCTTTAGAGCGAACAC/n"
     ]
    }
   ],
   "source": [
    "!cat long_sequences.fa"
   ]
  },
  {
   "cell_type": "code",
   "execution_count": null,
   "id": "8c3f202f-c7ab-468f-9a92-5fbcb91563de",
   "metadata": {},
   "outputs": [],
   "source": []
  },
  {
   "cell_type": "markdown",
   "id": "fa18cc9c-d0be-4565-a617-d79b9393ccb4",
   "metadata": {},
   "source": [
    "#### Exercise 2.4: Project report in Jupyter Notebook\n",
    "For the 4 species gff files store in the data/ folder (mouse: GRCm38.gff3, human: GRCh38.gff3, zebrafish: GRCz11.gff3 and panda: AilMel.gff3), load these files into a DataFrame, filter the exons, and calculate their length, their GC content as well as their molecular weigth. Store these calculations into new columns in their respective DataFrame. Plot these three values for the four species onto three graphs using a boxplot.\r\n",
    "\r\n",
    "Start by working with the mouse data for exploratory analysis, working through the problem steps by steps. Then, create a re-usable function to apply the analysis onto all datasets. Load all four datasets and apply the newly created function to calculate the new values. After having all DataFrames with the new three columns, visualise the data onto three boxplot graphs.\r\n",
    "\r\n",
    "Present the results into a Jupyter notebook, using Pandas, Matplotlib and Biopython. Write reusable and modular code as much as possible using functions.\r\n",
    "\r\n",
    "Have fun!"
   ]
  },
  {
   "cell_type": "code",
   "execution_count": null,
   "id": "e87074ec-5343-4050-b415-0175168e936b",
   "metadata": {},
   "outputs": [],
   "source": []
  }
 ],
 "metadata": {
  "kernelspec": {
   "display_name": "Python 3 (ipykernel)",
   "language": "python",
   "name": "python3"
  },
  "language_info": {
   "codemirror_mode": {
    "name": "ipython",
    "version": 3
   },
   "file_extension": ".py",
   "mimetype": "text/x-python",
   "name": "python",
   "nbconvert_exporter": "python",
   "pygments_lexer": "ipython3",
   "version": "3.10.8"
  }
 },
 "nbformat": 4,
 "nbformat_minor": 5
}
